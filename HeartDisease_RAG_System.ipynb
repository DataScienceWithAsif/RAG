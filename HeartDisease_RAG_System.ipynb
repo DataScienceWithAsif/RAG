{
  "nbformat": 4,
  "nbformat_minor": 0,
  "metadata": {
    "colab": {
      "provenance": [],
      "gpuType": "T4",
      "generative_ai_disabled": true
    },
    "kernelspec": {
      "name": "python3",
      "display_name": "Python 3"
    },
    "language_info": {
      "name": "python"
    },
    "accelerator": "GPU"
  },
  "cells": [
    {
      "cell_type": "code",
      "execution_count": 1,
      "metadata": {
        "colab": {
          "base_uri": "https://localhost:8080/"
        },
        "collapsed": true,
        "id": "IM7sYSDlOyLi",
        "outputId": "31569213-99f5-4bc1-a6da-a1c1dbe05166"
      },
      "outputs": [
        {
          "output_type": "stream",
          "name": "stdout",
          "text": [
            "Requirement already satisfied: langchain-community in /usr/local/lib/python3.12/dist-packages (0.3.29)\n",
            "Requirement already satisfied: langchain in /usr/local/lib/python3.12/dist-packages (0.3.27)\n",
            "Requirement already satisfied: langchain-core in /usr/local/lib/python3.12/dist-packages (0.3.75)\n",
            "Requirement already satisfied: langchain-openai in /usr/local/lib/python3.12/dist-packages (0.3.32)\n",
            "Requirement already satisfied: SQLAlchemy<3,>=1.4 in /usr/local/lib/python3.12/dist-packages (from langchain-community) (2.0.43)\n",
            "Requirement already satisfied: requests<3,>=2.32.5 in /usr/local/lib/python3.12/dist-packages (from langchain-community) (2.32.5)\n",
            "Requirement already satisfied: PyYAML>=5.3 in /usr/local/lib/python3.12/dist-packages (from langchain-community) (6.0.2)\n",
            "Requirement already satisfied: aiohttp<4.0.0,>=3.8.3 in /usr/local/lib/python3.12/dist-packages (from langchain-community) (3.12.15)\n",
            "Requirement already satisfied: tenacity!=8.4.0,<10,>=8.1.0 in /usr/local/lib/python3.12/dist-packages (from langchain-community) (8.5.0)\n",
            "Requirement already satisfied: dataclasses-json<0.7,>=0.6.7 in /usr/local/lib/python3.12/dist-packages (from langchain-community) (0.6.7)\n",
            "Requirement already satisfied: pydantic-settings<3.0.0,>=2.10.1 in /usr/local/lib/python3.12/dist-packages (from langchain-community) (2.10.1)\n",
            "Requirement already satisfied: langsmith>=0.1.125 in /usr/local/lib/python3.12/dist-packages (from langchain-community) (0.4.16)\n",
            "Requirement already satisfied: httpx-sse<1.0.0,>=0.4.0 in /usr/local/lib/python3.12/dist-packages (from langchain-community) (0.4.1)\n",
            "Requirement already satisfied: numpy>=1.26.2 in /usr/local/lib/python3.12/dist-packages (from langchain-community) (2.0.2)\n",
            "Requirement already satisfied: langchain-text-splitters<1.0.0,>=0.3.9 in /usr/local/lib/python3.12/dist-packages (from langchain) (0.3.9)\n",
            "Requirement already satisfied: pydantic<3.0.0,>=2.7.4 in /usr/local/lib/python3.12/dist-packages (from langchain) (2.11.7)\n",
            "Requirement already satisfied: jsonpatch<2.0,>=1.33 in /usr/local/lib/python3.12/dist-packages (from langchain-core) (1.33)\n",
            "Requirement already satisfied: typing-extensions>=4.7 in /usr/local/lib/python3.12/dist-packages (from langchain-core) (4.15.0)\n",
            "Requirement already satisfied: packaging>=23.2 in /usr/local/lib/python3.12/dist-packages (from langchain-core) (24.2)\n",
            "Requirement already satisfied: openai<2.0.0,>=1.99.9 in /usr/local/lib/python3.12/dist-packages (from langchain-openai) (1.101.0)\n",
            "Requirement already satisfied: tiktoken<1,>=0.7 in /usr/local/lib/python3.12/dist-packages (from langchain-openai) (0.11.0)\n",
            "Requirement already satisfied: aiohappyeyeballs>=2.5.0 in /usr/local/lib/python3.12/dist-packages (from aiohttp<4.0.0,>=3.8.3->langchain-community) (2.6.1)\n",
            "Requirement already satisfied: aiosignal>=1.4.0 in /usr/local/lib/python3.12/dist-packages (from aiohttp<4.0.0,>=3.8.3->langchain-community) (1.4.0)\n",
            "Requirement already satisfied: attrs>=17.3.0 in /usr/local/lib/python3.12/dist-packages (from aiohttp<4.0.0,>=3.8.3->langchain-community) (25.3.0)\n",
            "Requirement already satisfied: frozenlist>=1.1.1 in /usr/local/lib/python3.12/dist-packages (from aiohttp<4.0.0,>=3.8.3->langchain-community) (1.7.0)\n",
            "Requirement already satisfied: multidict<7.0,>=4.5 in /usr/local/lib/python3.12/dist-packages (from aiohttp<4.0.0,>=3.8.3->langchain-community) (6.6.4)\n",
            "Requirement already satisfied: propcache>=0.2.0 in /usr/local/lib/python3.12/dist-packages (from aiohttp<4.0.0,>=3.8.3->langchain-community) (0.3.2)\n",
            "Requirement already satisfied: yarl<2.0,>=1.17.0 in /usr/local/lib/python3.12/dist-packages (from aiohttp<4.0.0,>=3.8.3->langchain-community) (1.20.1)\n",
            "Requirement already satisfied: marshmallow<4.0.0,>=3.18.0 in /usr/local/lib/python3.12/dist-packages (from dataclasses-json<0.7,>=0.6.7->langchain-community) (3.26.1)\n",
            "Requirement already satisfied: typing-inspect<1,>=0.4.0 in /usr/local/lib/python3.12/dist-packages (from dataclasses-json<0.7,>=0.6.7->langchain-community) (0.9.0)\n",
            "Requirement already satisfied: jsonpointer>=1.9 in /usr/local/lib/python3.12/dist-packages (from jsonpatch<2.0,>=1.33->langchain-core) (3.0.0)\n",
            "Requirement already satisfied: httpx<1,>=0.23.0 in /usr/local/lib/python3.12/dist-packages (from langsmith>=0.1.125->langchain-community) (0.28.1)\n",
            "Requirement already satisfied: orjson>=3.9.14 in /usr/local/lib/python3.12/dist-packages (from langsmith>=0.1.125->langchain-community) (3.11.2)\n",
            "Requirement already satisfied: requests-toolbelt>=1.0.0 in /usr/local/lib/python3.12/dist-packages (from langsmith>=0.1.125->langchain-community) (1.0.0)\n",
            "Requirement already satisfied: zstandard>=0.23.0 in /usr/local/lib/python3.12/dist-packages (from langsmith>=0.1.125->langchain-community) (0.24.0)\n",
            "Requirement already satisfied: anyio<5,>=3.5.0 in /usr/local/lib/python3.12/dist-packages (from openai<2.0.0,>=1.99.9->langchain-openai) (4.10.0)\n",
            "Requirement already satisfied: distro<2,>=1.7.0 in /usr/local/lib/python3.12/dist-packages (from openai<2.0.0,>=1.99.9->langchain-openai) (1.9.0)\n",
            "Requirement already satisfied: jiter<1,>=0.4.0 in /usr/local/lib/python3.12/dist-packages (from openai<2.0.0,>=1.99.9->langchain-openai) (0.10.0)\n",
            "Requirement already satisfied: sniffio in /usr/local/lib/python3.12/dist-packages (from openai<2.0.0,>=1.99.9->langchain-openai) (1.3.1)\n",
            "Requirement already satisfied: tqdm>4 in /usr/local/lib/python3.12/dist-packages (from openai<2.0.0,>=1.99.9->langchain-openai) (4.67.1)\n",
            "Requirement already satisfied: annotated-types>=0.6.0 in /usr/local/lib/python3.12/dist-packages (from pydantic<3.0.0,>=2.7.4->langchain) (0.7.0)\n",
            "Requirement already satisfied: pydantic-core==2.33.2 in /usr/local/lib/python3.12/dist-packages (from pydantic<3.0.0,>=2.7.4->langchain) (2.33.2)\n",
            "Requirement already satisfied: typing-inspection>=0.4.0 in /usr/local/lib/python3.12/dist-packages (from pydantic<3.0.0,>=2.7.4->langchain) (0.4.1)\n",
            "Requirement already satisfied: python-dotenv>=0.21.0 in /usr/local/lib/python3.12/dist-packages (from pydantic-settings<3.0.0,>=2.10.1->langchain-community) (1.1.1)\n",
            "Requirement already satisfied: charset_normalizer<4,>=2 in /usr/local/lib/python3.12/dist-packages (from requests<3,>=2.32.5->langchain-community) (3.4.3)\n",
            "Requirement already satisfied: idna<4,>=2.5 in /usr/local/lib/python3.12/dist-packages (from requests<3,>=2.32.5->langchain-community) (3.10)\n",
            "Requirement already satisfied: urllib3<3,>=1.21.1 in /usr/local/lib/python3.12/dist-packages (from requests<3,>=2.32.5->langchain-community) (2.5.0)\n",
            "Requirement already satisfied: certifi>=2017.4.17 in /usr/local/lib/python3.12/dist-packages (from requests<3,>=2.32.5->langchain-community) (2025.8.3)\n",
            "Requirement already satisfied: greenlet>=1 in /usr/local/lib/python3.12/dist-packages (from SQLAlchemy<3,>=1.4->langchain-community) (3.2.4)\n",
            "Requirement already satisfied: regex>=2022.1.18 in /usr/local/lib/python3.12/dist-packages (from tiktoken<1,>=0.7->langchain-openai) (2024.11.6)\n",
            "Requirement already satisfied: httpcore==1.* in /usr/local/lib/python3.12/dist-packages (from httpx<1,>=0.23.0->langsmith>=0.1.125->langchain-community) (1.0.9)\n",
            "Requirement already satisfied: h11>=0.16 in /usr/local/lib/python3.12/dist-packages (from httpcore==1.*->httpx<1,>=0.23.0->langsmith>=0.1.125->langchain-community) (0.16.0)\n",
            "Requirement already satisfied: mypy-extensions>=0.3.0 in /usr/local/lib/python3.12/dist-packages (from typing-inspect<1,>=0.4.0->dataclasses-json<0.7,>=0.6.7->langchain-community) (1.1.0)\n"
          ]
        }
      ],
      "source": [
        "!pip install langchain-community langchain langchain-core langchain-openai"
      ]
    },
    {
      "cell_type": "code",
      "source": [
        "!pip install -qU transformers huggingface_hub"
      ],
      "metadata": {
        "collapsed": true,
        "id": "t6ENABwGO7n7"
      },
      "execution_count": 3,
      "outputs": []
    },
    {
      "cell_type": "code",
      "source": [
        "!pip install -qU weaviate-client faiss-cpu chromadb pinecone"
      ],
      "metadata": {
        "collapsed": true,
        "id": "itQNhnVuPLOV"
      },
      "execution_count": 2,
      "outputs": []
    },
    {
      "cell_type": "code",
      "source": [
        "!pip install pypdf"
      ],
      "metadata": {
        "collapsed": true,
        "colab": {
          "base_uri": "https://localhost:8080/"
        },
        "id": "u4FzKfQgQRFI",
        "outputId": "a2d9252d-b438-44b2-e095-10083cd5d70b"
      },
      "execution_count": 4,
      "outputs": [
        {
          "output_type": "stream",
          "name": "stdout",
          "text": [
            "Requirement already satisfied: pypdf in /usr/local/lib/python3.12/dist-packages (6.0.0)\n"
          ]
        }
      ]
    },
    {
      "cell_type": "code",
      "source": [
        "pip install -U weaviate-client"
      ],
      "metadata": {
        "collapsed": true,
        "colab": {
          "base_uri": "https://localhost:8080/"
        },
        "id": "h8ozI_9gUs5w",
        "outputId": "6d6c375e-6d0d-4c57-d1dd-efbe656376cc"
      },
      "execution_count": 5,
      "outputs": [
        {
          "output_type": "stream",
          "name": "stdout",
          "text": [
            "Requirement already satisfied: weaviate-client in /usr/local/lib/python3.12/dist-packages (4.16.9)\n",
            "Requirement already satisfied: httpx<0.29.0,>=0.26.0 in /usr/local/lib/python3.12/dist-packages (from weaviate-client) (0.28.1)\n",
            "Requirement already satisfied: validators<1.0.0,>=0.34.0 in /usr/local/lib/python3.12/dist-packages (from weaviate-client) (0.35.0)\n",
            "Requirement already satisfied: authlib<2.0.0,>=1.2.1 in /usr/local/lib/python3.12/dist-packages (from weaviate-client) (1.6.2)\n",
            "Requirement already satisfied: pydantic<3.0.0,>=2.8.0 in /usr/local/lib/python3.12/dist-packages (from weaviate-client) (2.11.7)\n",
            "Requirement already satisfied: grpcio<1.80.0,>=1.59.5 in /usr/local/lib/python3.12/dist-packages (from weaviate-client) (1.74.0)\n",
            "Requirement already satisfied: protobuf<7.0.0,>=4.21.6 in /usr/local/lib/python3.12/dist-packages (from weaviate-client) (5.29.5)\n",
            "Requirement already satisfied: deprecation<3.0.0,>=2.1.0 in /usr/local/lib/python3.12/dist-packages (from weaviate-client) (2.1.0)\n",
            "Requirement already satisfied: cryptography in /usr/local/lib/python3.12/dist-packages (from authlib<2.0.0,>=1.2.1->weaviate-client) (43.0.3)\n",
            "Requirement already satisfied: packaging in /usr/local/lib/python3.12/dist-packages (from deprecation<3.0.0,>=2.1.0->weaviate-client) (24.2)\n",
            "Requirement already satisfied: anyio in /usr/local/lib/python3.12/dist-packages (from httpx<0.29.0,>=0.26.0->weaviate-client) (4.10.0)\n",
            "Requirement already satisfied: certifi in /usr/local/lib/python3.12/dist-packages (from httpx<0.29.0,>=0.26.0->weaviate-client) (2025.8.3)\n",
            "Requirement already satisfied: httpcore==1.* in /usr/local/lib/python3.12/dist-packages (from httpx<0.29.0,>=0.26.0->weaviate-client) (1.0.9)\n",
            "Requirement already satisfied: idna in /usr/local/lib/python3.12/dist-packages (from httpx<0.29.0,>=0.26.0->weaviate-client) (3.10)\n",
            "Requirement already satisfied: h11>=0.16 in /usr/local/lib/python3.12/dist-packages (from httpcore==1.*->httpx<0.29.0,>=0.26.0->weaviate-client) (0.16.0)\n",
            "Requirement already satisfied: annotated-types>=0.6.0 in /usr/local/lib/python3.12/dist-packages (from pydantic<3.0.0,>=2.8.0->weaviate-client) (0.7.0)\n",
            "Requirement already satisfied: pydantic-core==2.33.2 in /usr/local/lib/python3.12/dist-packages (from pydantic<3.0.0,>=2.8.0->weaviate-client) (2.33.2)\n",
            "Requirement already satisfied: typing-extensions>=4.12.2 in /usr/local/lib/python3.12/dist-packages (from pydantic<3.0.0,>=2.8.0->weaviate-client) (4.15.0)\n",
            "Requirement already satisfied: typing-inspection>=0.4.0 in /usr/local/lib/python3.12/dist-packages (from pydantic<3.0.0,>=2.8.0->weaviate-client) (0.4.1)\n",
            "Requirement already satisfied: sniffio>=1.1 in /usr/local/lib/python3.12/dist-packages (from anyio->httpx<0.29.0,>=0.26.0->weaviate-client) (1.3.1)\n",
            "Requirement already satisfied: cffi>=1.12 in /usr/local/lib/python3.12/dist-packages (from cryptography->authlib<2.0.0,>=1.2.1->weaviate-client) (1.17.1)\n",
            "Requirement already satisfied: pycparser in /usr/local/lib/python3.12/dist-packages (from cffi>=1.12->cryptography->authlib<2.0.0,>=1.2.1->weaviate-client) (2.22)\n"
          ]
        }
      ]
    },
    {
      "cell_type": "markdown",
      "source": [
        "# ***Data Loading***"
      ],
      "metadata": {
        "id": "iGbjBUCgP_Gr"
      }
    },
    {
      "cell_type": "code",
      "source": [
        "from langchain_community.document_loaders import PyPDFLoader"
      ],
      "metadata": {
        "id": "xE8Q8vJFPs_u"
      },
      "execution_count": 6,
      "outputs": []
    },
    {
      "cell_type": "code",
      "source": [
        "from langchain.document_loaders import PyPDFLoader"
      ],
      "metadata": {
        "id": "7P1b_GZwR9F1"
      },
      "execution_count": 7,
      "outputs": []
    },
    {
      "cell_type": "code",
      "source": [
        "loader=PyPDFLoader(\"/content/heart_disease.pdf\",extract_images=True)\n",
        "document=loader.load()"
      ],
      "metadata": {
        "colab": {
          "base_uri": "https://localhost:8080/"
        },
        "id": "O-gzefdSQEdo",
        "outputId": "2add931e-1f64-49e6-ce0c-9dea595c2280"
      },
      "execution_count": 8,
      "outputs": [
        {
          "output_type": "stream",
          "name": "stderr",
          "text": [
            "WARNING:pypdf._reader:Ignoring wrong pointing object 8 0 (offset 0)\n",
            "WARNING:pypdf._reader:Ignoring wrong pointing object 12 0 (offset 0)\n",
            "WARNING:pypdf._reader:Ignoring wrong pointing object 15 0 (offset 0)\n",
            "WARNING:pypdf._reader:Ignoring wrong pointing object 18 0 (offset 0)\n",
            "WARNING:pypdf._reader:Ignoring wrong pointing object 54 0 (offset 0)\n",
            "WARNING:pypdf._reader:Ignoring wrong pointing object 56 0 (offset 0)\n"
          ]
        }
      ]
    },
    {
      "cell_type": "code",
      "source": [
        "len(document)"
      ],
      "metadata": {
        "colab": {
          "base_uri": "https://localhost:8080/"
        },
        "id": "nQakN1PhQcGZ",
        "outputId": "5233e718-0a77-4fb3-c897-9cef31ca4743"
      },
      "execution_count": 9,
      "outputs": [
        {
          "output_type": "execute_result",
          "data": {
            "text/plain": [
              "8"
            ]
          },
          "metadata": {},
          "execution_count": 9
        }
      ]
    },
    {
      "cell_type": "code",
      "source": [
        "document[2].page_content"
      ],
      "metadata": {
        "colab": {
          "base_uri": "https://localhost:8080/",
          "height": 180
        },
        "collapsed": true,
        "id": "T3NXQuAdRlXV",
        "outputId": "4c439cf7-d340-454b-ca87-12e84b6e8cb0"
      },
      "execution_count": 43,
      "outputs": [
        {
          "output_type": "execute_result",
          "data": {
            "text/plain": [
              "'• The patient may experience difficulty in breathing or shortness of breath. • Nausea . • Light-headedness or fainting. • Sweating. • Women are more likely to experience shortness of breath, nausea, vomiting, and back or jaw pain.  Symptoms of a Stroke Include: • Sudden weakness of the face, arm, or leg, most often on one side of the body. • Numbness of the face, arm, or leg, especially on one side of the body. • Difficulty in speaking or understanding speech. • Difficulty in seeing with one or both eyes. • Difficulty in walking, dizziness, loss of balance, or coordination. • Severe headache with no known cause. • Fainting or loss of consciousness.  Symptoms of Rheumatic Heart Disease: • Symptoms of rheumatic heart disease include: shortness of breath, fatigue, irregular heartbeats, chest pain, and fainting. • Symptoms of rheumatic fever include: fever, pain and swelling of the joints, nausea, stomach cramps, and vomiting.  Prevention: You can help prevent cardiovascular disease by making some lifestyle changes and leading a healthy life. This includes: • Avoiding smoking. • Avoiding alcohol.'"
            ],
            "application/vnd.google.colaboratory.intrinsic+json": {
              "type": "string"
            }
          },
          "metadata": {},
          "execution_count": 43
        }
      ]
    },
    {
      "cell_type": "markdown",
      "source": [
        "# ***Creating Text Chunks***"
      ],
      "metadata": {
        "id": "ogQstZ1kQ5Lm"
      }
    },
    {
      "cell_type": "code",
      "source": [
        "from langchain.text_splitter import RecursiveCharacterTextSplitter\n",
        "\n",
        "text_splitter=RecursiveCharacterTextSplitter(chunk_size=500, chunk_overlap=50)"
      ],
      "metadata": {
        "id": "Ld1bK0WVQ9PO"
      },
      "execution_count": 9,
      "outputs": []
    },
    {
      "cell_type": "code",
      "source": [
        "text_chunks=text_splitter.split_documents(document)"
      ],
      "metadata": {
        "id": "NzoDUgVlRKZi"
      },
      "execution_count": 10,
      "outputs": []
    },
    {
      "cell_type": "code",
      "source": [
        "len(text_chunks)"
      ],
      "metadata": {
        "colab": {
          "base_uri": "https://localhost:8080/"
        },
        "id": "pk29xx39RS1J",
        "outputId": "66ba789a-915f-4d30-9221-52d7d274a959"
      },
      "execution_count": 12,
      "outputs": [
        {
          "output_type": "execute_result",
          "data": {
            "text/plain": [
              "23"
            ]
          },
          "metadata": {},
          "execution_count": 12
        }
      ]
    },
    {
      "cell_type": "markdown",
      "source": [
        "# Embedding model"
      ],
      "metadata": {
        "id": "tTLrU7dYXgm4"
      }
    },
    {
      "cell_type": "code",
      "source": [
        "import os\n",
        "from google.colab import userdata"
      ],
      "metadata": {
        "id": "jgOIBTaS1qq_"
      },
      "execution_count": 11,
      "outputs": []
    },
    {
      "cell_type": "code",
      "source": [
        "os.environ[\"huggingface_api_token\"]=userdata.get(\"HF_Token\")"
      ],
      "metadata": {
        "id": "st-rClQ0Xjrc"
      },
      "execution_count": 12,
      "outputs": []
    },
    {
      "cell_type": "code",
      "source": [
        "from langchain_community.embeddings import HuggingFaceEmbeddings"
      ],
      "metadata": {
        "id": "VjkqKhSLXyiC"
      },
      "execution_count": 13,
      "outputs": []
    },
    {
      "cell_type": "code",
      "source": [
        "hf_embedding=HuggingFaceEmbeddings(model_name=\"sentence-transformers/all-mpnet-base-v2\")"
      ],
      "metadata": {
        "colab": {
          "base_uri": "https://localhost:8080/"
        },
        "collapsed": true,
        "id": "wKDKEtuJZ-ZP",
        "outputId": "d1f4de84-a9c2-4b45-e9b3-f861ddf9c911"
      },
      "execution_count": 14,
      "outputs": [
        {
          "output_type": "stream",
          "name": "stderr",
          "text": [
            "/tmp/ipython-input-3841940515.py:1: LangChainDeprecationWarning: The class `HuggingFaceEmbeddings` was deprecated in LangChain 0.2.2 and will be removed in 1.0. An updated version of the class exists in the :class:`~langchain-huggingface package and should be used instead. To use it run `pip install -U :class:`~langchain-huggingface` and import as `from :class:`~langchain_huggingface import HuggingFaceEmbeddings``.\n",
            "  hf_embedding=HuggingFaceEmbeddings(model_name=\"sentence-transformers/all-mpnet-base-v2\")\n",
            "/usr/local/lib/python3.12/dist-packages/huggingface_hub/utils/_auth.py:94: UserWarning: \n",
            "The secret `HF_TOKEN` does not exist in your Colab secrets.\n",
            "To authenticate with the Hugging Face Hub, create a token in your settings tab (https://huggingface.co/settings/tokens), set it as secret in your Google Colab and restart your session.\n",
            "You will be able to reuse this secret in all of your notebooks.\n",
            "Please note that authentication is recommended but still optional to access public models or datasets.\n",
            "  warnings.warn(\n"
          ]
        }
      ]
    },
    {
      "cell_type": "code",
      "source": [
        "hf_embedding"
      ],
      "metadata": {
        "colab": {
          "base_uri": "https://localhost:8080/"
        },
        "collapsed": true,
        "id": "pwNLlmp5a8mG",
        "outputId": "b8f803c6-5064-4419-dbe0-fdb2402d3973"
      },
      "execution_count": 61,
      "outputs": [
        {
          "output_type": "execute_result",
          "data": {
            "text/plain": [
              "HuggingFaceEmbeddings(client=SentenceTransformer(\n",
              "  (0): Transformer({'max_seq_length': 384, 'do_lower_case': False, 'architecture': 'MPNetModel'})\n",
              "  (1): Pooling({'word_embedding_dimension': 768, 'pooling_mode_cls_token': False, 'pooling_mode_mean_tokens': True, 'pooling_mode_max_tokens': False, 'pooling_mode_mean_sqrt_len_tokens': False, 'pooling_mode_weightedmean_tokens': False, 'pooling_mode_lasttoken': False, 'include_prompt': True})\n",
              "  (2): Normalize()\n",
              "), model_name='sentence-transformers/all-mpnet-base-v2', cache_folder=None, model_kwargs={}, encode_kwargs={}, multi_process=False, show_progress=False)"
            ]
          },
          "metadata": {},
          "execution_count": 61
        }
      ]
    },
    {
      "cell_type": "markdown",
      "source": [
        "# DataIngestion Into ***Weaviate DB***"
      ],
      "metadata": {
        "id": "Rv3A4bYfbGmM"
      }
    },
    {
      "cell_type": "code",
      "source": [
        "from langchain_community.vectorstores import Weaviate\n",
        "import weaviate"
      ],
      "metadata": {
        "id": "a-iV26whTepq"
      },
      "execution_count": 15,
      "outputs": []
    },
    {
      "cell_type": "code",
      "source": [
        "from google.colab import userdata\n",
        "WEAVIATE_API_KEY=userdata.get(\"WEAVIATE_API_KEY\")\n",
        "WEAVIATE_CLUSTER=userdata.get(\"WEAVIATE_CLUSTER\")"
      ],
      "metadata": {
        "id": "oEYOU1zzTy--"
      },
      "execution_count": 16,
      "outputs": []
    },
    {
      "cell_type": "code",
      "source": [
        "import os\n",
        "from weaviate.classes.init import Auth"
      ],
      "metadata": {
        "id": "HE4yWfl1TrAl"
      },
      "execution_count": 17,
      "outputs": []
    },
    {
      "cell_type": "code",
      "source": [
        "client=weaviate.connect_to_weaviate_cloud(\n",
        "    cluster_url=WEAVIATE_CLUSTER,\n",
        "    auth_credentials=Auth.api_key(WEAVIATE_API_KEY)\n",
        ")"
      ],
      "metadata": {
        "id": "dN4gJGm_U7wV"
      },
      "execution_count": 18,
      "outputs": []
    },
    {
      "cell_type": "code",
      "source": [
        "client"
      ],
      "metadata": {
        "colab": {
          "base_uri": "https://localhost:8080/"
        },
        "id": "eqyNfNexVOvw",
        "outputId": "41ec7fe2-b3a4-424a-e3ae-df2b89d35d00"
      },
      "execution_count": 23,
      "outputs": [
        {
          "output_type": "execute_result",
          "data": {
            "text/plain": [
              "<weaviate.client.WeaviateClient at 0x7f415818b1a0>"
            ]
          },
          "metadata": {},
          "execution_count": 23
        }
      ]
    },
    {
      "cell_type": "code",
      "source": [
        "!pip install langchain-weaviate"
      ],
      "metadata": {
        "colab": {
          "base_uri": "https://localhost:8080/"
        },
        "collapsed": true,
        "id": "Xi5GAfFIXJNd",
        "outputId": "b147f97f-fc2e-4614-b6d3-c9cc426e6361"
      },
      "execution_count": 19,
      "outputs": [
        {
          "output_type": "stream",
          "name": "stdout",
          "text": [
            "Requirement already satisfied: langchain-weaviate in /usr/local/lib/python3.12/dist-packages (0.0.5)\n",
            "Requirement already satisfied: langchain-core<0.4,>=0.1.33 in /usr/local/lib/python3.12/dist-packages (from langchain-weaviate) (0.3.75)\n",
            "Requirement already satisfied: numpy<3.0,>=1.26.2 in /usr/local/lib/python3.12/dist-packages (from langchain-weaviate) (2.0.2)\n",
            "Requirement already satisfied: simsimd<7.0.0,>=6.2.1 in /usr/local/lib/python3.12/dist-packages (from langchain-weaviate) (6.5.1)\n",
            "Requirement already satisfied: weaviate-client<5.0.0,>=4.0.0 in /usr/local/lib/python3.12/dist-packages (from langchain-weaviate) (4.16.9)\n",
            "Requirement already satisfied: langsmith>=0.3.45 in /usr/local/lib/python3.12/dist-packages (from langchain-core<0.4,>=0.1.33->langchain-weaviate) (0.4.16)\n",
            "Requirement already satisfied: tenacity!=8.4.0,<10.0.0,>=8.1.0 in /usr/local/lib/python3.12/dist-packages (from langchain-core<0.4,>=0.1.33->langchain-weaviate) (8.5.0)\n",
            "Requirement already satisfied: jsonpatch<2.0,>=1.33 in /usr/local/lib/python3.12/dist-packages (from langchain-core<0.4,>=0.1.33->langchain-weaviate) (1.33)\n",
            "Requirement already satisfied: PyYAML>=5.3 in /usr/local/lib/python3.12/dist-packages (from langchain-core<0.4,>=0.1.33->langchain-weaviate) (6.0.2)\n",
            "Requirement already satisfied: typing-extensions>=4.7 in /usr/local/lib/python3.12/dist-packages (from langchain-core<0.4,>=0.1.33->langchain-weaviate) (4.15.0)\n",
            "Requirement already satisfied: packaging>=23.2 in /usr/local/lib/python3.12/dist-packages (from langchain-core<0.4,>=0.1.33->langchain-weaviate) (24.2)\n",
            "Requirement already satisfied: pydantic>=2.7.4 in /usr/local/lib/python3.12/dist-packages (from langchain-core<0.4,>=0.1.33->langchain-weaviate) (2.11.7)\n",
            "Requirement already satisfied: httpx<0.29.0,>=0.26.0 in /usr/local/lib/python3.12/dist-packages (from weaviate-client<5.0.0,>=4.0.0->langchain-weaviate) (0.28.1)\n",
            "Requirement already satisfied: validators<1.0.0,>=0.34.0 in /usr/local/lib/python3.12/dist-packages (from weaviate-client<5.0.0,>=4.0.0->langchain-weaviate) (0.35.0)\n",
            "Requirement already satisfied: authlib<2.0.0,>=1.2.1 in /usr/local/lib/python3.12/dist-packages (from weaviate-client<5.0.0,>=4.0.0->langchain-weaviate) (1.6.2)\n",
            "Requirement already satisfied: grpcio<1.80.0,>=1.59.5 in /usr/local/lib/python3.12/dist-packages (from weaviate-client<5.0.0,>=4.0.0->langchain-weaviate) (1.74.0)\n",
            "Requirement already satisfied: protobuf<7.0.0,>=4.21.6 in /usr/local/lib/python3.12/dist-packages (from weaviate-client<5.0.0,>=4.0.0->langchain-weaviate) (5.29.5)\n",
            "Requirement already satisfied: deprecation<3.0.0,>=2.1.0 in /usr/local/lib/python3.12/dist-packages (from weaviate-client<5.0.0,>=4.0.0->langchain-weaviate) (2.1.0)\n",
            "Requirement already satisfied: cryptography in /usr/local/lib/python3.12/dist-packages (from authlib<2.0.0,>=1.2.1->weaviate-client<5.0.0,>=4.0.0->langchain-weaviate) (43.0.3)\n",
            "Requirement already satisfied: anyio in /usr/local/lib/python3.12/dist-packages (from httpx<0.29.0,>=0.26.0->weaviate-client<5.0.0,>=4.0.0->langchain-weaviate) (4.10.0)\n",
            "Requirement already satisfied: certifi in /usr/local/lib/python3.12/dist-packages (from httpx<0.29.0,>=0.26.0->weaviate-client<5.0.0,>=4.0.0->langchain-weaviate) (2025.8.3)\n",
            "Requirement already satisfied: httpcore==1.* in /usr/local/lib/python3.12/dist-packages (from httpx<0.29.0,>=0.26.0->weaviate-client<5.0.0,>=4.0.0->langchain-weaviate) (1.0.9)\n",
            "Requirement already satisfied: idna in /usr/local/lib/python3.12/dist-packages (from httpx<0.29.0,>=0.26.0->weaviate-client<5.0.0,>=4.0.0->langchain-weaviate) (3.10)\n",
            "Requirement already satisfied: h11>=0.16 in /usr/local/lib/python3.12/dist-packages (from httpcore==1.*->httpx<0.29.0,>=0.26.0->weaviate-client<5.0.0,>=4.0.0->langchain-weaviate) (0.16.0)\n",
            "Requirement already satisfied: jsonpointer>=1.9 in /usr/local/lib/python3.12/dist-packages (from jsonpatch<2.0,>=1.33->langchain-core<0.4,>=0.1.33->langchain-weaviate) (3.0.0)\n",
            "Requirement already satisfied: orjson>=3.9.14 in /usr/local/lib/python3.12/dist-packages (from langsmith>=0.3.45->langchain-core<0.4,>=0.1.33->langchain-weaviate) (3.11.2)\n",
            "Requirement already satisfied: requests-toolbelt>=1.0.0 in /usr/local/lib/python3.12/dist-packages (from langsmith>=0.3.45->langchain-core<0.4,>=0.1.33->langchain-weaviate) (1.0.0)\n",
            "Requirement already satisfied: requests>=2.0.0 in /usr/local/lib/python3.12/dist-packages (from langsmith>=0.3.45->langchain-core<0.4,>=0.1.33->langchain-weaviate) (2.32.5)\n",
            "Requirement already satisfied: zstandard>=0.23.0 in /usr/local/lib/python3.12/dist-packages (from langsmith>=0.3.45->langchain-core<0.4,>=0.1.33->langchain-weaviate) (0.24.0)\n",
            "Requirement already satisfied: annotated-types>=0.6.0 in /usr/local/lib/python3.12/dist-packages (from pydantic>=2.7.4->langchain-core<0.4,>=0.1.33->langchain-weaviate) (0.7.0)\n",
            "Requirement already satisfied: pydantic-core==2.33.2 in /usr/local/lib/python3.12/dist-packages (from pydantic>=2.7.4->langchain-core<0.4,>=0.1.33->langchain-weaviate) (2.33.2)\n",
            "Requirement already satisfied: typing-inspection>=0.4.0 in /usr/local/lib/python3.12/dist-packages (from pydantic>=2.7.4->langchain-core<0.4,>=0.1.33->langchain-weaviate) (0.4.1)\n",
            "Requirement already satisfied: charset_normalizer<4,>=2 in /usr/local/lib/python3.12/dist-packages (from requests>=2.0.0->langsmith>=0.3.45->langchain-core<0.4,>=0.1.33->langchain-weaviate) (3.4.3)\n",
            "Requirement already satisfied: urllib3<3,>=1.21.1 in /usr/local/lib/python3.12/dist-packages (from requests>=2.0.0->langsmith>=0.3.45->langchain-core<0.4,>=0.1.33->langchain-weaviate) (2.5.0)\n",
            "Requirement already satisfied: sniffio>=1.1 in /usr/local/lib/python3.12/dist-packages (from anyio->httpx<0.29.0,>=0.26.0->weaviate-client<5.0.0,>=4.0.0->langchain-weaviate) (1.3.1)\n",
            "Requirement already satisfied: cffi>=1.12 in /usr/local/lib/python3.12/dist-packages (from cryptography->authlib<2.0.0,>=1.2.1->weaviate-client<5.0.0,>=4.0.0->langchain-weaviate) (1.17.1)\n",
            "Requirement already satisfied: pycparser in /usr/local/lib/python3.12/dist-packages (from cffi>=1.12->cryptography->authlib<2.0.0,>=1.2.1->weaviate-client<5.0.0,>=4.0.0->langchain-weaviate) (2.22)\n"
          ]
        }
      ]
    },
    {
      "cell_type": "code",
      "source": [
        "from langchain_weaviate.vectorstores import WeaviateVectorStore"
      ],
      "metadata": {
        "id": "8lj_WJuVXXMQ"
      },
      "execution_count": 20,
      "outputs": []
    },
    {
      "cell_type": "code",
      "source": [
        "weaviate_vectorstore=WeaviateVectorStore.from_documents(text_chunks,embedding=hf_embedding,client=client)"
      ],
      "metadata": {
        "colab": {
          "base_uri": "https://localhost:8080/"
        },
        "collapsed": true,
        "id": "nxYJoA8hbjox",
        "outputId": "b5131c35-0e34-4865-9608-1fa208945194"
      },
      "execution_count": 21,
      "outputs": [
        {
          "output_type": "stream",
          "name": "stderr",
          "text": [
            "ERROR:weaviate-client:{'message': 'Failed to send all objects in a batch of 10', 'error': 'WeaviateInsertManyAllFailedError(\"Every object failed during insertion. Here is the set of all errors: \\'aapl:keywords\\' is not a valid property name. Property names in Weaviate are restricted to valid GraphQL names, which must be “/[_A-Za-z][_0-9A-Za-z]{0,230}/”\")'}\n",
            "ERROR:weaviate-client:{'message': 'Failed to send 10 objects in a batch of 10. Please inspect client.batch.failed_objects or collection.batch.failed_objects for the failed objects.'}\n",
            "ERROR:weaviate-client:{'message': 'Failed to send all objects in a batch of 10', 'error': 'WeaviateInsertManyAllFailedError(\"Every object failed during insertion. Here is the set of all errors: \\'aapl:keywords\\' is not a valid property name. Property names in Weaviate are restricted to valid GraphQL names, which must be “/[_A-Za-z][_0-9A-Za-z]{0,230}/”\")'}\n",
            "ERROR:weaviate-client:{'message': 'Failed to send 10 objects in a batch of 10. Please inspect client.batch.failed_objects or collection.batch.failed_objects for the failed objects.'}\n",
            "ERROR:weaviate-client:{'message': 'Failed to send all objects in a batch of 3', 'error': 'WeaviateInsertManyAllFailedError(\"Every object failed during insertion. Here is the set of all errors: \\'aapl:keywords\\' is not a valid property name. Property names in Weaviate are restricted to valid GraphQL names, which must be “/[_A-Za-z][_0-9A-Za-z]{0,230}/”\")'}\n",
            "ERROR:weaviate-client:{'message': 'Failed to send 3 objects in a batch of 3. Please inspect client.batch.failed_objects or collection.batch.failed_objects for the failed objects.'}\n",
            "2025-Aug-31 09:07 PM - langchain_weaviate.vectorstores - ERROR - Failed to add object: None\n",
            "Reason: WeaviateInsertManyAllFailedError(\"Every object failed during insertion. Here is the set of all errors: 'aapl:keywords' is not a valid property name. Property names in Weaviate are restricted to valid GraphQL names, which must be “/[_A-Za-z][_0-9A-Za-z]{0,230}/”\")\n",
            "ERROR:langchain_weaviate.vectorstores:Failed to add object: None\n",
            "Reason: WeaviateInsertManyAllFailedError(\"Every object failed during insertion. Here is the set of all errors: 'aapl:keywords' is not a valid property name. Property names in Weaviate are restricted to valid GraphQL names, which must be “/[_A-Za-z][_0-9A-Za-z]{0,230}/”\")\n",
            "2025-Aug-31 09:07 PM - langchain_weaviate.vectorstores - ERROR - Failed to add object: None\n",
            "Reason: WeaviateInsertManyAllFailedError(\"Every object failed during insertion. Here is the set of all errors: 'aapl:keywords' is not a valid property name. Property names in Weaviate are restricted to valid GraphQL names, which must be “/[_A-Za-z][_0-9A-Za-z]{0,230}/”\")\n",
            "ERROR:langchain_weaviate.vectorstores:Failed to add object: None\n",
            "Reason: WeaviateInsertManyAllFailedError(\"Every object failed during insertion. Here is the set of all errors: 'aapl:keywords' is not a valid property name. Property names in Weaviate are restricted to valid GraphQL names, which must be “/[_A-Za-z][_0-9A-Za-z]{0,230}/”\")\n",
            "2025-Aug-31 09:07 PM - langchain_weaviate.vectorstores - ERROR - Failed to add object: None\n",
            "Reason: WeaviateInsertManyAllFailedError(\"Every object failed during insertion. Here is the set of all errors: 'aapl:keywords' is not a valid property name. Property names in Weaviate are restricted to valid GraphQL names, which must be “/[_A-Za-z][_0-9A-Za-z]{0,230}/”\")\n",
            "ERROR:langchain_weaviate.vectorstores:Failed to add object: None\n",
            "Reason: WeaviateInsertManyAllFailedError(\"Every object failed during insertion. Here is the set of all errors: 'aapl:keywords' is not a valid property name. Property names in Weaviate are restricted to valid GraphQL names, which must be “/[_A-Za-z][_0-9A-Za-z]{0,230}/”\")\n",
            "2025-Aug-31 09:07 PM - langchain_weaviate.vectorstores - ERROR - Failed to add object: None\n",
            "Reason: WeaviateInsertManyAllFailedError(\"Every object failed during insertion. Here is the set of all errors: 'aapl:keywords' is not a valid property name. Property names in Weaviate are restricted to valid GraphQL names, which must be “/[_A-Za-z][_0-9A-Za-z]{0,230}/”\")\n",
            "ERROR:langchain_weaviate.vectorstores:Failed to add object: None\n",
            "Reason: WeaviateInsertManyAllFailedError(\"Every object failed during insertion. Here is the set of all errors: 'aapl:keywords' is not a valid property name. Property names in Weaviate are restricted to valid GraphQL names, which must be “/[_A-Za-z][_0-9A-Za-z]{0,230}/”\")\n",
            "2025-Aug-31 09:07 PM - langchain_weaviate.vectorstores - ERROR - Failed to add object: None\n",
            "Reason: WeaviateInsertManyAllFailedError(\"Every object failed during insertion. Here is the set of all errors: 'aapl:keywords' is not a valid property name. Property names in Weaviate are restricted to valid GraphQL names, which must be “/[_A-Za-z][_0-9A-Za-z]{0,230}/”\")\n",
            "ERROR:langchain_weaviate.vectorstores:Failed to add object: None\n",
            "Reason: WeaviateInsertManyAllFailedError(\"Every object failed during insertion. Here is the set of all errors: 'aapl:keywords' is not a valid property name. Property names in Weaviate are restricted to valid GraphQL names, which must be “/[_A-Za-z][_0-9A-Za-z]{0,230}/”\")\n",
            "2025-Aug-31 09:07 PM - langchain_weaviate.vectorstores - ERROR - Failed to add object: None\n",
            "Reason: WeaviateInsertManyAllFailedError(\"Every object failed during insertion. Here is the set of all errors: 'aapl:keywords' is not a valid property name. Property names in Weaviate are restricted to valid GraphQL names, which must be “/[_A-Za-z][_0-9A-Za-z]{0,230}/”\")\n",
            "ERROR:langchain_weaviate.vectorstores:Failed to add object: None\n",
            "Reason: WeaviateInsertManyAllFailedError(\"Every object failed during insertion. Here is the set of all errors: 'aapl:keywords' is not a valid property name. Property names in Weaviate are restricted to valid GraphQL names, which must be “/[_A-Za-z][_0-9A-Za-z]{0,230}/”\")\n",
            "2025-Aug-31 09:07 PM - langchain_weaviate.vectorstores - ERROR - Failed to add object: None\n",
            "Reason: WeaviateInsertManyAllFailedError(\"Every object failed during insertion. Here is the set of all errors: 'aapl:keywords' is not a valid property name. Property names in Weaviate are restricted to valid GraphQL names, which must be “/[_A-Za-z][_0-9A-Za-z]{0,230}/”\")\n",
            "ERROR:langchain_weaviate.vectorstores:Failed to add object: None\n",
            "Reason: WeaviateInsertManyAllFailedError(\"Every object failed during insertion. Here is the set of all errors: 'aapl:keywords' is not a valid property name. Property names in Weaviate are restricted to valid GraphQL names, which must be “/[_A-Za-z][_0-9A-Za-z]{0,230}/”\")\n",
            "2025-Aug-31 09:07 PM - langchain_weaviate.vectorstores - ERROR - Failed to add object: None\n",
            "Reason: WeaviateInsertManyAllFailedError(\"Every object failed during insertion. Here is the set of all errors: 'aapl:keywords' is not a valid property name. Property names in Weaviate are restricted to valid GraphQL names, which must be “/[_A-Za-z][_0-9A-Za-z]{0,230}/”\")\n",
            "ERROR:langchain_weaviate.vectorstores:Failed to add object: None\n",
            "Reason: WeaviateInsertManyAllFailedError(\"Every object failed during insertion. Here is the set of all errors: 'aapl:keywords' is not a valid property name. Property names in Weaviate are restricted to valid GraphQL names, which must be “/[_A-Za-z][_0-9A-Za-z]{0,230}/”\")\n",
            "2025-Aug-31 09:07 PM - langchain_weaviate.vectorstores - ERROR - Failed to add object: None\n",
            "Reason: WeaviateInsertManyAllFailedError(\"Every object failed during insertion. Here is the set of all errors: 'aapl:keywords' is not a valid property name. Property names in Weaviate are restricted to valid GraphQL names, which must be “/[_A-Za-z][_0-9A-Za-z]{0,230}/”\")\n",
            "ERROR:langchain_weaviate.vectorstores:Failed to add object: None\n",
            "Reason: WeaviateInsertManyAllFailedError(\"Every object failed during insertion. Here is the set of all errors: 'aapl:keywords' is not a valid property name. Property names in Weaviate are restricted to valid GraphQL names, which must be “/[_A-Za-z][_0-9A-Za-z]{0,230}/”\")\n",
            "2025-Aug-31 09:07 PM - langchain_weaviate.vectorstores - ERROR - Failed to add object: None\n",
            "Reason: WeaviateInsertManyAllFailedError(\"Every object failed during insertion. Here is the set of all errors: 'aapl:keywords' is not a valid property name. Property names in Weaviate are restricted to valid GraphQL names, which must be “/[_A-Za-z][_0-9A-Za-z]{0,230}/”\")\n",
            "ERROR:langchain_weaviate.vectorstores:Failed to add object: None\n",
            "Reason: WeaviateInsertManyAllFailedError(\"Every object failed during insertion. Here is the set of all errors: 'aapl:keywords' is not a valid property name. Property names in Weaviate are restricted to valid GraphQL names, which must be “/[_A-Za-z][_0-9A-Za-z]{0,230}/”\")\n",
            "2025-Aug-31 09:07 PM - langchain_weaviate.vectorstores - ERROR - Failed to add object: None\n",
            "Reason: WeaviateInsertManyAllFailedError(\"Every object failed during insertion. Here is the set of all errors: 'aapl:keywords' is not a valid property name. Property names in Weaviate are restricted to valid GraphQL names, which must be “/[_A-Za-z][_0-9A-Za-z]{0,230}/”\")\n",
            "ERROR:langchain_weaviate.vectorstores:Failed to add object: None\n",
            "Reason: WeaviateInsertManyAllFailedError(\"Every object failed during insertion. Here is the set of all errors: 'aapl:keywords' is not a valid property name. Property names in Weaviate are restricted to valid GraphQL names, which must be “/[_A-Za-z][_0-9A-Za-z]{0,230}/”\")\n",
            "2025-Aug-31 09:07 PM - langchain_weaviate.vectorstores - ERROR - Failed to add object: None\n",
            "Reason: WeaviateInsertManyAllFailedError(\"Every object failed during insertion. Here is the set of all errors: 'aapl:keywords' is not a valid property name. Property names in Weaviate are restricted to valid GraphQL names, which must be “/[_A-Za-z][_0-9A-Za-z]{0,230}/”\")\n",
            "ERROR:langchain_weaviate.vectorstores:Failed to add object: None\n",
            "Reason: WeaviateInsertManyAllFailedError(\"Every object failed during insertion. Here is the set of all errors: 'aapl:keywords' is not a valid property name. Property names in Weaviate are restricted to valid GraphQL names, which must be “/[_A-Za-z][_0-9A-Za-z]{0,230}/”\")\n",
            "2025-Aug-31 09:07 PM - langchain_weaviate.vectorstores - ERROR - Failed to add object: None\n",
            "Reason: WeaviateInsertManyAllFailedError(\"Every object failed during insertion. Here is the set of all errors: 'aapl:keywords' is not a valid property name. Property names in Weaviate are restricted to valid GraphQL names, which must be “/[_A-Za-z][_0-9A-Za-z]{0,230}/”\")\n",
            "ERROR:langchain_weaviate.vectorstores:Failed to add object: None\n",
            "Reason: WeaviateInsertManyAllFailedError(\"Every object failed during insertion. Here is the set of all errors: 'aapl:keywords' is not a valid property name. Property names in Weaviate are restricted to valid GraphQL names, which must be “/[_A-Za-z][_0-9A-Za-z]{0,230}/”\")\n",
            "2025-Aug-31 09:07 PM - langchain_weaviate.vectorstores - ERROR - Failed to add object: None\n",
            "Reason: WeaviateInsertManyAllFailedError(\"Every object failed during insertion. Here is the set of all errors: 'aapl:keywords' is not a valid property name. Property names in Weaviate are restricted to valid GraphQL names, which must be “/[_A-Za-z][_0-9A-Za-z]{0,230}/”\")\n",
            "ERROR:langchain_weaviate.vectorstores:Failed to add object: None\n",
            "Reason: WeaviateInsertManyAllFailedError(\"Every object failed during insertion. Here is the set of all errors: 'aapl:keywords' is not a valid property name. Property names in Weaviate are restricted to valid GraphQL names, which must be “/[_A-Za-z][_0-9A-Za-z]{0,230}/”\")\n",
            "2025-Aug-31 09:07 PM - langchain_weaviate.vectorstores - ERROR - Failed to add object: None\n",
            "Reason: WeaviateInsertManyAllFailedError(\"Every object failed during insertion. Here is the set of all errors: 'aapl:keywords' is not a valid property name. Property names in Weaviate are restricted to valid GraphQL names, which must be “/[_A-Za-z][_0-9A-Za-z]{0,230}/”\")\n",
            "ERROR:langchain_weaviate.vectorstores:Failed to add object: None\n",
            "Reason: WeaviateInsertManyAllFailedError(\"Every object failed during insertion. Here is the set of all errors: 'aapl:keywords' is not a valid property name. Property names in Weaviate are restricted to valid GraphQL names, which must be “/[_A-Za-z][_0-9A-Za-z]{0,230}/”\")\n",
            "2025-Aug-31 09:07 PM - langchain_weaviate.vectorstores - ERROR - Failed to add object: None\n",
            "Reason: WeaviateInsertManyAllFailedError(\"Every object failed during insertion. Here is the set of all errors: 'aapl:keywords' is not a valid property name. Property names in Weaviate are restricted to valid GraphQL names, which must be “/[_A-Za-z][_0-9A-Za-z]{0,230}/”\")\n",
            "ERROR:langchain_weaviate.vectorstores:Failed to add object: None\n",
            "Reason: WeaviateInsertManyAllFailedError(\"Every object failed during insertion. Here is the set of all errors: 'aapl:keywords' is not a valid property name. Property names in Weaviate are restricted to valid GraphQL names, which must be “/[_A-Za-z][_0-9A-Za-z]{0,230}/”\")\n",
            "2025-Aug-31 09:07 PM - langchain_weaviate.vectorstores - ERROR - Failed to add object: None\n",
            "Reason: WeaviateInsertManyAllFailedError(\"Every object failed during insertion. Here is the set of all errors: 'aapl:keywords' is not a valid property name. Property names in Weaviate are restricted to valid GraphQL names, which must be “/[_A-Za-z][_0-9A-Za-z]{0,230}/”\")\n",
            "ERROR:langchain_weaviate.vectorstores:Failed to add object: None\n",
            "Reason: WeaviateInsertManyAllFailedError(\"Every object failed during insertion. Here is the set of all errors: 'aapl:keywords' is not a valid property name. Property names in Weaviate are restricted to valid GraphQL names, which must be “/[_A-Za-z][_0-9A-Za-z]{0,230}/”\")\n",
            "2025-Aug-31 09:07 PM - langchain_weaviate.vectorstores - ERROR - Failed to add object: None\n",
            "Reason: WeaviateInsertManyAllFailedError(\"Every object failed during insertion. Here is the set of all errors: 'aapl:keywords' is not a valid property name. Property names in Weaviate are restricted to valid GraphQL names, which must be “/[_A-Za-z][_0-9A-Za-z]{0,230}/”\")\n",
            "ERROR:langchain_weaviate.vectorstores:Failed to add object: None\n",
            "Reason: WeaviateInsertManyAllFailedError(\"Every object failed during insertion. Here is the set of all errors: 'aapl:keywords' is not a valid property name. Property names in Weaviate are restricted to valid GraphQL names, which must be “/[_A-Za-z][_0-9A-Za-z]{0,230}/”\")\n",
            "2025-Aug-31 09:07 PM - langchain_weaviate.vectorstores - ERROR - Failed to add object: None\n",
            "Reason: WeaviateInsertManyAllFailedError(\"Every object failed during insertion. Here is the set of all errors: 'aapl:keywords' is not a valid property name. Property names in Weaviate are restricted to valid GraphQL names, which must be “/[_A-Za-z][_0-9A-Za-z]{0,230}/”\")\n",
            "ERROR:langchain_weaviate.vectorstores:Failed to add object: None\n",
            "Reason: WeaviateInsertManyAllFailedError(\"Every object failed during insertion. Here is the set of all errors: 'aapl:keywords' is not a valid property name. Property names in Weaviate are restricted to valid GraphQL names, which must be “/[_A-Za-z][_0-9A-Za-z]{0,230}/”\")\n",
            "2025-Aug-31 09:07 PM - langchain_weaviate.vectorstores - ERROR - Failed to add object: None\n",
            "Reason: WeaviateInsertManyAllFailedError(\"Every object failed during insertion. Here is the set of all errors: 'aapl:keywords' is not a valid property name. Property names in Weaviate are restricted to valid GraphQL names, which must be “/[_A-Za-z][_0-9A-Za-z]{0,230}/”\")\n",
            "ERROR:langchain_weaviate.vectorstores:Failed to add object: None\n",
            "Reason: WeaviateInsertManyAllFailedError(\"Every object failed during insertion. Here is the set of all errors: 'aapl:keywords' is not a valid property name. Property names in Weaviate are restricted to valid GraphQL names, which must be “/[_A-Za-z][_0-9A-Za-z]{0,230}/”\")\n",
            "2025-Aug-31 09:07 PM - langchain_weaviate.vectorstores - ERROR - Failed to add object: None\n",
            "Reason: WeaviateInsertManyAllFailedError(\"Every object failed during insertion. Here is the set of all errors: 'aapl:keywords' is not a valid property name. Property names in Weaviate are restricted to valid GraphQL names, which must be “/[_A-Za-z][_0-9A-Za-z]{0,230}/”\")\n",
            "ERROR:langchain_weaviate.vectorstores:Failed to add object: None\n",
            "Reason: WeaviateInsertManyAllFailedError(\"Every object failed during insertion. Here is the set of all errors: 'aapl:keywords' is not a valid property name. Property names in Weaviate are restricted to valid GraphQL names, which must be “/[_A-Za-z][_0-9A-Za-z]{0,230}/”\")\n",
            "2025-Aug-31 09:07 PM - langchain_weaviate.vectorstores - ERROR - Failed to add object: None\n",
            "Reason: WeaviateInsertManyAllFailedError(\"Every object failed during insertion. Here is the set of all errors: 'aapl:keywords' is not a valid property name. Property names in Weaviate are restricted to valid GraphQL names, which must be “/[_A-Za-z][_0-9A-Za-z]{0,230}/”\")\n",
            "ERROR:langchain_weaviate.vectorstores:Failed to add object: None\n",
            "Reason: WeaviateInsertManyAllFailedError(\"Every object failed during insertion. Here is the set of all errors: 'aapl:keywords' is not a valid property name. Property names in Weaviate are restricted to valid GraphQL names, which must be “/[_A-Za-z][_0-9A-Za-z]{0,230}/”\")\n",
            "2025-Aug-31 09:07 PM - langchain_weaviate.vectorstores - ERROR - Failed to add object: None\n",
            "Reason: WeaviateInsertManyAllFailedError(\"Every object failed during insertion. Here is the set of all errors: 'aapl:keywords' is not a valid property name. Property names in Weaviate are restricted to valid GraphQL names, which must be “/[_A-Za-z][_0-9A-Za-z]{0,230}/”\")\n",
            "ERROR:langchain_weaviate.vectorstores:Failed to add object: None\n",
            "Reason: WeaviateInsertManyAllFailedError(\"Every object failed during insertion. Here is the set of all errors: 'aapl:keywords' is not a valid property name. Property names in Weaviate are restricted to valid GraphQL names, which must be “/[_A-Za-z][_0-9A-Za-z]{0,230}/”\")\n"
          ]
        }
      ]
    },
    {
      "cell_type": "code",
      "source": [
        "weaviate_vectorstore"
      ],
      "metadata": {
        "colab": {
          "base_uri": "https://localhost:8080/"
        },
        "id": "-XCU3tpVb8Iv",
        "outputId": "e1539b9d-7616-4b82-c1d6-d461d1cde5e2"
      },
      "execution_count": 27,
      "outputs": [
        {
          "output_type": "execute_result",
          "data": {
            "text/plain": [
              "<langchain_weaviate.vectorstores.WeaviateVectorStore at 0x7f410ecaca70>"
            ]
          },
          "metadata": {},
          "execution_count": 27
        }
      ]
    },
    {
      "cell_type": "code",
      "source": [
        "weaviate_retriever=weaviate_vectorstore.as_retriever(search_kwargs={\"k\":4})"
      ],
      "metadata": {
        "id": "tKKMEZxSb_Pu"
      },
      "execution_count": 22,
      "outputs": []
    },
    {
      "cell_type": "markdown",
      "source": [
        "# Data Ingestion into ***Pinecone DB***"
      ],
      "metadata": {
        "id": "KLaB1MOlcLHx"
      }
    },
    {
      "cell_type": "code",
      "source": [
        "from langchain_community.embeddings import OpenAIEmbeddings"
      ],
      "metadata": {
        "id": "xwO4b0lhhwbS"
      },
      "execution_count": 23,
      "outputs": []
    },
    {
      "cell_type": "code",
      "source": [
        "os.environ[\"OPENAI_API_KEY\"]=userdata.get(\"OPENAI_API_KEY\")"
      ],
      "metadata": {
        "id": "Pq7ISEpFh6-T"
      },
      "execution_count": 24,
      "outputs": []
    },
    {
      "cell_type": "code",
      "source": [
        "openai_embeddings=OpenAIEmbeddings()"
      ],
      "metadata": {
        "colab": {
          "base_uri": "https://localhost:8080/"
        },
        "id": "Zz-jODNiiBwq",
        "outputId": "b118b3b1-5786-4eae-884d-abd1e247d1c1"
      },
      "execution_count": 25,
      "outputs": [
        {
          "output_type": "stream",
          "name": "stderr",
          "text": [
            "/tmp/ipython-input-1904077128.py:1: LangChainDeprecationWarning: The class `OpenAIEmbeddings` was deprecated in LangChain 0.0.9 and will be removed in 1.0. An updated version of the class exists in the :class:`~langchain-openai package and should be used instead. To use it run `pip install -U :class:`~langchain-openai` and import as `from :class:`~langchain_openai import OpenAIEmbeddings``.\n",
            "  openai_embeddings=OpenAIEmbeddings()\n"
          ]
        }
      ]
    },
    {
      "cell_type": "code",
      "source": [
        "!pip install -qU pinecone"
      ],
      "metadata": {
        "id": "aDl0WlgxdxGn"
      },
      "execution_count": 26,
      "outputs": []
    },
    {
      "cell_type": "code",
      "source": [
        "!pip install -qU langchain-pinecone"
      ],
      "metadata": {
        "collapsed": true,
        "id": "_xsNKM46emET"
      },
      "execution_count": 27,
      "outputs": []
    },
    {
      "cell_type": "code",
      "source": [
        "from pinecone import Pinecone, ServerlessSpec\n",
        "import pinecone\n",
        "from langchain_pinecone import PineconeVectorStore"
      ],
      "metadata": {
        "id": "IY0QJXHBcX50"
      },
      "execution_count": 28,
      "outputs": []
    },
    {
      "cell_type": "code",
      "source": [
        "os.environ[\"PINECONE_API_KEY\"]=userdata.get(\"pinecone_api_key\")"
      ],
      "metadata": {
        "id": "sobEoUD3dwsA"
      },
      "execution_count": 29,
      "outputs": []
    },
    {
      "cell_type": "code",
      "source": [
        "pc=Pinecone()"
      ],
      "metadata": {
        "id": "-CnNMJ8rfKWC"
      },
      "execution_count": 30,
      "outputs": []
    },
    {
      "cell_type": "code",
      "source": [
        "pc.list_indexes()"
      ],
      "metadata": {
        "colab": {
          "base_uri": "https://localhost:8080/"
        },
        "collapsed": true,
        "id": "0chhe2blfWkq",
        "outputId": "99e0609d-974e-4670-c27a-ba3279113e71"
      },
      "execution_count": 31,
      "outputs": [
        {
          "output_type": "execute_result",
          "data": {
            "text/plain": [
              "[\n",
              "    {\n",
              "        \"name\": \"rag\",\n",
              "        \"metric\": \"cosine\",\n",
              "        \"host\": \"rag-yxyq80x.svc.aped-4627-b74a.pinecone.io\",\n",
              "        \"spec\": {\n",
              "            \"serverless\": {\n",
              "                \"cloud\": \"aws\",\n",
              "                \"region\": \"us-east-1\"\n",
              "            }\n",
              "        },\n",
              "        \"status\": {\n",
              "            \"ready\": true,\n",
              "            \"state\": \"Ready\"\n",
              "        },\n",
              "        \"vector_type\": \"dense\",\n",
              "        \"dimension\": 1536,\n",
              "        \"deletion_protection\": \"disabled\",\n",
              "        \"tags\": {\n",
              "            \"embedding_model\": \"text-embedding-3-small\"\n",
              "        }\n",
              "    }\n",
              "]"
            ]
          },
          "metadata": {},
          "execution_count": 31
        }
      ]
    },
    {
      "cell_type": "code",
      "source": [
        "if \"rag\" not in pc.list_indexes().names():\n",
        "  pc.create_index(\n",
        "      name=\"rag\",\n",
        "      dimension=1536,\n",
        "      metric=\"cosine\",\n",
        "      spec=ServerlessSpec(cloud=\"aws\",region=\"us-east-1\")\n",
        "  )"
      ],
      "metadata": {
        "id": "zvIvAXMOguM_"
      },
      "execution_count": 32,
      "outputs": []
    },
    {
      "cell_type": "code",
      "source": [
        "pinecone_vectorstore=PineconeVectorStore.from_existing_index(\"rag\",embedding=openai_embeddings)"
      ],
      "metadata": {
        "id": "_NRDpNSE3e84"
      },
      "execution_count": 33,
      "outputs": []
    },
    {
      "cell_type": "code",
      "source": [
        "pinecone_vectorstore=PineconeVectorStore.from_documents(\n",
        "    text_chunks,\n",
        "    embedding=openai_embeddings,\n",
        "    index_name=\"rag\"\n",
        ")"
      ],
      "metadata": {
        "id": "YMT8B0E_hSaS"
      },
      "execution_count": 91,
      "outputs": []
    },
    {
      "cell_type": "code",
      "source": [
        "pinecone_vectorstore"
      ],
      "metadata": {
        "colab": {
          "base_uri": "https://localhost:8080/"
        },
        "id": "9mjNrnLBjGAq",
        "outputId": "b7d842b9-4d37-4ee3-f6c4-9e2aaaa7a2a7"
      },
      "execution_count": 41,
      "outputs": [
        {
          "output_type": "execute_result",
          "data": {
            "text/plain": [
              "<langchain_pinecone.vectorstores.PineconeVectorStore at 0x7f4153bbd910>"
            ]
          },
          "metadata": {},
          "execution_count": 41
        }
      ]
    },
    {
      "cell_type": "code",
      "source": [
        "pinecone_retriever=pinecone_vectorstore.as_retriever(search_kwargs={\"k\":4})"
      ],
      "metadata": {
        "id": "EGiNpHnSjaeP"
      },
      "execution_count": 34,
      "outputs": []
    },
    {
      "cell_type": "markdown",
      "source": [
        "# Combining both Retrievers"
      ],
      "metadata": {
        "id": "qdL4x5q9jjQK"
      }
    },
    {
      "cell_type": "code",
      "source": [
        "from langchain.retrievers.merger_retriever import MergerRetriever"
      ],
      "metadata": {
        "id": "LMyu7vIijizs"
      },
      "execution_count": 35,
      "outputs": []
    },
    {
      "cell_type": "code",
      "source": [
        "final_retriver=MergerRetriever(retrievers=[pinecone_retriever,weaviate_retriever])"
      ],
      "metadata": {
        "id": "AI-J_m6xj8oN"
      },
      "execution_count": 36,
      "outputs": []
    },
    {
      "cell_type": "code",
      "source": [
        "result=final_retriver.get_relevant_documents(\"Heart Disease Caused by Heart Infections\")"
      ],
      "metadata": {
        "colab": {
          "base_uri": "https://localhost:8080/"
        },
        "id": "0YphnPdYkF_u",
        "outputId": "c2743163-7222-4fee-c009-fd3543b84e7a"
      },
      "execution_count": 45,
      "outputs": [
        {
          "output_type": "stream",
          "name": "stderr",
          "text": [
            "/tmp/ipython-input-3986214792.py:1: LangChainDeprecationWarning: The method `BaseRetriever.get_relevant_documents` was deprecated in langchain-core 0.1.46 and will be removed in 1.0. Use :meth:`~invoke` instead.\n",
            "  result=final_retriver.get_relevant_documents(\"Heart Disease Caused by Heart Infections\")\n"
          ]
        }
      ]
    },
    {
      "cell_type": "code",
      "source": [
        "result[0].page_content"
      ],
      "metadata": {
        "colab": {
          "base_uri": "https://localhost:8080/",
          "height": 108
        },
        "id": "aTysWt9Eky2C",
        "outputId": "992750c2-a404-4a1c-dda5-29b9bfc99a6b"
      },
      "execution_count": 46,
      "outputs": [
        {
          "output_type": "execute_result",
          "data": {
            "text/plain": [
              "'and fainting.  Heart Disease Caused by Heart Infections: There are three types of heart infections: • Pericarditis (inflammation of the pericardium, which is the fibrous sac surrounding the heart). • Myocarditis (inflammation of the myocardium, which is the thick middle layer of the heart muscle). • Endocarditis (inflammation of the endocardium, which is the inner lining of your heart chambers and heart valves). Heart infection symptoms can include: • Fever. • Shortness of breath. • Fatigue. •'"
            ],
            "application/vnd.google.colaboratory.intrinsic+json": {
              "type": "string"
            }
          },
          "metadata": {},
          "execution_count": 46
        }
      ]
    },
    {
      "cell_type": "code",
      "source": [
        "len(result)"
      ],
      "metadata": {
        "colab": {
          "base_uri": "https://localhost:8080/"
        },
        "id": "Rtuy3Awok7kr",
        "outputId": "cd7dced2-30b7-4a49-fa72-dbef97bf31ff"
      },
      "execution_count": 47,
      "outputs": [
        {
          "output_type": "execute_result",
          "data": {
            "text/plain": [
              "4"
            ]
          },
          "metadata": {},
          "execution_count": 47
        }
      ]
    },
    {
      "cell_type": "code",
      "source": [
        "from langchain.document_transformers import EmbeddingsRedundantFilter, LongContextReorder\n",
        "from langchain.retrievers.document_compressors import DocumentCompressorPipeline\n",
        "from langchain.retrievers import ContextualCompressionRetriever"
      ],
      "metadata": {
        "id": "Kvj6DwihtFRM"
      },
      "execution_count": 37,
      "outputs": []
    },
    {
      "cell_type": "code",
      "source": [
        "filter=EmbeddingsRedundantFilter(embeddings=openai_embeddings)\n",
        "reordering=LongContextReorder()\n",
        "pipeline=DocumentCompressorPipeline(transformers=[filter,reordering])\n",
        "\n",
        "final_retriver_reranked=ContextualCompressionRetriever(\n",
        "    base_compressor=pipeline, base_retriever=final_retriver, search_kwargs={\"k\":2, \"include_metadata\":True}\n",
        ")"
      ],
      "metadata": {
        "id": "ec1S1HjguViu"
      },
      "execution_count": 38,
      "outputs": []
    },
    {
      "cell_type": "code",
      "source": [
        "relevant_result=final_retriver_reranked.get_relevant_documents(\"Heart Disease Caused by Heart Infections\")"
      ],
      "metadata": {
        "colab": {
          "base_uri": "https://localhost:8080/"
        },
        "id": "XQ1SAcj3vkx2",
        "outputId": "2201fbe6-ffb1-4b3f-bfaf-3a983be6d6a8"
      },
      "execution_count": 39,
      "outputs": [
        {
          "output_type": "stream",
          "name": "stderr",
          "text": [
            "/tmp/ipython-input-1553671539.py:1: LangChainDeprecationWarning: The method `BaseRetriever.get_relevant_documents` was deprecated in langchain-core 0.1.46 and will be removed in 1.0. Use :meth:`~invoke` instead.\n",
            "  relevant_result=final_retriver_reranked.get_relevant_documents(\"Heart Disease Caused by Heart Infections\")\n"
          ]
        }
      ]
    },
    {
      "cell_type": "code",
      "source": [
        "relevant_result[0].page_content"
      ],
      "metadata": {
        "colab": {
          "base_uri": "https://localhost:8080/",
          "height": 108
        },
        "id": "GgdwLOZ2wHoj",
        "outputId": "93fe4ea8-479d-46de-8d63-8d2469b2fd7e"
      },
      "execution_count": 40,
      "outputs": [
        {
          "output_type": "execute_result",
          "data": {
            "text/plain": [
              "'Heart\\tDisease\\tIntroduction: Heart disease describes a range of conditions that affect the heart. Diseases under the umbrella term heart disease include: • Cardiovascular disease. • Heart arrhythmia. • Congenital heart disease.  • Cardiomyopathy. • Heart disease caused by heart infections. • Heart valve disease.  Symptoms:  Heart disease symptoms vary depending on which type of heart diseases you have.  Cardiovascular disease: Cardiovascular disease can result in narrowed or blocked blood vessels'"
            ],
            "application/vnd.google.colaboratory.intrinsic+json": {
              "type": "string"
            }
          },
          "metadata": {},
          "execution_count": 40
        }
      ]
    },
    {
      "cell_type": "markdown",
      "source": [
        "# Loading ***HuggingFace*** Model"
      ],
      "metadata": {
        "id": "cpvjKdTqw4TR"
      }
    },
    {
      "cell_type": "code",
      "source": [
        "!pip install -qU transformers"
      ],
      "metadata": {
        "id": "RPOe6plEwsaP"
      },
      "execution_count": 1,
      "outputs": []
    },
    {
      "cell_type": "code",
      "source": [
        "!pip install langchain"
      ],
      "metadata": {
        "id": "B2Xkwl8n5-ir"
      },
      "execution_count": null,
      "outputs": []
    },
    {
      "cell_type": "code",
      "source": [
        "from transformers import AutoTokenizer, AutoModelForCausalLM,pipeline\n",
        "from langchain.llms import HuggingFacePipeline"
      ],
      "metadata": {
        "id": "Q7TBTs77xEDP"
      },
      "execution_count": 2,
      "outputs": []
    },
    {
      "cell_type": "code",
      "source": [
        "!hf auth login"
      ],
      "metadata": {
        "colab": {
          "base_uri": "https://localhost:8080/"
        },
        "collapsed": true,
        "id": "9Rfn8JAfx4df",
        "outputId": "5b74d062-b31d-4683-fc59-75d056a0c375"
      },
      "execution_count": 3,
      "outputs": [
        {
          "output_type": "stream",
          "name": "stdout",
          "text": [
            "\n",
            "    _|    _|  _|    _|    _|_|_|    _|_|_|  _|_|_|  _|      _|    _|_|_|      _|_|_|_|    _|_|      _|_|_|  _|_|_|_|\n",
            "    _|    _|  _|    _|  _|        _|          _|    _|_|    _|  _|            _|        _|    _|  _|        _|\n",
            "    _|_|_|_|  _|    _|  _|  _|_|  _|  _|_|    _|    _|  _|  _|  _|  _|_|      _|_|_|    _|_|_|_|  _|        _|_|_|\n",
            "    _|    _|  _|    _|  _|    _|  _|    _|    _|    _|    _|_|  _|    _|      _|        _|    _|  _|        _|\n",
            "    _|    _|    _|_|      _|_|_|    _|_|_|  _|_|_|  _|      _|    _|_|_|      _|        _|    _|    _|_|_|  _|_|_|_|\n",
            "\n",
            "    A token is already saved on your machine. Run `hf auth whoami` to get more information or `hf auth logout` if you want to log out.\n",
            "    Setting a new token will erase the existing one.\n",
            "    To log in, `huggingface_hub` requires a token generated from https://huggingface.co/settings/tokens .\n",
            "Enter your token (input will not be visible): \n",
            "Add token as git credential? (Y/n) Y\n",
            "Token is valid (permission: fineGrained).\n",
            "The token `finetuned_model` has been saved to /root/.cache/huggingface/stored_tokens\n",
            "\u001b[1m\u001b[31mCannot authenticate through git-credential as no helper is defined on your machine.\n",
            "You might have to re-authenticate when pushing to the Hugging Face Hub.\n",
            "Run the following command in your terminal in case you want to set the 'store' credential helper as default.\n",
            "\n",
            "git config --global credential.helper store\n",
            "\n",
            "Read https://git-scm.com/book/en/v2/Git-Tools-Credential-Storage for more details.\u001b[0m\n",
            "Token has not been saved to git credential helper.\n",
            "Your token has been saved to /root/.cache/huggingface/token\n",
            "Login successful.\n",
            "The current active token is: `finetuned_model`\n"
          ]
        }
      ]
    },
    {
      "cell_type": "code",
      "source": [
        "model_name=\"meta-llama/Llama-3.2-3B\"\n",
        "model=AutoModelForCausalLM.from_pretrained(model_name)"
      ],
      "metadata": {
        "colab": {
          "base_uri": "https://localhost:8080/",
          "height": 164
        },
        "collapsed": true,
        "id": "KuD6-b8Lxkf4",
        "outputId": "7d9c0743-d732-4482-a833-65f301af783e"
      },
      "execution_count": 1,
      "outputs": [
        {
          "output_type": "error",
          "ename": "NameError",
          "evalue": "name 'AutoModelForCausalLM' is not defined",
          "traceback": [
            "\u001b[0;31m---------------------------------------------------------------------------\u001b[0m",
            "\u001b[0;31mNameError\u001b[0m                                 Traceback (most recent call last)",
            "\u001b[0;32m/tmp/ipython-input-4255195508.py\u001b[0m in \u001b[0;36m<cell line: 0>\u001b[0;34m()\u001b[0m\n\u001b[1;32m      1\u001b[0m \u001b[0mmodel_name\u001b[0m\u001b[0;34m=\u001b[0m\u001b[0;34m\"meta-llama/Llama-3.2-3B\"\u001b[0m\u001b[0;34m\u001b[0m\u001b[0;34m\u001b[0m\u001b[0m\n\u001b[0;32m----> 2\u001b[0;31m \u001b[0mmodel\u001b[0m\u001b[0;34m=\u001b[0m\u001b[0mAutoModelForCausalLM\u001b[0m\u001b[0;34m.\u001b[0m\u001b[0mfrom_pretrained\u001b[0m\u001b[0;34m(\u001b[0m\u001b[0mmodel_name\u001b[0m\u001b[0;34m)\u001b[0m\u001b[0;34m\u001b[0m\u001b[0;34m\u001b[0m\u001b[0m\n\u001b[0m",
            "\u001b[0;31mNameError\u001b[0m: name 'AutoModelForCausalLM' is not defined"
          ]
        }
      ]
    },
    {
      "cell_type": "code",
      "source": [
        "from google.colab import drive\n",
        "drive.mount('/content/drive')"
      ],
      "metadata": {
        "id": "HkSpUmC45qmu"
      },
      "execution_count": null,
      "outputs": []
    },
    {
      "cell_type": "code",
      "source": [
        "tokenizer=AutoTokenizer.from_trained(model_name)"
      ],
      "metadata": {
        "id": "9K1rUz4nyTEt"
      },
      "execution_count": null,
      "outputs": []
    },
    {
      "cell_type": "code",
      "source": [
        "pipe=pipeline(\n",
        "    \"text-generation\",\n",
        "    model=model,\n",
        "    tokenizer=tokenizer,\n",
        "    max_length=180,\n",
        "    temperature=.6\n",
        ")"
      ],
      "metadata": {
        "id": "iaIj4VM1ycEE"
      },
      "execution_count": null,
      "outputs": []
    },
    {
      "cell_type": "code",
      "source": [
        "llm=HuggingFacePipeline(pipeline=pipe)"
      ],
      "metadata": {
        "id": "zmbc7SDCy2Qu"
      },
      "execution_count": null,
      "outputs": []
    },
    {
      "cell_type": "code",
      "source": [
        "from langchain.chains import RetrievalQA"
      ],
      "metadata": {
        "id": "eY1Z1qPjzAfG"
      },
      "execution_count": null,
      "outputs": []
    },
    {
      "cell_type": "code",
      "source": [
        "hf_qa=RetrievalQA.from_chain_type(\n",
        "    llm=llm,\n",
        "    chain_type=\"stuff\",\n",
        "    retriever=final_retriver_reranked,\n",
        "    return_source_documents=True\n",
        ")"
      ],
      "metadata": {
        "id": "O5YYla6Qz7Gt"
      },
      "execution_count": null,
      "outputs": []
    },
    {
      "cell_type": "markdown",
      "source": [],
      "metadata": {
        "id": "512aG_9L0nw1"
      }
    },
    {
      "cell_type": "code",
      "source": [
        "!pip install -qU llama-cpp-python"
      ],
      "metadata": {
        "colab": {
          "base_uri": "https://localhost:8080/"
        },
        "id": "ED7CHLBW0myN",
        "outputId": "867fd9a5-2771-400a-a655-6fe9a083be55"
      },
      "execution_count": 41,
      "outputs": [
        {
          "output_type": "stream",
          "name": "stdout",
          "text": [
            "\u001b[2K     \u001b[90m━━━━━━━━━━━━━━━━━━━━━━━━━━━━━━━━━━━━━━━━\u001b[0m \u001b[32m50.7/50.7 MB\u001b[0m \u001b[31m18.1 MB/s\u001b[0m eta \u001b[36m0:00:00\u001b[0m\n",
            "\u001b[?25h  Installing build dependencies ... \u001b[?25l\u001b[?25hdone\n",
            "  Getting requirements to build wheel ... \u001b[?25l\u001b[?25hdone\n",
            "  Installing backend dependencies ... \u001b[?25l\u001b[?25hdone\n",
            "  Preparing metadata (pyproject.toml) ... \u001b[?25l\u001b[?25hdone\n",
            "\u001b[2K   \u001b[90m━━━━━━━━━━━━━━━━━━━━━━━━━━━━━━━━━━━━━━━━\u001b[0m \u001b[32m45.5/45.5 kB\u001b[0m \u001b[31m2.6 MB/s\u001b[0m eta \u001b[36m0:00:00\u001b[0m\n",
            "\u001b[?25h  Building wheel for llama-cpp-python (pyproject.toml) ... \u001b[?25l\u001b[?25hdone\n"
          ]
        }
      ]
    },
    {
      "cell_type": "code",
      "source": [
        "model_path=\"/content/drive/MyDrive/llama_models/zephyr-7b-beta.Q4_0.gguf\""
      ],
      "metadata": {
        "id": "l9tJMM3O-Vjx"
      },
      "execution_count": 42,
      "outputs": []
    },
    {
      "cell_type": "code",
      "source": [
        "from langchain.llms import LlamaCpp"
      ],
      "metadata": {
        "id": "VUB0Ul4fAF0Q"
      },
      "execution_count": 44,
      "outputs": []
    },
    {
      "cell_type": "code",
      "source": [
        "model=LlamaCpp(\n",
        "    streaming=True,\n",
        "    model_path=model_path,\n",
        "    max_tokens=1500,\n",
        "    temperature=.5,\n",
        "    top_p=1,\n",
        "    gpu_layers=0,\n",
        "    stream=True,\n",
        "    verbose=True,\n",
        "    n_threads=int(os.cpu_count()/2),\n",
        "    n_ctx=4096\n",
        ")"
      ],
      "metadata": {
        "colab": {
          "base_uri": "https://localhost:8080/"
        },
        "collapsed": true,
        "id": "uDF2qj35-yOA",
        "outputId": "40d68b8e-6e12-44ef-8a2e-0e01f3abebb5"
      },
      "execution_count": 45,
      "outputs": [
        {
          "output_type": "stream",
          "name": "stderr",
          "text": [
            "/usr/local/lib/python3.12/dist-packages/IPython/core/interactiveshell.py:3473: UserWarning: WARNING! gpu_layers is not default parameter.\n",
            "                gpu_layers was transferred to model_kwargs.\n",
            "                Please confirm that gpu_layers is what you intended.\n",
            "  if (await self.run_code(code, result,  async_=asy)):\n",
            "/usr/local/lib/python3.12/dist-packages/IPython/core/interactiveshell.py:3473: UserWarning: WARNING! stream is not default parameter.\n",
            "                stream was transferred to model_kwargs.\n",
            "                Please confirm that stream is what you intended.\n",
            "  if (await self.run_code(code, result,  async_=asy)):\n",
            "llama_model_loader: loaded meta data with 21 key-value pairs and 291 tensors from /content/drive/MyDrive/llama_models/zephyr-7b-beta.Q4_0.gguf (version GGUF V3 (latest))\n",
            "llama_model_loader: Dumping metadata keys/values. Note: KV overrides do not apply in this output.\n",
            "llama_model_loader: - kv   0:                       general.architecture str              = llama\n",
            "llama_model_loader: - kv   1:                               general.name str              = huggingfaceh4_zephyr-7b-beta\n",
            "llama_model_loader: - kv   2:                       llama.context_length u32              = 32768\n",
            "llama_model_loader: - kv   3:                     llama.embedding_length u32              = 4096\n",
            "llama_model_loader: - kv   4:                          llama.block_count u32              = 32\n",
            "llama_model_loader: - kv   5:                  llama.feed_forward_length u32              = 14336\n",
            "llama_model_loader: - kv   6:                 llama.rope.dimension_count u32              = 128\n",
            "llama_model_loader: - kv   7:                 llama.attention.head_count u32              = 32\n",
            "llama_model_loader: - kv   8:              llama.attention.head_count_kv u32              = 8\n",
            "llama_model_loader: - kv   9:     llama.attention.layer_norm_rms_epsilon f32              = 0.000010\n",
            "llama_model_loader: - kv  10:                       llama.rope.freq_base f32              = 10000.000000\n",
            "llama_model_loader: - kv  11:                          general.file_type u32              = 2\n",
            "llama_model_loader: - kv  12:                       tokenizer.ggml.model str              = llama\n",
            "llama_model_loader: - kv  13:                      tokenizer.ggml.tokens arr[str,32000]   = [\"<unk>\", \"<s>\", \"</s>\", \"<0x00>\", \"<...\n",
            "llama_model_loader: - kv  14:                      tokenizer.ggml.scores arr[f32,32000]   = [0.000000, 0.000000, 0.000000, 0.0000...\n",
            "llama_model_loader: - kv  15:                  tokenizer.ggml.token_type arr[i32,32000]   = [2, 3, 3, 6, 6, 6, 6, 6, 6, 6, 6, 6, ...\n",
            "llama_model_loader: - kv  16:                tokenizer.ggml.bos_token_id u32              = 1\n",
            "llama_model_loader: - kv  17:                tokenizer.ggml.eos_token_id u32              = 2\n",
            "llama_model_loader: - kv  18:            tokenizer.ggml.unknown_token_id u32              = 0\n",
            "llama_model_loader: - kv  19:            tokenizer.ggml.padding_token_id u32              = 2\n",
            "llama_model_loader: - kv  20:               general.quantization_version u32              = 2\n",
            "llama_model_loader: - type  f32:   65 tensors\n",
            "llama_model_loader: - type q4_0:  225 tensors\n",
            "llama_model_loader: - type q6_K:    1 tensors\n",
            "print_info: file format = GGUF V3 (latest)\n",
            "print_info: file type   = Q4_0\n",
            "print_info: file size   = 3.83 GiB (4.54 BPW) \n",
            "init_tokenizer: initializing tokenizer for type 1\n",
            "load: control token:      2 '</s>' is not marked as EOG\n",
            "load: control token:      1 '<s>' is not marked as EOG\n",
            "load: special_eos_id is not in special_eog_ids - the tokenizer config may be incorrect\n",
            "load: printing all EOG tokens:\n",
            "load:   - 2 ('</s>')\n",
            "load: special tokens cache size = 3\n",
            "load: token to piece cache size = 0.1637 MB\n",
            "print_info: arch             = llama\n",
            "print_info: vocab_only       = 0\n",
            "print_info: n_ctx_train      = 32768\n",
            "print_info: n_embd           = 4096\n",
            "print_info: n_layer          = 32\n",
            "print_info: n_head           = 32\n",
            "print_info: n_head_kv        = 8\n",
            "print_info: n_rot            = 128\n",
            "print_info: n_swa            = 0\n",
            "print_info: is_swa_any       = 0\n",
            "print_info: n_embd_head_k    = 128\n",
            "print_info: n_embd_head_v    = 128\n",
            "print_info: n_gqa            = 4\n",
            "print_info: n_embd_k_gqa     = 1024\n",
            "print_info: n_embd_v_gqa     = 1024\n",
            "print_info: f_norm_eps       = 0.0e+00\n",
            "print_info: f_norm_rms_eps   = 1.0e-05\n",
            "print_info: f_clamp_kqv      = 0.0e+00\n",
            "print_info: f_max_alibi_bias = 0.0e+00\n",
            "print_info: f_logit_scale    = 0.0e+00\n",
            "print_info: f_attn_scale     = 0.0e+00\n",
            "print_info: n_ff             = 14336\n",
            "print_info: n_expert         = 0\n",
            "print_info: n_expert_used    = 0\n",
            "print_info: causal attn      = 1\n",
            "print_info: pooling type     = 0\n",
            "print_info: rope type        = 0\n",
            "print_info: rope scaling     = linear\n",
            "print_info: freq_base_train  = 10000.0\n",
            "print_info: freq_scale_train = 1\n",
            "print_info: n_ctx_orig_yarn  = 32768\n",
            "print_info: rope_finetuned   = unknown\n",
            "print_info: model type       = 7B\n",
            "print_info: model params     = 7.24 B\n",
            "print_info: general.name     = huggingfaceh4_zephyr-7b-beta\n",
            "print_info: vocab type       = SPM\n",
            "print_info: n_vocab          = 32000\n",
            "print_info: n_merges         = 0\n",
            "print_info: BOS token        = 1 '<s>'\n",
            "print_info: EOS token        = 2 '</s>'\n",
            "print_info: UNK token        = 0 '<unk>'\n",
            "print_info: PAD token        = 2 '</s>'\n",
            "print_info: LF token         = 13 '<0x0A>'\n",
            "print_info: EOG token        = 2 '</s>'\n",
            "print_info: max token length = 48\n",
            "load_tensors: loading model tensors, this can take a while... (mmap = true)\n",
            "load_tensors: layer   0 assigned to device CPU, is_swa = 0\n",
            "load_tensors: layer   1 assigned to device CPU, is_swa = 0\n",
            "load_tensors: layer   2 assigned to device CPU, is_swa = 0\n",
            "load_tensors: layer   3 assigned to device CPU, is_swa = 0\n",
            "load_tensors: layer   4 assigned to device CPU, is_swa = 0\n",
            "load_tensors: layer   5 assigned to device CPU, is_swa = 0\n",
            "load_tensors: layer   6 assigned to device CPU, is_swa = 0\n",
            "load_tensors: layer   7 assigned to device CPU, is_swa = 0\n",
            "load_tensors: layer   8 assigned to device CPU, is_swa = 0\n",
            "load_tensors: layer   9 assigned to device CPU, is_swa = 0\n",
            "load_tensors: layer  10 assigned to device CPU, is_swa = 0\n",
            "load_tensors: layer  11 assigned to device CPU, is_swa = 0\n",
            "load_tensors: layer  12 assigned to device CPU, is_swa = 0\n",
            "load_tensors: layer  13 assigned to device CPU, is_swa = 0\n",
            "load_tensors: layer  14 assigned to device CPU, is_swa = 0\n",
            "load_tensors: layer  15 assigned to device CPU, is_swa = 0\n",
            "load_tensors: layer  16 assigned to device CPU, is_swa = 0\n",
            "load_tensors: layer  17 assigned to device CPU, is_swa = 0\n",
            "load_tensors: layer  18 assigned to device CPU, is_swa = 0\n",
            "load_tensors: layer  19 assigned to device CPU, is_swa = 0\n",
            "load_tensors: layer  20 assigned to device CPU, is_swa = 0\n",
            "load_tensors: layer  21 assigned to device CPU, is_swa = 0\n",
            "load_tensors: layer  22 assigned to device CPU, is_swa = 0\n",
            "load_tensors: layer  23 assigned to device CPU, is_swa = 0\n",
            "load_tensors: layer  24 assigned to device CPU, is_swa = 0\n",
            "load_tensors: layer  25 assigned to device CPU, is_swa = 0\n",
            "load_tensors: layer  26 assigned to device CPU, is_swa = 0\n",
            "load_tensors: layer  27 assigned to device CPU, is_swa = 0\n",
            "load_tensors: layer  28 assigned to device CPU, is_swa = 0\n",
            "load_tensors: layer  29 assigned to device CPU, is_swa = 0\n",
            "load_tensors: layer  30 assigned to device CPU, is_swa = 0\n",
            "load_tensors: layer  31 assigned to device CPU, is_swa = 0\n",
            "load_tensors: layer  32 assigned to device CPU, is_swa = 0\n",
            "load_tensors: tensor 'token_embd.weight' (q4_0) (and 66 others) cannot be used with preferred buffer type CPU_REPACK, using CPU instead\n",
            "load_tensors:   CPU_REPACK model buffer size =  3744.00 MiB\n",
            "load_tensors:   CPU_Mapped model buffer size =  3917.87 MiB\n",
            "repack: repack tensor blk.0.attn_q.weight with q4_0_8x8\n",
            "repack: repack tensor blk.0.attn_k.weight with q4_0_8x8\n",
            "repack: repack tensor blk.0.attn_v.weight with q4_0_8x8\n",
            "repack: repack tensor blk.0.attn_output.weight with q4_0_8x8\n",
            "repack: repack tensor blk.0.ffn_gate.weight with q4_0_8x8\n",
            ".repack: repack tensor blk.0.ffn_down.weight with q4_0_8x8\n",
            ".repack: repack tensor blk.0.ffn_up.weight with q4_0_8x8\n",
            "repack: repack tensor blk.1.attn_q.weight with q4_0_8x8\n",
            ".repack: repack tensor blk.1.attn_k.weight with q4_0_8x8\n",
            "repack: repack tensor blk.1.attn_v.weight with q4_0_8x8\n",
            "repack: repack tensor blk.1.attn_output.weight with q4_0_8x8\n",
            "repack: repack tensor blk.1.ffn_gate.weight with q4_0_8x8\n",
            ".repack: repack tensor blk.1.ffn_down.weight with q4_0_8x8\n",
            ".repack: repack tensor blk.1.ffn_up.weight with q4_0_8x8\n",
            "repack: repack tensor blk.2.attn_q.weight with q4_0_8x8\n",
            ".repack: repack tensor blk.2.attn_k.weight with q4_0_8x8\n",
            "repack: repack tensor blk.2.attn_v.weight with q4_0_8x8\n",
            "repack: repack tensor blk.2.attn_output.weight with q4_0_8x8\n",
            "repack: repack tensor blk.2.ffn_gate.weight with q4_0_8x8\n",
            ".repack: repack tensor blk.2.ffn_down.weight with q4_0_8x8\n",
            ".repack: repack tensor blk.2.ffn_up.weight with q4_0_8x8\n",
            "repack: repack tensor blk.3.attn_q.weight with q4_0_8x8\n",
            ".repack: repack tensor blk.3.attn_k.weight with q4_0_8x8\n",
            "repack: repack tensor blk.3.attn_v.weight with q4_0_8x8\n",
            "repack: repack tensor blk.3.attn_output.weight with q4_0_8x8\n",
            "repack: repack tensor blk.3.ffn_gate.weight with q4_0_8x8\n",
            ".repack: repack tensor blk.3.ffn_down.weight with q4_0_8x8\n",
            ".repack: repack tensor blk.3.ffn_up.weight with q4_0_8x8\n",
            "repack: repack tensor blk.4.attn_q.weight with q4_0_8x8\n",
            ".repack: repack tensor blk.4.attn_k.weight with q4_0_8x8\n",
            "repack: repack tensor blk.4.attn_v.weight with q4_0_8x8\n",
            "repack: repack tensor blk.4.attn_output.weight with q4_0_8x8\n",
            "repack: repack tensor blk.4.ffn_gate.weight with q4_0_8x8\n",
            ".repack: repack tensor blk.4.ffn_down.weight with q4_0_8x8\n",
            ".repack: repack tensor blk.4.ffn_up.weight with q4_0_8x8\n",
            "repack: repack tensor blk.5.attn_q.weight with q4_0_8x8\n",
            ".repack: repack tensor blk.5.attn_k.weight with q4_0_8x8\n",
            "repack: repack tensor blk.5.attn_v.weight with q4_0_8x8\n",
            "repack: repack tensor blk.5.attn_output.weight with q4_0_8x8\n",
            "repack: repack tensor blk.5.ffn_gate.weight with q4_0_8x8\n",
            ".repack: repack tensor blk.5.ffn_down.weight with q4_0_8x8\n",
            ".repack: repack tensor blk.5.ffn_up.weight with q4_0_8x8\n",
            "repack: repack tensor blk.6.attn_q.weight with q4_0_8x8\n",
            ".repack: repack tensor blk.6.attn_k.weight with q4_0_8x8\n",
            "repack: repack tensor blk.6.attn_v.weight with q4_0_8x8\n",
            "repack: repack tensor blk.6.attn_output.weight with q4_0_8x8\n",
            "repack: repack tensor blk.6.ffn_gate.weight with q4_0_8x8\n",
            ".repack: repack tensor blk.6.ffn_down.weight with q4_0_8x8\n",
            ".repack: repack tensor blk.6.ffn_up.weight with q4_0_8x8\n",
            "repack: repack tensor blk.7.attn_q.weight with q4_0_8x8\n",
            ".repack: repack tensor blk.7.attn_k.weight with q4_0_8x8\n",
            "repack: repack tensor blk.7.attn_v.weight with q4_0_8x8\n",
            "repack: repack tensor blk.7.attn_output.weight with q4_0_8x8\n",
            "repack: repack tensor blk.7.ffn_gate.weight with q4_0_8x8\n",
            ".repack: repack tensor blk.7.ffn_down.weight with q4_0_8x8\n",
            ".repack: repack tensor blk.7.ffn_up.weight with q4_0_8x8\n",
            "repack: repack tensor blk.8.attn_q.weight with q4_0_8x8\n",
            ".repack: repack tensor blk.8.attn_k.weight with q4_0_8x8\n",
            "repack: repack tensor blk.8.attn_v.weight with q4_0_8x8\n",
            "repack: repack tensor blk.8.attn_output.weight with q4_0_8x8\n",
            "repack: repack tensor blk.8.ffn_gate.weight with q4_0_8x8\n",
            ".repack: repack tensor blk.8.ffn_down.weight with q4_0_8x8\n",
            ".repack: repack tensor blk.8.ffn_up.weight with q4_0_8x8\n",
            "repack: repack tensor blk.9.attn_q.weight with q4_0_8x8\n",
            ".repack: repack tensor blk.9.attn_k.weight with q4_0_8x8\n",
            "repack: repack tensor blk.9.attn_v.weight with q4_0_8x8\n",
            "repack: repack tensor blk.9.attn_output.weight with q4_0_8x8\n",
            "repack: repack tensor blk.9.ffn_gate.weight with q4_0_8x8\n",
            ".repack: repack tensor blk.9.ffn_down.weight with q4_0_8x8\n",
            ".repack: repack tensor blk.9.ffn_up.weight with q4_0_8x8\n",
            "repack: repack tensor blk.10.attn_q.weight with q4_0_8x8\n",
            ".repack: repack tensor blk.10.attn_k.weight with q4_0_8x8\n",
            "repack: repack tensor blk.10.attn_v.weight with q4_0_8x8\n",
            "repack: repack tensor blk.10.attn_output.weight with q4_0_8x8\n",
            "repack: repack tensor blk.10.ffn_gate.weight with q4_0_8x8\n",
            ".repack: repack tensor blk.10.ffn_down.weight with q4_0_8x8\n",
            ".repack: repack tensor blk.10.ffn_up.weight with q4_0_8x8\n",
            "repack: repack tensor blk.11.attn_q.weight with q4_0_8x8\n",
            ".repack: repack tensor blk.11.attn_k.weight with q4_0_8x8\n",
            "repack: repack tensor blk.11.attn_v.weight with q4_0_8x8\n",
            "repack: repack tensor blk.11.attn_output.weight with q4_0_8x8\n",
            "repack: repack tensor blk.11.ffn_gate.weight with q4_0_8x8\n",
            ".repack: repack tensor blk.11.ffn_down.weight with q4_0_8x8\n",
            ".repack: repack tensor blk.11.ffn_up.weight with q4_0_8x8\n",
            "repack: repack tensor blk.12.attn_q.weight with q4_0_8x8\n",
            ".repack: repack tensor blk.12.attn_k.weight with q4_0_8x8\n",
            "repack: repack tensor blk.12.attn_v.weight with q4_0_8x8\n",
            "repack: repack tensor blk.12.attn_output.weight with q4_0_8x8\n",
            "repack: repack tensor blk.12.ffn_gate.weight with q4_0_8x8\n",
            ".repack: repack tensor blk.12.ffn_down.weight with q4_0_8x8\n",
            ".repack: repack tensor blk.12.ffn_up.weight with q4_0_8x8\n",
            "repack: repack tensor blk.13.attn_q.weight with q4_0_8x8\n",
            ".repack: repack tensor blk.13.attn_k.weight with q4_0_8x8\n",
            "repack: repack tensor blk.13.attn_v.weight with q4_0_8x8\n",
            "repack: repack tensor blk.13.attn_output.weight with q4_0_8x8\n",
            "repack: repack tensor blk.13.ffn_gate.weight with q4_0_8x8\n",
            ".repack: repack tensor blk.13.ffn_down.weight with q4_0_8x8\n",
            ".repack: repack tensor blk.13.ffn_up.weight with q4_0_8x8\n",
            "repack: repack tensor blk.14.attn_q.weight with q4_0_8x8\n",
            ".repack: repack tensor blk.14.attn_k.weight with q4_0_8x8\n",
            "repack: repack tensor blk.14.attn_v.weight with q4_0_8x8\n",
            "repack: repack tensor blk.14.attn_output.weight with q4_0_8x8\n",
            "repack: repack tensor blk.14.ffn_gate.weight with q4_0_8x8\n",
            ".repack: repack tensor blk.14.ffn_down.weight with q4_0_8x8\n",
            "repack: repack tensor blk.14.ffn_up.weight with q4_0_8x8\n",
            ".repack: repack tensor blk.15.attn_q.weight with q4_0_8x8\n",
            ".repack: repack tensor blk.15.attn_k.weight with q4_0_8x8\n",
            "repack: repack tensor blk.15.attn_v.weight with q4_0_8x8\n",
            "repack: repack tensor blk.15.attn_output.weight with q4_0_8x8\n",
            "repack: repack tensor blk.15.ffn_gate.weight with q4_0_8x8\n",
            ".repack: repack tensor blk.15.ffn_down.weight with q4_0_8x8\n",
            "repack: repack tensor blk.15.ffn_up.weight with q4_0_8x8\n",
            ".repack: repack tensor blk.16.attn_q.weight with q4_0_8x8\n",
            ".repack: repack tensor blk.16.attn_k.weight with q4_0_8x8\n",
            "repack: repack tensor blk.16.attn_v.weight with q4_0_8x8\n",
            "repack: repack tensor blk.16.attn_output.weight with q4_0_8x8\n",
            "repack: repack tensor blk.16.ffn_gate.weight with q4_0_8x8\n",
            ".repack: repack tensor blk.16.ffn_down.weight with q4_0_8x8\n",
            "repack: repack tensor blk.16.ffn_up.weight with q4_0_8x8\n",
            ".repack: repack tensor blk.17.attn_q.weight with q4_0_8x8\n",
            "repack: repack tensor blk.17.attn_k.weight with q4_0_8x8\n",
            ".repack: repack tensor blk.17.attn_v.weight with q4_0_8x8\n",
            "repack: repack tensor blk.17.attn_output.weight with q4_0_8x8\n",
            "repack: repack tensor blk.17.ffn_gate.weight with q4_0_8x8\n",
            ".repack: repack tensor blk.17.ffn_down.weight with q4_0_8x8\n",
            "repack: repack tensor blk.17.ffn_up.weight with q4_0_8x8\n",
            ".repack: repack tensor blk.18.attn_q.weight with q4_0_8x8\n",
            "repack: repack tensor blk.18.attn_k.weight with q4_0_8x8\n",
            ".repack: repack tensor blk.18.attn_v.weight with q4_0_8x8\n",
            "repack: repack tensor blk.18.attn_output.weight with q4_0_8x8\n",
            "repack: repack tensor blk.18.ffn_gate.weight with q4_0_8x8\n",
            ".repack: repack tensor blk.18.ffn_down.weight with q4_0_8x8\n",
            "repack: repack tensor blk.18.ffn_up.weight with q4_0_8x8\n",
            ".repack: repack tensor blk.19.attn_q.weight with q4_0_8x8\n",
            "repack: repack tensor blk.19.attn_k.weight with q4_0_8x8\n",
            ".repack: repack tensor blk.19.attn_v.weight with q4_0_8x8\n",
            "repack: repack tensor blk.19.attn_output.weight with q4_0_8x8\n",
            "repack: repack tensor blk.19.ffn_gate.weight with q4_0_8x8\n",
            ".repack: repack tensor blk.19.ffn_down.weight with q4_0_8x8\n",
            "repack: repack tensor blk.19.ffn_up.weight with q4_0_8x8\n",
            ".repack: repack tensor blk.20.attn_q.weight with q4_0_8x8\n",
            "repack: repack tensor blk.20.attn_k.weight with q4_0_8x8\n",
            ".repack: repack tensor blk.20.attn_v.weight with q4_0_8x8\n",
            "repack: repack tensor blk.20.attn_output.weight with q4_0_8x8\n",
            "repack: repack tensor blk.20.ffn_gate.weight with q4_0_8x8\n",
            ".repack: repack tensor blk.20.ffn_down.weight with q4_0_8x8\n",
            "repack: repack tensor blk.20.ffn_up.weight with q4_0_8x8\n",
            ".repack: repack tensor blk.21.attn_q.weight with q4_0_8x8\n",
            "repack: repack tensor blk.21.attn_k.weight with q4_0_8x8\n",
            "repack: repack tensor blk.21.attn_v.weight with q4_0_8x8\n",
            ".repack: repack tensor blk.21.attn_output.weight with q4_0_8x8\n",
            "repack: repack tensor blk.21.ffn_gate.weight with q4_0_8x8\n",
            ".repack: repack tensor blk.21.ffn_down.weight with q4_0_8x8\n",
            "repack: repack tensor blk.21.ffn_up.weight with q4_0_8x8\n",
            ".repack: repack tensor blk.22.attn_q.weight with q4_0_8x8\n",
            "repack: repack tensor blk.22.attn_k.weight with q4_0_8x8\n",
            "repack: repack tensor blk.22.attn_v.weight with q4_0_8x8\n",
            ".repack: repack tensor blk.22.attn_output.weight with q4_0_8x8\n",
            "repack: repack tensor blk.22.ffn_gate.weight with q4_0_8x8\n",
            ".repack: repack tensor blk.22.ffn_down.weight with q4_0_8x8\n",
            "repack: repack tensor blk.22.ffn_up.weight with q4_0_8x8\n",
            ".repack: repack tensor blk.23.attn_q.weight with q4_0_8x8\n",
            "repack: repack tensor blk.23.attn_k.weight with q4_0_8x8\n",
            "repack: repack tensor blk.23.attn_v.weight with q4_0_8x8\n",
            ".repack: repack tensor blk.23.attn_output.weight with q4_0_8x8\n",
            "repack: repack tensor blk.23.ffn_gate.weight with q4_0_8x8\n",
            ".repack: repack tensor blk.23.ffn_down.weight with q4_0_8x8\n",
            "repack: repack tensor blk.23.ffn_up.weight with q4_0_8x8\n",
            ".repack: repack tensor blk.24.attn_q.weight with q4_0_8x8\n",
            "repack: repack tensor blk.24.attn_k.weight with q4_0_8x8\n",
            "repack: repack tensor blk.24.attn_v.weight with q4_0_8x8\n",
            ".repack: repack tensor blk.24.attn_output.weight with q4_0_8x8\n",
            "repack: repack tensor blk.24.ffn_gate.weight with q4_0_8x8\n",
            ".repack: repack tensor blk.24.ffn_down.weight with q4_0_8x8\n",
            "repack: repack tensor blk.24.ffn_up.weight with q4_0_8x8\n",
            ".repack: repack tensor blk.25.attn_q.weight with q4_0_8x8\n",
            "repack: repack tensor blk.25.attn_k.weight with q4_0_8x8\n",
            "repack: repack tensor blk.25.attn_v.weight with q4_0_8x8\n",
            ".repack: repack tensor blk.25.attn_output.weight with q4_0_8x8\n",
            "repack: repack tensor blk.25.ffn_gate.weight with q4_0_8x8\n",
            ".repack: repack tensor blk.25.ffn_down.weight with q4_0_8x8\n",
            "repack: repack tensor blk.25.ffn_up.weight with q4_0_8x8\n",
            ".repack: repack tensor blk.26.attn_q.weight with q4_0_8x8\n",
            "repack: repack tensor blk.26.attn_k.weight with q4_0_8x8\n",
            "repack: repack tensor blk.26.attn_v.weight with q4_0_8x8\n",
            "repack: repack tensor blk.26.attn_output.weight with q4_0_8x8\n",
            ".repack: repack tensor blk.26.ffn_gate.weight with q4_0_8x8\n",
            ".repack: repack tensor blk.26.ffn_down.weight with q4_0_8x8\n",
            "repack: repack tensor blk.26.ffn_up.weight with q4_0_8x8\n",
            ".repack: repack tensor blk.27.attn_q.weight with q4_0_8x8\n",
            "repack: repack tensor blk.27.attn_k.weight with q4_0_8x8\n",
            "repack: repack tensor blk.27.attn_v.weight with q4_0_8x8\n",
            "repack: repack tensor blk.27.attn_output.weight with q4_0_8x8\n",
            ".repack: repack tensor blk.27.ffn_gate.weight with q4_0_8x8\n",
            ".repack: repack tensor blk.27.ffn_down.weight with q4_0_8x8\n",
            "repack: repack tensor blk.27.ffn_up.weight with q4_0_8x8\n",
            ".repack: repack tensor blk.28.attn_q.weight with q4_0_8x8\n",
            "repack: repack tensor blk.28.attn_k.weight with q4_0_8x8\n",
            "repack: repack tensor blk.28.attn_v.weight with q4_0_8x8\n",
            "repack: repack tensor blk.28.attn_output.weight with q4_0_8x8\n",
            ".repack: repack tensor blk.28.ffn_gate.weight with q4_0_8x8\n",
            "repack: repack tensor blk.28.ffn_down.weight with q4_0_8x8\n",
            ".repack: repack tensor blk.28.ffn_up.weight with q4_0_8x8\n",
            ".repack: repack tensor blk.29.attn_q.weight with q4_0_8x8\n",
            "repack: repack tensor blk.29.attn_k.weight with q4_0_8x8\n",
            "repack: repack tensor blk.29.attn_v.weight with q4_0_8x8\n",
            "repack: repack tensor blk.29.attn_output.weight with q4_0_8x8\n",
            ".repack: repack tensor blk.29.ffn_gate.weight with q4_0_8x8\n",
            "repack: repack tensor blk.29.ffn_down.weight with q4_0_8x8\n",
            ".repack: repack tensor blk.29.ffn_up.weight with q4_0_8x8\n",
            ".repack: repack tensor blk.30.attn_q.weight with q4_0_8x8\n",
            "repack: repack tensor blk.30.attn_k.weight with q4_0_8x8\n",
            "repack: repack tensor blk.30.attn_v.weight with q4_0_8x8\n",
            "repack: repack tensor blk.30.attn_output.weight with q4_0_8x8\n",
            ".repack: repack tensor blk.30.ffn_gate.weight with q4_0_8x8\n",
            "repack: repack tensor blk.30.ffn_down.weight with q4_0_8x8\n",
            ".repack: repack tensor blk.30.ffn_up.weight with q4_0_8x8\n",
            ".repack: repack tensor blk.31.attn_q.weight with q4_0_8x8\n",
            "repack: repack tensor blk.31.attn_k.weight with q4_0_8x8\n",
            "repack: repack tensor blk.31.attn_v.weight with q4_0_8x8\n",
            "repack: repack tensor blk.31.attn_output.weight with q4_0_8x8\n",
            ".repack: repack tensor blk.31.ffn_gate.weight with q4_0_8x8\n",
            "repack: repack tensor blk.31.ffn_down.weight with q4_0_8x8\n",
            ".repack: repack tensor blk.31.ffn_up.weight with q4_0_8x8\n",
            "....\n",
            "llama_context: constructing llama_context\n",
            "llama_context: n_batch is less than GGML_KQ_MASK_PAD - increasing to 64\n",
            "llama_context: n_seq_max     = 1\n",
            "llama_context: n_ctx         = 4096\n",
            "llama_context: n_ctx_per_seq = 4096\n",
            "llama_context: n_batch       = 64\n",
            "llama_context: n_ubatch      = 8\n",
            "llama_context: causal_attn   = 1\n",
            "llama_context: flash_attn    = 0\n",
            "llama_context: kv_unified    = false\n",
            "llama_context: freq_base     = 10000.0\n",
            "llama_context: freq_scale    = 1\n",
            "llama_context: n_ctx_per_seq (4096) < n_ctx_train (32768) -- the full capacity of the model will not be utilized\n",
            "set_abort_callback: call\n",
            "llama_context:        CPU  output buffer size =     0.12 MiB\n",
            "create_memory: n_ctx = 4096 (padded)\n",
            "llama_kv_cache_unified: layer   0: dev = CPU\n",
            "llama_kv_cache_unified: layer   1: dev = CPU\n",
            "llama_kv_cache_unified: layer   2: dev = CPU\n",
            "llama_kv_cache_unified: layer   3: dev = CPU\n",
            "llama_kv_cache_unified: layer   4: dev = CPU\n",
            "llama_kv_cache_unified: layer   5: dev = CPU\n",
            "llama_kv_cache_unified: layer   6: dev = CPU\n",
            "llama_kv_cache_unified: layer   7: dev = CPU\n",
            "llama_kv_cache_unified: layer   8: dev = CPU\n",
            "llama_kv_cache_unified: layer   9: dev = CPU\n",
            "llama_kv_cache_unified: layer  10: dev = CPU\n",
            "llama_kv_cache_unified: layer  11: dev = CPU\n",
            "llama_kv_cache_unified: layer  12: dev = CPU\n",
            "llama_kv_cache_unified: layer  13: dev = CPU\n",
            "llama_kv_cache_unified: layer  14: dev = CPU\n",
            "llama_kv_cache_unified: layer  15: dev = CPU\n",
            "llama_kv_cache_unified: layer  16: dev = CPU\n",
            "llama_kv_cache_unified: layer  17: dev = CPU\n",
            "llama_kv_cache_unified: layer  18: dev = CPU\n",
            "llama_kv_cache_unified: layer  19: dev = CPU\n",
            "llama_kv_cache_unified: layer  20: dev = CPU\n",
            "llama_kv_cache_unified: layer  21: dev = CPU\n",
            "llama_kv_cache_unified: layer  22: dev = CPU\n",
            "llama_kv_cache_unified: layer  23: dev = CPU\n",
            "llama_kv_cache_unified: layer  24: dev = CPU\n",
            "llama_kv_cache_unified: layer  25: dev = CPU\n",
            "llama_kv_cache_unified: layer  26: dev = CPU\n",
            "llama_kv_cache_unified: layer  27: dev = CPU\n",
            "llama_kv_cache_unified: layer  28: dev = CPU\n",
            "llama_kv_cache_unified: layer  29: dev = CPU\n",
            "llama_kv_cache_unified: layer  30: dev = CPU\n",
            "llama_kv_cache_unified: layer  31: dev = CPU\n",
            "llama_kv_cache_unified:        CPU KV buffer size =   512.00 MiB\n",
            "llama_kv_cache_unified: size =  512.00 MiB (  4096 cells,  32 layers,  1/1 seqs), K (f16):  256.00 MiB, V (f16):  256.00 MiB\n",
            "llama_context: enumerating backends\n",
            "llama_context: backend_ptrs.size() = 1\n",
            "llama_context: max_nodes = 2328\n",
            "llama_context: worst-case: n_tokens = 8, n_seqs = 1, n_outputs = 0\n",
            "graph_reserve: reserving a graph for ubatch with n_tokens =    8, n_seqs =  1, n_outputs =    8\n",
            "graph_reserve: reserving a graph for ubatch with n_tokens =    1, n_seqs =  1, n_outputs =    1\n",
            "graph_reserve: reserving a graph for ubatch with n_tokens =    8, n_seqs =  1, n_outputs =    8\n",
            "llama_context:        CPU compute buffer size =     5.56 MiB\n",
            "llama_context: graph nodes  = 1126\n",
            "llama_context: graph splits = 1\n",
            "CPU : SSE3 = 1 | SSSE3 = 1 | AVX = 1 | AVX2 = 1 | F16C = 1 | FMA = 1 | BMI2 = 1 | AVX512 = 1 | LLAMAFILE = 1 | OPENMP = 1 | REPACK = 1 | \n",
            "Model metadata: {'tokenizer.ggml.padding_token_id': '2', 'tokenizer.ggml.unknown_token_id': '0', 'tokenizer.ggml.eos_token_id': '2', 'general.architecture': 'llama', 'llama.rope.freq_base': '10000.000000', 'llama.context_length': '32768', 'general.name': 'huggingfaceh4_zephyr-7b-beta', 'llama.embedding_length': '4096', 'llama.feed_forward_length': '14336', 'llama.attention.layer_norm_rms_epsilon': '0.000010', 'llama.rope.dimension_count': '128', 'tokenizer.ggml.bos_token_id': '1', 'llama.attention.head_count': '32', 'llama.block_count': '32', 'llama.attention.head_count_kv': '8', 'general.quantization_version': '2', 'tokenizer.ggml.model': 'llama', 'general.file_type': '2'}\n",
            "Using fallback chat format: llama-2\n"
          ]
        }
      ]
    },
    {
      "cell_type": "code",
      "source": [
        "model"
      ],
      "metadata": {
        "colab": {
          "base_uri": "https://localhost:8080/"
        },
        "id": "fYN7cQuiAyKU",
        "outputId": "ed3001a0-95b4-48bd-cbed-79a72b7911ef"
      },
      "execution_count": 46,
      "outputs": [
        {
          "output_type": "execute_result",
          "data": {
            "text/plain": [
              "LlamaCpp(client=<llama_cpp.llama.Llama object at 0x7d332492f530>, model_path='/content/drive/MyDrive/llama_models/zephyr-7b-beta.Q4_0.gguf', n_ctx=4096, n_threads=1, max_tokens=1500, temperature=0.5, top_p=1.0, model_kwargs={'gpu_layers': 0, 'stream': True})"
            ]
          },
          "metadata": {},
          "execution_count": 46
        }
      ]
    },
    {
      "cell_type": "code",
      "source": [
        "from langchain.chains import RetrievalQA"
      ],
      "metadata": {
        "id": "5j9FYjvdA3iL"
      },
      "execution_count": 47,
      "outputs": []
    },
    {
      "cell_type": "code",
      "source": [
        "llama_qa=RetrievalQA.from_chain_type(\n",
        "    llm=model,\n",
        "    chain_type=\"stuff\",\n",
        "    retriever=final_retriver_reranked,\n",
        "    return_source_documents=True\n",
        ")"
      ],
      "metadata": {
        "id": "_e8OxNLdA7Rx"
      },
      "execution_count": 48,
      "outputs": []
    },
    {
      "cell_type": "code",
      "source": [
        "response=llama_qa.invoke(\"Heart Disease Caused by Heart Infections\")"
      ],
      "metadata": {
        "colab": {
          "base_uri": "https://localhost:8080/"
        },
        "id": "r0AH2jqtBT9G",
        "outputId": "560b2573-3cb6-4c15-a5c1-ce134c7b683c"
      },
      "execution_count": 49,
      "outputs": [
        {
          "output_type": "stream",
          "name": "stderr",
          "text": [
            "llama_perf_context_print:        load time =  143236.24 ms\n",
            "llama_perf_context_print: prompt eval time =  143233.94 ms /   518 tokens (  276.51 ms per token,     3.62 tokens per second)\n",
            "llama_perf_context_print:        eval time =   17847.40 ms /    30 runs   (  594.91 ms per token,     1.68 tokens per second)\n",
            "llama_perf_context_print:       total time =  161113.76 ms /   548 tokens\n",
            "llama_perf_context_print:    graphs reused =         76\n"
          ]
        }
      ]
    },
    {
      "cell_type": "code",
      "source": [
        "print(response['result'])"
      ],
      "metadata": {
        "colab": {
          "base_uri": "https://localhost:8080/"
        },
        "id": "yUvLGMcGBjTL",
        "outputId": "cf137b09-b212-4ce1-a670-8401eec3c6e3"
      },
      "execution_count": 51,
      "outputs": [
        {
          "output_type": "stream",
          "name": "stdout",
          "text": [
            " Endocarditis is a type of heart infection that causes inflammation of the inner lining of your heart chambers and heart valves.\n"
          ]
        }
      ]
    },
    {
      "cell_type": "code",
      "source": [
        "response['query']"
      ],
      "metadata": {
        "colab": {
          "base_uri": "https://localhost:8080/",
          "height": 36
        },
        "id": "YzrHSVp7Cpr1",
        "outputId": "d3885ce0-843a-4b38-80e5-e8880b9fa4fa"
      },
      "execution_count": 52,
      "outputs": [
        {
          "output_type": "execute_result",
          "data": {
            "text/plain": [
              "'Heart Disease Caused by Heart Infections'"
            ],
            "application/vnd.google.colaboratory.intrinsic+json": {
              "type": "string"
            }
          },
          "metadata": {},
          "execution_count": 52
        }
      ]
    },
    {
      "cell_type": "code",
      "source": [
        "print(response['source_documents'])"
      ],
      "metadata": {
        "colab": {
          "base_uri": "https://localhost:8080/"
        },
        "id": "AepDEpldCtmF",
        "outputId": "fca9d7ae-8d19-46d0-b914-260552b7d0c2"
      },
      "execution_count": 54,
      "outputs": [
        {
          "output_type": "stream",
          "name": "stdout",
          "text": [
            "[_DocumentWithState(metadata={'aapl:keywords': '[]', 'creationdate': \"D:20190823182446Z00'00'\", 'creator': 'Word', 'keywords': '', 'moddate': \"D:20190823182446Z00'00'\", 'page': 0.0, 'page_label': '1', 'producer': 'macOS Version 10.14.6 (Build 18G87) Quartz PDFContext', 'source': '/content/heart_disease.pdf', 'title': 'Microsoft Word - أمراض القلب-ar-en-T-C.docx', 'total_pages': 8.0}, page_content='Heart\\tDisease\\tIntroduction: Heart disease describes a range of conditions that affect the heart. Diseases under the umbrella term heart disease include: • Cardiovascular disease. • Heart arrhythmia. • Congenital heart disease.  • Cardiomyopathy. • Heart disease caused by heart infections. • Heart valve disease.  Symptoms:  Heart disease symptoms vary depending on which type of heart diseases you have.  Cardiovascular disease: Cardiovascular disease can result in narrowed or blocked blood vessels', state={'embedded_doc': [-0.023324203956250143, 0.003611770180242625, 0.017754244607914037, -0.029888797239427296, -0.025089680587576938, 0.02939148027200677, -0.00921281195545784, -0.016921236126347446, -0.03521009717273051, 0.012376995468038058, -0.02460479677717258, 0.026755695688064875, -0.023087977698233425, -1.3977955447775963e-06, 0.0062413377200151235, 0.02536320631664216, 0.048239822208245964, 0.014832502069213374, 0.011096402647115618, -0.026382706565515546, -0.0354587565877634, 0.024418301284575297, -0.0017141921869416575, 0.0015292521195399982, -0.002587606566165552, 0.024032880867655045, 0.02318744109171753, -0.027377342363001843, -0.006502429826402867, 0.0005078080839372202, 0.015528746754924732, 0.0017810192417502862, -0.011065320685897818, -0.020638686744243573, -0.0005276230786857558, 0.013614074102049154, 0.0053834647870614405, -0.018549951755786876, -0.007733291416244566, -0.00959201672519263, 0.023485831272169844, 0.0017918980213087782, -0.010331776529137955, 0.00931849192745003, -0.015367118507682406, 0.03478737728476176, -0.0007448110650214636, -0.022603092025183822, -0.007677343140994429, 0.03496143775769763, 0.030386116069493065, 0.008448185837480178, -0.020004606912290435, 0.0015828691778496033, 0.007267055944380529, 0.00047322894806264, -0.005784427115913214, 0.014335184170470226, 0.016685011730975974, -0.01646121862997543, -0.0018866992137424757, -0.009393089006901797, -0.024020447710638874, -0.004385721165982415, -0.02209334190074713, 0.004429236284216383, -0.005299542374186235, 0.034439256338890015, 0.011289112855575743, 0.02030299709274275, 0.03180347175494812, 0.02864550388955336, -0.004982502458209667, 0.03724910139576778, -0.00621958016089814, -0.03456358418376121, -0.019731083045870457, -0.025313473688577486, -0.003372436098633178, 0.011643452242600818, 0.004550457702478783, -0.023038245070168748, 0.0033910856013267755, 0.02576105989057858, 0.025984852991579127, -0.01595146664289349, -0.0017002051181291232, 0.0011826838048960128, -0.0010909909017163576, -0.03836806690077052, 0.014882233765955426, -0.00892685400069907, -0.016908804831976522, -0.003726775019996941, 0.0028533606407730463, 0.01041880676560589, 0.002885997212279178, 0.03779614912860774, -0.017356389171332372, -0.02296364799071698, -0.014981698090762155, 0.01189211072631108, -0.03528469611482753, -0.00708677796161395, -0.023958283788203277, 0.022739854889716436, -0.012855664562579576, -0.0028782264891440727, -0.0027088277515972966, -0.03227592427098155, -0.0215587254622781, 0.01682177273286334, -0.007229756938993334, -0.018686714620319487, 0.0331462303609514, 0.0045038338293294615, 0.020588955978824142, 0.011979141894101639, 0.017281792091880605, -0.01281836509153107, 0.01418598908024407, 0.020700852529324416, 0.018748880405400334, -0.004466535289603578, -0.007354086646509777, -0.013601640945032986, -0.04030760586767843, -0.011096402647115618, 0.03324569189179026, -0.000449917157007139, 0.00842331952344784, 0.028396844474520476, -0.00262335119409507, -0.011475607416850407, -0.016473651786991596, -0.005215619961311029, -0.0023063110452878465, 0.012221583799303817, -0.013067024506563954, -0.020750583294743843, -0.004519375275599672, 0.014198422237260238, -0.013116756203306006, -0.031256420296817675, 0.02352313074321835, 0.01322865275380628, 0.031156958765978814, 0.012756200237772847, 0.0015323604087940405, -0.003201483216459381, 0.014198422237260238, -0.00045069422932064957, 0.01787857431543048, -0.032027264855948666, -0.01561577792271529, 0.028297381081036372, 0.005843483680417393, 0.004994935149564525, 0.01900997111480414, -0.0036273113936821804, 0.027029219554484854, -0.0038231303570576596, 0.01792830508084991, 0.00790735282050306, -0.014459513877986668, -0.004764925935717204, 0.011226948933140144, -0.01996730744124193, -0.003167292500326228, 0.0033413536717540673, -0.009013884237167006, 0.02760113546400239, -0.029913663553459632, 0.015193058034746533, 0.03133101923891469, 0.009747428393926871, 0.004708977660467067, 0.01915916713635292, -0.04189902016342411, -0.023175007934701362, -0.031057493509849463, -0.014397349024228448, 0.030783969643429485, 0.009604448950886175, -0.01731909156292911, 0.012781066551805186, 0.02282688512618437, -0.0026839619032262706, 0.01753045150691349, 0.0018820368962767402, -0.01288052994528929, 0.010294477989412071, 0.01683420588987951, -0.0034035185255122885, -0.6425345277357505, 0.002129141584605965, -0.0024943595183588756, -0.01900997111480414, 0.003133102017023731, 0.013576774631000647, 0.019109434508288246, 0.005479819891291503, -0.01350217755154888, 0.016063363193393763, -0.017244492620832098, -0.007577879281849013, 0.013402714158064776, 0.011065320685897818, -0.018574818069819213, -0.019532154396257002, -0.006732439040250187, -0.01003338634868564, -0.018773744856787424, 0.0062413377200151235, -0.00026420007549963315, 0.007217324247638477, -0.0004988718687471768, -0.019693783574821953, -0.005004260017326651, 0.0012969114559214902, -0.00127748499732971, -0.003590012621125641, 0.02357286150863778, 0.030560176542428936, 0.00020203533815673974, 0.006912717023016766, 0.006409182545765535, 0.029665004138426748, 0.045504576093465206, 0.016722309339379234, -0.006051735335147729, 0.034513851555696536, 0.01588930272045789, 0.02610918269909557, -0.003599337256057112, 0.010275828253887818, 0.02536320631664216, -0.03645339052260445, 0.0011756902704897457, 0.007180025242251282, 0.032325653173755735, 0.017418554956413215, 0.02227983553069917, 0.00763382755709915, -0.008454402415988261, -0.015441716518456794, -0.02357286150863778, 0.006651624916629024, 0.0049856107474637095, -0.022068475586714792, 0.03819400270254415, -0.02214307266616656, 0.00255496999465942, 0.01740612179939705, 0.005771994424558356, 0.01861211754086772, -0.016187692900910204, 0.0008368925625655379, -0.0038013725651100195, 0.012675386579812997, -0.00702461357351704, 0.012519974911078754, 0.0010055143442141313, -0.01685907220391185, 0.010704764720364659, 0.015590911608682952, -0.011488040573866575, -0.004248958767111115, 0.04013354539474256, 0.024393436833188203, 0.036900976724605544, 0.019532154396257002, -0.031057493509849463, 0.0037050172280493014, 0.01847535467633511, 0.008715494056714693, -0.024256673968655593, -0.01202887359084369, 0.023672324902121886, -0.01214698671985205, -0.007528147585106961, 0.02012893661980688, -0.009747428393926871, 0.00979094351216084, 0.0031983749272053385, 0.008877122303957019, -0.010083118045427693, -0.04319204614136272, 0.00021116577776941292, 0.002485034650596749, -0.021235468967793446, 0.005541984745049724, -0.007758157264615592, 0.041650364473681714, 0.0007898805025054446, 0.02324960501415313, -0.03135588555294702, 0.024915620114641067, -0.0014290115373270548, 0.011562637653318343, -0.028744967283037465, -0.004115304657493857, 0.043938024386461376, -0.020377596034839764, -0.009679046961660566, -0.02578592620461092, -0.009734995236910703, -0.007919785046196608, 0.0012300844011128615, -0.017841274844381975, 0.009237677338167554, 0.006570810793007861, 0.01792830508084991, -0.01315405474303189, 0.028968760384038013, -0.00906361593390906, 0.006639192225274167, -0.02869523465497279, 0.004043814935973509, -0.021247902124809617, -0.014136257383502016, -0.015367118507682406, -0.0006737101706961906, -0.029267150564490328, 0.024020447710638874, -0.03891511463361047, 0.024368570519155867, -0.010934774399873292, -0.01603849874200667, 0.004115304657493857, 0.010039601995871101, 0.012563490029312722, 0.0040189490876024825, -0.014844935226229542, 0.00478979178408823, -0.013924897439517638, 0.0244556007556238, -0.006141874326531019, -0.024990217194092834, 0.010791795888155218, -0.007372735916372719, -0.021322499204261384, -0.017232061326461174, -0.005271568236561166, -0.034986304071729965, -0.011823730225367398, -0.027998990900584057, 0.03411599798176011, 0.019097001351272076, -0.005924297804038556, 0.023622594136702455, -0.0040251656661105676, -0.01021987997863768, -0.044733731534334215, 0.027501672070518287, 0.009666613804644397, -0.014733038675729268, -0.00839223756223004, -0.012066172130569574, -0.008584947770690165, -0.012277532074553954, -0.007490849045381077, -0.016871505360928015, -0.02978933384594319, 0.026904891709613656, -0.01134506113082588, -0.0021586698668580543, 0.009809593247685093, 0.011015588057833143, 0.008908204265174817, -0.009498768978893986, -0.0013792797241696745, -0.017020701382476796, -0.004115304657493857, 0.0033227044018911255, -0.029366613957974432, -0.028993624835425103, -0.002245700568987302, 0.030386116069493065, 0.0005925075109182722, 0.03844266211757704, 0.026954622475033087, -0.00237158418830011, 0.024306406596720266, 0.012035090169351776, 0.0210738397892285, -0.03083370227149416, 0.003453250222254341, -0.00395367641025153, 0.0006803151689457024, -0.0005478266095910465, -0.002856468930027089, 0.016908804831976522, 0.008671978938480724, 0.04493265832130242, 0.004637487938946719, 0.01281836509153107, -0.005423872081702677, 0.018351024968818668, -0.013763269192275312, 0.015590911608682952, -0.007720858259228397, 0.015876869563441722, 0.004370179719712204, 0.002405774671602607, 0.005703612992292051, 0.006390533275902593, -0.013464878080500373, -0.0019908252739382994, 0.023883684846106264, 0.018040201631350183, -0.024356137362139697, -0.0013753944790174497, -0.012507541754062585, -0.0003164572863644269, 0.0013660697276706509, 0.0031175608035841755, -0.003518523132435949, 0.01514332633800448, 0.017915871923833742, 0.019954876146871005, 0.005862132950280334, 0.0039692173908604305, -0.0331462303609514, -0.006918933601524851, -0.013216219596790112, 0.00893928715771524, 0.00795086793873703, -0.018835910641868268, 0.030037993260976076, -0.0010195014130266655, -0.027029219554484854, 0.024642094385575842, 0.014409782181244616, -0.005492253048307672, 0.002404220526975586, 0.005053991714068703, -0.01540441797873091, 0.010474755040856027, 0.008311422972947565, 0.02097437639574439, 0.022379298924183277, -0.0008477714003316939, 0.0061107918996519085, -0.008124929342995524, -0.011562637653318343, -0.013999495450292028, 0.00044136950707768274, -0.022416598395231784, -0.04038220108448495, 0.013303249833258047, 1.1218789622916578e-05, 0.03013745665446018, 0.003291621975012015, 0.042520670563651566, -0.0182142639669313, -0.0026730828908371226, -0.004034490533872693, 0.015653076462441174, 0.0063781001188864235, -0.0060299777760307455, -0.021136005574309343, 0.004140170505864883, 0.0136265063277427, -0.01841319075389951, 0.005911865112683699, -0.014534111888761058, -0.04247093793558689, -0.0009270313793258359, 0.029341747643942095, -0.009020100815675091, -0.01289296310230546, 0.03712476982560609, 0.010070684888411523, 0.005958488520171709, -0.009890406905644944, -0.015093593709939805, 0.006151199194293145, -0.007248406208856276, 0.0026280136279761336, 0.017269358934864434, 0.012084821866093828, -0.02297608114773315, 0.037149636139638426, 0.007074345270259093, 0.009554717254144123, 0.02467939385662435, -0.005955380230917667, -0.028222784001584605, 0.0018944698204622532, 0.02039002919185593, -0.00036249803513646405, 0.028396844474520476, -0.012010223855319437, -0.014857368383245712, -0.015566046225973237, -0.011655885399616987, -0.01033799310764604, 0.014894666922971596, 0.023684758059138056, -0.0005548201439973137, 0.026705963060000202, 0.012022657012335607, -0.0007075122342572603, -0.01096585636109109, -0.032251057956949214, 0.007049479421888066, -0.03433979108276066, 0.02201874482129536, 0.016970968754412123, -0.008280341011729767, 0.016299589451410478, 0.0017639240000990378, -0.016399052844894582, -0.007005963837992787, -0.024542630992091738, -0.01698340191142829, -0.03356895024892016, 0.046623541598467946, -0.00924389391667564, -0.014844935226229542, 0.004034490533872693, 2.144197171505324e-05, -0.018960240349384712, 0.011295329434083828, -0.037746416500543056, 0.027153549262001295, 0.015118460023972142, 0.0026342299736535624, -0.026979488789065423, 0.0039692173908604305, 0.015578479382989407, 0.009697696697184819, 0.014894666922971596, 0.004373288008966246, 0.004280041193990225, 0.002326514692608465, 0.004764925935717204, 0.012445376900304363, -0.022789585655135863, 0.015876869563441722, 0.032251057956949214, 0.022926348519668478, -0.016349322079475155, 0.005371031630045271, -0.005165888264568977, 0.006545944944636835, 0.0020467733163577807, -0.03709990351157375, 0.03453871786972887, 0.011861028765093281, 0.027352477911614752, -0.018052634788366353, 0.022951214833700814, -0.006906500444508682, 0.011500473730882744, 0.014633575282245164, 0.015479015058182678, 0.037746416500543056, 0.01677204196744391, -0.006275528436148277, 0.013539476091274764, -0.0047680342249712465, 0.0002134969656061126, 0.009909056641169197, 0.010480971619364112, 0.014235720776986122, -0.020700852529324416, 0.025736193576546242, -0.00224259227973326, -0.010089333692613153, -0.037771282814575396, 0.05191997335509358, -0.015479015058182678, -0.0011453850323394734, 0.003751640868367967, -0.012992426495789564, -0.00948633675320044, 0.012221583799303817, -0.009175512484409334, 0.0012440714699253957, 0.007211107669130393, -0.009051183708215513, 0.00469965279270494, -0.0014927303028816415, 0.021372231832326057, -0.01988027720477399, 0.005243594098936098, 0.003381760733564649, -0.011904543883327248, 0.0008089184249404695, 0.011438308877124524, 0.003116006658957154, 0.013290817607564502, -0.015354686281988859, -0.0029823525493398967, 0.027526538384550624, 0.009822025473378638, 0.007285705214243471, 0.00029528241506724794, -0.01514332633800448, -0.018736447248384164, 0.0012533962212721945, -0.007882486506470724, -0.003028975956827907, -0.004398153857337272, 0.01438491586721228, 0.026830292767516643, 0.0027150440972747254, 0.003658393820561291, 0.009846891787410977, 0.002236375934055831, -0.011040454371865481, 0.04152603290352003, 0.02782492856500294, -0.016249858685991048, -0.028073587980035824, -0.021794951720294817, -0.00580929296428424, -0.017281792091880605, -0.017493152035864983, -0.012482675440030247, -0.013390281001048606, -0.027750331485551172, -0.0006573919431507887, 0.0033786524443106068, 0.006197822601781156, -0.01479520352948749, 0.022192805294231236, -0.011593720545858765, 0.011301546012591911, 0.02215550582318273, 0.003944351542489404, 0.026780562002097212, 0.011581287388842596, 0.0041557114864737826, 0.006275528436148277, -0.006564594680161088, -0.013042158192531617, -0.006148090905039104, 0.030087724026395504, -0.014621142125228996, -0.0351354982306335, 0.01989271036179016, 0.015640643305425004, -0.02285175144021671, -0.046001894923530975, -0.023336635250621064, 0.019320794452272624, 0.01096585636109109, -0.026059450071030894, -0.015304954585246807, -0.03212672638678753, 0.009293625613417691, -0.0059988953491516344, 0.016685011730975974, -0.025885389598095023, -0.025835656970030346, -0.010561786208646586, -0.006900283866000598, -0.009020100815675091, -0.023659891745105716, 0.04107844670151893, -0.037423161868703654, -0.00533684137957343, 0.006483780556539925, -0.013527042934258595, 0.002758559448339349, 0.00985310836591906, 0.013527042934258595, -0.02720328189006597, -0.0005723039800129815, -0.018450488362302772, -0.015752539855925278, 0.003325812458314512, -0.009150647101699619, 0.0014973927367627048, 0.035806877533635144, -0.008156011304213324, -0.03090829935094593, 0.02964013782439441, 0.005330624801065346, -0.004255175345619199, 0.006269311857640192, -0.013216219596790112, -0.02482858987817313, -0.021794951720294817, 0.006238229896422393, 0.0026047016914014726, 0.006744872197266356, -0.002687069959649657, -0.008298989815931397, 0.022553361259764395, -0.0060299777760307455, 0.002209955708227128, -0.004534916256208572, -0.02563673018306214, -0.04070545944161485, 0.013937330596533806, 0.0005408330751847794, -0.020153802933839216, 0.03317109667498374, -0.0427941925674263, -0.01935809392332113, 0.032822972003821504, -0.024405869990204374, -0.0030072183977109227, -0.012650520265780658, -0.00822439273647963, 0.014459513877986668, 0.027451941305098856, -0.0037050172280493014, 0.002654433620974181, 0.0021804276588056944, -0.00364906918562982, -0.013750836035259143, 0.009386872428393712, 0.0036210950480047516, -0.0013077903518953103, 0.024405869990204374, 0.0027476806687808573, -0.011059104107389734, -0.00849791753422223, 0.0009472349102311266, -0.022342001315780017, -0.009554717254144123, -0.0018058850901213125, -0.03613013589076504, -0.00047789129463220745, -0.005647664717041914, -0.005315083820456446, -0.03990975229374201, 0.01051827109041262, -0.009001451080150838, -0.019830546439354564, 0.008634679467432217, -0.02633297580009612, 0.003518523132435949, -0.015876869563441722, -0.022777154360764943, -0.01216563552405368, -0.026979488789065423, 0.05152211978115716, 0.007627610978591066, -0.0027772089510329466, -0.0448580631044959, 0.01730665840591294, -0.005684963722429109, 0.01807750110239869, 0.032599178902820956, -0.02093707878734113, -0.0003968828738288347, 0.007894919663486892, 0.011593720545858765, 0.015764973012941448, 0.001959742847059189, -0.03516036454466584, 0.008752792596440576, 0.009623098686410429, -0.02227983553069917, 0.009616882107902344, -0.00893928715771524, -0.0187613135624165, -0.005796860272929382, -0.008479267798697976, 0.006962448719758819, -0.024853454329560223, -0.04408721854536491, 0.004276932904736183, 0.0018525086140246507, -0.023050678227184918, 0.03421546323788947, 0.01189211072631108, -0.0177293782938817, -0.026531902587064327, -0.02470426017065669, -0.0033351373260766385, -0.00269950288383517, 0.016200126057926374, 0.01336541468701627, -0.027650868092067064, 0.0030041101084568806, 0.031156958765978814, -0.0004203889329627134, 0.013614074102049154, 0.0259351222261597, -0.014036793990017912, 0.03834320058673818, -0.013402714158064776, -0.003866645708122283, 0.033295424519854934, -0.0067573048886212135, 0.004771142514225288, 0.026233512406612012, -0.017207195012428837, -0.028446575239939906, -0.010592868169864387, -0.03650312315066912, 0.02011650346279071, 0.01077936273113905, -0.00012559215898757758, 0.006095250919043008, -0.01269403631533725, -0.022503628631699718, -0.012917828485015173, -0.031704006498818764, 0.029292016878522665, -0.01646121862997543, -0.04244607162155455, -0.02777519779958351, -0.0005439413062311578, -0.002927958418716781, 0.011189649462091639, -0.00503223415495172, 0.006608109798395056, 0.040655726813550175, -0.008261691276205513, 0.02139709628371315, -0.014434648495276954, 0.01309188988927367, -0.005697396413783966, 0.00780167238284956, -0.02486588748657639, -0.00708677796161395, 0.0006546721900535017, -0.017070432147896226, -0.014969264933745985, -0.0470462614864367, 0.00672000634889533, 0.027029219554484854, -0.015852003249409382, -0.005977137790034651, 0.026830292767516643, -0.026009719305611467, -0.0013792797241696745, -0.0038355632812431726, -0.03242511842988508, 0.04247093793558689, -0.018860776955900604, -0.0027072736069702753, 0.01682177273286334, -0.015876869563441722, 0.0216208893847137, -0.01730665840591294, 0.015653076462441174, -0.0031735090788343125, -0.011226948933140144, -0.04913499461224815, -0.025487536024158604, 0.003022759611150478, -0.008622246310416049, -0.004702761081958983, -0.044509938433333666, -0.014273020248034628, -0.0018183181307221536, -0.007472199309856824, 0.016287156294394308, 0.011519122535084374, -0.00892685400069907, 0.019644050946757276, 0.008019249371003335, 0.025301040531561316, 0.0006538951759476551, 0.01149425715237466, 0.00038619833324488837, -0.017791542216317298, -0.007994383056970998, -0.006564594680161088, -0.016137962135490774, 0.037075040922831905, 0.022864184597232877, 0.019445124159789065, -0.025301040531561316, 0.02093707878734113, -0.05545093034303766, -0.009741211815418786, 0.012296181810078207, 0.012215367220795732, 0.007596529017373266, 0.02169548832681071, 0.00373299136567437, 0.02065111990125974, -0.019507289944869912, 0.019606753338354016, -0.027849794879035276, -0.012091038444601913, 0.014770337215455152, 0.011923193618851502, -0.0038604291296141986, -0.021683055169794543, 0.013328116147290386, -0.026581635215129004, 0.01176778195011726, 0.01295512795606368, -0.014260587091018458, -0.001192785628556322, -0.006350125981261355, 0.0024912512291048335, -0.007148942815372171, 0.002141574508791478, -0.014534111888761058, -0.01053691989461425, 0.0031237771492616043, -0.013290817607564502, -0.0024073288162296284, -0.011954275580069302, -0.0272530126554854, -0.027451941305098856, 0.00933714073165166, 0.00675108877577444, 0.00695001556274265, 0.0050912907194558986, -0.03207699748401334, -0.021583591776310435, -0.017194761855412667, -0.014297885630744342, 0.0007459766734917294, -0.00695001556274265, -0.020340296563791258, 0.01540441797873091, -0.009703913275692902, 0.01588930272045789, -0.0007230533894891517, 0.0050664248710848726, 0.021496559677197255, -0.0049545283205845985, -0.0039940832392314565, 0.0025301041462883938, -0.025089680587576938, -0.0125013251755545, 0.0003817302256498666, -0.01730665840591294, -0.0018820368962767402, -0.015491448215198848, -0.036627454720830815, -0.03568254968876395, 0.03018718741987961, -0.026233512406612012, 0.015590911608682952, -0.01424815393400229, 0.007242190096009503, -0.022267402373683003, -0.0016116203877881824, -0.0171201647759609, 0.022913915362652307, -0.0012844785317359772, -0.012843231405563406, 0.015715242247522018, 0.011295329434083828, -0.011842379029569028, -0.0020234616126137755, 0.013191353282757773, -0.016349322079475155, 0.01033799310764604, 0.18520113296535218, -0.009585800146684545, -0.00041650362960282455, 0.009362007045683997, -0.01866184830628715, 0.006185389910426298, -0.006738655618758272, -0.0062413377200151235, -0.0008586501798901858, 0.025139413215641615, -0.015081161484246259, -0.009654180647628227, -0.005619690579416845, 0.007061912113242924, -0.00865332920295647, -0.03120668953139824, -0.035483622901795735, -0.009747428393926871, 0.003614878469496667, -0.021247902124809617, -0.020004606912290435, -0.0188234774848521, -0.0037796150059930356, -0.023299337642217803, 0.021484126520181085, 0.005156563396806851, -0.022951214833700814, 0.012532408068094924, 0.045554308721529886, -0.012656736844288743, 0.006300394284519303, -0.005653881295549998, 0.00189291579225056, 0.007994383056970998, -0.0026466628978390754, 0.004544241123970698, 0.016548248866443363, -0.0007191680861292629, 0.0009441266791847484, -7.246074904604248e-05, -0.011836162451060943, 0.01771694513686553, -0.006154307483547188, -0.0004153380502363907, 0.011108835804131786, 0.046300283241338044, -0.001196670873708547, -0.024393436833188203, -0.006163631885648003, 0.002814507723589486, -0.03782101544264007, -0.009846891787410977, 0.008908204265174817, 0.032574312588788616, -0.015479015058182678, -0.004317339733716109, 0.017194761855412667, 0.030510443914364263, 0.0005435527700744025, -0.01826399473235073, 0.010350426264662208, 0.001374617406703939, -0.0018789287234380258, 0.02993852986749197, -0.0264821718216449, 0.03938756714964391, -0.009728778658402618, -0.017008268225460626, -0.009641748421934682, 0.002960594757392257, -0.005517118896678698, -0.035806877533635144, -0.006732439040250187, -0.008124929342995524, 0.012563490029312722, -0.0025114546435947966, 0.023286904485201636, -4.2349717128504966e-05, -0.02042732680025919, 0.017493152035864983, -0.001241740252984864, -0.020166236090855386, -0.03729883402383245, 0.007851404545252924, -0.007061912113242924, -0.037149636139638426, 0.012718901698046963, 0.01842562391091568, -0.0007308239962089294, 0.0023327310382858938, -0.009038750551199345, -0.019482423630837572, -0.01506872832723009, 0.01603849874200667, 0.036900976724605544, 0.02448046706965614, -0.0010140620232474194, -0.007652477292623403, 0.016709876182363068, -0.028794698048456895, -0.0018183181307221536, 0.06594433232545008, -0.0021384664523680917, 0.005075749273185688, 0.0037205584414888564, -0.0025099004989677753, -0.02083761353121178, 0.004488292848720562, 0.02175765224924631, -0.002823832358520957, -0.0026497711870931175, -0.02134736551829372, -0.01315405474303189, -0.027526538384550624, -0.00589943195566753, 0.03463818312585822, 0.00904496712970743, -0.01685907220391185, -0.00837980440521387, -0.007484632466872992, -0.0005350051492487781, 0.007447333461485798, 0.01506872832723009, 0.027377342363001843, 0.010704764720364659, -0.007546796854969903, -0.0034905489948108804, 0.02650703627303199, 0.022578225711151485, -0.03779614912860774, 0.005557526191319936, -0.019457557316805235, -0.012209150642287649, -0.004466535289603578, 0.0005917304386047616, 0.004960744899092683, 0.007621394865744292, 0.010045818574379186, -0.007608961708728124, 0.017343957876961448, -0.004301798753107209, -0.015839570092393215, 0.003590012621125641, 0.026407572879547887, 0.021136005574309343, -0.03903944620377216, -0.002093396956676447, -0.003475007781371325, -0.0023669217544190465, -1.84915762063988e-05, -0.013750836035259143, -0.006026869486776703, -0.009038750551199345, 0.0019659591927366177, 0.012426727164780112, 0.00022515284658194712, 0.01811479871080195, -0.002096505245930489, -0.015503881372215016, 0.0024803724495463413, -0.039561627622579774, 0.007130293545509229, 0.017555317820945826, -0.006912717023016766, 0.017629914900397593, -0.00023506034395621487, -0.15158245753894833, 0.022739854889716436, 0.016697443025346898, -0.007490849045381077, 0.006409182545765535, 0.001457762747265634, 0.015764973012941448, 0.012271315496045869, 0.012495108597046417, 0.006987314568129845, 0.03570741600279628, -0.01096585636109109, 0.008989018854457293, -0.02025326632732332, -0.00028906595297449134, -0.007242190096009503, -0.020576522821807972, 0.03881565310277161, 0.026705963060000202, -0.00503223415495172, 0.01731909156292911, -0.01751801834989732, 0.010344209686154123, -0.024306406596720266, 0.0022861076307978834, 0.0031952666379512964, -0.01344001269779066, 0.02742707499106652, -0.008659545781464556, 0.012277532074553954, -0.017766677764930208, -0.014832502069213374, 0.01342757954077449, -0.015976332956925826, -0.028173051373519928, -0.009175512484409334, 0.00561036617731603, -0.04189902016342411, -0.0008135808006138689, 0.011631019085584648, 0.027302745283550076, 0.026954622475033087, 0.009268760230707976, -0.007105427697138203, 0.0008283448835322497, 0.003972325680114472, -0.021235468967793446, -0.008647112624448387, 0.024567497306124075, -0.005411438924686509, 0.01465844066495488, 0.02782492856500294, 0.000928585523952857, 0.008156011304213324, 0.019121867665304413, 0.015466582832489133, -0.012781066551805186, 0.022901482205636137, -0.012184285259577933, -0.02996339618152431, -0.014360050484502564, -0.0005385019164519117, 0.01309188988927367, 0.014969264933745985, 0.031007762744430033, -0.015255221957182132, -0.016200126057926374, -0.0008936178519215214, -0.015429283361440626, 0.012321047192787921, -0.008715494056714693, -0.020539223350759465, 0.0027165982419017462, -0.01593903348587732, 0.013514609777242427, -0.01107153633308328, -0.011898327304819165, -0.006838119477903688, -0.00602065337392993, -0.0037454245226905387, -0.015864436406425552, 0.0063532342705153975, -0.012184285259577933, -0.01955702071028934, -0.01684663904689568, 0.02189441511377892, 0.013924897439517638, -0.030560176542428936, -0.0004339874656184923, -0.01733152471994528, 0.021782518563278647, -0.05833537434201245, -0.018649417011916226, 0.002108938170116002, -0.006325260132890329, 0.0248410230351893, -0.009076049090925228, -0.029714736766491424, -0.0031268854385156464, 0.010710981298872744, 0.022901482205636137, 0.010288261410903986, -0.01675960881042774, -0.008522782916931945, 0.017915871923833742, -0.01751801834989732, 0.02010407030577454, 0.0020219074679867547, 0.038964847261675144, -0.01069233156334849, 0.002816061868216507, 0.02358529466565395, 0.0022829993415438414, 0.02578592620461092, -0.007030829686363813, 0.014857368383245712, 0.004870605907709393, -0.01685907220391185, 0.0043888294552364565, -0.024542630992091738, 0.04242120530752222, 0.011506689378068206, -0.0056818554331750665, 0.050900473106220194, 0.021260335281825783, -0.010710981298872744, -0.10011006666056536, -0.002247254713614323, 0.012482675440030247, -0.007130293545509229, -0.0037205584414888564, 0.016411486001910752, 0.002962148902019278, 0.0012728226798639746, 0.00708677796161395, 0.012942694799047512, -0.015056295170213922, -0.013651372641775038, 0.00588389097505863, -0.0036055538345651965, 0.025810792518643256, -0.02501508350812517, -0.010294477989412071, 0.005877674396550545, -0.023349068407637234, 0.028993624835425103, -0.01621255921494254, -0.001835413372373402, -0.017256925777848268, -0.012942694799047512, -0.026780562002097212, 0.03028665267600896, -0.017356389171332372, 0.015566046225973237, 0.003931918385473235, -0.00743490077013094, 0.00115160149443223, 0.026208646092579675, -0.015043862013197752, 0.015168191720714194, -0.00818087761824566, 0.006138766037276977, 0.026556768901096667, 0.003167292500326228, 0.04455967106139834, -0.026283243172031442, 0.006365667427531567, 0.028197917687552265, 0.02409504479009064, 0.00828655759023785, 0.03535929133163405, -0.026283243172031442, -0.029341747643942095, 0.008572514613673997, -0.016709876182363068, -0.0012168744046138378, -0.0011414996707719207, -0.028446575239939906, -0.02973960308052376, -0.008336289286979904, 0.005206295559210214, -0.013390281001048606, -0.0012176514769273482, 0.003125331293888625, -0.02931688132990976, 0.0056259071579249295, -0.006577027371515945, -0.007546796854969903, -0.015503881372215016, 0.013999495450292028, 0.026830292767516643, -0.023659891745105716, -0.015976332956925826, -0.0002158281388908963, 0.009996086877637133, -0.021111139260277006, 0.003897727902170738, -0.015230356574472416, -0.03165427387075409, 0.010101766849629323, -0.009890406905644944, 0.03946216609174091, -0.02048949258534004, -0.005597933020299861, 0.012445376900304363, -0.025164279529673952, -0.012756200237772847, -8.251395475505145e-05, 0.029565540744942644, 0.009635531843426597, 0.013862732585759416, 0.030236920047944284, 0.00877144233196483, -0.01976838065427372, -0.0013528597311716272, -0.008087629871947019, 0.01404922714703408, 0.031181823217365904, -0.002677745324718186, -0.008305206394439482, 0.009038750551199345, 0.01026339509687165, 0.004646812806708846, -0.016349322079475155, -0.011307762591099996, 0.023436100506750414, 0.0004374842328216259, -0.00790735282050306, -0.03804480854364062, 0.03160454496797991, -0.00510993998931884, 0.007459766618501966, 0.004401262146591314, 0.00048643894456166365, 0.016610412788878964, 0.0007168369273963951, 0.033345157147919614, -0.0005645333732932037, -0.009896623484153029, 0.014882233765955426, -0.0006733216345394354, 0.014683306978987216, -0.014223287619969953, 0.006092142629788967, 0.034687915753922896, 0.028297381081036372, 0.002045219404561415, 0.02174521909223014, -0.010990722675123429, 0.010020953191669471, 0.0005431642339176471, 0.05719154252297737, 0.0046312718260999464, -0.018711580934351827, -0.00033394112238009464, 0.027451941305098856, -0.023958283788203277, -0.026258378720644352, 0.01792830508084991, -0.02591025591212736, 0.026407572879547887, 0.011537772270608627, 0.001858725192532735, -0.005380356497807398, -0.02794925827251938, 0.016709876182363068, -0.001390935576041677, 0.03322082557775793, -0.00351230678675852, -0.026134049013127908, -0.02576105989057858, -0.03292243725995086, 0.01863698385490006, -0.005256027255952267, -0.03182833806898046, 0.007043262843379982, 0.0035589301942465304, -0.014956831776729816, 0.012979993338773395, 0.01050583793339645, -0.03433979108276066, -0.02919255348503856, -0.025164279529673952, 0.014621142125228996, 0.027675734406099405, -0.00988419032713686, 0.007148942815372171, -0.01879861117081976, 0.04289365782355565, 0.01561577792271529, -0.005162779975314935, -0.002525441712407331, 0.006182281621172256, -0.00390083619142478, -0.00957958356817646, 0.016423919158926922, 0.005405222346178425, -0.0050602082925767875, -0.014633575282245164, -0.007217324247638477, -0.016535815709427196, 0.003972325680114472, 0.027078952182549527, 0.020613820430211233, -0.01787857431543048, 0.023809087766654496, 0.0010101766616798667, -0.00036521773002608704, 0.027650868092067064, 0.019606753338354016, -0.02392098431715477, 0.020041906383338942, 0.022627958339216162, 0.001948863951085369, -0.01295512795606368, 0.009952571759403166, 0.010487188197872196, -0.0008353384179385168, -0.032798105689789164, 0.023684758059138056, -0.010101766849629323, 0.029167687171006224, 0.01569037593348968, 0.031529946025882896, -0.008435752680464008, -0.02939148027200677, 2.1356981249752523e-05, 0.020688419372308246, 0.0022534710592917516, 0.014198422237260238, -0.03836806690077052, -0.011233164580325606, -0.006521079096265809, 0.022056042429698625, -0.005921189514784514, -0.02191927956516601, -0.015653076462441174, 0.01622499237195871, 0.005716046149308219, 0.020912212473308794, -0.0023809088232315807, -0.001059908474837247, -0.01897267350640088, -0.002859577219281131, 0.007559230011986071, 0.011394792827567932, -0.010238529714161934, 0.01879861117081976, -0.014894666922971596, -0.006695140500524303, 0.006881634596137656, 0.021086272946244666, 0.00903253397269126, -0.0043670714304581615, 0.007534364163615045, -0.01840075759688334, 0.009268760230707976, 0.01984297959637073, -0.013663805798791206, 0.02065111990125974, -0.015093593709939805, 0.004320448022970151, 0.007664909983978261, -0.04075519206967953, 0.020402460486226855, 0.008485484377206061, -0.006626759068257998, 0.04087951991455072, -0.0036210950480047516, -0.005647664717041914, 0.022603092025183822, -0.015217923417456248, 0.016423919158926922, -0.004696544503450899, -0.007888703084978807, -0.024045314024671215, -0.010853959810590817, -0.006925149714371624, -0.007204891090622308, 0.00034346008359760716, -0.06186633132995653, -0.031057493509849463, 0.01753045150691349, -0.020352729720807424, 0.010344209686154123, 0.01350217755154888, 0.0018447381237202008, 0.00979094351216084, 0.015764973012941448, 0.013054591349547786, -0.010313126793613701, -0.011127484608333417, -0.009250110495183723, 0.03227592427098155, -0.025586999417642708, -0.022130641371795635, -0.01189211072631108, 0.0048737141969634355, 0.02324960501415313, -0.02358529466565395, -0.0028766723445170514, 0.0026761911800911647, 0.037771282814575396, -0.012352130085328344, -0.006794603894008408, 0.00466857036582583, 0.014894666922971596, -0.015827136935377045, 0.017107731618944733, -0.016299589451410478, -0.02121060265376111, -0.020949510081712055, -0.004081113941360704, -0.008908204265174817, -0.007590312438865182, -0.030982896430397696]}), _DocumentWithState(metadata={'aapl:keywords': '[]', 'creationdate': \"D:20190823182446Z00'00'\", 'creator': 'Word', 'keywords': '', 'moddate': \"D:20190823182446Z00'00'\", 'page': 6.0, 'page_label': '7', 'producer': 'macOS Version 10.14.6 (Build 18G87) Quartz PDFContext', 'source': '/content/heart_disease.pdf', 'title': 'Microsoft Word - أمراض القلب-ar-en-T-C.docx', 'total_pages': 8.0}, page_content='• Shortness of breath. • Fainting.  Causes and Risk Factors of Heart Disease: Risk factors for developing heart disease include: • Advanced age. • Family history of heart disease. • Smoking. • Malnutrition. • High blood pressure. • High cholesterol. • Diabetes. • Obesity. • Inactivity. • Constant stress.  Complications of Heart Disease Include: • Heart failure. • Heart attack. • Stroke. • Aneurysm. • Sudden cardiac arrest.  Heart Disease Diagnosis:  Tests to diagnose heart disease can include: •', state={'embedded_doc': [-0.008394073203837346, 0.0030603393053143476, 0.02438096745719089, -0.032813196944677846, -0.022104394260221042, 0.032482521570681495, -0.01930636985894193, -0.008813777422822725, -0.03543316365597889, 0.0107088026844568, -0.011726266018438068, 0.02833635753010225, -0.011071274340612806, 0.0007030831354966147, -1.8270126770140154e-05, 0.0028091530069027444, 0.04235191767981258, -0.012921786111074885, 0.009920268670470507, -0.024571741424858774, -0.028081990998115043, 0.02785306260944259, -0.0013290616138906428, 0.0050745989952327404, 0.006196988383960353, 0.013379644751064833, 0.026428612265488278, -0.0347718129079862, -0.008336841572330493, -0.022829335709888016, 0.037493528467256176, -0.02392310881720094, -0.016190386361356283, -0.029353819932760997, -0.01158000554194218, 0.03634888093595879, -0.023274476209543107, -0.02584357222214977, -0.015147486746705303, -0.022791181288883446, 0.01217140651809316, 0.0022415992423715104, -0.008266890869166262, 0.0230201096775559, -0.02065450763559702, 0.017640272985980306, 0.0077517996663469405, -0.03558578506528725, -0.010549824067626057, 0.02420291162985786, 0.015885147268029653, 0.002712176022696315, -0.017742018108659156, 1.3066059327211751e-05, 0.007713644779681112, -0.00959595236664159, -0.005351221807144686, 0.018899383780291403, 0.012616547017748251, -0.01752580786032156, -0.011605442753934412, 0.0027296636984873723, -0.006727977262198245, -0.015503599332693881, -0.03601820556196244, 0.007548307092682939, 0.0014220641792424297, 0.03815487921524887, -0.0200313113086089, 0.006200167919044067, 0.012750088422586764, 0.03192291594536766, 0.012540237244416594, 0.04242822652182172, 0.006766132148864074, -0.005888569755550007, -0.008260531798998834, -0.015261951872364052, -0.011115787831784803, -0.00852125646983095, 0.00476300083173868, -0.015796120285685656, -0.016432034753008633, 0.03952845327257367, 0.018937538201295973, -0.008018883407346484, -0.013913812233063918, 0.0032256769923125197, -0.003894977276506385, -0.018238033032298717, 0.01248300468158722, 5.8424659293114916e-05, -0.0015571960501146885, 0.015872429127694796, 0.010492591504796683, 0.012489363751754648, 0.02031111412126582, 0.018873947499621693, -0.007834468509846027, -0.013290615906075798, -0.010670648263452232, 0.0037328191245919267, -0.017500371579651848, 0.003831385876340213, -0.016978922237987616, 0.016075923098342576, -0.02434281303618632, -0.009080861163822269, -0.006263759552040869, -0.026123373172161648, -0.008826495563157582, 0.029862552996735413, -0.008667516946326838, -0.003335372349684436, 0.03314387231867419, -0.025805415938500158, 0.01505845883303879, 0.020768972761255767, -0.005955340923630523, -0.022956518975881617, 0.020896156027249372, 0.002273394826039281, 0.02673385135881491, -0.012025146041597271, -0.019764226636286835, -0.03126156519737497, -0.04100377617786741, -0.020730818340251197, 0.010352691029790743, -0.015999612393688398, 0.004499096160161591, 0.01592330355167926, 0.0022479583125389387, -0.014104587132054324, -0.031490495448692465, -0.007141321479693676, -0.02450815072318449, -0.012533878174249165, -0.013634010351729519, -0.014269924819052496, -0.014066431779727235, 0.020425579246924567, -0.020603635074257595, -0.018301623733972996, -0.0039840054230035294, 0.019102875888294145, 0.01786920137465276, 0.0071985540425230496, 0.014257206678717639, -0.012362180485761045, 0.0074402015028528804, -0.005538816705390117, 0.00924619885082044, -0.021900900289573262, -0.024266504194177183, 0.023274476209543107, -0.014346234592384155, -0.014091868991719467, -0.008050679689506145, -0.00876290393016078, 0.013099841938407913, 0.016126795659682003, 0.02305826596120551, 0.004212934742998504, -0.02472436097152209, -0.002562736011116713, -0.005497482283640574, -0.012635624228250536, -0.007923496423512541, 0.0038758998331734702, -0.008845572773659867, 0.011910681847261045, -0.023007391537221044, 0.009354304906311759, 0.03734090705794782, 0.013443235452739113, -0.0028282304502356592, 0.016775428267339836, -0.03118525449272079, -0.020260241559926395, -0.027395203969452643, -0.0032161383870613776, 0.040673100803871064, 0.0107088026844568, -0.006365505606042239, 0.011103069691449948, 0.023427095756206422, -0.008495820189161236, 0.0007400456965060509, -0.02556376940949285, -0.015147486746705303, 0.007796313623180198, -0.00824145365717403, -0.007968010846007059, -0.6426299434429876, 0.005182704585062799, -0.014982149059707132, -0.004394170105415246, -0.00599985488046378, 0.012120533025431214, 0.017691145547319733, 0.010556183137793483, -0.0022431890099133675, 0.02607250061082222, -0.002751920676904001, 0.0041143677584195865, 0.006689822375532417, 0.01091865479394949, -0.011421026925111436, -0.01435895273271901, -0.004896542702238452, -0.012673778649255105, 0.0027662288176113444, 0.006127037680796123, -0.0005369504483121987, 0.008781981140663064, 0.0020237982951695353, 0.003831385876340213, 0.009716775631145246, 0.017792892532643625, -0.0075101522060171105, -0.014740501599377301, 0.0011295434590812838, 0.031388746600723536, 0.012966299602246881, 0.009500565382807647, 0.02019664899560707, 0.034822685469325626, 0.03833293690522693, 0.004352835683665703, -0.015936021692014118, 0.04143620039983269, 0.015185642099032393, 0.01234310327525876, -0.017220568766994928, 0.009411536537818614, 0.028921399436085803, -0.033372802569991686, 0.002745561606736573, 0.0011247740400403977, 0.024406403737860603, 0.013913812233063918, 0.013659446632399232, 0.012317666994589048, 0.005109574346814856, -0.0003127905182542819, -0.013341489398737744, 0.02322360364820368, 0.0036978437730098117, -0.012521160033914309, 0.040749409645880204, -0.018543272125625346, -0.01289634889908265, 0.021112366275586967, -0.00283299975286123, 0.027700443062779273, -0.008050679689506145, -0.007192194972355622, -0.0038059491300092407, 0.018924820060961117, -0.02197721099422744, 0.009042706742817699, 0.02558920569016256, -0.033576292815349386, 0.021023339293242974, 0.026886470905478226, -0.014829529513043815, 0.0020508248090423654, 0.04736292457638726, 0.018555990265960203, 0.023948545097870654, 0.0347718129079862, -0.04143620039983269, -0.0030380823268977186, 0.013646728492064376, 0.020400142966254853, -0.0261488113154764, -0.010556183137793483, 0.027344329545468175, 0.004702588733825593, 0.006292375367794295, 0.005325785060813713, 0.014816811372708958, -0.006111140005377553, 0.00858484810282775, 0.014231770398047927, -0.02145575978991817, -0.016635526861011374, -0.0007412380221624437, -0.001114440434603012, 0.004527712441576278, 0.013328771258402887, 0.011669034386931215, 0.024406403737860603, -0.0014904249984494875, -0.0010786701992499686, -0.03767158243194416, 0.013913812233063918, -0.0025738646167403423, -0.003386245609515751, -0.02965905902608763, -0.01189160370543624, 0.01836521443564728, -0.00606980558362801, -0.014130023412724036, -0.025372995441824964, -0.00876290393016078, -0.003891797741422671, -0.0010476693829378112, -0.015656218879357198, 0.0210742118545824, -0.006556280039371385, 0.028285483106117785, -0.006899674019363846, 0.023834081834856947, -0.005551534845724974, 0.005507020888891716, -0.030727395852730842, 0.007255786139691163, 0.0026120195034061715, -0.0173859064539931, -0.0003642598536023074, 0.004298783121581304, -0.03548403621731831, 0.009729494702802622, -0.018632299107969343, 0.03205009734871622, 0.008438587626331864, 0.007866263860683167, -0.0018743584000052486, 0.028488977076765568, 0.014460699718042902, 0.008635720664167176, -0.010429000803122401, -0.006476790730956012, -0.013303334977733174, 0.009157170937153927, -0.008546692750500661, -0.01140830878477658, 0.008565769961002946, 0.007898060142842828, -0.02137945094790903, -0.017894637655322475, -0.011014041777783432, -0.029608186464748207, -0.03296581462869612, -0.020260241559926395, 0.031210690773390504, 0.013570418718732718, -0.012158688377758303, 0.020616353214592452, -0.01158000554194218, 0.004766180366822395, -0.036552374906606566, 0.021582943055911772, 0.004991930151733655, -0.03250795785135121, -0.0055451757755575455, -0.025741825236825878, -0.004101649618084731, -0.0016947125722997327, -0.0036946642379260975, 0.00035551604481060743, -0.025131347050172614, 0.017296879471649106, -0.03146505544273267, 0.00994570495114022, 0.021773717023579657, 0.0029554132505680026, 0.024940573082504726, 0.0012185714891631133, -0.01463875554537593, -0.009710416560977818, -0.006568998179706241, 0.011363795293604583, -0.0379768215252708, -0.018594144686964773, -0.004066674266502615, 0.020807127182260337, 0.002341755761661654, 0.04225016883184365, 0.00246734879445214, -0.00020547992861046655, 0.023516124601195457, -0.009093579304157124, 0.009551437944147072, -0.027903935170782015, 0.005071419460149026, 0.0013696011518692574, 0.005983956739383949, -0.009856677037473706, -0.004842490140154052, 0.00477889850715725, 0.01303625030541111, 0.029608186464748207, -0.018187158608314248, 0.018123567906639968, -0.009748571913304907, 0.023045547820870652, -0.008495820189161236, 0.016012330534023254, 0.006632589812703042, -0.003914054719839299, 0.01940811498162078, -0.005519739029226573, 0.024088446504199112, 0.016368444051334353, -0.009328867694319527, -0.007764517806681797, 0.011885244635268811, 0.01258475073558859, -0.011122146901952231, 0.0016819943155495613, -0.004308321726832446, 0.0003664458130761896, -0.002534119962532656, 0.00866115787615941, -0.014180896905385982, 0.02129042210292, 0.020768972761255767, 0.007351173589186366, -0.0015540163986156594, 0.009615029577143875, -0.027395203969452643, -0.015630782598687484, -0.01804725720198579, 0.008998192320323182, 0.005767746025385091, -0.02249866033589167, 0.02093431044825394, -0.005745488814137833, -0.03095632610404834, -0.0023528841344546535, 0.022295168227888927, -0.011986991620592703, -0.016673683144660986, 0.00726850474568728, 0.009723134701312674, 0.019458989405605243, 0.0071985540425230496, 0.030371284198064785, 0.02024752341959154, 0.026861034624808516, 0.005821798587469491, 0.003949030071421414, -0.004410068246495077, -0.0023322169235798816, 0.012711934001582194, -0.01822531489196386, -0.029862552996735413, 0.02322360364820368, -0.006683462839703728, 0.027496949092131493, 0.012521160033914309, 0.049118046569047835, -0.010250944044466852, -0.0056723585758898885, 0.0007436226734752292, 0.01008560635746868, -0.004839310605070338, -0.009576875156139307, 0.004429145456997362, -0.0008839213470661808, -0.003821847038258441, -0.00956415608448193, 0.026988217890802118, -0.002570685081656628, -0.041461636680502394, 0.017360470173323386, 0.029124891544088545, -0.0011414668320605267, -0.00554835531064126, 0.021239549541580572, -0.0010134890315419399, -0.0015405032580945595, -5.418315733048105e-06, 0.002298831572370254, 0.02721714814211961, -0.010193711481637478, 0.003863181460007984, 0.010511669646621487, 0.024495432582849634, 0.008285968079668547, 0.051305592783673686, 0.0007789954669428085, 0.009646824927981015, 0.001185980788893784, -0.0057009748573045756, -0.004887004096987309, -0.00799344712667677, 0.03858729971192406, -0.004387811035247818, 0.03736634333861753, -0.009201685359648444, -0.007223990323192762, -0.012750088422586764, -0.009023628600992895, -0.017118821781671036, 0.013150715431069859, 0.01822531489196386, -0.003933131930341584, 0.018543272125625346, 0.025372995441824964, 0.009303431413649815, -0.018517833982310595, -0.028641596623428883, 0.024152039068518434, -0.020400142966254853, 0.02736976768878293, 0.007039575425692305, -0.007675489893015283, -0.003605636091428953, 0.01359585499940243, -0.018377934438627175, 0.005853594403967891, -0.01158000554194218, -0.0007491869762870439, -0.022905646414542194, 0.06277749320144707, 0.0008036371548798801, -0.014893121146040618, 0.005039623643650626, -0.025805415938500158, -0.010969527355288916, 0.014346234592384155, -0.01935724242028135, 0.022892928274207337, 0.021341296526904464, 0.030727395852730842, -0.036933922841942336, 0.03197378850670708, 0.017818328813313335, 0.009570515154649357, 0.0214176053689136, 0.006944187976197103, -0.013303334977733174, -0.009411536537818614, 0.0020683124848334226, -0.003201830246354034, -0.007796313623180198, 0.02635230342347914, 0.034822685469325626, 0.015503599332693881, 0.006613512602200758, 0.004050776591084045, 0.010632492911125143, 0.009513283523142504, 0.017780174392308768, -0.019484425686274957, 0.01794551207930694, -0.001079465083020897, 0.024495432582849634, 0.01001565565430445, 0.0405459194005225, -0.008298686220003404, 0.012209560939097728, 0.004448223133160906, 0.01453700949137456, 0.03439026497265043, 0.005077778530316455, -0.0010675417100416541, 0.017856483234317905, 0.003300396998102321, -0.0010500540342505969, 0.006581716785702357, 0.013812066179062547, -0.0013958326655558436, -0.012228639080922534, 0.02009490387292822, 0.003009466045483032, -0.004206575672831075, -0.024711642831187233, 0.03505161572064312, -0.01658465429967195, 0.0021334936525414516, -0.013799348038727692, -0.02062907135492731, -0.014040995499057522, -0.005077778530316455, -0.003332192814600722, 0.01547816305202417, 0.015172923958697536, 0.008648439735824553, -0.005643742760136462, 0.0017757916482569619, 0.004985571081566226, -0.02181187330722927, -0.015045740692703933, 0.015325543505360853, 0.013443235452739113, 0.006638948882870471, 0.002640635551990228, -0.014931276498367707, 0.014346234592384155, -0.004775718972073536, -0.017017076658992186, 0.015732527721366334, -0.006184270243625497, 0.0034402984044307806, 0.0066071530663720695, -0.015109332325700735, -0.026174247596146113, 0.003561122134595696, -0.0028711546395270592, -0.0017312776914237046, -0.023732334849533056, 0.006212886059378924, 0.012044223252099556, -0.010524387786956343, 0.005026905503315769, 0.016075923098342576, -0.0017360469940492758, -0.008781981140663064, 0.004123906363670729, 0.019077439607624435, 0.006222425130291326, -0.03197378850670708, -0.013748474546065747, 0.0010850293858327116, -0.0189884107626354, -0.004247910094580618, -0.019713354074947412, -0.009449691890145702, -0.002861616034275917, -0.006292375367794295, -0.028743341746107733, 0.004565867328242107, -0.018136286046974825, 0.022244293803904462, -0.00893460068732638, 0.023274476209543107, 0.01012376170979577, 0.01638116219166921, 0.020768972761255767, 0.011872526494933956, 0.01154821019110504, 0.004203395672086102, -0.003936311931086558, -0.004403709176327648, -0.005449788791723603, 0.033042127195995336, 0.001709020596591761, -0.01116030225427932, 0.0012686497488081851, 0.007141321479693676, -0.031693985694050165, -0.05295897337894549, 0.01884851121895198, 0.0036247135347618675, 0.021544788634907205, -0.006406840027791782, -0.019319087999276785, -0.044183348514482294, 0.011083992480947663, -0.007847186650180884, 0.020463733667929133, -0.02219342124256504, -0.011338358081612349, -0.021277703962585142, -0.004371913359829248, 0.007313018702520537, -0.020005875027939185, 0.05906375152018806, -0.0336017290960191, -0.012597468875923447, -0.021163238836926394, -0.002189136214998338, 0.002389449253578625, -0.00646725212570487, 0.003071467678107347, -0.050924044848337915, -0.010842345020617832, -0.021239549541580572, -0.014994867200041988, -0.00148645046317953, -0.004896542702238452, 0.01043535987328983, 0.024559023284523918, -0.0005421172510308915, 0.014397108085046099, 0.03716285309325983, -0.0034752735231822654, -0.012959940532079453, 0.014397108085046099, 0.00563420368922406, -0.01147190041777338, -0.008877369055819527, 0.02137945094790903, 0.00855305182066809, 0.015376416066700278, -0.014371670873053867, 0.00020528119311582002, 0.0007126218571630719, 0.00585995347413532, 0.0007444176154538153, -0.021443041649583314, -0.022447787774552246, -0.04906717400770841, 0.017500371579651848, 0.008203299236169461, -0.009335226764486955, 0.03947758071123424, -0.05033900294235436, -0.0058822106853825785, 0.02708996487612601, -0.009793085404476903, -0.012457568400917508, -0.020400142966254853, -0.014587882052713984, 0.014168178765051125, 0.01658465429967195, -0.002669251833404915, -0.023694180428528486, -0.011675393457098643, -0.01505845883303879, -0.010378127310460455, -0.015567190965690684, -0.020387422963274955, -0.015630782598687484, -0.000998386007063668, 0.01241305397842299, 0.007491074529853566, -0.02117595883990629, 0.00477889850715725, -0.03922321417924704, -0.009176248147656212, 0.0036151749295107254, -0.00886464998416215, -0.00542435204539263, -0.010524387786956343, 0.00606980558362801, -0.03825662433792772, 0.0011565697401234836, -0.0002527760659534598, -0.030549340025397814, 0.026784725782799376, -0.022333322648893497, -0.0018648196783387912, -0.012673778649255105, -0.023376223194867, -0.028921399436085803, -0.015020304412034221, 0.0522976226309528, -0.016839020831659158, -0.022727590587209166, -0.023490688320525744, 0.015834274706690226, -0.0046517157068249075, 0.010079247287301252, 0.031083507507396902, -0.010206430553294855, -0.00980580354481176, 0.01393924944505615, 0.01564350073902234, 0.026657542516805775, -0.017067949220331613, -0.030752832133400555, 0.034517446375998996, 0.004966493405402682, -0.01255295538475145, 0.008044320619338716, -0.009271636062812673, -0.017309597611983963, -0.0030619290728562043, 0.011401949714609151, -0.0063050939737904115, -0.007872623862173116, -0.05682533274422278, 0.0005107189346256125, -0.0095577970143145, -0.04545518117441833, 0.021112366275586967, 0.009640465857813588, -0.011713547878103211, -0.009996578443802166, 0.0015683245393230028, -0.004282884980501473, -0.011395590644441723, 0.003041261861981433, 0.018861229359286837, -0.02129042210292, -0.005818619052385777, 0.010339971958133366, 0.003863181460007984, -0.011255689238113263, 0.024800671676176268, -0.021392169088243887, 0.04080028593250971, 0.004006262168589528, -0.018276187453303283, 0.014371670873053867, -0.012095096744761502, -0.004289244516330161, 0.01345595452439649, -0.024406403737860603, -0.019522580107279527, 0.004305142191748732, -0.01992956618593005, 0.02263856174222013, 0.022269731947219217, -0.011090351551115091, 0.015147486746705303, -0.0221171124005559, -0.023274476209543107, 0.005316246455562571, -0.02528396659683593, 0.00928435420314753, -0.02131585838358971, -0.022066237976571434, -0.010562542207960912, -0.01692804781400315, -0.009150811866986498, 0.010149197990465481, -0.0057168725327231456, -0.009227121640318156, 0.024559023284523918, -0.01696620223500772, 0.006658026559034015, -0.0010103093800429108, 0.010289099396793941, -0.008508538329496093, 0.01393924944505615, -0.020718100199916344, 0.0025722748491984852, -0.006893314949196418, 0.00431150126191616, -0.021570224915576915, -0.02520765775482679, 0.0004320245099811689, 0.02871790546543802, 0.0013441646383689147, -0.007230349859021451, 0.03446657381465957, 0.0022257013341223097, -0.01272465214191705, 0.003456196079849351, -0.023872236255861514, 0.02396126510085055, -0.034364828691980716, 0.011249330167945834, 0.03021866465140147, 0.0013489339409944858, 0.018619580967634487, -0.012521160033914309, 0.0336017290960191, 0.016839020831659158, 0.008196940166002033, -0.020718100199916344, -0.016457471033678346, 0.008902805336489239, -0.013634010351729519, -0.006336889324627552, -0.03540772737530918, -0.0105371059272912, -0.006956906116531959, 0.020985183009593365, -0.008871009054329578, -0.0026263276441135146, -0.012018786971429843, 0.01158000554194218, -0.009602311436809018, 0.018581426546629917, 0.0013656267330146147, 0.020285677840596105, 0.01638116219166921, 0.001167698229331798, -0.004273346375250331, -0.008037961549171288, 0.016610090580341665, 0.05239936775363165, 0.030269537212740893, 0.001074695780395326, -0.020768972761255767, -0.0004020172983826722, -0.033245617441353036, 0.012387617697753277, 0.004960134335235253, 0.02169740818157052, 0.004324219867912277, 0.03080370655738502, -0.008374995993335061, 0.03222815503869429, -0.014791375092039247, 0.01700435851865733, -0.03988456865252981, -0.002297241804828397, 0.007281222886022136, 0.019548016387949237, 0.01429536109972221, -0.001923641892294707, 0.0021398527227088795, 0.00023330119528699542, 0.0035515832965139237, 0.009506924452975076, -0.003716921216342726, 0.005850414868884177, 0.0013839092925766008, 0.008902805336489239, -0.007955292705672202, -0.002012669922376536, 0.0004948210845840696, -0.008374995993335061, -0.02635230342347914, -0.025029600064848723, -0.006651667488866587, -0.0008203298886923515, -0.020438297387259424, -0.015897867271009548, 0.003701023308093526, 0.0027026371846145428, 0.009436973749810847, 0.004476838948914333, -0.027395203969452643, -0.020234805279256682, -0.016152231940351716, -0.01906472146728958, 0.006095241864297722, -0.0030571597702306334, -0.007319377772687965, 0.030829142838054734, -0.027064528595456296, 0.022956518975881617, -0.0189884107626354, -8.718986136155719e-05, 0.02392310881720094, -0.0029776704618152613, 0.0028806934776088315, -0.010950450144786631, -0.03189747966469795, 0.0030508004672325753, -0.0026915088118215436, -0.016610090580341665, -0.004925158983653139, -0.008362277853000205, -0.048176893008398225, -0.0428352107378272, 0.027776751904788413, -0.01755124414099127, 0.021951774713557727, -0.0014808862767830304, -0.003847283784589414, -0.029582750184078493, 0.005872672080131436, -0.03698479540328176, 0.002852077196194145, -0.02434281303618632, -0.0003515415677483073, 0.003748716800010497, -0.00018362036297547344, -0.02181187330722927, -0.008317763430505687, -0.010142838920298053, -0.013328771258402887, 0.013557700578397862, 0.18853597730027907, -0.013659446632399232, -0.014905839286375473, 0.01967519965394284, -0.003313115371267807, 0.005793182306054804, 0.008298686220003404, -0.014727783459042444, -0.01279460284508128, 0.016851738971994015, -0.001491219882220416, 0.00308577581881469, -0.0012034684646848415, 0.006238322805709896, -0.011929759057763329, -0.02691190904879298, -0.023185449227199114, 0.019115594028629, -0.0016899431532588465, -0.02953187576009403, -0.029862552996735413, -0.0024705283295358544, -0.01449885413904747, 0.002082620392710136, 0.03344911141200082, 0.004445043598077192, -0.0017392265291329898, 0.008635720664167176, 0.03288950578668698, -0.013812066179062547, -0.004219293813165932, -0.0177292999683243, -0.009392459327316329, 0.026886470905478226, -0.009049065812985127, -0.007503793135849682, 0.027268020703459038, 0.001448295576513701, -0.00928435420314753, 0.00615565396221081, -0.00563420368922406, 0.011878885565101385, -0.030091481385407865, -0.00030027095334301396, -0.0075546661628503676, 0.04268259305380893, 0.016126795659682003, -0.022346040789228354, -0.004375092894912962, 0.0006017342323424207, -0.022053519836236577, -0.01961160708962352, -0.0117517032304303, 0.021621097476916342, -0.015668937019692054, -0.0015834274473859595, 0.014091868991719467, 0.01672455570600041, -0.00504280317873434, -0.004286064981246448, 0.02059091693392274, 0.011255689238113263, -0.01884851121895198, 0.029709933450072095, -0.040215244026526153, 0.03736634333861753, -0.03838380946656636, -0.011103069691449948, 0.0012527518405589847, 0.005522918564310287, 0.0005536431821246702, -0.03751896474792589, -0.007745440596179512, -0.012076019534259217, -0.011573646471774751, -0.013201587992409284, 0.021277703962585142, -0.008285968079668547, -0.015376416066700278, 0.009010910460658038, -0.007796313623180198, -0.009354304906311759, -0.040469610558513364, -0.001318728008453257, -0.0046676133822434775, -0.033118436038004476, 0.008667516946326838, 0.010944091074619203, -0.023185449227199114, 0.0016255568693217463, 0.003036492559355862, -0.006362326070958525, -0.007382968940023507, 0.010670648263452232, 0.012769166564411568, 0.013570418718732718, -0.006012573020798636, 0.010409922661297597, -0.005297169245060286, -0.005646922295220176, -0.005653281365387604, 0.06527027850939955, -0.01964976337327313, 0.005017366432403367, -0.008152425743507516, -0.003602456556345239, -0.028209174264108648, 0.022969237116216474, 0.018594144686964773, 0.0035833791130123246, -0.010829626880282975, -0.017474935298982135, -0.004092111012833588, -0.03507705200131283, 0.003332192814600722, 0.03372891422465774, 0.004572226398409535, -0.02973536973074181, -0.019662481513607985, -0.043165886111823544, -0.004022160309669358, 0.015172923958697536, 0.020997901149928222, 0.03355085653467967, 0.005348042272060972, -0.005383017623643087, 0.024533587003854204, 0.0023687820427038537, 0.00438145196508039, -0.047490105979735825, 0.02871790546543802, -0.007758158736514369, -0.01613951380001686, -0.0018616401432550772, 0.005522918564310287, 0.013201587992409284, 0.006727977262198245, -0.003701023308093526, 0.014409826225380956, 0.013926531304721296, 0.012750088422586764, -0.0196879177942777, 0.010727879894959085, 0.016673683144660986, 0.011077633410780234, -0.02159566119624663, -0.0022113931934149666, -0.00617155163762938, -0.013710320125061176, 0.020997901149928222, -0.031134381931381367, -0.00023191011958404175, 0.00020488375123035578, 0.0055165594941428584, 0.022549532897231096, -0.0030969044244383193, 0.01602504867435811, -0.020044029448943755, -0.008120630392670374, 0.005847235333800463, -0.030854579118724447, 0.029226636666767395, 0.020603635074257595, -0.001131133226623141, 0.01766570926665002, 0.005824978122553205, -0.15689285671698816, 0.02983711485342066, 0.013379644751064833, -0.02757325979678567, 0.016470189174013203, -0.0018950257272953351, 0.028921399436085803, 0.0035801995779286104, 0.004390990570331532, 0.007491074529853566, 0.01300445495457397, -0.0200313113086089, 0.02907401898274912, -0.00022952543916742742, 0.002963362321107918, -0.008037961549171288, -0.012928145181242311, 0.036501502345267146, 0.03774789499924339, -0.006562639109538812, 0.0025516076383237138, -0.01435895273271901, 0.013405081031734545, -0.024915136801835016, -0.00841315134566215, -0.007688208033350139, -0.021468477930253027, 0.0194717075459401, -0.030574776306067527, -0.0007650848263285869, -0.015134768606370447, -0.026275992718824963, 0.026606669955466348, -0.025258530316166216, -0.028285483106117785, -0.015236515591694338, 0.016571936159337095, -0.03970651096255174, -0.015554472825355827, 0.014333516452049298, 0.023147292943549502, 0.044921011829774204, 0.010905936653614634, -0.011033118988285717, 0.007828109439678599, -0.016279415206345318, -0.0034975305015988944, -0.010422640801632452, 0.01530010629336862, 0.018873947499621693, 0.007192194972355622, -0.003526146783013581, 0.014765937880047014, 0.011083992480947663, -0.010925013864116918, -0.007332095913022822, -0.012540237244416594, -0.0021764178418328516, 0.0050587013198141705, -0.020921592307919082, -0.0063241711842926965, -0.015452725840031937, 0.022295168227888927, 0.019598888949288663, 0.02059091693392274, -0.013608574071059806, -0.014180896905385982, 0.0008457665186080093, -0.016902611533333438, 0.02663210623613606, 0.0044959166250778775, -0.02607250061082222, 0.0075801029091813405, -0.001856870840629506, 0.011306562730775209, -0.004661254312076049, -0.014931276498367707, -0.004642177101573765, -0.016406598472338923, 0.011014041777783432, 0.010409922661297597, 0.010282740326626513, -0.020044029448943755, -0.02274030872754402, -0.0008767673349201666, 0.01648290731434806, 0.01189160370543624, -0.017843765093983048, -0.011376513433939438, -0.014486135998712613, 0.03205009734871622, -0.04057135568119221, -0.022727590587209166, 0.014651473685710787, 0.002743971839194716, 0.008394073203837346, 0.013239743344736373, -0.03151593172936218, 0.006893314949196418, 0.0009165119891278527, 0.015999612393688398, -0.00460720174999165, -0.034822685469325626, -0.007497433600020994, 0.0398591323718601, -0.006734336332365674, 0.008228735516839173, -0.0027948448661954013, 0.023770489270537622, -0.016953484094672865, 0.009023628600992895, 0.015033022552369078, -0.005462506932058459, 0.032253591319364006, -0.02083256346293005, 0.013430517312404258, 0.00983759982697142, -0.020438297387259424, 0.014346234592384155, -0.021023339293242974, 0.05611310943489066, 0.02332534877088253, -0.0170425129396619, 0.040215244026526153, 0.009589593296474162, -0.002648584622530143, -0.10551095881659542, -0.013659446632399232, 0.016050486817672863, 0.015020304412034221, 0.014219051326390552, 0.014791375092039247, -0.0015635551202821166, 0.008890087196154384, 0.01856870840629506, 0.024838826097180838, 0.0007372635451001436, -0.014460699718042902, 0.00484884921032148, 0.007669130822847855, 0.030701959572061132, -0.011242971097778406, -0.005697795322220861, -0.014524290419717183, -0.019980438747269475, 0.03876535740190213, -0.02458446142783867, -0.0018028180457144766, -0.016228542645005894, -0.021264985822250285, -0.022574971040545847, 0.01015555706063291, -0.011681752527266071, 0.007122244269191392, 0.0030603393053143476, -0.0005325785293644344, 0.0012082378837257276, 0.011115787831784803, 0.0015023483714287304, 0.0029856192995245463, -0.009894832389800795, 0.009487846311150272, 0.015974176113018688, -0.031439619162062955, 0.024609897708508383, -0.011745344160262872, 0.012979017742581738, 0.02298195525655133, 0.015325543505360853, -0.003602456556345239, 0.0194717075459401, -0.016877175252663728, -0.03589102415861388, 0.030371284198064785, -0.025220375895161646, 0.005398915299061657, 0.011389231574274294, -0.018339778154977567, -0.033576292815349386, -0.017780174392308768, 0.015274670012698907, -0.013824784319397404, 0.004801155718404509, 0.01102040084795086, -0.0007817775601410583, -0.0022559071502482237, 0.008991833250155755, 0.003968107281923699, 0.0071731172961920775, 0.015529035613363594, 0.014753219739712158, -0.039808256085230594, -0.01989140990228044, -0.031490495448692465, 0.021188676980241145, -0.021633817479896237, -0.00019842524783198964, -0.00386000192492427, -0.025652796391836843, 0.02191361842990812, -0.010734238965126514, 0.024355531176521176, -0.03011691766607758, -0.004565867328242107, 0.004775718972073536, -0.016406598472338923, -0.01839065257896203, -0.007713644779681112, 0.01654649987866738, -0.0016883533857169895, 0.016088641238677433, 0.030294973493410607, 0.016228542645005894, -0.012921786111074885, -0.00883285463332501, -0.017080667360666466, 0.013099841938407913, 0.025436586143499244, -0.00459130360891182, -0.015910585411344404, 0.0006557869690497927, 0.000445140266824462, -0.0018648196783387912, -0.017462217158647278, 0.004530891976659992, 0.005014186897319653, 0.007211272182857906, -0.018861229359286837, -0.0377733312799131, 0.00970405749081039, -0.00566599950572246, 0.002743971839194716, -0.010041092866296682, -0.004937877123987995, 0.00772000384984854, -0.0035865586480960387, 0.019217341013952893, -0.0012050582322266985, -0.019713354074947412, 0.01957345266861895, 0.006390942352373212, 0.0032749604846019783, -0.013862939671724493, 0.001596145820551446, 0.017233286907329785, 0.028209174264108648, 0.012928145181242311, 0.006483149801123441, 0.0016080691935306888, 0.025055038208163474, -0.0042701668401666166, 0.0437509280178071, 0.0024323736757006554, -0.017080667360666466, 0.018466961420971168, 0.03736634333861753, -0.011904322777093617, -0.006702540515867272, 0.02691190904879298, -0.006384583282205784, 0.021430323509248457, -0.01345595452439649, -0.016902611533333438, -0.0157834021453508, -0.034135898440663226, 0.013061686586080824, 0.004925158983653139, 0.014651473685710787, 0.009551437944147072, -0.009354304906311759, -0.012820039125750993, -0.02207895611690629, -0.001018258334167511, -0.01133199901144492, -0.0416651269258601, 0.013519545226070772, -0.002934746039693231, -0.006855160062530588, 0.007936214563847398, 0.008826495563157582, -0.018059975342320646, -0.025334839158175353, -0.03235533644204285, 0.014066431779727235, 0.030447593040073925, -0.010581619418463197, -0.0014761168577421442, -0.035560348784617536, 0.0391469053372379, 0.011554569261272468, -0.0034307595663490083, -0.0035770200428448962, 0.014244488538382784, -0.014486135998712613, -0.011707188807935783, 0.017614836705310593, 0.016177668221021426, -0.013150715431069859, -0.018466961420971168, 0.01022550776379714, -0.023630587864209164, -0.003168444662313776, 0.021939054710577832, 0.028285483106117785, -0.0157834021453508, 0.032558830412690636, -0.00028536670801513166, 0.012184124658428016, 0.02496600936317444, 0.023935826957535798, -0.03858729971192406, 0.008292327149835976, 0.023452532036876136, 0.004073033336670044, -0.013544982438063005, 0.001193929743018384, 0.004438684527909764, -0.001632710823260103, -0.04092746733585827, 0.012578391665421162, -0.00792985549367997, 0.021684690041235664, 0.021150520696591537, 0.031439619162062955, -0.022333322648893497, -0.0056310241541403456, 0.0014387568548472438, 0.009169889077488783, -0.009767649123807192, -0.001818715953963677, -0.041156397587175764, -0.010409922661297597, 0.006340069325372527, 0.004111188223335872, -0.004899722237322166, -0.0053702994833082305, -0.02001859316827404, -0.010161916130800338, 0.01345595452439649, 0.030549340025397814, -0.0055865101973070885, 0.0012972659138075569, -0.02434281303618632, -0.001858460608171363, -0.02673385135881491, 0.014854966725036048, -0.0008433818090875662, 0.024393685597525746, -0.005265373428561886, 0.014905839286375473, 0.002740792071280372, 0.02528396659683593, 0.028514413357435278, -0.007878982932340545, 0.014486135998712613, -0.002739202303738515, 0.00698870193303036, -0.0017185593182582183, -0.004003082633505814, 0.022447787774552246, -0.012489363751754648, 0.004750282691403824, 0.00924619885082044, -0.0416651269258601, 0.027547823516115958, -0.008146066673340087, -0.009373382116814044, 0.05448516884557865, 0.007020497749528761, -0.008705671367331407, 0.015122050466035592, -0.0007670720357559082, -0.003046031164607004, -0.0024625794918265694, -0.0108804994416224, -0.03322018116068333, -0.0033290132795170077, 0.008508538329496093, -0.025881726643154336, -0.00782175036951117, -0.05743581093087604, -0.014791375092039247, 0.007065011706362018, -0.0007420329059333723, 0.01133199901144492, 0.025894444783489193, -0.010530746857123772, 0.006413199097959211, 0.010727879894959085, 0.03393240447001544, -0.00956415608448193, -0.042224732551173934, -0.016075923098342576, 0.03764614615127446, -0.017233286907329785, -0.02663210623613606, -0.015249233732029195, -0.01297265867241431, 0.04713399432506977, -0.03128700147804468, 0.0010540285695205545, 0.0238467999751918, 0.02232060450855864, -0.008533974610165806, -0.02045101552759428, 0.004982391546482512, 0.002214572728498681, -0.020222085276276783, 0.024393685597525746, -0.025271248456501073, -0.025131347050172614, -0.032482521570681495, -0.010136479850130624, -0.004082571941921186, -0.009068143023487412, -0.02207895611690629]}), _DocumentWithState(metadata={'aapl:keywords': '[]', 'creationdate': \"D:20190823182446Z00'00'\", 'creator': 'Word', 'keywords': '', 'moddate': \"D:20190823182446Z00'00'\", 'page': 0.0, 'page_label': '1', 'producer': 'macOS Version 10.14.6 (Build 18G87) Quartz PDFContext', 'source': '/content/heart_disease.pdf', 'title': 'Microsoft Word - أمراض القلب-ar-en-T-C.docx', 'total_pages': 8.0}, page_content='vessels supplying the arms and legs. • Rheumatic heart disease - damage to the heart muscle and heart valves resulting from rheumatic fever, which is caused by an infection from streptococcal bacteria. • Congenital heart disease - heart defects that are observed at birth.', state={'embedded_doc': [-0.01706499644546952, 0.004574420498572719, 0.01027238298836081, -0.024615197061814864, -0.018464608531008963, 0.04417124489417403, 0.0006195531016048562, 0.010413628304509362, -0.02075021387863271, 0.011492228392558696, -0.018695736722166994, 0.02366500214529061, -0.0065871655551976195, -0.0001249940278962583, -0.0010103851317149466, 0.01145370702736569, 0.03656968183668962, 0.013090867842036195, 0.02930197185264138, -0.024358388581409894, -0.004921113250971063, 0.008603120415147738, 0.012384641261293442, 0.0003976535606681266, -0.0014164652992267053, 0.01750157253853864, 0.019941263346934412, -0.02405021579722066, -0.017540093903731648, 0.0038232524803252254, 0.02462803813776093, -0.006500492483513358, -0.02940469673491952, -0.022355273866083245, 0.002381908760606263, 0.005726853513682845, 0.006612846310105856, -0.009630358993380597, 0.000962233367016028, -0.0003288366206911045, 0.015498457823211994, 0.024486791890289784, -0.003974128137772028, 0.01178113956282883, -0.012750595161949586, 0.015036200509573336, -0.013572385838271354, 6.470397201295025e-05, -0.012731334479353084, 0.026297299779651406, 0.04763817521212526, 0.0001590012433652859, -0.01132530185584061, 0.0015585130662065607, -0.002216587591212084, 0.004179575574021821, -0.011922383947654784, 0.01076674112921944, 0.0077235476910364614, -0.0297385479457105, 0.0013851665735920642, 0.022958776495870453, -0.025526870613146114, -0.022766167807260235, -0.028557224838028215, 0.007749228911605997, 5.833389280710074e-05, 0.03135644714646191, 0.011813240390048801, 0.01831052307023694, 0.024281345851023883, 0.030046720729899733, 0.007010901503643271, 0.0136751097892269, 0.00503346754322486, -0.040421825806570895, -0.012326859213503934, -0.027838158112661993, -0.018400405013923826, 0.009604677772811062, 0.0007720337771295919, -0.03169030021989808, -0.015113243239959346, 0.009771604309529149, 0.005572767587249527, -0.020711692513439708, -0.006237262533812759, 0.015459936458018988, 0.00665136814096016, -0.011710516439093257, 0.019440483736780156, 0.0057814252924858365, -0.02670819558347359, -0.009399230802222566, -0.0032695069243531814, 0.013931919200954466, 0.006799033529420445, 0.022355273866083245, -0.015293009921300902, -0.017154880251801598, -0.021379396797666858, -0.009932110308274202, -0.01366226964460343, -0.007325492963160345, -0.02475644330928601, 0.016063439087806195, -0.015652543283984015, -0.008956234171180412, 0.0022807899441439758, -0.029969677999513722, -0.01864437428102792, 0.025963448568860424, -0.00589698985372615, -0.014894955193424786, 0.03680081002784765, -0.007261290843059102, 0.040909764340779094, 0.007595142985172679, 0.006362456970690026, -0.026579790411948506, 0.005707592831086343, 0.011819660928021836, 0.009636779531353631, -0.012596509701177566, 0.01698795371508351, -0.010670437716236927, -0.04024205819390675, 0.004872961544479806, -0.018618693991780982, -0.023100020880696407, -0.003373835776971336, 0.014586783340558148, -0.007434636986427625, -0.0195817299842513, 0.01172977712168976, 0.0002899139427709537, -0.0252443818434942, 0.00846829563697222, -0.010246701767791275, -0.009482693139259014, -0.006349616826066555, 0.007222769012204799, -0.02930197185264138, -0.00137312864696925, 0.012872579795501634, 0.008243587052464627, 0.023729203799730553, 0.015357212507063444, -0.009245144410127951, -0.01706499644546952, -0.00547004410195528, -0.010009153038660212, 0.009508374359828549, -0.03672376729746164, -0.0169109109846975, 0.017784063170835744, -0.008275688811007193, 0.014163048323435092, 0.011338142931786675, -0.006882496332118191, -0.0011524328986948018, 0.0006408201441102692, 0.025912086127721355, -0.01974865652096939, 0.005582397928547778, 0.003150732326957001, -0.013431140522122804, 0.00388424479710125, 0.0017703810404293865, -0.00943133162944254, -0.026887961333492548, 0.011826080534672273, -0.01129962156659367, 0.0011307646307737364, 0.017938148631607764, 0.021161107819809705, 0.00565623085560857, 0.004651463228958729, -0.04270743301683984, -0.020994183145736808, -0.011819660928021836, -0.0021588055434225767, 0.021636207140717022, 0.015857991185895107, 0.003791151420274604, 0.01584515010994904, 0.015857991185895107, 0.019157994967128247, 0.0144840603209252, 0.0036627464815801726, -0.00533842912710498, -0.00651975316610986, -0.005990083463383444, -0.02922492912225537, -0.6541453150221913, -0.014984838999756861, -0.005595238538832546, -0.0033000030827411934, 0.010490671034895371, 0.007344753645756847, 0.030560339553354864, 0.0001271006796071663, -0.01178113956282883, 0.028891076048819197, -0.011768298486882765, 0.025937766416968294, 0.004677144449528265, -0.006211581313243224, -0.007049422868836276, -0.025526870613146114, -0.006288624509290531, -0.020172391538092443, 0.0007836704783367537, 0.00929008631329399, 0.0033609951666865685, 0.0043079807455469014, 0.008269268273034161, -0.004359342721024674, 0.01990274198174141, 0.009335028216460026, -0.0005537456141797065, -0.010818103570358511, 0.008654482856286809, 0.015267328700731367, -0.021636207140717022, 0.007665765643246954, 0.004911482909672812, 0.018233480339850932, 0.0352856338467292, 0.028172009323452974, -0.021726089084403905, 0.0453525717271467, -0.007550201547667938, 0.019003907643711033, -0.02049340353558255, 0.02135371650841992, 0.011460127565338723, -0.01899106843041016, 0.01373931237498944, 0.01579378953145516, 0.054597714274629464, 0.01617900318338521, 0.005402631247206222, -0.011806819852075769, 0.002162015579578444, -0.0015866016392700097, 0.0012383036359630833, 0.01362374734808783, 0.02226539005975117, -0.0158194698207021, 0.013110128524632697, -0.012236976338494455, -0.017861105901221756, 0.023523755897819465, 0.0011668785270575032, 0.039600034198926534, -0.008892031585417872, -0.013315576426543789, 0.004590470912182705, -0.003637065493841286, -0.013649428568657366, 0.012923941305318109, 0.0017816163998055717, -0.037596923208890264, 0.012468104529652486, 0.023613639704151538, 0.017360326291067495, 0.00215559527443606, 0.023125701169943346, 0.028377457225364066, 0.018631535067727047, 0.012403901943889944, -0.022920255130677445, -0.002357832907360635, -0.019722974369077256, 0.027992243573434012, -0.0126221909217471, -0.0019228617159541223, 0.024666559502953933, -0.00426624911136738, -0.021019863434983747, 0.011132695029875584, -0.008006038323333563, -0.016243204837825157, 0.002489447882210934, 0.027992243573434012, -0.004872961544479806, -0.046610937565215, -0.010407207766536329, 0.019517528329811358, -0.0026210626242305847, 0.012224135262548388, -0.01479223124246924, 0.021520643045138007, -0.0174758922492917, 0.004076852088727573, -0.0010376711375317668, 0.011254679663427632, 0.010375106939316356, 0.024294185064324757, -0.03379613981750287, -0.008789307634462326, 0.024846325252972895, -0.04242494052189755, -0.032537773979434574, -0.002836140634609278, -0.010509931717491873, 0.010869465080174985, -0.008006038323333563, -0.01594787499222718, -0.00949553421520508, -0.013341257647113323, 0.01644865273973625, -0.021623366064770954, 0.021828813966682046, -0.008712264904076316, 0.004484537157901941, -0.024769282522586884, 0.0028810823049446673, 0.009912849625677699, -0.01361090720346436, -0.004057591406131071, 0.017077835658770395, -0.04237357994340367, 0.003136286815009624, -0.01373931237498944, 0.032512091827542444, -0.01940196237158715, 0.024088737162413665, 0.0005063963585197547, -0.0008546943618266813, 0.008359151148043642, -0.010721799226053402, -0.00862238109774424, 0.0025889615641799635, 0.0001860866219223643, 0.02145643952805287, -0.006766932236539175, 0.006831134822301715, 0.004699615401111283, -0.012224135262548388, -0.024846325252972895, -0.009720241868390078, -0.012314019068880465, -0.0024493213825246708, -0.028582905127275154, -0.01477939109784577, 0.012095731022345903, 0.008744365731296288, -0.012262656627741394, -0.0025231540767548136, 0.002767123111028261, 0.010432888987105864, -0.03502882722896942, 0.007383275010949853, 0.014984838999756861, -0.008577440125900799, 0.004137844405503597, -0.035105869959355426, -0.008006038323333563, -0.010484250496922339, -0.015318691141870438, -0.023318309858553564, -0.024525313255482788, 0.028043606014573084, -0.002470186966783783, 0.01574242709031609, 0.011177636933041623, 0.010182499182028735, 0.021135427530562762, -0.00907821880473246, -0.012179194290704947, -0.012134252387538909, -2.4013199973210864e-05, -0.01766849907525673, -0.05254323898080893, -0.006747671553942672, 0.000414907970667212, 0.0312794044160759, -0.0005148229653633868, 0.02909652395073029, -0.014971997923810796, 0.00980370513674912, 0.025449827882760102, -0.004542319205691449, 0.017386008442959625, -0.026451385240423425, -0.018220639263904867, -0.0042469884287708775, -0.016538536546068322, 0.004359342721024674, 0.022047101081894012, 0.021649046354017897, 0.018926864913325025, 0.030508977112215795, -0.017629977710063725, 0.024615197061814864, -0.007055842941148011, 0.01987706169249447, -0.04006229430653298, 0.008070240909096103, -0.015382893727632978, 0.031099638666056938, 0.002157200408929318, -0.012063629263803336, 0.003015907315950834, 0.013585225982894824, -0.014124526026919493, -0.0034829798002386165, 0.012262656627741394, 0.028659947857661166, -0.01643581352643537, -0.0016251231208783395, -0.009277246168670518, -0.007871213545158046, 0.008782887096489294, 0.039035056659622716, -0.003938817041565539, 0.0040543811371445545, -0.001598639565892824, 0.022355273866083245, 0.004314400817858636, -0.0016949432117059856, -0.015113243239959346, 0.0006937871376659757, -0.0029773859507578287, 0.022457996885716196, 0.02647706739231556, -0.014599624416504215, 0.018605852915834917, -0.021995740503400134, -0.007749228911605997, 0.012159933608108443, 0.019928422270988348, 0.012230555800521422, -0.006593585627509354, 0.010664017178263895, 0.0012872580261162933, 0.029250609411502308, 0.028274734205731115, 0.009020435825620357, 0.004304770476560385, -0.010413628304509362, -0.0048280201069750665, -0.01714203917585553, -0.0012005847216013828, -0.025103135596023056, 0.011671995073900251, -0.027761115382275985, -0.0328973054794725, 0.03343660459217457, 0.02410157823835973, 0.03844439324313638, 0.006539013848706363, 0.0364155963759176, -0.014175888468058563, -0.0018554492104510389, 0.0012816402882205385, 0.019812858175409332, 0.023279788493360556, -0.025385626228320156, -0.021096906165369758, -0.017835425611974813, 0.003906715748684269, -0.023600800490850664, 0.00784553232458851, -0.029250609411502308, -0.03266617728831447, -0.0018554492104510389, 0.005967612511800425, 0.004015859771951549, 0.007312652352875577, 0.020377839440003535, 0.009983471818090676, 0.020531924900775555, -0.012949622525887645, -0.014137367102865558, 0.008879190509471807, 0.018117916244271916, 0.011761877948909732, 0.01075390098459597, 0.02620741597331933, -0.0349517844985834, 0.035388358729007335, 0.013854876470568456, 0.010625495813070889, 0.018015191361993775, -0.005177923128359927, -0.011068492444113044, -0.010298064208930346, 0.023908971412394706, -0.0014389361343943997, 0.02483348603967202, -0.009335028216460026, -0.015678223573230954, -0.010291643670957314, -0.0026788449048507413, -0.004208467063577873, 0.025282903208687205, 0.04268175086494771, -0.008018878467957033, 0.015716744938423958, -0.004211676866903091, -0.0017414899001193082, 0.003048008608832104, -0.01714203917585553, -0.00391634608998252, -0.027761115382275985, 0.022766167807260235, 0.02265060371168122, -0.01255798833598456, 0.005646600514310319, -0.0025969867709849563, -0.010580553909904852, -0.005229285103837699, -0.037776687096264035, -0.005078409446390897, -0.04242494052189755, 0.05205530044660074, 0.010664017178263895, -0.005486094515565265, 0.006243682606124494, 0.008018878467957033, -0.010728219764026435, 0.0017655657533649366, -0.013366937936360264, 0.04766385736401739, 0.006561484800289382, 0.033333883435186805, -0.026502747681562498, 0.014073164517103018, 0.02181597289073598, 0.012371801116669972, 0.0297385479457105, 0.02226539005975117, 0.009566156407618057, 0.0013057161414661666, -0.004314400817858636, 0.013764992664236381, -0.024358388581409894, 0.030226486479918692, 0.0334622867440667, 0.010991449713727033, -0.00797393749611359, 0.005913040267336136, -0.004969265423123617, 0.027812475960769863, 0.003341734484090066, -0.032537773979434574, 0.0046931948631382505, -0.017989511072746836, 0.013277055061350783, 0.0048472807895715685, -0.004895432496062825, -0.01579378953145516, -0.0044395952547359036, 0.017463051173345637, 0.024923369846004094, 0.03590197941510766, 0.019491846177919225, -0.009989892356063708, -0.0009951370525209406, 0.0031314716443604984, -0.01257082848060803, 0.006677048895868397, -0.010432888987105864, 0.016589898987207394, -0.030894190764145846, 0.022291070348998108, 0.0026515587826185967, -0.00972666240636311, -0.03341092616557282, 0.04296423963459962, -0.014111685882296022, 0.00013482502555808238, 0.003309633424039445, -0.009238724803477514, -0.0009678510467041205, 0.022573560981295208, 0.0031796235836824035, -0.013225692620211713, 0.015126083384582817, -0.017848264825275687, 0.010856624935551515, -0.012602929307828003, 0.02166188742996396, -0.025128815885269995, -0.005271016272355923, -0.013842036325944987, -0.003820042444169358, 0.0020239805324164094, 0.008217906763217686, 0.011530749757751702, -0.0010537217839724018, 0.009257985486074016, -0.004950004274865817, 0.0026627942584101063, 0.01381635510537545, 0.004568000426260984, -0.009874328260484695, -0.014432697879786129, -0.021777451525542977, -0.0026788449048507413, 0.006754091626254407, -0.004407494427515931, 0.002751072464587626, 0.004497377768186709, 0.03215255660221414, 0.021494960893245874, 0.012679972969536608, 0.01140234458622662, 0.0019324920572523735, 0.0126221909217471, 0.02356227912565766, 0.018426087165815955, -0.009611098310784095, -0.02883971547032532, -0.010355846256719854, -0.008384832368613176, -0.026502747681562498, 0.006372087311988277, -0.0035279214705740054, -0.021957219138207126, -0.013418300377499335, -0.01574242709031609, -0.00823716744581419, 0.00273502205097764, 0.002343387395413258, 0.006192320630646721, -0.015536979188405, 0.004330451231468623, 0.015318691141870438, 0.019132312815236113, 0.023382511512993507, 0.015909353627034176, 0.003418777447306725, 0.01893970598927109, -0.01242958316445948, 0.010111876989615758, 0.0006600808267067718, 0.018721417011413933, -0.006269363826694029, -0.02673387587272053, 0.01709067673471646, 0.01000273250068718, -0.03656968183668962, -0.0471759188298092, 0.009784444454152618, 0.002344992297075867, 0.012853319112905132, -0.002731811781991123, 0.003123446437555505, -0.03605606487587968, -0.002223007896354468, -0.005765374878875851, 0.0004702825204436502, -0.004205256794591356, -0.011357403614383178, -0.0003783928489677929, 0.011774719024855797, -0.0003934402863501417, -0.030586019842601803, 0.025616754419478187, -0.030431934381829784, 0.001645186370721471, -0.008294949493603697, -0.014959157779187326, -0.001614690212333459, 0.0017687759059361284, 0.018734258087359998, -0.030740105303373826, 0.011928804485627817, -0.01566538435993008, -0.021726089084403905, -0.005816736854353623, -0.017052155369523456, 0.017411688732206568, 0.02379340731681569, 0.012224135262548388, -0.024037376583919787, 0.026425704951176486, 0.008808568317058828, -0.0036242251163871673, 0.020480562459636486, 0.013854876470568456, -0.007941835737571023, -0.022252548983805104, 0.017822584536028748, 0.0015898117918412018, 0.0262587784144584, -0.012063629263803336, -0.00027105448559010346, 0.028351776936117127, 0.019787177886162393, 0.008198645149298588, -0.006516542897123344, -0.012147092532162378, -0.05285140990235297, 0.005537456491043038, 0.0014252930732783274, 0.014394176514593123, 0.03520859111634318, -0.0349517844985834, -0.01911947173929005, 0.03400158585676877, -0.032203920905998405, -0.01587083226184117, -0.019658772714637313, -0.005604868880130797, 0.005081619249716116, 0.024538154331428853, -0.016397290298597177, 0.015049040654196806, 0.003951657186189009, -0.021212470260948774, -0.0010015573576633244, 0.005049518422496143, -0.023048658439557338, 0.013456821742692339, -0.003306423155052928, 0.0023995645415401563, -0.0011941645328743234, -0.008789307634462326, -0.007839111786615477, -0.02537278515237409, -0.034566567121362975, -0.018117916244271916, -0.017167719465102472, -0.01566538435993008, 0.0028810823049446673, -0.005402631247206222, -0.03942027031155276, -0.002381908760606263, -0.009283665775320957, -0.013508183252508814, 0.00019852583216849296, -0.04715023667791707, 0.004452435865020671, -0.022958776495870453, -0.03885528904695856, -0.0014132551466555135, -0.02760702992150396, 0.03279458059719435, -0.004763817521212526, 0.007203508329608296, -0.020570446265968562, 0.0058841492434413825, -0.003447668471201479, 0.011813240390048801, 0.0373401128658401, -0.0016772875471874169, 0.013456821742692339, 0.0048472807895715685, 0.009238724803477514, 0.021084065089423693, -0.014959157779187326, -0.031151001107196007, 0.02922492912225537, 0.004590470912182705, -0.014317133784207113, 0.015960714205528054, -0.02478212359853295, -0.030483296822968856, -0.0036081744699465322, -0.01480507138709271, -0.005983662925410411, -0.008853510220224866, -0.018117916244271916, -0.0019645931173029947, 0.006991640821046768, -0.019337760717147205, 0.030123763460285745, -0.007338333573445112, -0.018117916244271916, -0.009168101679741941, 0.001910021222084679, -0.018926864913325025, 0.0071649869644152915, 0.025359945939073217, 0.01644865273973625, -0.001632345876852028, 0.0017270443881719313, 0.01841324608986989, -0.014471219244979135, 0.02566811686061726, 0.007434636986427625, -0.00783269217996504, 0.037751008669662287, -0.010741059908649904, -0.008095922129665638, 0.029147886391869358, 0.011331722393813642, 0.0004883394685855336, -0.011845341217268775, -0.009842226501942126, -0.016500015180875318, -0.013443980666746274, -0.01589651255108811, 0.014971997923810796, -0.0031282616082046306, -0.01306518662146666, 0.00476060725222601, -0.02732453928920686, -0.027786795671522924, -0.0019052060514355535, -0.034874741768197395, 0.021276673778033908, -0.02226539005975117, -0.0233054687826075, -0.022560721767994334, -0.011023550540947006, 0.014124526026919493, 0.00980370513674912, -0.0012824428554671675, 0.0061088578279489755, 0.022008579716701008, -0.03171598237179021, 0.025064614230830052, -0.028531542686136085, 0.01838756580062295, -0.01641013137454324, 0.008538917829385198, -0.009058958122135958, -0.023908971412394706, 0.010009153038660212, 0.009623938455407564, -0.01737316736701356, -0.044017159433402016, 0.017861105901221756, 0.012602929307828003, -0.015010519289003802, -0.022214027618612096, 0.04332377485992792, -0.020095348807706432, 8.301168603961632e-05, -0.018400405013923826, -0.0077235476910364614, 0.033333883435186805, 0.0055791881252225594, 0.012397482337239507, 0.012455264385029014, -0.03133076871986016, -0.005434732540087492, -0.007030162186239774, -0.002701315623603111, -0.004972475226448836, 0.00407043155075454, -0.043837395546028245, -0.0058424176092618605, 0.019941263346934412, -0.025860723686582283, -0.006333565946795272, -0.021443598452106805, 0.0006945896467049426, -0.02135371650841992, -0.0014277006586028904, 0.024319867216216887, -0.01732180492587449, -0.002547229930000442, 0.012782696920492154, 0.013585225982894824, 0.015036200509573336, -0.007839111786615477, 0.018952547065217155, 0.013649428568657366, -0.0036916375054749265, -0.009578997483564123, 0.00935428889905653, -0.025424147593513163, 0.03210119602372026, 0.0019629882156403855, 0.010837364252955013, -0.015190285970345357, 0.01883698296963814, -0.04989810027050207, 0.0013562755496973103, 0.005364109882013217, 0.009232304265504481, 0.02077589416787965, 0.03834166836085824, 0.0025680957470902025, 0.0316389396414042, -0.009874328260484695, 0.015973555281474122, -0.0022294282014968516, -0.007871213545158046, 0.014278612419014108, 0.026810918603106536, -0.009007595680996888, 0.015883671475142046, -0.021957219138207126, -0.017026475080276514, 0.01732180492587449, 0.0035279214705740054, 0.0009895194310405103, 0.007941835737571023, 0.015074721874766342, 0.008083081053719573, -0.014368495294023589, 0.024024535507973722, -0.01932491964120114, -0.008012458861306596, 0.007505259644501901, -0.03443816381248308, -0.006429869825439082, -0.011466547171989161, -0.01289826101607117, -0.04129497799270914, 0.008038139150553535, 0.0027029207580963692, 0.005434732540087492, 0.0006480429000839577, -0.003166782973397636, 0.007563041692291409, -0.00980370513674912, -0.03120236354833508, 0.025886403975829225, -0.005996503535695179, -0.018400405013923826, 0.014882115048801317, -0.001788036588532631, 0.024011694432027657, 0.010477830890271902, -0.006266153557707513, 0.004654673497945246, -0.0032085146075771574, -0.022047101081894012, -0.0040222798442632835, -0.02150780196919194, 0.00017475088343268843, 0.022201188405311222, -0.012044368581206832, 0.0022133775550562166, 0.0046739341805417485, -0.01968445300388425, -0.02919924883300843, 0.018117916244271916, -0.01935060179309327, 0.006754091626254407, -0.00541547185749099, 0.0024798175409126827, -0.026425704951176486, -0.012750595161949586, -0.03158757906291032, 0.004670723911555231, 0.007588722912860944, -0.005226074834851183, 0.011896703658407845, -0.001747910205261692, -0.02745294259808675, -0.01685954854355843, -0.02090429933940473, -0.02234243279013718, 0.00026202601151916177, 0.15624294034489786, -0.008648062318313776, -0.011896703658407845, -0.0036274351525430347, -0.03400158585676877, -0.01701363400433045, -0.003871404186816482, 0.005961191973827392, -0.012050789119179865, 0.032435049097156436, -0.0026884752461489923, 0.002080157445712659, 0.0007447477713127717, 0.006012553949305165, 0.004346502110739906, -0.014342815004776648, -0.019312080427900266, -0.001373931214215879, 0.009046117046189892, -0.026297299779651406, -0.007087944234029282, -0.005585608197534295, -0.004844070520585052, -0.015241648411484428, 0.013405459301553268, -0.00045463318673016076, -0.00853249822273476, 0.02953310004379941, 0.026271619490404467, -0.019979784712127416, -0.005636970173012067, -0.004137844405503597, 0.004282299524977366, -0.004253408501082612, 0.0006247695558772964, -0.009970631673467206, 0.0041763657706966025, -0.0026114322829323333, 0.015087562019389811, 0.012487365212248988, 0.002616247453581459, 0.013033085794246687, -0.0038585638093623633, -0.0009879142965472521, -0.01883698296963814, 0.02732453928920686, -0.01492063641399432, -0.024461111601042845, -0.02267628586357335, 0.0019501477217709424, -0.015780948455509095, -0.008436194809752247, -0.004532688864393198, 0.030329211362196833, 0.0034284077886049765, -0.0020111399221316418, 0.02999535828876066, 0.028403139377256196, 0.007813431497368538, 0.0004670723969762894, 0.0031266564737113724, 0.018567331550641913, -0.03371909708711686, 0.020557607052667685, -0.022406634444577123, 0.03238368851866255, -0.038290307782364356, -0.018824141893692074, -0.008904871730041342, -0.02397317306683465, -0.0029757808162645706, -0.01990274198174141, -0.0045102179128101785, 0.007203508329608296, -0.009572576945591089, -0.015729586014370023, 0.02747862474997888, -0.00500136625034359, -0.015370052651686913, 0.01584515010994904, 0.009540475187048522, -0.02100702235903768, -0.049358801157799996, -0.008969074315803882, -0.015228807335538361, -0.019543208619058297, 0.020660330072300635, 0.02999535828876066, -0.01810507516832585, -0.0021491752021243252, -0.002810459646870392, -0.01922219662156819, -0.0055502971013278056, 0.006644947602987126, 0.009046117046189892, 0.013970440566147472, 0.005132981225193889, -0.010086195769046222, 0.015588340698221473, 0.016756823661280288, -0.026374342510037417, 0.07272847159484744, -0.0011179241369042934, 2.728601673075678e-05, 0.003906715748684269, 0.0039709178687855114, -0.01688522883280537, 0.024281345851023883, -0.009392810264249533, -0.01605059801186013, -0.0010440914426741506, -0.01693659127394444, -0.020043986366567363, -0.014894955193424786, 0.009566156407618057, 0.015215967190914892, 0.013225692620211713, -0.019286398276008136, -0.003072084462077732, 0.005075199177404381, 0.010728219764026435, 0.009309346995890491, 0.009392810264249533, 0.020852936898265662, -0.0006921820613803798, -0.023112861956642472, -0.006035024900888184, 0.0166284203524004, 0.0007419389023648943, -0.01706499644546952, -0.0023931442363977723, -0.0030191175849373503, -0.006786192919135677, 0.00035010366319651755, -0.0029420746217206912, 0.004628992743037008, 0.004725296156019521, -0.012667131893590543, -0.001698153247861853, 0.025064614230830052, 0.00043497122051034363, -0.007280551525655605, 0.017809743460082683, 0.013944759345577937, 0.019594571060197366, -0.03577357238093739, 0.018143596533518856, 0.009514794897801581, -0.022663444787627284, 0.0023562277728673767, 0.0012479339772613345, 0.0015777738652183876, 0.0034861898363944843, -0.008680163145533748, 0.00853249822273476, -0.032203920905998405, -0.015305850065924373, -0.00823716744581419, -0.013110128524632697, -0.0034123571421643415, -0.04447941954100846, 0.01813075545757279, 0.024217142333938745, -0.01323853369615778, 0.009578997483564123, 0.006510122824811609, -0.15942737816790678, 0.008217906763217686, 0.008648062318313776, -0.02719613411768178, 0.02953310004379941, 0.016487174104929253, 0.03831598993425649, 0.010779582205165505, -0.00262587779487971, 0.02379340731681569, 0.03656968183668962, 0.018785620528499067, 0.011055652299489575, -0.016769664737226353, -0.013559545693647885, -0.004882591885778058, -0.017886786190468695, 0.03590197941510766, 0.013122969600578764, 0.0033449447530765823, 0.04037046522807702, -0.009912849625677699, 0.010105456451642724, -0.022201188405311222, -0.002359438041853893, 0.0006183493089425748, -0.012737755017326116, 0.008262847735061129, -0.01721908190624154, -0.0061602198034267485, -0.014150207247489027, 0.008352731541393205, 0.04863973443243377, -0.018194958974657924, -0.028403139377256196, -0.011190477077665092, 0.012795537065115624, -0.014676667146890225, 0.004028700382236317, 0.011010710396323536, 0.030945553205284918, 0.02647706739231556, 0.001270404812429029, -0.013919079056330996, -0.00023754886009830347, 0.012224135262548388, -0.00717782757470006, -0.030919872916037976, 0.02727317684806779, -0.010188919720001768, 0.013829195249998922, 0.02550119032389917, -0.015305850065924373, -0.006070336462755971, 0.0012776275684027174, -0.00014295064058039746, -0.006734830943657905, 0.015074721874766342, 0.0036948477744614427, -0.01810507516832585, -0.004462066206318922, -0.01670546308278641, 0.018297681994290875, 0.0038778244919588658, 0.022226868694558165, 0.0025295743818971976, -0.011922383947654784, -0.01818211789871186, -0.032743220018700475, 0.030021038578007603, -0.016692622006840345, -0.02000546500137436, -0.018747099163306063, -0.026631152853087578, 0.014008961931340477, 0.002690080380642251, -0.006921018162972493, 0.006843974966925185, -0.009925689770301168, -0.01813075545757279, 0.012236976338494455, 0.026322981931543536, 0.0011026760577102874, -0.013482502963261875, -0.017360326291067495, 0.01805371272718678, 0.004526268792081463, -0.015459936458018988, 0.017989511072746836, -0.014381336369969654, 0.014240091053821104, -0.04632844507027271, -0.0022791850424813665, 0.006205161240931489, -0.009919270163650731, 0.024872007404865025, -0.00303035306072886, -0.013996121786717006, 0.0015585130662065607, 0.0029918314627052057, 0.005020626932940092, -0.011736197659662792, -0.022573560981295208, -0.004728506425006037, 0.024615197061814864, -0.019466165888672286, 0.013867716615191926, 0.005486094515565265, 0.04360626362957983, -0.009752343626932645, 0.0014156627319800762, 0.0037622601635492014, -0.010670437716236927, 0.01950468725386529, 0.0008057400298811336, 0.011787559169479267, 0.011980166926766888, -0.003274322095002307, 0.0273502195784538, -0.010253122305764308, 0.06533235457662893, 0.017026475080276514, -0.014304292708261048, 0.04815179589822558, 0.042527665404175685, 0.006481231800916855, -0.1225495291349635, -0.008416934127155745, 0.018952547065217155, 0.0001888954763183261, -0.010407207766536329, 0.009752343626932645, 0.012590089163204534, 0.015164605681098417, -0.005193973541969913, 0.010696118936806462, -0.010509931717491873, -0.013495343107885345, 0.007331913501133378, -0.013957600421524002, 0.010779582205165505, -0.010792422349788975, -0.012288337848310928, -0.002783173757468896, -0.030406254092582845, 0.02077589416787965, -0.019645931638691248, 0.00036615428053332155, -0.0182077981879588, 0.0021058384334515456, 0.003775100773833969, 0.0083142101762002, -0.03554244418977936, 0.0009116739587848843, 0.005758954806564115, -0.001988669203379272, 0.021340875432473854, 0.011697676294469786, -0.007197088257296562, -0.004994946178031854, -0.000710238951314601, -0.00011275545218582913, 0.0007166591982493226, -0.013264213985404718, 0.03898369235583845, -0.023600800490850664, 0.013559545693647885, 0.01721908190624154, 0.03410431073904691, -0.004532688864393198, 0.018914025700024147, -0.027889518691155874, -0.031947110562948244, 0.01828484091834481, -0.016564216835315265, -0.005126561152882154, -0.0031298667426978887, -0.030483296822968856, -0.023241267128167552, 0.0008867955382926271, 0.02433270642951776, -0.028249052053838986, 0.00012669941053576733, 0.012859739650878164, -0.02699068621577069, 0.0019934843740283975, 0.003601754164804148, -0.003290372741442942, 0.004885802154764574, 0.013919079056330996, 0.024024535507973722, -0.028814033318433185, -0.011954485706197353, -0.027555667480364893, 0.012147092532162378, -0.03841871109124425, 0.01660273820050827, -0.019979784712127416, -0.02605333051254731, -0.005675491538205073, -0.033025712513642766, 0.01836188364873082, -0.02381908760606263, 0.002033610873714661, 0.020082507731760367, -0.014329973928830583, -0.010086195769046222, 8.893034299711029e-05, 0.043041286090276014, 0.007081524161717546, 0.024152940679498802, 0.05023195334393824, -0.007023741648266741, -0.01215351307013541, -0.026682515294226647, -0.0008274083560098612, -0.0051201406149091215, 0.01813075545757279, -0.010099036844992287, -0.025488349247953106, 0.0012118201973928921, 0.013842036325944987, -0.025282903208687205, -0.021674728505910026, -0.011838921610618338, 0.0047862884727955446, -0.009373549581653031, -0.020724531726740582, -0.02491052877005803, 0.029918315558374653, -0.0019645931173029947, -0.009591837628187593, 0.009546895725021555, 0.004956424812838849, 0.026785238313859597, -0.012423162626486448, 0.028146329034206035, -0.006250103144097526, -0.018092234092379783, 0.02077589416787965, 0.004657883766931762, 0.01480507138709271, -0.023703523510483614, -0.001746305070768434, 0.027889518691155874, 0.03215255660221414, 0.009315767533863524, 0.0022294282014968516, 0.00651975316610986, 0.009636779531353631, -0.011485807854585663, 0.053262305706175156, 0.016615579276454333, -0.004840860251598536, 0.012320439606853497, 0.03739147344433399, -0.020172391538092443, -0.008128022956885611, 0.018220639263904867, -0.045866188687956645, 0.00742821691411589, -0.0036113845061023996, 0.01140234458622662, 0.006895336942402958, -0.028480182107642207, 0.02491052877005803, 0.015151764605152352, 0.028300414494978055, -0.012391061799266474, -0.015588340698221473, 0.004738136766304289, -0.006067126193769454, 0.028891076048819197, 0.00482480983798855, -0.030740105303373826, 0.015588340698221473, -0.005807106513055372, -0.019992625788073485, 0.0009349473611992079, 0.00867374353888331, -0.01932491964120114, -0.023112861956642472, -0.03826462563047223, 0.007993198178710094, 0.020827256609018723, -0.014137367102865558, 0.00739611562123462, -0.030765787455265956, 0.022059942157840077, -0.011569271122944706, 0.01589651255108811, -0.01714203917585553, -0.007826271641992007, -0.003951657186189009, 0.006465180921645571, 0.017565774192978587, 0.007550201547667938, -0.02948173946530553, -0.028403139377256196, 0.009919270163650731, -0.0031940690956297805, 0.013713631154419906, 0.017861105901221756, 0.017231922982187606, 0.0033449447530765823, 0.022445155809770127, -0.00025580640639609746, -0.013200012330964773, 0.008904871730041342, 0.011511489075155198, -0.03384750039599675, 0.012513046432818522, 0.0328973054794725, -0.010420048842482394, -0.01685954854355843, 0.016230365624524283, -0.004577630767559235, 0.004179575574021821, -0.02932765400453351, 0.04481326888915425, -0.004051170868158037, 0.007415376303831123, 0.005566347514937792, 0.045660742648690744, -0.006843974966925185, -0.024807803887779888, 0.004577630767559235, 0.02384476789530957, -0.014509740610172139, 0.010291643670957314, -0.03133076871986016, -0.007524520327098403, 0.009302926457917459, 0.012789116527142591, 0.003431617824760844, -0.03631287521892984, -0.022188347329365157, 0.00023112861316358188, 0.019825699251355397, 0.03174166452368234, -0.009829386357318656, 0.01359806705884089, 0.0011797190209269465, -0.01828484091834481, 0.0026194577225679755, -0.008384832368613176, -0.010818103570358511, 0.01486927397285525, 0.00097908652249563, 0.015241648411484428, -0.0033545750943748337, 0.010124717134239227, 0.009643199138004068, 0.01576810737956303, 0.007389695548922885, -0.019414803447533217, -0.017450210097399572, 0.02317706361108242, 0.004320820890170372, 0.0009501954403932139, -0.011055652299489575, 0.00059908856813841, -0.0004931546392346592, -0.02503893394158311, 0.026143214318879386, 0.015909353627034176, -0.035362676577115205, 0.05341639116694718, -0.01337977901230633, 0.0034091471060084737, 0.0026740297342016154, -0.017167719465102472, 0.024949050135251036, 0.004860120934195039, -0.012294758386283963, -0.009848647039915158, -0.029969677999513722, -0.00014214811698951503, -0.011466547171989161, 0.015524139043781528, -0.047766582246295534, -0.030252166769165634, 0.016949432349890506, -0.001484680371976418, 0.011177636933041623, -0.00014004146527860702, -0.007678606253531722, -0.008025299005930065, 0.0012631820564553405, 0.03392454312638276, -0.0047445568386160234, -0.0016162952304113927, -0.00854533836735823, 0.022406634444577123, -0.02711909138729577, -0.00887277090282137, -0.002343387395413258, -0.00873794612464585, 0.0034155674111508577, -0.0352856338467292, -0.004269458914692599, 0.009020435825620357, 0.01486927397285525, -0.01563970220803795, -0.030200806190671753, 0.0002726595327718683, 0.0016965482297839193, -0.008590280270524268, 0.02701636650501763, -0.022958776495870453, -0.03631287521892984, -0.012930361843291141, 0.00552461588075827, -0.025873564762528348, -0.003893875138399501, -0.01886266325888508]}), _DocumentWithState(metadata={'aapl:keywords': '[]', 'creationdate': \"D:20190823182446Z00'00'\", 'creator': 'Word', 'keywords': '', 'moddate': \"D:20190823182446Z00'00'\", 'page': 4.0, 'page_label': '5', 'producer': 'macOS Version 10.14.6 (Build 18G87) Quartz PDFContext', 'source': '/content/heart_disease.pdf', 'title': 'Microsoft Word - أمراض القلب-ar-en-T-C.docx', 'total_pages': 8.0}, page_content='and fainting.  Heart Disease Caused by Heart Infections: There are three types of heart infections: • Pericarditis (inflammation of the pericardium, which is the fibrous sac surrounding the heart). • Myocarditis (inflammation of the myocardium, which is the thick middle layer of the heart muscle). • Endocarditis (inflammation of the endocardium, which is the inner lining of your heart chambers and heart valves). Heart infection symptoms can include: • Fever. • Shortness of breath. • Fatigue. •', state={'embedded_doc': [-0.026059927940107377, 0.017530758894150813, -0.018373462357125402, -0.03148642020282148, -0.04489304639291982, 0.03375916009228506, -0.027809173299970232, -0.03687460530736827, -0.014606838294033904, 0.017569064189673085, -0.006096822827161003, 0.03273770417147503, -0.00577123340315686, -0.0022679542886602354, 0.002293490686680486, 0.011184956302707683, 0.03595529311599419, 0.027502736523727225, 0.01033587048645777, -0.013725831398182098, -0.015985806581095018, 0.023276456364948687, -0.0014316362057591842, 0.009984744198772114, -0.009729380218569606, 0.019126786797214693, 0.0113126387584702, -0.022165621421253362, -0.018488376381047163, 0.00868877071867592, 0.0004688329113074901, -0.009410175010485841, -0.0195353691655387, -0.014032269105747633, -0.018028720285360122, 0.006198968419242006, 0.00868877071867592, -0.012340479826523131, -0.006658624514929044, 0.006128743441101632, 0.029009385403905803, 0.006189392561022701, -0.010891287958305433, 0.01542400396200445, -0.01695619063718707, 0.02097817774915855, -0.004503987963379841, -0.009914519686293003, -0.011829751866118118, 0.02849865744350079, 0.044816435801875276, -0.017696746645435604, -0.0041783985393756985, 0.025281066636336575, -0.010259260826735755, -0.020927105884440574, -0.0035495639814274735, 0.002794643254527458, 0.009640003058329362, -0.03449971796317864, -0.011006201982227192, -0.004111365203534251, -0.009971976698253882, -0.0011722817413604937, -0.010987049334466058, 0.02660896119603466, -0.0019599209927758697, 0.034857226604139625, -0.007258730566896829, 0.0036134049764781, 0.03889198401059691, 0.03406559873117312, 0.011376479986351459, 0.04818724592848352, 0.00828657163494976, -0.024336219443926038, -0.020595132244516052, -0.01509203032207993, -0.009122889950681444, -0.0007964174318905806, 0.0036644777725186014, -0.024297914148403765, -0.020658972541074783, 0.039249492651557895, 0.014262096222268626, -0.010610387114421412, 0.005691432101135919, 0.01793934312511988, 0.010540161670619776, -0.03853447536963593, 0.035265812697753744, 0.01883311845281244, -0.00829295585087014, 0.00930802941840484, -0.0030531995755207855, 0.010572082750221668, 0.0112615659624297, 0.01936938327689897, -0.0014156758987888696, -0.014019500673906875, -0.026481278740272146, 0.005241352329329448, -0.026532352467635172, -0.002643020687555417, -0.026225913828747113, 0.004264584057317018, -0.020135476148829014, -0.0012560731783316714, 0.0219485618052506, -0.021846416213169597, -0.0024961860496930284, 0.00770561823074311, -0.003412305667445652, -0.047089179416628955, 0.01509203032207993, -0.004599749805201729, 0.01078914236622443, 0.008988823278998548, -0.0012369208798164834, -0.026583424332353146, 0.00805674358710624, 0.01883311845281244, 0.02432345101208528, -0.0012018082743309808, 0.0023046628317105167, -0.024527742196247284, -0.03286538476459249, -0.018092560581918854, 0.01887142188568966, 0.004219895011535632, 0.019484297300820727, 0.033580405771804565, 0.00041017891706919725, -0.0270686172917217, -0.01195104917463773, -0.001773185936733642, -0.02434898601312174, -0.02410639139608252, -0.015985806581095018, -0.014415315541712655, 0.0014491924502942775, 0.005388186967191837, -0.015985806581095018, -0.008867525970478936, -0.004433762985239468, 0.011319022974390578, 0.013291712166176573, 0.00782691647058525, -0.000495167365421617, 0.0027531465495368927, 0.007118280144954819, -0.011842519366636349, 0.004264584057317018, -0.049004410665131545, -0.02101648304468082, 0.023621198436713967, -0.02473203338040929, -0.0010781161863493325, -0.016266706493656514, -0.013253407801976829, -0.00862492949079466, 0.014428083042230885, 0.017735051940957872, 0.0039006898034518673, -0.011791446570595847, 0.004571021299221289, -0.00554459746327353, -0.004673166891302292, -0.004248623517516072, 0.008605776843033526, -0.008165273395107623, 0.01456853392983416, -0.01788826939775685, 0.018067025580882395, 0.03202268316426296, 0.020020562124907253, -0.0011315830633599757, 0.01724985898158932, -0.028396511851419788, -0.02496186142825281, -0.039607005017808984, -0.001375775247778399, 0.03283985162620109, 0.0053083856651708955, -0.018015951853519365, 0.010923208106584799, 0.033886844410692625, -0.014287633085950139, 0.01062315554626217, -0.017045567797427316, -0.01205319569804126, 0.003177689690492481, -0.004401842371298839, 0.006926756926972307, -0.6337120802849437, 0.0004847931891739757, 0.0023014707237503274, 0.000622849530145844, 0.004251815625476261, -0.0020109940216470027, 0.0025935437126643787, -0.01548784518988571, -0.010010281062453627, 0.012595844738048164, -0.008465326886752778, 0.00890583033467868, 0.002132292028658509, -0.002231245745609954, -0.011759526422316481, -0.028064538211495266, -0.021437833844845586, -0.018986335909611417, -0.026506815603953657, 0.0055924781513538415, 0.0109742809026253, 0.008414254090712277, -0.0081205848149875, -0.0003403527486970448, -0.008407869874791899, 0.017454150165751327, 0.016266706493656514, -0.005356266353251207, 0.017722283509117115, 0.029213676588067807, 0.004149670033395258, 0.01908848150169242, -0.0041783985393756985, -0.009059048722800184, 0.04499519012235577, 0.0006878876238891995, -0.008478095318593535, 0.046348621545735366, 0.005483948343352461, 0.016075183741335264, -0.005394571183112215, 0.014581302361674917, 0.03513812837934617, -0.03710443335521179, 0.010699764274661658, 0.011855287798477106, 0.0021035635226780694, 0.016713594157502794, 0.00805674358710624, 0.007533247194860471, 0.004018795935333816, -0.01657314326989952, -0.020122707716988257, 0.008069512018946998, 0.0195353691655387, -0.0059723329450199385, 0.03858554537170885, -0.011797830786516226, -0.009033512790441197, 0.025715185868342098, 0.026430205012909117, 0.040730608393345066, -0.018245779901362887, -0.016930653773505555, 0.005183895317368568, 0.005844650489257423, -0.01608795217317602, -0.010859366878703541, 0.013598149873742109, -0.038355717323865335, 0.02770702770788923, 0.02323815293207147, -0.011599923818274599, -0.010980665118545679, 0.024374522876803254, 0.01830962019792162, 0.018054257149041637, 0.028319901260375244, -0.036440486075362745, -0.007616240604841601, 0.0015736825652659732, 0.014683447953755919, -0.04228833100088667, -0.01639438894941903, 0.02045468135691278, 0.0024100007645823404, -0.01405780503810662, 0.00610959125900176, -0.001276821530826954, -0.00976768458276935, 0.0013382685613227546, 0.024642656220169045, -0.0225231319248594, -0.04578682172061238, -0.01571767323772923, 0.000619258466898289, 0.007884373482546128, -0.005927643899238553, 0.0018673514917448032, 0.03631280548224528, 0.012200029870242384, 0.02331476166047096, -0.018181939604804156, 0.007316187578857709, 0.008854757538638179, 0.0020205701126969388, -0.04371836929002071, -0.010891287958305433, 0.03988790679301553, -0.025740722732023612, -0.013330016530376318, -0.02374888089247648, 0.0004321242809457219, -0.012340479826523131, -0.013764135762381842, -0.016151792469734753, 0.012819288569971304, 0.0017508415302582648, 0.013827976990263101, -0.004663590567421724, 0.022408217900937638, -0.009142042598442578, 0.010201803814774875, -0.009295260986564082, 0.007194889339015571, -0.007539631410780849, -0.006926756926972307, -0.021820879349488082, -0.00902074435860044, -0.01604964687765375, 0.014287633085950139, -0.013240639370136073, 0.03830464732179241, 0.0015026593273049207, -0.030030843187360882, 0.016470997677818518, 0.03508705465198314, 0.014670679521915163, 0.011350943122669944, -0.01966305162130122, -0.0036549016814686652, -0.01841176579000262, 0.025127847316892545, -0.007641777002861852, 0.0025855636755945373, -0.00023860602459192104, -0.0005290829304220486, -0.022689119676144186, -0.0075651678088011, -0.009895367038531867, -0.012812904354050926, -0.030413888692003378, 0.008407869874791899, 0.022229463580457146, 0.031997146300581446, -0.015079262821561698, 0.02461711935648753, -0.020888800588918302, -0.014377010246190385, -0.03248233925995, 0.032686630444112005, 0.010291181906337647, -0.009320796918923069, 0.020288693605627992, -0.018641593837846138, -0.002370099880741238, -0.003887921604441742, -0.009097353086999929, 0.017288164277111592, -0.02906045913126883, 0.01285120871825067, -0.008331260215069882, 0.010265645042656134, 0.020275925173787235, 0.019445992005298455, 0.0320992937553075, 0.00551586895729309, -0.010521009954181166, -0.019190627093773425, 0.007788611175062977, 0.0003836449853113875, -0.04371836929002071, 0.004826385279423796, 0.015845355693491745, 0.009499552170726087, -0.0008211558611284418, 0.02003333055674801, 0.007016134552873816, 0.005410531257251898, 0.029188139724386292, -0.0007764671063853453, 7.05244419884439e-05, -0.018935264044893443, 0.0016391196142966945, 0.010521009954181166, -0.012959738526252053, 0.008235498838909259, -0.005985100911199433, 0.006218121067003141, 0.0005462402196697762, 0.02233160917253815, -0.018424534221843376, 0.011465857146591703, -0.014900507569758682, 0.023442444116233474, -0.04228833100088667, 0.019190627093773425, -0.017581832621513842, 0.03592975997760278, 0.005784001369336354, -0.010827446730424175, 0.01737754143735184, 0.021795344348451623, -0.01879481315729017, 0.007450253784879341, 0.032890921628274006, 0.03153749393018451, -0.0030212789615801563, 0.01354707614637908, -0.009863445958929976, -0.010355023134218906, 0.012583076306207407, 0.01603687844581299, 0.014287633085950139, 0.02376164932431724, 0.01988011123730398, 0.014198255925709894, -0.009493167954805709, 0.011050890562347315, -0.031179981563933423, -0.008676002286835162, -0.010233724894376768, 0.016266706493656514, 0.029852087004235337, -0.009671923206608727, 0.030771399195609412, -0.005870186887277673, -0.027375054067964706, 0.03194607629850852, -0.0017460534847332967, -0.011587155386433842, 0.00436992175735821, -0.003849617007411366, -0.010706148490582037, 0.018143634309281884, 0.025064007020333814, 0.01936938327689897, 0.03810035613763041, 0.009027128574520819, 0.01730093270895235, -0.007060823132993939, -0.006556478457186778, -0.007692849798902353, 0.002073238962717535, -0.028370974987738273, -0.028958311676542774, 0.016292243357338025, 0.008599392627113147, 0.01777335537383509, 0.01274267891024929, 0.03396345127644706, -0.024859715836171806, 0.0049987563153064355, -0.017862732534075335, 0.008427022522553033, 0.004376305973278588, -0.013202335005936329, -0.014211023426228124, -0.005075365509367187, 0.021935793373409843, -0.013330016530376318, 0.018667130701527652, 0.0005977120874129592, -0.046501839002534344, 0.014696216385596676, 0.01664975199829901, 0.0028951927926283657, -0.01587089255717326, 0.0065500947069276625, 0.00798651907462713, 0.010252876610815377, -0.017224322117907805, -0.010757221286622537, 0.00029207293070639324, 0.0021306959746784145, 0.000378258390440055, 0.006760770107010047, 0.026481278740272146, -0.004899802831185622, 0.039504857563082925, -0.000262546426839735, 0.015053725957880185, 0.016432692382296245, -0.013036348185974067, -9.152217064215905e-05, -0.010093274006773494, 0.025383212228417575, -0.013330016530376318, 0.037078896491530275, 0.003399537468435527, -0.022944482725024164, 0.0001604007037915021, -0.00971661178672885, -0.018245779901362887, 0.015002653161839683, 0.016636985429103305, -0.006250041680943771, 0.006913988495131551, 0.022599740653258888, -0.002280722487670361, 0.004915762905325305, -0.013559844578219836, 0.00716935294099532, -0.026889861108596154, 0.01091682389066442, -0.00021805717884415028, -0.017849965964879633, 0.011082810710626681, 0.011376479986351459, -0.02469372808488702, 0.005576518077214159, -0.027221834748520676, -0.004216703369236706, -0.04251815904873019, 0.052017708425488696, -0.0006001061101754431, -0.008165273395107623, 0.011038122130506558, 0.008350412862831018, 0.0018051064342589553, 0.023174310772867683, -0.01754352732599157, 0.008178041826948378, 0.001141957297815275, 0.019075713069851664, -0.0330696796740446, 0.01737754143735184, 0.019037409636974447, 0.002781874822686701, 0.01736477300551108, 0.014645142658233648, 0.00031561431945918353, -0.027681490844207714, 0.0040411402253938775, 0.006036173707239934, -0.012449009634524512, 0.017798892237516604, 0.031358735884413916, 0.014670679521915163, -0.01542400396200445, 0.006511789877066655, 0.008522783898713658, 0.00425500773343645, 0.000788836291900447, -0.024476668468884258, -0.004602941447500655, -0.010157115234654752, 0.010080506506255265, 0.0006216524896607731, 0.015398468029645463, -0.011555235238154476, 0.014606838294033904, 0.008478095318593535, 0.020148244580669772, 0.02334029852415247, 0.019624746325778947, 0.0055126768493329, 0.021923026804214138, -0.00971661178672885, 0.0006025001911455851, -0.006652240299008665, 0.009933671402731612, 0.011044506346426937, -0.027655953980526202, 0.04062846093861901, 0.01984180594178171, -0.012065963198559489, -0.04627201095469083, 0.01879481315729017, -0.028217755668294243, -0.009933671402731612, -0.0015976229093061292, -0.015794281966128716, 0.025587503412579583, 0.01657314326989952, -0.012244718450362508, 0.005464796161252589, 0.005241352329329448, -0.015704904805888473, -9.85047853875366e-07, 0.0017316892317430768, 0.010872135310544297, -0.034525254826860155, -0.008746227730636798, -0.013036348185974067, -0.017683978213594846, -0.003674054096399169, 0.012321328110084523, -0.0046795511072226705, 0.012985275389933566, -0.013713062966341342, -0.006396875853144896, 0.0037698157053904246, 0.0009927286953980601, 0.006569246889027535, -0.0028026232915972994, -0.014300401517790896, -0.02898384854022429, 5.5412060522926315e-05, -0.020071633989625227, -0.007769458992963106, -0.025587503412579583, 0.012283022814562252, 0.012417089486245146, 0.010048585426653371, -0.0032511067765930435, -0.005423299689092655, 0.006837379301070799, 0.008835604890877044, 0.017645672918072574, 0.029520113364310815, -0.015066494389720943, -0.03942825069732849, -0.007590704206821351, 0.008497247035032143, -0.024068086100560247, -0.007584319990900972, -0.01078914236622443, -0.009454863590605964, -0.019139555229055447, -0.009480399522964951, -0.008350412862831018, -0.012097884278161383, 5.361652889914882e-05, 0.02374888089247648, -0.00903989607503905, 0.012014890402518987, 0.022306072308856634, 0.005643551413055606, 0.045199481306517776, 0.008899446118758302, -0.006575631104947913, 0.01108919492654706, -0.0156665995103662, 0.00582869041511774, 0.008803684742597679, 0.03587868625023976, -0.004219895011535632, -0.016356083653896757, 0.004494411639499274, 0.02138676011748256, -0.023991477372160758, -0.03970914874724493, -0.0001271833978554474, -0.010208188030695254, 0.024591582492806015, -0.00919311539448308, -0.012040427266200502, -0.042262794137205156, -0.0021147356677080997, -0.02183364778132884, 0.016751899453025066, -0.0050594054352275045, -0.01291504994613193, -0.025204457907937086, -0.011453089646073474, 0.003351656547524583, -0.018398999220806917, 0.041777601177836604, -0.029877623867916852, -0.01571767323772923, -0.000782851205890408, -0.005675471561334972, 0.00953147325032798, 0.008382333011110384, 0.007775843208883484, -0.028600803035581792, -0.0017604177377235166, -0.01658591170174028, -0.014989884729998926, 0.0018705435997049924, -0.001146745343340243, 0.008503631250952522, 0.035470103881915745, -0.007124664360875197, -0.005997869343040189, 0.03138427274809543, 0.002919133136668522, -0.018475607949206406, 0.02063343567739327, -0.010374174850657515, -0.022344377604378907, -0.027196299747484217, 0.009576161830448102, -0.004232663443376389, 0.0003339686491919821, 0.00045686271018358316, -0.007584319990900972, 0.022727423109021403, 0.017058336229268074, 0.010367790634737136, 0.0015665004387708634, -0.025383212228417575, -0.03667031412320626, 0.007660929184961724, 0.0068437635169911765, -0.004950875627226123, 0.03557224761135169, -0.044561070890350246, -0.005777617619077238, 0.032048220027944475, -0.019484297300820727, 0.012506466646485392, -0.009933671402731612, -0.011491394010273218, 0.008063127803026619, 0.012251102666282886, -0.021820879349488082, -0.015347395233604963, 0.014325937450149883, -0.012378785122045401, -0.00476573662516399, -0.011063658994188073, -0.024604350924646773, -0.0034633784634861536, 0.014236560289909638, 0.009933671402731612, 0.01867989913336841, -0.006131935549061821, 0.0039900674293533766, -0.027375054067964706, -0.006106399151041571, -0.0004552666853073175, -0.017926574693279122, -0.0170200309337458, -0.008669618070914783, -0.018015951853519365, -0.03335057772396104, 0.0017380733312481395, -0.012691606114208788, -0.023838258052716728, 0.011919129026358364, -0.01873097286073144, -0.0026589807616951, -0.01027841347449689, -0.014351474313831398, -0.010418863430777638, -0.03227804807578799, 0.051813417241326695, -0.0047306239032631715, -0.01366199017030084, -0.01860329040496892, 0.011925513242278743, -0.020697277836597056, 0.011204108950468819, 0.035112591515664655, -0.0027643186945669235, -0.004829577387383985, 0.011536082590393341, 0.0361595843001562, 0.037129970218893305, 0.0021259078127381305, -0.013342784962217075, 0.015321858369923448, 0.009225035542762446, -0.014594069862193146, 0.006141511407281126, -0.011382864202271838, -0.037691773769306394, 0.009046280290959427, -0.004733816011223361, 0.00602340574106044, -0.00873984351471642, -0.029085994132305292, -0.009422943442326599, -0.00890583033467868, -0.027349517204283195, 0.051226080552522195, 0.0004640448366786931, -0.014402547109871898, -0.022727423109021403, -0.023442444116233474, 0.0005546193284422993, -0.011568002738672707, 0.006435180683005903, 0.011133883506667183, -0.012551156157928041, 0.00845255845491202, 0.0066713924811085375, -0.004449723059379151, 0.007756691026783611, 0.024476668468884258, -0.014325937450149883, 0.03539349329087121, 0.008720690866955285, 0.009359102214445341, 0.010016665278374005, -0.029188139724386292, 0.024425596604166284, -0.005046637003386747, -0.00988259860669111, -0.018628825406005384, 0.002181768770718916, -0.010610387114421412, 0.01970135691682349, -0.0031250208404718853, 0.013725831398182098, 0.016713594157502794, -0.029647795820073333, -0.013164029710414056, 0.004647630493282041, -0.03651709666640729, 0.008414254090712277, -0.03215036748267053, -0.01348323584982035, -0.027528271524763684, -0.002805815399557489, 0.004120941527414819, 0.009588929330966334, 0.008663233854994404, -0.00728426696491708, 0.01680297131774304, -0.0017987223347538928, 0.0008498843671088818, -0.021259079524365097, 0.0075651678088011, -0.016330546790215245, -0.004136901601554502, -0.001402109672788697, -0.009863445958929976, -0.0034314578495455244, -0.024029780805037974, 0.0008802088688617583, -0.04691042509614846, 0.004692319073402164, 0.040219878570295, -0.007648161218782231, -0.021871953076851112, 0.04530162876124383, -0.007514094547099335, -0.019918416532826253, -0.006115975009260875, -0.02941796777222981, 0.04859582829680753, -0.020071633989625227, -0.01211703599459999, 0.012206414086162763, -0.0032383385775829185, -0.00229827884862077, -0.0334527251786871, 0.01984180594178171, 0.00868238650275554, 0.0009392618183874169, -0.047676516105433456, -0.011159420370348696, -0.005030676929247064, -0.020544058517153026, -0.013457698986138834, -0.0031904578895026064, -0.01086575109462392, -0.005681855777255351, 0.0022631661267199514, 0.011472241362512082, -0.0020221661666770334, 0.004752968193323233, 0.011127499290746804, 0.0016327355147916318, 0.023633966868554724, -0.010674228342302671, 0.011887208878078998, 0.010878519526464675, -0.01244262634992666, 0.008388717227030763, 0.0022104972766993558, -0.015206944346001689, 0.04759990551438891, 0.008880293470997168, 0.012295791246403008, -0.02401701237319722, 0.007380028341077704, -0.05602692896826447, 0.013189566574095571, -0.00937186971496357, 0.0090845855864817, 0.007380028341077704, 0.01883311845281244, -0.022714654677180646, 0.02303385988526441, -0.012723526262488155, 0.017722283509117115, -0.03434650050637966, -0.003198437926572448, 0.009282492554723326, 0.01234686404244351, -0.005975524587318865, -0.014032269105747633, 0.0013239043083325345, -0.01016988366649551, 0.023353065093348176, 0.014466388337753157, -0.006125551333141443, 0.018284085196885156, -0.00279943118363711, -0.02374888089247648, -0.0004273362063169249, -0.011670149262076235, -0.00174924547627817, -0.01212342021052037, 0.0018609673922397405, -0.015232481209683202, 0.010080506506255265, -0.0002250397985917484, 0.0021498481567782867, -0.020697277836597056, 0.005531829497094036, 0.015602759213807469, 0.018015951853519365, 0.0034538023724362175, -0.025613040276261097, -0.026660033060752635, -0.011433936998312338, -0.019777965645222977, 0.024527742196247284, 0.002564815206683939, -0.016713594157502794, 0.021974098668932115, -0.012863977150091428, 0.003792159995450486, -0.0008187618383659578, 0.01027841347449689, -0.006601167502968164, 0.001245699060291688, 0.01233409654192528, 0.005158358919348317, -0.045225018170199284, 0.012659685965929422, 0.020480218220594294, 0.011178573018109832, -0.0004983594151741484, 0.006518174092987034, -0.016177329333416268, -0.02788578202836972, 0.027375054067964706, -0.020646204109234026, 0.013470467417979592, -0.019637514757619705, -0.0027850669306468904, -0.010425247646698017, -0.0029542458585693405, -0.020199316445387746, 0.014440851474071642, 0.012889513082450415, -0.014887739137917924, 0.018067025580882395, 0.0011930300938557763, -0.022420986332778396, -0.019331077981376697, 0.016305011789178783, 0.0020971793067576907, 0.014657911090074405, 0.1753842144337131, 0.004526332253439903, -0.017109408093986048, -0.0016008150172663186, -0.020722812837633515, 0.007807763822824113, -0.014096109402306364, -0.014389778678031142, -0.009927287186811233, 0.017160481821349074, 0.011868056230317862, -0.0037027823695489773, -0.0001817475619774057, 0.0029494576966290565, -0.017288164277111592, -0.020990946180999306, -0.027962392619414262, 0.0033612326385745192, -0.008567472478833781, -0.04318210632857924, -0.028473120579819277, -0.009793221446450865, 0.01069338005874128, -0.007590704206821351, 0.02138676011748256, -0.02090156902075906, -0.02502570172481154, 0.022369912605415366, 0.043539614969540216, -0.005503100991113596, 0.006939524893151801, -0.012059579913961638, -0.003300583751484082, 0.019228932389295694, -0.005423299689092655, 0.001801914442714082, 0.0195353691655387, 0.015002653161839683, -0.0013390665883128018, 0.014249328721750394, -0.008944134698878425, 0.019152323660896205, -0.01687958004614253, 0.011402015918710446, -0.014300401517790896, 0.024987398291934325, -0.006460717081026154, -0.021961330237091358, -0.023021093316068705, 0.0012848016843121112, -0.03590422311392127, -0.026353596284509628, -0.008356797078751397, 0.01721155368606705, -0.010252876610815377, -0.0037155508013897343, 0.03682353158000524, 0.020148244580669772, -0.015730441669569984, -0.008484479534513914, 0.012589460522127786, 0.008937750482958046, -0.01366199017030084, 0.013891818218144359, -0.029877623867916852, 0.046935958234539873, -0.007788611175062977, -0.005266888727349699, -0.01212342021052037, -0.0038560009905011126, 0.0045678291912611, -0.02401701237319722, -0.009518704818487224, -0.0018418150937245525, -0.002379676204621806, 0.0003465373414545956, 0.023199847636549198, -0.0010813082943095219, -0.012493699145967162, 0.013049116617814825, 0.012059579913961638, -0.026379133148191142, -0.02119523736516131, 0.010616771330341791, 0.0017843580817636726, -0.034908300331502655, 0.022599740653258888, 0.0012281426993412789, -0.02763041897948974, 0.00800567079106574, -0.0011387651898550858, -0.0060936307192008135, -0.0038336567004410515, 0.005174319459149264, 0.04795741788064, 0.014874970706077167, 0.014785593545836922, -0.008573856694754158, -0.001409291799283807, -0.0005598064456699489, -0.004104981453275136, 0.0541372345834434, -0.004130517851295387, -0.014236560289909638, -0.012487314930046784, 0.0031330008775417267, -0.016253938061815756, -0.005180703209408379, 0.016024110013972238, -0.018577753541287406, -0.0014268480438189004, -0.007386412556998082, 0.00014144788291999696, -0.02198686710077287, 0.009397406578645085, 0.02547258938865782, 0.019356614845058212, -0.009333565350763826, -0.01810532901375961, -0.021080323341239552, 0.006837379301070799, 0.011165804586269075, 0.030081915052078856, 0.016407157381259786, -0.014415315541712655, -0.011408400134630825, -0.0011220069723100396, 0.03128212901865948, 0.005097709799427248, -0.048263852794237956, 0.01796487998880139, -0.009116505734761065, -0.026225913828747113, -0.015921964421891234, 0.0002711250714635988, 0.017147713389508316, 0.023212616068389955, 0.00103582145436872, 0.006875684130931806, 0.021629356597166836, 0.008082280450787755, -0.004194358613515381, 0.021233542660683582, 0.02353182127647372, -0.015845355693491745, -0.02834543812405676, 0.0091356583825222, 0.004015603827373627, -0.014708983886114906, 0.010935976538425556, -0.02138676011748256, -0.004395458155378461, 0.00031840738482052017, 0.014325937450149883, 0.030158525643123397, -0.019267237684817966, 0.0032271664325528877, -0.010782758150304052, -0.028217755668294243, -0.0002495787210820978, -0.05097071564099716, 0.006131935549061821, 0.008331260215069882, -0.012927818377972687, 0.0038145042855105477, 0.00616704827096264, -0.15730441297040976, 0.017901037829597607, 0.004711471721163299, 0.0009121293663870716, 0.03817696300338484, 0.018028720285360122, 0.01751799232495511, 0.007641777002861852, 0.02074834970131503, 0.010106042438614252, 0.020939872453636276, 0.002690901375635729, 0.015206944346001689, -0.020199316445387746, 0.00793544627858663, 0.007271498533076323, -0.0289072398118248, 0.045863428586366814, 0.04859582829680753, 0.006913988495131551, 0.024221305420004276, -0.027272908475883706, 0.024566045629124504, -0.04239047473032262, -4.476356613543486e-05, 0.0024419211456923376, -0.019982256829384985, 0.014198255925709894, -0.012487314930046784, 0.014747289181637178, -0.026660033060752635, -0.014504692701952902, 0.03651709666640729, -0.02995423259631634, -0.020148244580669772, -0.025242761340814303, 0.00588295531911843, -0.026149305100347624, 0.004784888807263862, 0.014836666341877422, 0.02732398034060168, 0.013125725346214312, 0.005889339535038809, -0.011714837842196358, -0.0018785236367748338, -0.000912927393377119, -0.008216346191148123, -0.01336832182589859, 0.01033587048645777, 0.017901037829597607, 0.010667844126382293, 0.006677776697028916, -0.005477564593093345, 0.005266888727349699, -0.004622094095261791, 0.006390491637224517, 0.005132822521328067, 0.003923034093511929, 0.00304043137651066, -0.027375054067964706, -0.0038815373885213635, -0.019624746325778947, 0.009461247806526343, 0.005624398765294471, 0.03794713495554132, -0.021680430324529862, -0.0017668018372285794, 8.441486463433395e-06, -0.007597087957080466, 0.033044142810363095, -0.010750837070702159, -0.03472954601102216, 0.0002256383042823694, -0.014313169949631653, 0.013751368261863612, 0.0032096100716024786, -0.003297391643523893, -0.0011427553248053223, -0.010016665278374005, 0.002515338464623532, -0.006064902213220374, 0.031997146300581446, -0.021208005797002067, -0.016560374838058764, -0.012595844738048164, 0.013598149873742109, 0.02124631109252434, -0.005225392255189765, -0.025510894684180094, -0.009557009182686968, 0.01394289101418486, -0.04325871319433367, -0.021923026804214138, 0.018718204428890682, -0.010093274006773494, 0.015002653161839683, 0.0031952458186122585, 0.0021418681197084453, 0.0034282657415853355, 0.008280187419029382, 0.026225913828747113, -0.004037948117433688, -0.030132988779441885, 0.018424534221843376, 0.014364242745672154, -0.018245779901362887, 0.014440851474071642, -0.0059467965469996885, 0.050485522681628606, -0.017569064189673085, 0.014491924270112144, 0.02553643154786161, 0.00405710029953356, 0.04977050539970664, -0.01188082466215862, 0.0034697624465759003, 0.005927643899238553, -0.008873909255076789, 0.020773886564996544, -0.016126255606053238, 0.06297284040564297, 0.015002653161839683, -0.02852419244453725, 0.05352435730566728, -0.005327537847270768, -0.015845355693491745, -0.10204357873672038, -0.0156538329411705, -0.006151087731161693, 0.014913276001599439, 0.0039900674293533766, 0.0032191863954830462, 0.012998042890451797, -0.016662520430139764, 0.017224322117907805, 0.024080854532401004, 0.0020397225276274425, -0.014159950630187622, -0.002765914748547018, -0.005241352329329448, 0.02311047047630895, -0.011842519366636349, -0.006007445201259494, -0.010469936226818138, -0.028626339899263307, 0.023965940508479243, -0.018220243037681372, 0.008222730407068501, 0.00545841194533221, 0.0075077107968402204, 0.0006823014931665262, -0.0012808116657771905, -0.0005793577576801605, 0.03820249986706636, -0.007143816542975069, 0.00459655769724154, 0.022867873996624676, 0.021297382957242313, -0.010604002898501034, 0.013674758602141597, -0.020148244580669772, 0.006364955239204266, -5.481355119432669e-05, -0.014874970706077167, 0.022318840740697392, -0.02760488211580823, 0.013713062966341342, 0.01069338005874128, 0.015449540825685965, 0.01578151353428796, 0.023876563348239, -0.007328955545037203, -0.04599111290477439, 0.011612692250115356, -0.023582893141191694, -0.018577753541287406, -0.015577222350125954, -0.045020726986037284, -0.03181839198010095, -0.019573674461060973, 0.027732564571570743, -0.01593473285373199, 0.0037059744775091667, 0.036057440570720245, -0.013981196309707131, 0.01541123646148622, 0.012978891174013187, -0.019050178068815204, -0.00038823355319267264, 0.0025759873517139696, 0.024872484268012564, -0.03049049928304792, -0.021667661892689104, -0.018475607949206406, 0.015168639981801945, -0.0357765387955137, -0.008037591870667632, -0.018245779901362887, -0.03478061973838519, 0.0078332997551831, -0.007743922594942855, 0.026353596284509628, -0.00462528620322198, -0.022459291628300668, 0.014211023426228124, -0.021297382957242313, -0.02198686710077287, 0.010482704658658895, 0.0031633254375022612, 0.017875500965916093, 0.03567439506607775, 0.03373362695389365, 0.005187087425328757, -0.016202866197097782, -0.019982256829384985, -0.005681855777255351, 0.012283022814562252, 0.008612161058953903, -0.0036006367774679745, -0.004548676543499964, -0.017735051940957872, 0.01707110466110883, -0.01240432105440439, -0.014517461133793657, -0.017556295757832328, 0.01852667981392438, -0.016190097765257025, -0.01394289101418486, -0.03746194572146288, 0.02394040364479773, -0.005068981293446809, 0.004960451485445427, 0.0028201796525477085, 0.0012217585998362162, 0.0021929409157489463, 0.005426491331391581, 0.011440321214232716, -0.009180346962642322, -0.02221669514861639, 0.021935793373409843, 0.013004427106372174, 0.016432692382296245, -0.019114018365373936, -0.007099127962854947, 0.011861672014397483, 0.0375130157235358, -0.0035272194585367804, 0.018845886884653197, -0.014108877834147122, 0.014696216385596676, -0.024821410540649538, 0.055516199145214405, 0.004082636697553811, -0.009857062674332123, 0.016190097765257025, 0.030694790467209927, -0.0251406157487333, -0.029085994132305292, 0.00554459746327353, -0.010035816994812614, 0.020212084877228503, 0.00414328581747488, -0.009754916150928593, -0.024527742196247284, -0.04323317633065216, 0.015845355693491745, 0.011325407190310957, 0.016190097765257025, 0.008465326886752778, -0.028243292531975755, -0.0014268480438189004, -0.02096540931731779, 0.009620850410568225, 0.0112615659624297, -0.02432345101208528, 0.0018003183887339872, -0.01204681148212088, -0.004746583977402854, 0.00919311539448308, 0.008758996162477556, -0.04415248852202623, -0.02875402049238077, -0.040219878570295, 0.018692667565209167, 0.016828508181424555, -0.014951580365799182, -0.0018082985422191447, -0.022714654677180646, 0.022420986332778396, 0.008899446118758302, -0.00451037217930022, -0.0007106309856519425, 0.01650930297334079, -0.00011860475323158361, -0.022408217900937638, 0.02609823323562965, 0.010827446730424175, -0.019624746325778947, -0.009761300366848972, 0.014147183129669392, -0.017237090549748563, -0.00016848059609850081, 0.02575349116386437, 0.04139455567319411, 0.0059723329450199385, 0.02946904149959284, 0.00708635953101419, 0.007450253784879341, 0.008484479534513914, 0.010367790634737136, -0.027758099572607203, 0.024821410540649538, 0.0289072398118248, 0.0032750473534638312, -0.0007082369628894585, 0.009295260986564082, -0.0026302524885452915, -4.4420671075419317e-07, -0.019407686709776186, 0.02345521254807423, 0.005723352715076548, 0.0015920368367911138, 0.0009687883513579042, 0.03248233925995, -0.018564985109446652, 0.0007632998938801964, 0.017786123805675846, 0.02165489346084835, 0.020850495293396033, 0.004689126965441975, -0.022727423109021403, -0.010987049334466058, 0.002165808463748601, 0.01456853392983416, -0.002606311911674504, -0.012857592934171049, -0.03465293541997762, 0.002765914748547018, 0.009780453014610108, 0.02826882939565727, -0.024425596604166284, 0.004593365589281351, -0.020084402421465985, -0.019356614845058212, -0.02026315860459153, 0.020914337452599817, -0.020480218220594294, 0.029366895907511837, -0.012589460522127786, -0.0020812189997873763, -0.017620137917036115, 0.015283554005723704, 0.011727606274037116, 0.013202335005936329, 0.013457698986138834, -0.007220425737035821, 0.00013237048597926807, 0.03286538476459249, 0.0034410339405954605, 0.02191025837237338, -0.004781696699303673, -4.6010465117490694e-05, 0.006048942139080691, -0.03618512116383771, 0.02432345101208528, -0.006195776311281816, 0.006575631104947913, 0.04588896545004833, -0.00936548643036572, 0.008484479534513914, 0.02469372808488702, -0.009384638146804328, -0.007929062062666251, 0.0016095931977415231, -0.01721155368606705, -0.021322919820923828, -0.031026764107134445, 0.01687958004614253, -0.020084402421465985, -0.0066713924811085375, -0.05735482352796256, -0.04382051674474676, 0.008663233854994404, -0.012589460522127786, 0.0038815373885213635, -0.005244544437289637, -0.007673697616802482, 0.0015856527372860513, 0.02519168947609633, 0.02082495842971452, -0.006154279839121883, -0.009537856534925832, -0.0025281066636336576, 0.03710443335521179, -0.014364242745672154, -0.012142572858281504, -0.01966305162130122, -0.010457168726299908, 0.021131397068602578, -0.021782575916610866, -0.021667661892689104, 0.01867989913336841, 0.009595313546886712, -0.017990414989837854, -0.01925446925297721, -0.0075651678088011, 0.020697277836597056, -0.02575349116386437, 0.018220243037681372, -0.030158525643123397, -0.03536795642718969, -0.019624746325778947, -0.0035495639814274735, -0.016075183741335264, -0.0078013796069037345, -0.03536795642718969]})]\n"
          ]
        }
      ]
    },
    {
      "cell_type": "code",
      "source": [
        "for source in response['source_documents']:\n",
        "  print(source.metadata)"
      ],
      "metadata": {
        "colab": {
          "base_uri": "https://localhost:8080/"
        },
        "id": "PyOGDm3LC2vN",
        "outputId": "921152a8-391b-4a22-9e47-aa9ae1f87407"
      },
      "execution_count": 55,
      "outputs": [
        {
          "output_type": "stream",
          "name": "stdout",
          "text": [
            "{'aapl:keywords': '[]', 'creationdate': \"D:20190823182446Z00'00'\", 'creator': 'Word', 'keywords': '', 'moddate': \"D:20190823182446Z00'00'\", 'page': 0.0, 'page_label': '1', 'producer': 'macOS Version 10.14.6 (Build 18G87) Quartz PDFContext', 'source': '/content/heart_disease.pdf', 'title': 'Microsoft Word - أمراض القلب-ar-en-T-C.docx', 'total_pages': 8.0}\n",
            "{'aapl:keywords': '[]', 'creationdate': \"D:20190823182446Z00'00'\", 'creator': 'Word', 'keywords': '', 'moddate': \"D:20190823182446Z00'00'\", 'page': 6.0, 'page_label': '7', 'producer': 'macOS Version 10.14.6 (Build 18G87) Quartz PDFContext', 'source': '/content/heart_disease.pdf', 'title': 'Microsoft Word - أمراض القلب-ar-en-T-C.docx', 'total_pages': 8.0}\n",
            "{'aapl:keywords': '[]', 'creationdate': \"D:20190823182446Z00'00'\", 'creator': 'Word', 'keywords': '', 'moddate': \"D:20190823182446Z00'00'\", 'page': 0.0, 'page_label': '1', 'producer': 'macOS Version 10.14.6 (Build 18G87) Quartz PDFContext', 'source': '/content/heart_disease.pdf', 'title': 'Microsoft Word - أمراض القلب-ar-en-T-C.docx', 'total_pages': 8.0}\n",
            "{'aapl:keywords': '[]', 'creationdate': \"D:20190823182446Z00'00'\", 'creator': 'Word', 'keywords': '', 'moddate': \"D:20190823182446Z00'00'\", 'page': 4.0, 'page_label': '5', 'producer': 'macOS Version 10.14.6 (Build 18G87) Quartz PDFContext', 'source': '/content/heart_disease.pdf', 'title': 'Microsoft Word - أمراض القلب-ar-en-T-C.docx', 'total_pages': 8.0}\n"
          ]
        }
      ]
    },
    {
      "cell_type": "code",
      "source": [
        "response=llama_qa.invoke(\"What are Symptoms of Heart Valve Disease?\")"
      ],
      "metadata": {
        "colab": {
          "base_uri": "https://localhost:8080/"
        },
        "id": "vA0kjwi5DMt_",
        "outputId": "dcf20d2e-b4de-4ac9-f7c1-2812cb73a6e7"
      },
      "execution_count": 56,
      "outputs": [
        {
          "output_type": "stream",
          "name": "stderr",
          "text": [
            "Llama.generate: 45 prefix-match hit, remaining 515 prompt tokens to eval\n",
            "llama_perf_context_print:        load time =  143236.24 ms\n",
            "llama_perf_context_print: prompt eval time =  130781.89 ms /   515 tokens (  253.95 ms per token,     3.94 tokens per second)\n",
            "llama_perf_context_print:        eval time =   42528.98 ms /    71 runs   (  599.00 ms per token,     1.67 tokens per second)\n",
            "llama_perf_context_print:       total time =  173386.95 ms /   586 tokens\n",
            "llama_perf_context_print:    graphs reused =        115\n"
          ]
        }
      ]
    },
    {
      "cell_type": "code",
      "source": [
        "response['query']"
      ],
      "metadata": {
        "colab": {
          "base_uri": "https://localhost:8080/",
          "height": 36
        },
        "id": "TDpjSuNIEKkH",
        "outputId": "63fffbc3-2467-4c0f-d178-2a766e5f8af1"
      },
      "execution_count": 57,
      "outputs": [
        {
          "output_type": "execute_result",
          "data": {
            "text/plain": [
              "'What are Symptoms of Heart Valve Disease?'"
            ],
            "application/vnd.google.colaboratory.intrinsic+json": {
              "type": "string"
            }
          },
          "metadata": {},
          "execution_count": 57
        }
      ]
    },
    {
      "cell_type": "code",
      "source": [
        "response['result']"
      ],
      "metadata": {
        "colab": {
          "base_uri": "https://localhost:8080/",
          "height": 72
        },
        "id": "sqbEy50BEViM",
        "outputId": "b5ec07bd-4c4e-4f6a-805f-fdaa64f187cf"
      },
      "execution_count": 61,
      "outputs": [
        {
          "output_type": "execute_result",
          "data": {
            "text/plain": [
              "' Shortness of breath, particularly when the patient has been very active, chest pain after physical exertion, dizziness and fainting in advanced cases, fatigue and lethargy, heart palpitations, coughing up of blood, particularly in the case of mitral valve disease, swollen feet or ankles.'"
            ],
            "application/vnd.google.colaboratory.intrinsic+json": {
              "type": "string"
            }
          },
          "metadata": {},
          "execution_count": 61
        }
      ]
    },
    {
      "cell_type": "code",
      "source": [
        "print(response['source_documents'])"
      ],
      "metadata": {
        "colab": {
          "base_uri": "https://localhost:8080/"
        },
        "id": "A6gNmxUMEQyh",
        "outputId": "3f5bde49-bdad-405c-f362-35260796b8f1"
      },
      "execution_count": 63,
      "outputs": [
        {
          "output_type": "stream",
          "name": "stdout",
          "text": [
            "[_DocumentWithState(metadata={'aapl:keywords': '[]', 'creationdate': \"D:20190823182446Z00'00'\", 'creator': 'Word', 'keywords': '', 'moddate': \"D:20190823182446Z00'00'\", 'page': 2.0, 'page_label': '3', 'producer': 'macOS Version 10.14.6 (Build 18G87) Quartz PDFContext', 'source': '/content/heart_disease.pdf', 'title': 'Microsoft Word - أمراض القلب-ar-en-T-C.docx', 'total_pages': 8.0}, page_content='speech. • Difficulty in seeing with one or both eyes. • Difficulty in walking, dizziness, loss of balance, or coordination. • Severe headache with no known cause. • Fainting or loss of consciousness.  Symptoms of Rheumatic Heart Disease: • Symptoms of rheumatic heart disease include: shortness of breath, fatigue, irregular heartbeats, chest pain, and fainting. • Symptoms of rheumatic fever include: fever, pain and swelling of the joints, nausea, stomach cramps, and vomiting.  Prevention: You', state={'embedded_doc': [-0.019775957031061206, -0.005691792396869765, 0.010083909229060014, -0.020089445800179233, -0.003448383678048311, 0.039891526429672315, -0.00888220041812908, -0.024151746381400885, -0.03226328667595084, -0.006857581027126223, -0.003572473098906186, 0.02625473796468325, -0.01597489802209382, -0.0029046754590598355, 0.0071580084626896015, 0.016732497277779593, 0.037148494577615376, 0.017359476678660814, 0.02813567430468174, -0.03296863687212769, -0.0023854584628472137, 0.004042707416736455, 0.005822412717335609, -0.0248962847691933, -0.005662402650141966, -0.015347919552535186, 0.025719193952281352, -0.019148977630179986, -0.030330101276443425, 0.003360214670695559, 0.029128391534189908, -0.014825437339349226, 0.0004151285718194757, -0.024870161170761424, -0.0027822186466886297, 0.016823932666258912, 0.0027740546729326998, -0.0025715928269646722, 0.01022759181440309, -0.0199718886759132, 0.006508170680349845, 0.004499879236858848, -0.010338619436045027, 0.01823463492125778, 1.2060719298994778e-05, 0.03866369308898692, -0.0022270810041402395, -0.018038703276405787, -0.017019862448465744, 0.028658157449190286, 0.04127610508623931, -0.005672199232384566, -0.025000781025565976, -0.01106356372802966, -0.012134652684156042, -0.0008102558270320845, 0.009790013624427187, 0.0034516491278522954, -0.002073601836554565, -0.03874206574692772, -0.001615613362942869, 0.005218292629235512, -0.015857339035182626, -0.029781494533503004, -0.023916630270223657, -0.00470887221526549, -0.0014009057891715918, 0.017895020691062715, 0.006286115902727263, 0.015726719180378074, 0.03471895335732163, 0.036051281091734534, -0.004414976144971371, 0.026711911181789515, 0.01912285403174811, -0.025053028222429732, -0.01026677814337349, -0.03307313499114553, 0.008059290303718448, 0.018691806275718884, 0.017816648033121916, -0.01631451225228889, -0.020298440175569747, 0.030878708019383846, 0.020611928944687774, 0.0030287648799177105, -0.008594835247442931, 0.026398420550026325, -0.01792114428949459, -0.02577144301179027, 0.016941489790524948, 0.0026385358285149095, -0.024543609671104874, 0.008967103510016556, 0.020102508530717753, 0.016614938290868398, 0.014564195767094954, 0.02408643645399861, -0.022257749173509037, -0.019488591860375055, -0.019018357775375434, 0.0045455964654372155, -0.031244445848010793, -0.0017454176119960244, -0.007125353033327173, 0.0019282864098941752, -0.029154515132621787, 0.0035528799344209864, -0.003340621506210359, -0.033700112529381585, -0.013662913926066106, 0.026163304438849094, -0.00803969713923325, -0.0014115187920728492, 0.009541833851388855, -0.016810869935720393, 0.03239390653075539, 0.007229849755361139, -0.005897519692641777, -0.03659988969732012, 0.010136157357246352, -0.008385841803374997, 0.020311501043463104, -0.010717419063887913, 0.013264521133738022, -0.026124118109878698, -0.030617466447129576, 0.0006465719250821429, -0.005182371982899743, -0.017059048777436144, 5.689138971521466e-05, 0.02279329318591094, 0.0015862237326303927, -0.019253475749197828, 0.0015454047951733241, 0.0057407748424214726, -0.013597603067341249, -0.0023413740755861604, -0.01691536619209307, 0.007909076353106113, 0.01022759181440309, 0.03147956382183319, -0.031166073190069997, -0.0310093278741884, 0.01219343217761164, 0.003627986909727154, 0.02578450387968363, 0.018391378374494213, 1.8304741538308405e-05, -0.02411256005243049, 0.012115059519670842, -0.022244686442970518, -0.006988201347592067, -0.012657134897342001, -0.01737253754655417, 0.015739781910916593, -0.0038206521734525816, 0.008091945267419588, -0.0007180050656320128, -0.0010547612414451668, -0.0032736785046601218, -0.00040778116424135654, 0.01588346449625967, 0.00581914750036227, -0.01635369858125929, 0.019410219202434256, -0.023629265099537507, -0.00610324698841379, -0.008568710717688471, -0.007726207904453931, 0.0009037312194201424, 0.01768602817831736, -0.016628001021406918, 0.0027201737034290466, 0.04349665751907803, 0.01664106375194544, 0.01440745138253594, 0.011455426086411067, -0.01137705342847027, -0.03699174926173378, -0.033909105042126936, -0.007876421389404975, 0.03072196270350225, 0.00911078609535963, -0.018744055335227806, 0.020951543174882844, 0.03524143650183017, 0.004878678864701733, 0.00552198528177223, 0.009332841338643504, -0.014590320296849413, 0.0037651385954622593, -0.00414720367310913, -0.01192566017141069, -0.6407723479288626, 0.014498885839692678, -0.005126858172078775, -0.009737764564918268, 0.020376812833510546, 0.002842630515800252, 0.021526273516255145, 0.0016196953498208342, -0.007595587118326795, 0.005881192210791208, 0.005035423714922038, -0.008033166705286572, -0.004633765239959322, 0.006527763844835044, -0.01793420702003311, -0.010625984606731175, -0.004085158962680193, -0.018587310019346208, -0.013649851195527586, -0.002318515461296976, 0.002734868576792946, 0.015543850266064599, -0.006393877841734569, 0.010162281887000814, 0.003699828202398691, 0.0006200395924519838, 0.01052801971562776, -0.007510684026439319, -0.00965286147303079, 0.02570613122174283, -0.024517484210027835, 0.010887226178985446, 0.006792270634062654, 0.01628838679121185, 0.047389150053879565, 0.00798744901104691, -0.004264762194359036, 0.03913392903663171, 0.013715162054252446, 0.012454672818543329, -0.012990217762267811, 0.01355841766969343, 0.015178112437437651, -0.027848309133995594, 0.017045986046897624, -0.0027756875142500147, 0.029703121875562205, 0.01385884463959552, -0.0026662927339253938, -0.01026024770942681, -0.007719677004845962, -0.0132906447321699, 0.0030352960123563254, 0.028318543218995216, 0.027874434595072634, -0.018979171446405034, 0.03884656386594556, -0.017790524434690036, -0.013623727597095708, 0.030408473934384225, -0.009287123644403844, 0.01601408435106422, -0.0027969132872218837, -0.010639047337269697, -0.0020980932921610645, 0.004607641175866153, -0.0016098987675782343, -0.0009233242674900191, 0.010345150801314287, -0.005482799418463123, 4.877862778737129e-05, 0.01754234559297429, 6.342242029042225e-05, 0.01887467519003236, 0.03524143650183017, 0.010965598836926245, 0.03492794587006698, 0.02126503194400087, -0.03492794587006698, 0.011109281422269319, -0.013662913926066106, 0.008209504254330783, -0.03030397767801155, -0.0037879972097514436, 0.023968877467087413, -0.011801569819230232, -0.02215325291713636, 0.009914103045285063, 0.000585751729225869, -0.01929266021552306, 0.010221061380456411, 0.028579784791249487, -0.014250706066654345, -0.03268127170144154, -0.014276830596408805, 0.012291397068715055, 0.005025627132679438, 0.025849813807085904, -0.0015968367355316498, 0.025497138708997478, 0.00415046935574376, -0.00086617778997472, -0.004215779748807328, 0.002240143036186824, 0.005025627132679438, 0.011311743501067992, -0.040205017061435505, -0.011174591349671597, 0.03471895335732163, -0.018966108715866514, -0.040283389719376304, -0.03505856572487153, -0.008072352102934388, -0.008993228039771017, -0.0001814401636089075, -0.01721579409331774, 0.02134340460194167, 0.014224582468222467, 0.033595614410363746, -0.0209254177138058, 0.029468005764384977, -0.02740420051007301, 0.025680007623310953, -0.014799312809594765, -0.002189527749317801, 0.004617437758108753, -0.011435832921925867, -0.010423523459255084, 0.012905314670380336, -0.020076384932285876, 0.006857581027126223, -0.026777221109191795, 0.028841026363503757, -0.0006179986572206627, 0.013780471981654722, -0.007014325877346527, 0.02936350764536714, 0.02117359841816672, -0.01248079734829779, -0.022009568469148123, -0.000440028121339981, 0.005770164589149271, 0.007706614739968732, -0.023603139638460464, -0.0016360228316714032, 0.005561171610742629, 0.002434441141229567, -0.023746824086448706, -0.006687774377689979, -0.004940723575130671, -0.013453920481998173, -0.0387943166690818, -0.01583121543675075, 0.02193119767385249, 0.01167094996442568, -0.022871665843851734, 0.0007163722825223591, -0.012546107275700066, -0.014355203254349603, -0.03631252452663397, 0.02740420051007301, -0.0047219344801427195, -0.026907840963996347, -0.00964633010776153, -0.03484957321212618, -0.020337626504540147, 0.0020882967099184646, -0.005097468425350976, -0.0017992985814996774, -0.02301534842919481, 0.0073474082766110446, -0.006338364030913601, 0.019214289420227428, 0.012957562798566673, 0.020324563774001627, 0.02850141213330869, 0.01020799864991789, -0.023707637757478306, 0.0028018115783431836, -0.0033471526386489744, -0.0013070223028695278, -0.01634063585072077, -0.016719436409886237, -0.010972129270872924, 0.013989465425722655, -0.001402538630488907, 0.03226328667595084, -0.003974131341038256, 0.000805357594118446, 0.013924154566997797, -0.006851050127518253, 0.007706614739968732, -0.030121108763698074, 0.004800306672422226, 0.0009029147987614848, -0.00046411127930565945, -0.005910581491857716, 0.009724702765702328, 0.014120085280527208, 0.040048271745553914, 0.033229876581736796, -0.01690230346155455, 0.013068590420208609, -0.00637101946027603, 0.022074880259195562, -0.02125196921346235, 0.015243422364839929, -0.010678233666240095, 0.020259253846599348, 0.006439595070312937, -0.012761631153714677, 0.0024981186929758196, 0.012513452311998928, -0.0017258245639261477, -0.002663027284121409, 0.0388726893270226, 0.039917651890749355, 0.005701588513451074, 0.011194184514156796, -0.018352192045523814, -0.00883648272388942, -4.007909261494848e-05, 0.019802080629493082, 0.0035528799344209864, 0.023537829711058188, 0.01302940409123821, 0.01738560027709269, 0.007575994419502887, 0.008105007997958108, -0.016575751961898, -0.01882242613052344, -0.005019096233071469, 0.0077458010689391305, 0.03171467807036525, -0.015726719180378074, 0.025562448636399754, -0.014080899882879392, -0.011866880677955091, 0.001169054312891088, 0.018639559078855127, -0.0038892280163201343, -0.003912086630609319, 0.006864111926734192, 0.010423523459255084, 0.011853818878739153, 0.007177601627174801, 0.018613433617778088, 0.026111055379340175, 0.0044966140198855085, 0.03910780357555466, -0.019214289420227428, -0.007033918576170435, -0.02309372108713561, -0.0030091719482631565, -0.01771215177674924, -0.014929933595721902, 0.012598356335208985, 0.021656893371059697, 0.0033308249239677595, 0.03443158818663548, 0.04038788783839414, 0.003899024598562734, 0.009927164844501, 0.003221430376473784, 0.002790382387613914, 0.0021193190651329335, -0.005440347406858093, -0.012108529085724164, -0.018992234176943554, 0.009757357729403466, -0.014799312809594765, 0.0011739526040123877, -0.00800704217553211, -0.024661166795370906, 0.007713145639576701, 0.0104823020213881, -0.006165291698842727, -0.005512188699529631, 0.011403177026902148, 0.009313248174158304, 0.005019096233071469, -0.012075873190700442, 0.006909829155312561, 0.016889242593661192, 0.0029259012320317045, -0.016327573120182248, 0.011122343221485259, 0.009705109601217128, 0.010403930294769884, 0.04091036725761236, 0.01930572294606158, -0.003252452731688253, 0.01498218172390824, 0.0015576505229765738, 0.007464966797860951, -0.009776950893888666, 0.03670438409104763, 0.006122840152898989, 0.021500149917823265, -0.021434838127775826, -0.007726207904453931, -0.009522240686903655, -0.0045325346662212765, -0.014446636780183757, 0.020886231384835405, 0.02625473796468325, -0.01327758293295396, 0.00346471115989888, 0.013950279096752257, 0.006903298255704591, -0.0033373560564063745, -0.024230119039341684, -0.0014229480992174412, -0.013101245383909747, 0.02189201134488209, 0.002230346453944224, -0.014525009438124554, -0.011912597440872169, 0.009319779539427564, -0.02022006751762895, -0.006322036549063032, -0.024190932710371284, 0.010358212600530225, -0.0316624308735015, 0.06018996660524206, -0.006674712112812749, -0.010926412507955846, -0.0038043246916020126, 0.004757855126478488, -7.321896615323362e-05, 0.015073616181064975, -0.04226882417839264, 0.01771215177674924, 0.01854812369037581, 0.024034189257134853, -0.027221331595759537, 0.012990217762267811, 0.033882979581049896, 0.00469907563302289, 0.011161529550455657, 0.016366759449152647, -0.0037651385954622593, 0.003484304324384079, 0.03317762938487304, 0.010495364751926622, 0.011540329178298543, 0.011285618971313532, 0.040126644403494706, 0.009182627388031168, -0.00664532236608495, 0.016993738850033867, 0.005312992303365588, 0.02459585686796863, 0.0003883921631284829, -0.006994732712861327, 0.013369017390110698, -0.006517967262592444, 0.01387190643881146, -0.0015372410542480394, 0.01747703566557201, -0.006129371052506959, -0.0014931566669869863, 0.017437849336601613, 0.0063906121590999385, 0.024765663051743585, 0.011520736013813345, -0.002029517449293512, -0.002029517449293512, 0.0009110785978944309, 0.015360981351751126, -0.009613675144060392, 0.013976402695184135, -0.007687021575483532, -0.01942328193297278, 0.025392642452624802, 0.013845782840379581, 0.013055527689670087, -0.030748086301934128, 0.02633311062262405, -0.017098235106406543, -0.005055016879407238, -0.011781977586067615, -0.008718924668300806, -0.014446636780183757, -0.002045844931144081, -0.004228841548023267, -0.008464214461315796, 0.009855323551829465, -0.020546619017285498, 0.010168813252270073, -0.0024785257613212657, 0.009091192930874431, -0.02876265370556296, 0.002434441141229567, -0.005629747220779536, 0.0016164297836015265, 0.0002924676542836057, 0.025875939268162947, 0.00911078609535963, 0.008196442455114845, 0.006707367076513887, 0.008281345547002321, -0.003663907556062923, -0.017006801580572387, -0.008359718204943118, 0.00554484412889206, 0.006942484119013699, 0.002534039339311588, -0.012918376469596274, -0.0015674471052191735, -0.0017846038245511006, -0.020102508530717753, -0.02548407784110412, 0.03866369308898692, 0.01917510309125703, 0.011272557172097594, 0.027351951450564092, 0.007380063240312183, 0.00662899488423438, 0.008699331503815607, 0.021108286628119276, -0.0004624785252998364, -0.04273905640074709, -0.023198217343508284, -0.016157766936407296, -0.02355089244159671, 0.0023054534292503916, -0.01194525333589589, -0.011488081050112205, 0.0022172844218976396, -0.0022597362006720233, 0.012004031898028907, -0.005711385095693673, 0.0010025129968435063, 0.011252964007612394, -0.02518364993987945, 0.012761631153714677, 0.008967103510016556, 0.011723198092612018, 0.022806354053804295, 0.010136157357246352, -0.0012572232038285172, 0.025118340012477175, -0.006060795442470051, 0.012546107275700066, -0.013780471981654722, 0.029415756704876058, -0.004219044965780667, -0.02462198046640051, 0.026150241708310575, 0.025026904623997856, -0.036051281091734534, -0.04407138786045033, 0.004460692907888448, 0.020703364333167093, 0.02660741492541684, 7.878054085203136e-05, -0.017555406460867645, -0.043627277373882584, 0.011213777678641994, 0.0032818422455854063, -0.0028230375841456984, -0.008980165309232496, -0.004101486444530762, 0.006837987862641023, -0.008118069797174048, -0.001603367751554942, -0.014250706066654345, 0.03913392903663171, -0.03500631852800778, -0.0209646040427762, -0.03691338032908331, -0.02133034187140315, -0.007367001441096244, 0.011422770191387346, 0.014224582468222467, -0.04689279237044807, -0.0075694630542336265, -0.0071580084626896015, -0.023916630270223657, 0.009202220552516368, -0.00022797375463827209, -0.0059660953026786845, 0.009842261752613525, -0.005277071657029819, -0.008634020645090747, 0.03453608258036299, 0.01137705342847027, -0.016183890534839176, 0.017555406460867645, 0.00581914750036227, -0.022401431758852113, -0.036573764236243075, -0.005247682375963311, -0.010619454172784497, -0.0007767843262569658, -0.023537829711058188, 0.010900287978201386, 0.011697073562857556, 0.01609245700900502, -0.001404987776049557, -0.00830093871148752, -0.023067595626058566, -0.05956298906700601, 0.019057544104345833, 0.007288628783155447, 0.0025715928269646722, 0.02605880818247642, -0.0194363446635113, -0.002431175691425582, 0.033047009530068484, -0.019148977630179986, -0.00528360302229908, -0.02408643645399861, -0.003162651115848831, 0.005949767820828115, 0.01991963961640428, -0.024948531966057057, -0.0015184643104214975, -0.006674712112812749, -0.01214771448337198, -9.806748938257286e-05, -0.007693552940752793, -0.018077889605376186, 0.015321795022780726, -0.008993228039771017, 0.008764641431217883, -0.0018972640546797064, -0.010619454172784497, -0.006191415762935896, -0.03516306384388937, -0.01724191769174962, -0.0002645067019161186, -0.011148467751239718, -0.013506168610184511, -0.006436329387678307, -0.012310990233200255, -0.030199479558993707, -0.0011135405020701197, -0.006544091326685613, -0.011213777678641994, 0.02049436995777658, -0.024439111552087035, -0.020298440175569747, -0.015099739779496853, -0.03659988969732012, -0.015609160193466875, -0.02488322203865478, 0.03127056758379751, 0.0016237772202834764, -0.020977666773314724, -0.04276518186182414, 0.0009886345441382641, 0.0010270043360346827, -0.004104752127165392, 0.025588574097476797, 0.00973123413097159, -0.008111538431904786, -0.001620511654064169, 0.025039967354536376, 0.023159031014537885, -0.025366518854192926, -0.04177246276967081, 0.021996507601254767, 0.018417503835571256, -0.02680334470762367, 0.018639559078855127, -0.011128874586754519, -0.03014723236212995, 0.04135447774418011, 0.0008057657462401134, -0.0009494483897908494, -0.018887737920570878, -0.054024674440738045, -0.0036083937452419546, -0.000325531002937057, -0.033647865332517825, 0.03644314438143852, -0.004480286072373648, -0.005061547779015207, -0.022388369028313593, 0.0008004593029971461, -0.005717916460962934, 0.004764386026086458, 0.02130421827297127, 0.032733518898305294, -0.022192437383461598, -0.007046980841047665, 0.00860136568138961, -0.013636789396311647, 0.015334856821996664, 0.014760126480624367, -0.01217383901312644, 0.03490182040898994, -0.001895631329777714, -0.02651597953693752, 0.025693070353849472, -0.008105007997958108, -0.009509178887687717, 0.015008305322340118, -0.024830974841791024, -0.007582525319110856, -4.0691375367132126e-05, -0.024308491697282483, 0.01631451225228889, 0.010443115692417702, -0.01244161101932739, 0.015726719180378074, -0.020324563774001627, -0.020703364333167093, 0.008327062309919399, -0.024452174282625555, 0.02215325291713636, -0.029311260448503382, -0.02492240836762518, -0.004767651708721088, -0.022309996370372794, -0.004672951568929721, -0.0019903311203231127, -0.018247695789151138, 0.01165135679994048, -0.004333338270057234, -0.02121278288449195, 0.014864622736997042, 0.0012637542198518095, 0.010848039850015048, -0.0022532050682334084, 0.002189527749317801, -0.01938409560400238, -0.022832479514881335, 0.00264669980227084, -0.007014325877346527, -0.025039967354536376, -0.03424871740967684, 0.015138926108467253, 0.013342892860356238, 0.0023136171701756765, -0.027038462681446065, 0.025314269794684003, -0.00884301408915868, -0.00802663534001731, 0.014773188279840305, -0.030016610644680235, 0.027247455194191417, -0.0014302954194840682, 0.0017192935479028555, 0.01849587463086689, -0.011161529550455657, 0.004029645151859224, -0.006207743710447756, 0.01930572294606158, 0.0029699856192927578, -0.01137705342847027, -0.0315056855576199, -0.010390867564231365, 0.020246191116060828, -0.026398420550026325, -0.006008547314283713, -0.006455922552163507, -0.016223076863809572, -0.004369258916393002, 0.01104397056354446, 0.006227336409271664, -0.012180370378395701, 0.003467976609702865, 0.0043561966515157724, -0.011716666727342756, 0.009456930759501379, -0.0037782006275088437, 0.0026287394791029554, 0.01913591676228663, 0.023237403672478684, -0.00031818359535893786, -0.001905427795604991, -0.0006245296732439549, 0.05329319878348415, 0.016667187350377317, 0.010867633014500248, -0.015648346522437274, -0.018848551591600482, -0.04211207886251104, -0.0005175840966876451, -0.010038192466142938, -0.0036965627525947066, 0.014002527224938595, 0.0320020432410514, -0.004950520157373271, 0.02496159469659558, -0.007523745825655258, 0.02852753759438573, -0.03479732601526243, -0.0194363446635113, -0.004914599511037502, 0.011853818878739153, -0.0071580084626896015, 0.014472761309938216, -0.01597489802209382, 0.0007371899615802221, 0.018691806275718884, -0.0032508198903709374, 0.006883705091219392, 0.01635369858125929, 0.007575994419502887, -0.03163630541242445, -0.01058679920908336, -0.019945763214836158, -0.013911092767781857, -0.006139167634749558, -0.032655146240364495, -0.00860789704665887, 0.002426277400304282, -0.017098235106406543, -0.006436329387678307, -0.04579557888456723, 0.009463462124770639, 0.03432709006761764, 0.003376542152546128, 0.0020050259936870126, -0.041328356008393394, -0.017150484165915462, -0.016810869935720393, -0.03176692899251934, 0.0250138437561045, 0.012755100719767999, -0.02792668179193639, -0.003918617530217288, -0.014120085280527208, 0.025209773538311327, 0.0016964349336136713, 0.004317010322545374, 0.0105018951858733, -0.011037440129597781, 0.00029512090500891997, -0.01660187742297504, -0.01246773554908185, 0.01553078846684866, 0.008131131596389986, -0.01553078846684866, 0.002465463729274681, -0.01829994484866006, -0.01822157219071926, -0.05125552085289439, 0.02936350764536714, -0.0075890562187188254, 0.005760368006906672, -0.015374043150967064, -0.022231623712431994, -0.044097509596237046, 0.008731986467516745, -0.024700353124341306, 0.028370792278504135, -0.017006801580572387, -0.010632515972000435, 0.0069490154842829594, 0.002018088025733597, -0.03516306384388937, -0.0065734810734134124, -0.005371771796821186, -0.02071642520106045, 0.015987960752632344, 0.18307781369396073, 0.000742088252701522, 0.0010106768541841137, -0.008895262217345018, -0.027299702391055173, 0.00995981980820214, 0.018143199532778462, -0.023315774467774317, -0.006449391652555537, 0.0193971583345409, 0.01721579409331774, 0.001993596802957743, -0.0024393394323508665, 0.010044722900089616, -0.02455667053899823, -0.024569733269536754, -0.03255065184663699, -0.0006465719250821429, 0.003200204370671269, -0.04853861073662417, -0.02109522576022592, 0.008967103510016556, 0.004072096697802963, -0.00995981980820214, 0.0200110750048836, 0.0001241916044074455, -0.007046980841047665, 0.003680235037913492, 0.03242003199183243, -0.014538071237340494, -0.017816648033121916, -0.007367001441096244, -0.0009633268424960915, 0.005913847174492347, -0.0071580084626896015, -0.0016425539641100183, 0.024008063796057813, -0.008483807625800994, 0.0012857964134823361, 0.03218491401801004, -0.012866128341409936, 0.002816506451707083, -0.01883548886106196, 0.0012955929957249358, -0.004953785840007901, 0.0392906743525133, 0.014851560937781103, -0.018339131177630457, -0.01639288491022969, -0.002214018972093655, -0.03503244398908482, -0.02609799451144682, 0.0023201483026142914, 0.023198217343508284, 0.005486064635436462, -0.016536567495572765, 0.016445132107093446, 0.025549387768506397, -0.014642568425035751, 0.007151477097420342, -0.00417006252022896, 0.02266267146846122, -0.017359476678660814, 0.03161018367663774, -0.029572502020757653, 0.04587395154250802, -0.012297928433984315, -0.012853065610871415, 0.0059562987204360845, 0.010743543593642373, 0.017019862448465744, -0.030068859704189155, -0.021460963588852865, -0.00043431346776768497, -0.009920633479231741, -0.014929933595721902, -0.0017045986745389558, -0.014773188279840305, -0.005809350918119671, 0.015726719180378074, -0.007438842733767782, -0.010096971959598536, -0.044698365398686386, 0.008464214461315796, -0.012389362891141053, -0.010410460728716563, 0.0210037903717466, 0.009104254730090371, -0.012611418134424925, 0.01658881469243652, 0.0022074880724856855, -0.018757116203121163, -0.01793420702003311, 0.00443783452642991, 0.027613193022818363, -0.0023087188790543766, -0.00858177251690441, 0.001536424633589382, -0.0075890562187188254, 0.01027984087391201, -0.011684011763641618, 0.05512188792661889, -0.0010163914495487482, 0.004490082654616248, 0.008718924668300806, 0.006054264542862082, -0.011128874586754519, 0.003017335689188441, 0.005721181677936273, -0.0026499652520748243, -0.004473755172765679, -0.008131131596389986, -0.00526400985781388, -0.013231866170036882, 0.0030842786907386787, 0.02492240836762518, 0.012931438268812212, -0.004650093187471183, -0.014851560937781103, -0.00911078609535963, 0.014472761309938216, 0.015543850266064599, 0.0003369603100816491, 0.03066971364399333, -0.017568469191406165, -0.011932190605357369, 0.0053358511504854175, 0.02083398418797165, 0.00856217935241921, -0.0320804158989922, 0.025862876537624424, -0.024282368098850603, -0.0047284653797506895, -0.0011486448441625535, 0.013884968238027397, -0.011507674214597405, 0.007249442919846339, -0.005149716553537314, -0.012996749127537071, 0.0045521273650451855, 0.009770420459941987, -0.01827382125022818, 0.0198935160179724, 0.02079479785900125, 0.0019184899440668982, -0.03417034475173604, 0.0011551758601858458, -0.010639047337269697, -0.020977666773314724, 0.018456690164541656, -0.013225334804767622, -0.010083909229060014, -0.002831201325070983, -0.013009810926753011, 0.01159257730648488, -0.01244814238459665, -0.00470560653263086, -0.01916204036071851, -0.0027822186466886297, 0.022244686442970518, -0.04785938227623403, 0.02155239711468702, 0.02293697577125401, -0.00333409060660239, 0.020115571261256276, 0.01248732871356705, -0.16364146903044943, 0.023916630270223657, -0.0025209773072650036, -0.018926924249541278, -0.0034189939313205115, 0.007693552940752793, 0.03291638967526393, 0.00373574884873446, -0.0008539321203791316, 0.023537829711058188, 0.0024017861775284285, 0.010025130666926998, 0.024465237013164078, -0.02138259093091207, -0.0005298297662832334, -0.016105517876898377, -0.037174620038692416, 0.02797893085144531, 0.04558658637182188, 0.0099859443379566, 0.014773188279840305, -0.0320804158989922, 0.01630144952175037, -0.03030397767801155, 0.00016490848928218184, 0.00039941325994374615, -0.00802663534001731, 0.01745091020449497, -0.00718413252678277, 0.006211008927421095, -0.0209646040427762, -0.00582567839997024, 0.05663708643799043, -0.01133133573423061, -0.013068590420208609, 0.004179859102471559, 0.005169309718022513, -0.012800817482685077, -0.003964334758795656, 0.02468729225644795, 0.022257749173509037, 0.01763377911880844, 0.011566452776730421, -0.016275325923318495, 0.004826430736515395, 0.023746824086448706, 0.0005502392350117676, -0.009221813717001566, 0.011213777678641994, 0.010377805765015425, 0.01354535493915491, -0.023145968283999365, -0.0019854330620324586, -0.013911092767781857, -0.0050027687512209, 0.006037936595350221, -0.012324052963738775, 0.0059269094393695765, -0.001813993454863577, -0.03228940841173755, -0.004617437758108753, -0.014838499138565164, 0.027273578792623293, -0.007798049197125468, 0.03299476233320473, -0.0032295941173990685, -0.01746397293503349, -0.01466869202346763, -0.0016254099451854687, 0.018025640545867267, 0.004369258916393002, -0.011122343221485259, -0.014015589024154533, -0.012252211671067239, 0.005156247918806574, 0.014720940151653967, -0.020259253846599348, -0.0020899295512357796, -0.0020164554172469274, -0.012840003811655476, 0.007713145639576701, 0.019854329689002, -0.007811111462002698, 0.010828446685529848, 0.006031405695742252, 0.013414734153027774, 0.012428549220111452, -0.007523745825655258, 0.0014335609857033756, -0.012833473377708798, 0.024765663051743585, -0.028841026363503757, -0.022022631199686643, 0.015726719180378074, -0.007001263612469297, 0.027064586279877942, 0.0057571023242720416, -0.0025813894092072717, 0.0004583966257333634, -0.010214530015187151, 0.01886161245949384, -0.007700083840360762, -0.02821404696262254, -0.011135405020701197, 0.023864381210714738, -0.01805176600694431, 0.008869137687590558, 0.0015829582828264079, 0.021186659286060075, -0.023407209856253636, -0.002534039339311588, 0.015047491651310516, 0.004790510090179627, 0.023733761355910182, 0.000805357594118446, 0.02217937651556824, 0.0029585564285634883, 0.0043137451055720345, 0.01916204036071851, -0.013238396603983562, 0.05580111638700903, 0.017333353080228937, -0.023694575026939783, 0.02433461529571436, 0.011958315135111829, -7.388227155860452e-05, -0.10961680204029205, -0.020128632129149632, 0.016196953265377696, -0.014002527224938595, -0.009365496302344642, 0.010214530015187151, 0.014760126480624367, -0.006681243012420718, 0.016889242593661192, 0.0021046241917690336, -0.008575242082957731, -0.01660187742297504, 0.006798801533670624, 0.00941121306526172, 0.010750074958911632, -0.015086677980280915, -0.002073601836554565, -0.030068859704189155, -0.03320375484595008, 0.033621739871440785, 0.003076114949813394, 0.0047480585442358884, -0.004369258916393002, -0.01357147946890937, -0.022401431758852113, 0.001196811101886249, -0.004787244407544996, 0.0041406727735011604, -0.0012980421412855858, 0.0027789529640539993, 0.0017339883048514324, 0.020298440175569747, 0.003993724505523455, -0.006037936595350221, -0.01971064710365893, 0.01959308811674773, -0.019527778189345455, -0.037331365354574014, 0.03171467807036525, -0.016706373679347717, 0.00888220041812908, 0.026320047892085526, 0.0010580268076644745, 0.005469737153585892, 0.01712435870483842, -0.021722203298461973, -0.04464611820182263, 0.028893273560367513, -0.017150484165915462, -0.0005126858055663452, 0.003205102661792569, -0.0316624308735015, -0.0320020432410514, -0.016236139594348095, 0.026071869050369775, 0.004261496511724406, -0.0010547612414451668, 0.04610906951633042, -0.019449405531404656, 0.028161799765758784, 0.010880694813716186, -3.706869423125983e-05, 0.00439864819745951, 0.03252452638555994, -0.007621711182419964, -0.010377805765015425, 0.004770916925694427, -0.024765663051743585, 0.013924154566997797, -0.020429060030374303, 0.0012196697161754332, -0.006805332898939884, -0.02101685310228512, 0.009737764564918268, -0.01436826505356554, 0.04958357702564125, -0.027064586279877942, -0.00804622850450251, 0.020481309089883222, -0.0310093278741884, -0.01853506095983729, 0.0009388355033049148, 0.03367398706830454, 0.0026989479304571776, 0.02347251978365591, 0.04608294405525338, 0.009835730387344265, -0.027900558193504513, -0.012004031898028907, -0.011703604928126818, 0.0031006061725892477, 0.03827183352457326, -0.005192168565142343, -0.010083909229060014, -0.011657887233887158, 0.0149691199246923, -0.019762894300522683, -0.006129371052506959, -0.006713898441783148, 0.002354436107632745, -0.019867392419540525, -0.02996436344781648, -0.033647865332517825, 0.022532051613656665, 0.007151477097420342, -0.0071318843985964326, 0.005776695488757241, -0.004359462334150403, 0.018574247288807688, -0.011788508020014294, 0.020298440175569747, -0.007634773447297194, -0.020128632129149632, 0.018378317506600857, 0.012872658775356614, 0.020246191116060828, -0.01792114428949459, -0.00012357931801728302, 0.02185282501591169, 0.023707637757478306, 0.027796061937131838, 0.025340395255761046, -0.005910581491857716, 0.006824925597763793, 0.007314752847248616, 0.06557153964091876, -0.0005698323412893057, -0.015987960752632344, -0.0021699345848326017, 0.037252992696633215, -0.0199327023469428, 0.0035692076491022013, 0.021238908345568994, -0.02737807504899597, 0.027038462681446065, 0.008229097418815983, -0.004493348337250878, 0.0009118950185530883, -0.03307313499114553, 0.023590078770567107, 0.0057440405250561025, 0.03022560502007075, -0.013453920481998173, -0.002599349732375156, 0.01567447012086915, -0.02215325291713636, 0.013884968238027397, -0.00862095884587481, -0.055069640729755134, 0.01763377911880844, 0.009261000045971966, -0.004637030922593952, 0.003967600441430286, 0.004868882282459134, -0.021656893371059697, -0.01792114428949459, -0.020468246359344702, 0.01189953564165623, 0.0045129415017360775, -0.02852753759438573, -0.005378302696429155, -0.031087700532129198, 0.02458279413743011, -0.007288628783155447, -0.013597603067341249, -0.0011470120028452384, 0.02133034187140315, 0.006067326342078021, -0.017895020691062715, 0.014551133967879016, -0.0017960331316956926, -0.022950038501792534, -0.040309515180453344, 0.012598356335208985, -0.0026842530570932777, 0.003103871855223878, 0.03145343836075615, 0.03171467807036525, -0.0026777221574853086, 0.018757116203121163, -0.002143810520739433, 0.003546349034813017, 0.008216034688277462, 0.002574858276768657, -0.04548208825280403, 0.015204236967192112, 0.02578450387968363, 0.010580267843814098, -0.005342382050093387, -0.013427796883566295, 0.004885210229970994, -0.0025307738895076035, -0.02208794112708892, 0.020703364333167093, 0.0051366547543213745, 0.024739539453311706, 0.027534820364877567, 0.04407138786045033, -0.016445132107093446, -0.024817912111252505, 0.010430053893201762, 0.025536325037967877, -0.0038859625665161497, 0.009874916716314663, -0.025079153683506775, -0.010867633014500248, -0.0030793803996173787, 0.024530546940566354, -0.02468729225644795, 0.0020425794813400963, -0.012030156427783366, 0.00915650378959929, 0.01406783715234087, 0.016850056264690792, -0.001215587845712791, 0.012435080585380712, -0.009999006137172538, -0.029729245473994085, -0.006442860752947568, 0.0026336375373936095, -0.0016719435944224947, 0.007321284212517876, -0.002143810520739433, 0.00968551643673193, 0.0032949042776319907, 0.02023313024816747, 0.01959308811674773, -0.021761389627432372, 0.008098476632688848, -0.01409396168209533, -0.009247937315433444, 0.006478781399283337, 0.0012572232038285172, 0.011468487885627005, -0.02408643645399861, 0.004483551755008278, 0.014616443895281292, -0.03385685784526318, 0.01738560027709269, 0.012774693884253199, -0.015543850266064599, 0.054390412269364995, -0.0005196250319189662, 6.566746068640778e-05, 0.00581914750036227, -0.0036900316201560917, -0.0005294215559539046, -0.014720940151653967, -0.01933184654449346, -0.007210256590875939, -0.01771215177674924, 0.024151746381400885, -0.00965286147303079, 0.006286115902727263, -0.043366033938983146, -0.02685559376713259, -0.008287875980949, -0.0036737041383055223, 0.01737253754655417, -0.004075362380437593, -0.007014325877346527, 0.023694575026939783, 0.024909345637086657, 0.02578450387968363, -0.02016781845812003, -0.02468729225644795, -0.003510428388477248, 0.04289580171662869, -0.02737807504899597, -0.03022560502007075, -0.011141936385970459, -0.006759615670361516, 0.02813567430468174, -0.03307313499114553, -0.01161217047097008, 0.028240170561054417, 0.004816634154272796, -0.008470744895262474, 0.0009747561496406835, -0.0026956824806531926, -0.01683699353415227, -0.013440858682782235, 0.02217937651556824, -0.009816137222859065, -0.027874434595072634, -0.017019862448465744, -0.014590320296849413, -0.0018874674724371067, -0.007367001441096244, -0.038428578840454856]}), _DocumentWithState(metadata={'aapl:keywords': '[]', 'creationdate': \"D:20190823182446Z00'00'\", 'creator': 'Word', 'keywords': '', 'moddate': \"D:20190823182446Z00'00'\", 'page': 0.0, 'page_label': '1', 'producer': 'macOS Version 10.14.6 (Build 18G87) Quartz PDFContext', 'source': '/content/heart_disease.pdf', 'title': 'Microsoft Word - أمراض القلب-ar-en-T-C.docx', 'total_pages': 8.0}, page_content='Heart\\tDisease\\tIntroduction: Heart disease describes a range of conditions that affect the heart. Diseases under the umbrella term heart disease include: • Cardiovascular disease. • Heart arrhythmia. • Congenital heart disease.  • Cardiomyopathy. • Heart disease caused by heart infections. • Heart valve disease.  Symptoms:  Heart disease symptoms vary depending on which type of heart diseases you have.  Cardiovascular disease: Cardiovascular disease can result in narrowed or blocked blood vessels', state={'embedded_doc': [-0.023324203956250143, 0.003611770180242625, 0.017754244607914037, -0.029888797239427296, -0.025089680587576938, 0.02939148027200677, -0.00921281195545784, -0.016921236126347446, -0.03521009717273051, 0.012376995468038058, -0.02460479677717258, 0.026755695688064875, -0.023087977698233425, -1.3977955447775963e-06, 0.0062413377200151235, 0.02536320631664216, 0.048239822208245964, 0.014832502069213374, 0.011096402647115618, -0.026382706565515546, -0.0354587565877634, 0.024418301284575297, -0.0017141921869416575, 0.0015292521195399982, -0.002587606566165552, 0.024032880867655045, 0.02318744109171753, -0.027377342363001843, -0.006502429826402867, 0.0005078080839372202, 0.015528746754924732, 0.0017810192417502862, -0.011065320685897818, -0.020638686744243573, -0.0005276230786857558, 0.013614074102049154, 0.0053834647870614405, -0.018549951755786876, -0.007733291416244566, -0.00959201672519263, 0.023485831272169844, 0.0017918980213087782, -0.010331776529137955, 0.00931849192745003, -0.015367118507682406, 0.03478737728476176, -0.0007448110650214636, -0.022603092025183822, -0.007677343140994429, 0.03496143775769763, 0.030386116069493065, 0.008448185837480178, -0.020004606912290435, 0.0015828691778496033, 0.007267055944380529, 0.00047322894806264, -0.005784427115913214, 0.014335184170470226, 0.016685011730975974, -0.01646121862997543, -0.0018866992137424757, -0.009393089006901797, -0.024020447710638874, -0.004385721165982415, -0.02209334190074713, 0.004429236284216383, -0.005299542374186235, 0.034439256338890015, 0.011289112855575743, 0.02030299709274275, 0.03180347175494812, 0.02864550388955336, -0.004982502458209667, 0.03724910139576778, -0.00621958016089814, -0.03456358418376121, -0.019731083045870457, -0.025313473688577486, -0.003372436098633178, 0.011643452242600818, 0.004550457702478783, -0.023038245070168748, 0.0033910856013267755, 0.02576105989057858, 0.025984852991579127, -0.01595146664289349, -0.0017002051181291232, 0.0011826838048960128, -0.0010909909017163576, -0.03836806690077052, 0.014882233765955426, -0.00892685400069907, -0.016908804831976522, -0.003726775019996941, 0.0028533606407730463, 0.01041880676560589, 0.002885997212279178, 0.03779614912860774, -0.017356389171332372, -0.02296364799071698, -0.014981698090762155, 0.01189211072631108, -0.03528469611482753, -0.00708677796161395, -0.023958283788203277, 0.022739854889716436, -0.012855664562579576, -0.0028782264891440727, -0.0027088277515972966, -0.03227592427098155, -0.0215587254622781, 0.01682177273286334, -0.007229756938993334, -0.018686714620319487, 0.0331462303609514, 0.0045038338293294615, 0.020588955978824142, 0.011979141894101639, 0.017281792091880605, -0.01281836509153107, 0.01418598908024407, 0.020700852529324416, 0.018748880405400334, -0.004466535289603578, -0.007354086646509777, -0.013601640945032986, -0.04030760586767843, -0.011096402647115618, 0.03324569189179026, -0.000449917157007139, 0.00842331952344784, 0.028396844474520476, -0.00262335119409507, -0.011475607416850407, -0.016473651786991596, -0.005215619961311029, -0.0023063110452878465, 0.012221583799303817, -0.013067024506563954, -0.020750583294743843, -0.004519375275599672, 0.014198422237260238, -0.013116756203306006, -0.031256420296817675, 0.02352313074321835, 0.01322865275380628, 0.031156958765978814, 0.012756200237772847, 0.0015323604087940405, -0.003201483216459381, 0.014198422237260238, -0.00045069422932064957, 0.01787857431543048, -0.032027264855948666, -0.01561577792271529, 0.028297381081036372, 0.005843483680417393, 0.004994935149564525, 0.01900997111480414, -0.0036273113936821804, 0.027029219554484854, -0.0038231303570576596, 0.01792830508084991, 0.00790735282050306, -0.014459513877986668, -0.004764925935717204, 0.011226948933140144, -0.01996730744124193, -0.003167292500326228, 0.0033413536717540673, -0.009013884237167006, 0.02760113546400239, -0.029913663553459632, 0.015193058034746533, 0.03133101923891469, 0.009747428393926871, 0.004708977660467067, 0.01915916713635292, -0.04189902016342411, -0.023175007934701362, -0.031057493509849463, -0.014397349024228448, 0.030783969643429485, 0.009604448950886175, -0.01731909156292911, 0.012781066551805186, 0.02282688512618437, -0.0026839619032262706, 0.01753045150691349, 0.0018820368962767402, -0.01288052994528929, 0.010294477989412071, 0.01683420588987951, -0.0034035185255122885, -0.6425345277357505, 0.002129141584605965, -0.0024943595183588756, -0.01900997111480414, 0.003133102017023731, 0.013576774631000647, 0.019109434508288246, 0.005479819891291503, -0.01350217755154888, 0.016063363193393763, -0.017244492620832098, -0.007577879281849013, 0.013402714158064776, 0.011065320685897818, -0.018574818069819213, -0.019532154396257002, -0.006732439040250187, -0.01003338634868564, -0.018773744856787424, 0.0062413377200151235, -0.00026420007549963315, 0.007217324247638477, -0.0004988718687471768, -0.019693783574821953, -0.005004260017326651, 0.0012969114559214902, -0.00127748499732971, -0.003590012621125641, 0.02357286150863778, 0.030560176542428936, 0.00020203533815673974, 0.006912717023016766, 0.006409182545765535, 0.029665004138426748, 0.045504576093465206, 0.016722309339379234, -0.006051735335147729, 0.034513851555696536, 0.01588930272045789, 0.02610918269909557, -0.003599337256057112, 0.010275828253887818, 0.02536320631664216, -0.03645339052260445, 0.0011756902704897457, 0.007180025242251282, 0.032325653173755735, 0.017418554956413215, 0.02227983553069917, 0.00763382755709915, -0.008454402415988261, -0.015441716518456794, -0.02357286150863778, 0.006651624916629024, 0.0049856107474637095, -0.022068475586714792, 0.03819400270254415, -0.02214307266616656, 0.00255496999465942, 0.01740612179939705, 0.005771994424558356, 0.01861211754086772, -0.016187692900910204, 0.0008368925625655379, -0.0038013725651100195, 0.012675386579812997, -0.00702461357351704, 0.012519974911078754, 0.0010055143442141313, -0.01685907220391185, 0.010704764720364659, 0.015590911608682952, -0.011488040573866575, -0.004248958767111115, 0.04013354539474256, 0.024393436833188203, 0.036900976724605544, 0.019532154396257002, -0.031057493509849463, 0.0037050172280493014, 0.01847535467633511, 0.008715494056714693, -0.024256673968655593, -0.01202887359084369, 0.023672324902121886, -0.01214698671985205, -0.007528147585106961, 0.02012893661980688, -0.009747428393926871, 0.00979094351216084, 0.0031983749272053385, 0.008877122303957019, -0.010083118045427693, -0.04319204614136272, 0.00021116577776941292, 0.002485034650596749, -0.021235468967793446, 0.005541984745049724, -0.007758157264615592, 0.041650364473681714, 0.0007898805025054446, 0.02324960501415313, -0.03135588555294702, 0.024915620114641067, -0.0014290115373270548, 0.011562637653318343, -0.028744967283037465, -0.004115304657493857, 0.043938024386461376, -0.020377596034839764, -0.009679046961660566, -0.02578592620461092, -0.009734995236910703, -0.007919785046196608, 0.0012300844011128615, -0.017841274844381975, 0.009237677338167554, 0.006570810793007861, 0.01792830508084991, -0.01315405474303189, 0.028968760384038013, -0.00906361593390906, 0.006639192225274167, -0.02869523465497279, 0.004043814935973509, -0.021247902124809617, -0.014136257383502016, -0.015367118507682406, -0.0006737101706961906, -0.029267150564490328, 0.024020447710638874, -0.03891511463361047, 0.024368570519155867, -0.010934774399873292, -0.01603849874200667, 0.004115304657493857, 0.010039601995871101, 0.012563490029312722, 0.0040189490876024825, -0.014844935226229542, 0.00478979178408823, -0.013924897439517638, 0.0244556007556238, -0.006141874326531019, -0.024990217194092834, 0.010791795888155218, -0.007372735916372719, -0.021322499204261384, -0.017232061326461174, -0.005271568236561166, -0.034986304071729965, -0.011823730225367398, -0.027998990900584057, 0.03411599798176011, 0.019097001351272076, -0.005924297804038556, 0.023622594136702455, -0.0040251656661105676, -0.01021987997863768, -0.044733731534334215, 0.027501672070518287, 0.009666613804644397, -0.014733038675729268, -0.00839223756223004, -0.012066172130569574, -0.008584947770690165, -0.012277532074553954, -0.007490849045381077, -0.016871505360928015, -0.02978933384594319, 0.026904891709613656, -0.01134506113082588, -0.0021586698668580543, 0.009809593247685093, 0.011015588057833143, 0.008908204265174817, -0.009498768978893986, -0.0013792797241696745, -0.017020701382476796, -0.004115304657493857, 0.0033227044018911255, -0.029366613957974432, -0.028993624835425103, -0.002245700568987302, 0.030386116069493065, 0.0005925075109182722, 0.03844266211757704, 0.026954622475033087, -0.00237158418830011, 0.024306406596720266, 0.012035090169351776, 0.0210738397892285, -0.03083370227149416, 0.003453250222254341, -0.00395367641025153, 0.0006803151689457024, -0.0005478266095910465, -0.002856468930027089, 0.016908804831976522, 0.008671978938480724, 0.04493265832130242, 0.004637487938946719, 0.01281836509153107, -0.005423872081702677, 0.018351024968818668, -0.013763269192275312, 0.015590911608682952, -0.007720858259228397, 0.015876869563441722, 0.004370179719712204, 0.002405774671602607, 0.005703612992292051, 0.006390533275902593, -0.013464878080500373, -0.0019908252739382994, 0.023883684846106264, 0.018040201631350183, -0.024356137362139697, -0.0013753944790174497, -0.012507541754062585, -0.0003164572863644269, 0.0013660697276706509, 0.0031175608035841755, -0.003518523132435949, 0.01514332633800448, 0.017915871923833742, 0.019954876146871005, 0.005862132950280334, 0.0039692173908604305, -0.0331462303609514, -0.006918933601524851, -0.013216219596790112, 0.00893928715771524, 0.00795086793873703, -0.018835910641868268, 0.030037993260976076, -0.0010195014130266655, -0.027029219554484854, 0.024642094385575842, 0.014409782181244616, -0.005492253048307672, 0.002404220526975586, 0.005053991714068703, -0.01540441797873091, 0.010474755040856027, 0.008311422972947565, 0.02097437639574439, 0.022379298924183277, -0.0008477714003316939, 0.0061107918996519085, -0.008124929342995524, -0.011562637653318343, -0.013999495450292028, 0.00044136950707768274, -0.022416598395231784, -0.04038220108448495, 0.013303249833258047, 1.1218789622916578e-05, 0.03013745665446018, 0.003291621975012015, 0.042520670563651566, -0.0182142639669313, -0.0026730828908371226, -0.004034490533872693, 0.015653076462441174, 0.0063781001188864235, -0.0060299777760307455, -0.021136005574309343, 0.004140170505864883, 0.0136265063277427, -0.01841319075389951, 0.005911865112683699, -0.014534111888761058, -0.04247093793558689, -0.0009270313793258359, 0.029341747643942095, -0.009020100815675091, -0.01289296310230546, 0.03712476982560609, 0.010070684888411523, 0.005958488520171709, -0.009890406905644944, -0.015093593709939805, 0.006151199194293145, -0.007248406208856276, 0.0026280136279761336, 0.017269358934864434, 0.012084821866093828, -0.02297608114773315, 0.037149636139638426, 0.007074345270259093, 0.009554717254144123, 0.02467939385662435, -0.005955380230917667, -0.028222784001584605, 0.0018944698204622532, 0.02039002919185593, -0.00036249803513646405, 0.028396844474520476, -0.012010223855319437, -0.014857368383245712, -0.015566046225973237, -0.011655885399616987, -0.01033799310764604, 0.014894666922971596, 0.023684758059138056, -0.0005548201439973137, 0.026705963060000202, 0.012022657012335607, -0.0007075122342572603, -0.01096585636109109, -0.032251057956949214, 0.007049479421888066, -0.03433979108276066, 0.02201874482129536, 0.016970968754412123, -0.008280341011729767, 0.016299589451410478, 0.0017639240000990378, -0.016399052844894582, -0.007005963837992787, -0.024542630992091738, -0.01698340191142829, -0.03356895024892016, 0.046623541598467946, -0.00924389391667564, -0.014844935226229542, 0.004034490533872693, 2.144197171505324e-05, -0.018960240349384712, 0.011295329434083828, -0.037746416500543056, 0.027153549262001295, 0.015118460023972142, 0.0026342299736535624, -0.026979488789065423, 0.0039692173908604305, 0.015578479382989407, 0.009697696697184819, 0.014894666922971596, 0.004373288008966246, 0.004280041193990225, 0.002326514692608465, 0.004764925935717204, 0.012445376900304363, -0.022789585655135863, 0.015876869563441722, 0.032251057956949214, 0.022926348519668478, -0.016349322079475155, 0.005371031630045271, -0.005165888264568977, 0.006545944944636835, 0.0020467733163577807, -0.03709990351157375, 0.03453871786972887, 0.011861028765093281, 0.027352477911614752, -0.018052634788366353, 0.022951214833700814, -0.006906500444508682, 0.011500473730882744, 0.014633575282245164, 0.015479015058182678, 0.037746416500543056, 0.01677204196744391, -0.006275528436148277, 0.013539476091274764, -0.0047680342249712465, 0.0002134969656061126, 0.009909056641169197, 0.010480971619364112, 0.014235720776986122, -0.020700852529324416, 0.025736193576546242, -0.00224259227973326, -0.010089333692613153, -0.037771282814575396, 0.05191997335509358, -0.015479015058182678, -0.0011453850323394734, 0.003751640868367967, -0.012992426495789564, -0.00948633675320044, 0.012221583799303817, -0.009175512484409334, 0.0012440714699253957, 0.007211107669130393, -0.009051183708215513, 0.00469965279270494, -0.0014927303028816415, 0.021372231832326057, -0.01988027720477399, 0.005243594098936098, 0.003381760733564649, -0.011904543883327248, 0.0008089184249404695, 0.011438308877124524, 0.003116006658957154, 0.013290817607564502, -0.015354686281988859, -0.0029823525493398967, 0.027526538384550624, 0.009822025473378638, 0.007285705214243471, 0.00029528241506724794, -0.01514332633800448, -0.018736447248384164, 0.0012533962212721945, -0.007882486506470724, -0.003028975956827907, -0.004398153857337272, 0.01438491586721228, 0.026830292767516643, 0.0027150440972747254, 0.003658393820561291, 0.009846891787410977, 0.002236375934055831, -0.011040454371865481, 0.04152603290352003, 0.02782492856500294, -0.016249858685991048, -0.028073587980035824, -0.021794951720294817, -0.00580929296428424, -0.017281792091880605, -0.017493152035864983, -0.012482675440030247, -0.013390281001048606, -0.027750331485551172, -0.0006573919431507887, 0.0033786524443106068, 0.006197822601781156, -0.01479520352948749, 0.022192805294231236, -0.011593720545858765, 0.011301546012591911, 0.02215550582318273, 0.003944351542489404, 0.026780562002097212, 0.011581287388842596, 0.0041557114864737826, 0.006275528436148277, -0.006564594680161088, -0.013042158192531617, -0.006148090905039104, 0.030087724026395504, -0.014621142125228996, -0.0351354982306335, 0.01989271036179016, 0.015640643305425004, -0.02285175144021671, -0.046001894923530975, -0.023336635250621064, 0.019320794452272624, 0.01096585636109109, -0.026059450071030894, -0.015304954585246807, -0.03212672638678753, 0.009293625613417691, -0.0059988953491516344, 0.016685011730975974, -0.025885389598095023, -0.025835656970030346, -0.010561786208646586, -0.006900283866000598, -0.009020100815675091, -0.023659891745105716, 0.04107844670151893, -0.037423161868703654, -0.00533684137957343, 0.006483780556539925, -0.013527042934258595, 0.002758559448339349, 0.00985310836591906, 0.013527042934258595, -0.02720328189006597, -0.0005723039800129815, -0.018450488362302772, -0.015752539855925278, 0.003325812458314512, -0.009150647101699619, 0.0014973927367627048, 0.035806877533635144, -0.008156011304213324, -0.03090829935094593, 0.02964013782439441, 0.005330624801065346, -0.004255175345619199, 0.006269311857640192, -0.013216219596790112, -0.02482858987817313, -0.021794951720294817, 0.006238229896422393, 0.0026047016914014726, 0.006744872197266356, -0.002687069959649657, -0.008298989815931397, 0.022553361259764395, -0.0060299777760307455, 0.002209955708227128, -0.004534916256208572, -0.02563673018306214, -0.04070545944161485, 0.013937330596533806, 0.0005408330751847794, -0.020153802933839216, 0.03317109667498374, -0.0427941925674263, -0.01935809392332113, 0.032822972003821504, -0.024405869990204374, -0.0030072183977109227, -0.012650520265780658, -0.00822439273647963, 0.014459513877986668, 0.027451941305098856, -0.0037050172280493014, 0.002654433620974181, 0.0021804276588056944, -0.00364906918562982, -0.013750836035259143, 0.009386872428393712, 0.0036210950480047516, -0.0013077903518953103, 0.024405869990204374, 0.0027476806687808573, -0.011059104107389734, -0.00849791753422223, 0.0009472349102311266, -0.022342001315780017, -0.009554717254144123, -0.0018058850901213125, -0.03613013589076504, -0.00047789129463220745, -0.005647664717041914, -0.005315083820456446, -0.03990975229374201, 0.01051827109041262, -0.009001451080150838, -0.019830546439354564, 0.008634679467432217, -0.02633297580009612, 0.003518523132435949, -0.015876869563441722, -0.022777154360764943, -0.01216563552405368, -0.026979488789065423, 0.05152211978115716, 0.007627610978591066, -0.0027772089510329466, -0.0448580631044959, 0.01730665840591294, -0.005684963722429109, 0.01807750110239869, 0.032599178902820956, -0.02093707878734113, -0.0003968828738288347, 0.007894919663486892, 0.011593720545858765, 0.015764973012941448, 0.001959742847059189, -0.03516036454466584, 0.008752792596440576, 0.009623098686410429, -0.02227983553069917, 0.009616882107902344, -0.00893928715771524, -0.0187613135624165, -0.005796860272929382, -0.008479267798697976, 0.006962448719758819, -0.024853454329560223, -0.04408721854536491, 0.004276932904736183, 0.0018525086140246507, -0.023050678227184918, 0.03421546323788947, 0.01189211072631108, -0.0177293782938817, -0.026531902587064327, -0.02470426017065669, -0.0033351373260766385, -0.00269950288383517, 0.016200126057926374, 0.01336541468701627, -0.027650868092067064, 0.0030041101084568806, 0.031156958765978814, -0.0004203889329627134, 0.013614074102049154, 0.0259351222261597, -0.014036793990017912, 0.03834320058673818, -0.013402714158064776, -0.003866645708122283, 0.033295424519854934, -0.0067573048886212135, 0.004771142514225288, 0.026233512406612012, -0.017207195012428837, -0.028446575239939906, -0.010592868169864387, -0.03650312315066912, 0.02011650346279071, 0.01077936273113905, -0.00012559215898757758, 0.006095250919043008, -0.01269403631533725, -0.022503628631699718, -0.012917828485015173, -0.031704006498818764, 0.029292016878522665, -0.01646121862997543, -0.04244607162155455, -0.02777519779958351, -0.0005439413062311578, -0.002927958418716781, 0.011189649462091639, -0.00503223415495172, 0.006608109798395056, 0.040655726813550175, -0.008261691276205513, 0.02139709628371315, -0.014434648495276954, 0.01309188988927367, -0.005697396413783966, 0.00780167238284956, -0.02486588748657639, -0.00708677796161395, 0.0006546721900535017, -0.017070432147896226, -0.014969264933745985, -0.0470462614864367, 0.00672000634889533, 0.027029219554484854, -0.015852003249409382, -0.005977137790034651, 0.026830292767516643, -0.026009719305611467, -0.0013792797241696745, -0.0038355632812431726, -0.03242511842988508, 0.04247093793558689, -0.018860776955900604, -0.0027072736069702753, 0.01682177273286334, -0.015876869563441722, 0.0216208893847137, -0.01730665840591294, 0.015653076462441174, -0.0031735090788343125, -0.011226948933140144, -0.04913499461224815, -0.025487536024158604, 0.003022759611150478, -0.008622246310416049, -0.004702761081958983, -0.044509938433333666, -0.014273020248034628, -0.0018183181307221536, -0.007472199309856824, 0.016287156294394308, 0.011519122535084374, -0.00892685400069907, 0.019644050946757276, 0.008019249371003335, 0.025301040531561316, 0.0006538951759476551, 0.01149425715237466, 0.00038619833324488837, -0.017791542216317298, -0.007994383056970998, -0.006564594680161088, -0.016137962135490774, 0.037075040922831905, 0.022864184597232877, 0.019445124159789065, -0.025301040531561316, 0.02093707878734113, -0.05545093034303766, -0.009741211815418786, 0.012296181810078207, 0.012215367220795732, 0.007596529017373266, 0.02169548832681071, 0.00373299136567437, 0.02065111990125974, -0.019507289944869912, 0.019606753338354016, -0.027849794879035276, -0.012091038444601913, 0.014770337215455152, 0.011923193618851502, -0.0038604291296141986, -0.021683055169794543, 0.013328116147290386, -0.026581635215129004, 0.01176778195011726, 0.01295512795606368, -0.014260587091018458, -0.001192785628556322, -0.006350125981261355, 0.0024912512291048335, -0.007148942815372171, 0.002141574508791478, -0.014534111888761058, -0.01053691989461425, 0.0031237771492616043, -0.013290817607564502, -0.0024073288162296284, -0.011954275580069302, -0.0272530126554854, -0.027451941305098856, 0.00933714073165166, 0.00675108877577444, 0.00695001556274265, 0.0050912907194558986, -0.03207699748401334, -0.021583591776310435, -0.017194761855412667, -0.014297885630744342, 0.0007459766734917294, -0.00695001556274265, -0.020340296563791258, 0.01540441797873091, -0.009703913275692902, 0.01588930272045789, -0.0007230533894891517, 0.0050664248710848726, 0.021496559677197255, -0.0049545283205845985, -0.0039940832392314565, 0.0025301041462883938, -0.025089680587576938, -0.0125013251755545, 0.0003817302256498666, -0.01730665840591294, -0.0018820368962767402, -0.015491448215198848, -0.036627454720830815, -0.03568254968876395, 0.03018718741987961, -0.026233512406612012, 0.015590911608682952, -0.01424815393400229, 0.007242190096009503, -0.022267402373683003, -0.0016116203877881824, -0.0171201647759609, 0.022913915362652307, -0.0012844785317359772, -0.012843231405563406, 0.015715242247522018, 0.011295329434083828, -0.011842379029569028, -0.0020234616126137755, 0.013191353282757773, -0.016349322079475155, 0.01033799310764604, 0.18520113296535218, -0.009585800146684545, -0.00041650362960282455, 0.009362007045683997, -0.01866184830628715, 0.006185389910426298, -0.006738655618758272, -0.0062413377200151235, -0.0008586501798901858, 0.025139413215641615, -0.015081161484246259, -0.009654180647628227, -0.005619690579416845, 0.007061912113242924, -0.00865332920295647, -0.03120668953139824, -0.035483622901795735, -0.009747428393926871, 0.003614878469496667, -0.021247902124809617, -0.020004606912290435, -0.0188234774848521, -0.0037796150059930356, -0.023299337642217803, 0.021484126520181085, 0.005156563396806851, -0.022951214833700814, 0.012532408068094924, 0.045554308721529886, -0.012656736844288743, 0.006300394284519303, -0.005653881295549998, 0.00189291579225056, 0.007994383056970998, -0.0026466628978390754, 0.004544241123970698, 0.016548248866443363, -0.0007191680861292629, 0.0009441266791847484, -7.246074904604248e-05, -0.011836162451060943, 0.01771694513686553, -0.006154307483547188, -0.0004153380502363907, 0.011108835804131786, 0.046300283241338044, -0.001196670873708547, -0.024393436833188203, -0.006163631885648003, 0.002814507723589486, -0.03782101544264007, -0.009846891787410977, 0.008908204265174817, 0.032574312588788616, -0.015479015058182678, -0.004317339733716109, 0.017194761855412667, 0.030510443914364263, 0.0005435527700744025, -0.01826399473235073, 0.010350426264662208, 0.001374617406703939, -0.0018789287234380258, 0.02993852986749197, -0.0264821718216449, 0.03938756714964391, -0.009728778658402618, -0.017008268225460626, -0.009641748421934682, 0.002960594757392257, -0.005517118896678698, -0.035806877533635144, -0.006732439040250187, -0.008124929342995524, 0.012563490029312722, -0.0025114546435947966, 0.023286904485201636, -4.2349717128504966e-05, -0.02042732680025919, 0.017493152035864983, -0.001241740252984864, -0.020166236090855386, -0.03729883402383245, 0.007851404545252924, -0.007061912113242924, -0.037149636139638426, 0.012718901698046963, 0.01842562391091568, -0.0007308239962089294, 0.0023327310382858938, -0.009038750551199345, -0.019482423630837572, -0.01506872832723009, 0.01603849874200667, 0.036900976724605544, 0.02448046706965614, -0.0010140620232474194, -0.007652477292623403, 0.016709876182363068, -0.028794698048456895, -0.0018183181307221536, 0.06594433232545008, -0.0021384664523680917, 0.005075749273185688, 0.0037205584414888564, -0.0025099004989677753, -0.02083761353121178, 0.004488292848720562, 0.02175765224924631, -0.002823832358520957, -0.0026497711870931175, -0.02134736551829372, -0.01315405474303189, -0.027526538384550624, -0.00589943195566753, 0.03463818312585822, 0.00904496712970743, -0.01685907220391185, -0.00837980440521387, -0.007484632466872992, -0.0005350051492487781, 0.007447333461485798, 0.01506872832723009, 0.027377342363001843, 0.010704764720364659, -0.007546796854969903, -0.0034905489948108804, 0.02650703627303199, 0.022578225711151485, -0.03779614912860774, 0.005557526191319936, -0.019457557316805235, -0.012209150642287649, -0.004466535289603578, 0.0005917304386047616, 0.004960744899092683, 0.007621394865744292, 0.010045818574379186, -0.007608961708728124, 0.017343957876961448, -0.004301798753107209, -0.015839570092393215, 0.003590012621125641, 0.026407572879547887, 0.021136005574309343, -0.03903944620377216, -0.002093396956676447, -0.003475007781371325, -0.0023669217544190465, -1.84915762063988e-05, -0.013750836035259143, -0.006026869486776703, -0.009038750551199345, 0.0019659591927366177, 0.012426727164780112, 0.00022515284658194712, 0.01811479871080195, -0.002096505245930489, -0.015503881372215016, 0.0024803724495463413, -0.039561627622579774, 0.007130293545509229, 0.017555317820945826, -0.006912717023016766, 0.017629914900397593, -0.00023506034395621487, -0.15158245753894833, 0.022739854889716436, 0.016697443025346898, -0.007490849045381077, 0.006409182545765535, 0.001457762747265634, 0.015764973012941448, 0.012271315496045869, 0.012495108597046417, 0.006987314568129845, 0.03570741600279628, -0.01096585636109109, 0.008989018854457293, -0.02025326632732332, -0.00028906595297449134, -0.007242190096009503, -0.020576522821807972, 0.03881565310277161, 0.026705963060000202, -0.00503223415495172, 0.01731909156292911, -0.01751801834989732, 0.010344209686154123, -0.024306406596720266, 0.0022861076307978834, 0.0031952666379512964, -0.01344001269779066, 0.02742707499106652, -0.008659545781464556, 0.012277532074553954, -0.017766677764930208, -0.014832502069213374, 0.01342757954077449, -0.015976332956925826, -0.028173051373519928, -0.009175512484409334, 0.00561036617731603, -0.04189902016342411, -0.0008135808006138689, 0.011631019085584648, 0.027302745283550076, 0.026954622475033087, 0.009268760230707976, -0.007105427697138203, 0.0008283448835322497, 0.003972325680114472, -0.021235468967793446, -0.008647112624448387, 0.024567497306124075, -0.005411438924686509, 0.01465844066495488, 0.02782492856500294, 0.000928585523952857, 0.008156011304213324, 0.019121867665304413, 0.015466582832489133, -0.012781066551805186, 0.022901482205636137, -0.012184285259577933, -0.02996339618152431, -0.014360050484502564, -0.0005385019164519117, 0.01309188988927367, 0.014969264933745985, 0.031007762744430033, -0.015255221957182132, -0.016200126057926374, -0.0008936178519215214, -0.015429283361440626, 0.012321047192787921, -0.008715494056714693, -0.020539223350759465, 0.0027165982419017462, -0.01593903348587732, 0.013514609777242427, -0.01107153633308328, -0.011898327304819165, -0.006838119477903688, -0.00602065337392993, -0.0037454245226905387, -0.015864436406425552, 0.0063532342705153975, -0.012184285259577933, -0.01955702071028934, -0.01684663904689568, 0.02189441511377892, 0.013924897439517638, -0.030560176542428936, -0.0004339874656184923, -0.01733152471994528, 0.021782518563278647, -0.05833537434201245, -0.018649417011916226, 0.002108938170116002, -0.006325260132890329, 0.0248410230351893, -0.009076049090925228, -0.029714736766491424, -0.0031268854385156464, 0.010710981298872744, 0.022901482205636137, 0.010288261410903986, -0.01675960881042774, -0.008522782916931945, 0.017915871923833742, -0.01751801834989732, 0.02010407030577454, 0.0020219074679867547, 0.038964847261675144, -0.01069233156334849, 0.002816061868216507, 0.02358529466565395, 0.0022829993415438414, 0.02578592620461092, -0.007030829686363813, 0.014857368383245712, 0.004870605907709393, -0.01685907220391185, 0.0043888294552364565, -0.024542630992091738, 0.04242120530752222, 0.011506689378068206, -0.0056818554331750665, 0.050900473106220194, 0.021260335281825783, -0.010710981298872744, -0.10011006666056536, -0.002247254713614323, 0.012482675440030247, -0.007130293545509229, -0.0037205584414888564, 0.016411486001910752, 0.002962148902019278, 0.0012728226798639746, 0.00708677796161395, 0.012942694799047512, -0.015056295170213922, -0.013651372641775038, 0.00588389097505863, -0.0036055538345651965, 0.025810792518643256, -0.02501508350812517, -0.010294477989412071, 0.005877674396550545, -0.023349068407637234, 0.028993624835425103, -0.01621255921494254, -0.001835413372373402, -0.017256925777848268, -0.012942694799047512, -0.026780562002097212, 0.03028665267600896, -0.017356389171332372, 0.015566046225973237, 0.003931918385473235, -0.00743490077013094, 0.00115160149443223, 0.026208646092579675, -0.015043862013197752, 0.015168191720714194, -0.00818087761824566, 0.006138766037276977, 0.026556768901096667, 0.003167292500326228, 0.04455967106139834, -0.026283243172031442, 0.006365667427531567, 0.028197917687552265, 0.02409504479009064, 0.00828655759023785, 0.03535929133163405, -0.026283243172031442, -0.029341747643942095, 0.008572514613673997, -0.016709876182363068, -0.0012168744046138378, -0.0011414996707719207, -0.028446575239939906, -0.02973960308052376, -0.008336289286979904, 0.005206295559210214, -0.013390281001048606, -0.0012176514769273482, 0.003125331293888625, -0.02931688132990976, 0.0056259071579249295, -0.006577027371515945, -0.007546796854969903, -0.015503881372215016, 0.013999495450292028, 0.026830292767516643, -0.023659891745105716, -0.015976332956925826, -0.0002158281388908963, 0.009996086877637133, -0.021111139260277006, 0.003897727902170738, -0.015230356574472416, -0.03165427387075409, 0.010101766849629323, -0.009890406905644944, 0.03946216609174091, -0.02048949258534004, -0.005597933020299861, 0.012445376900304363, -0.025164279529673952, -0.012756200237772847, -8.251395475505145e-05, 0.029565540744942644, 0.009635531843426597, 0.013862732585759416, 0.030236920047944284, 0.00877144233196483, -0.01976838065427372, -0.0013528597311716272, -0.008087629871947019, 0.01404922714703408, 0.031181823217365904, -0.002677745324718186, -0.008305206394439482, 0.009038750551199345, 0.01026339509687165, 0.004646812806708846, -0.016349322079475155, -0.011307762591099996, 0.023436100506750414, 0.0004374842328216259, -0.00790735282050306, -0.03804480854364062, 0.03160454496797991, -0.00510993998931884, 0.007459766618501966, 0.004401262146591314, 0.00048643894456166365, 0.016610412788878964, 0.0007168369273963951, 0.033345157147919614, -0.0005645333732932037, -0.009896623484153029, 0.014882233765955426, -0.0006733216345394354, 0.014683306978987216, -0.014223287619969953, 0.006092142629788967, 0.034687915753922896, 0.028297381081036372, 0.002045219404561415, 0.02174521909223014, -0.010990722675123429, 0.010020953191669471, 0.0005431642339176471, 0.05719154252297737, 0.0046312718260999464, -0.018711580934351827, -0.00033394112238009464, 0.027451941305098856, -0.023958283788203277, -0.026258378720644352, 0.01792830508084991, -0.02591025591212736, 0.026407572879547887, 0.011537772270608627, 0.001858725192532735, -0.005380356497807398, -0.02794925827251938, 0.016709876182363068, -0.001390935576041677, 0.03322082557775793, -0.00351230678675852, -0.026134049013127908, -0.02576105989057858, -0.03292243725995086, 0.01863698385490006, -0.005256027255952267, -0.03182833806898046, 0.007043262843379982, 0.0035589301942465304, -0.014956831776729816, 0.012979993338773395, 0.01050583793339645, -0.03433979108276066, -0.02919255348503856, -0.025164279529673952, 0.014621142125228996, 0.027675734406099405, -0.00988419032713686, 0.007148942815372171, -0.01879861117081976, 0.04289365782355565, 0.01561577792271529, -0.005162779975314935, -0.002525441712407331, 0.006182281621172256, -0.00390083619142478, -0.00957958356817646, 0.016423919158926922, 0.005405222346178425, -0.0050602082925767875, -0.014633575282245164, -0.007217324247638477, -0.016535815709427196, 0.003972325680114472, 0.027078952182549527, 0.020613820430211233, -0.01787857431543048, 0.023809087766654496, 0.0010101766616798667, -0.00036521773002608704, 0.027650868092067064, 0.019606753338354016, -0.02392098431715477, 0.020041906383338942, 0.022627958339216162, 0.001948863951085369, -0.01295512795606368, 0.009952571759403166, 0.010487188197872196, -0.0008353384179385168, -0.032798105689789164, 0.023684758059138056, -0.010101766849629323, 0.029167687171006224, 0.01569037593348968, 0.031529946025882896, -0.008435752680464008, -0.02939148027200677, 2.1356981249752523e-05, 0.020688419372308246, 0.0022534710592917516, 0.014198422237260238, -0.03836806690077052, -0.011233164580325606, -0.006521079096265809, 0.022056042429698625, -0.005921189514784514, -0.02191927956516601, -0.015653076462441174, 0.01622499237195871, 0.005716046149308219, 0.020912212473308794, -0.0023809088232315807, -0.001059908474837247, -0.01897267350640088, -0.002859577219281131, 0.007559230011986071, 0.011394792827567932, -0.010238529714161934, 0.01879861117081976, -0.014894666922971596, -0.006695140500524303, 0.006881634596137656, 0.021086272946244666, 0.00903253397269126, -0.0043670714304581615, 0.007534364163615045, -0.01840075759688334, 0.009268760230707976, 0.01984297959637073, -0.013663805798791206, 0.02065111990125974, -0.015093593709939805, 0.004320448022970151, 0.007664909983978261, -0.04075519206967953, 0.020402460486226855, 0.008485484377206061, -0.006626759068257998, 0.04087951991455072, -0.0036210950480047516, -0.005647664717041914, 0.022603092025183822, -0.015217923417456248, 0.016423919158926922, -0.004696544503450899, -0.007888703084978807, -0.024045314024671215, -0.010853959810590817, -0.006925149714371624, -0.007204891090622308, 0.00034346008359760716, -0.06186633132995653, -0.031057493509849463, 0.01753045150691349, -0.020352729720807424, 0.010344209686154123, 0.01350217755154888, 0.0018447381237202008, 0.00979094351216084, 0.015764973012941448, 0.013054591349547786, -0.010313126793613701, -0.011127484608333417, -0.009250110495183723, 0.03227592427098155, -0.025586999417642708, -0.022130641371795635, -0.01189211072631108, 0.0048737141969634355, 0.02324960501415313, -0.02358529466565395, -0.0028766723445170514, 0.0026761911800911647, 0.037771282814575396, -0.012352130085328344, -0.006794603894008408, 0.00466857036582583, 0.014894666922971596, -0.015827136935377045, 0.017107731618944733, -0.016299589451410478, -0.02121060265376111, -0.020949510081712055, -0.004081113941360704, -0.008908204265174817, -0.007590312438865182, -0.030982896430397696]}), _DocumentWithState(metadata={'aapl:keywords': '[]', 'creationdate': \"D:20190823182446Z00'00'\", 'creator': 'Word', 'keywords': '', 'moddate': \"D:20190823182446Z00'00'\", 'page': 5.0, 'page_label': '6', 'producer': 'macOS Version 10.14.6 (Build 18G87) Quartz PDFContext', 'source': '/content/heart_disease.pdf', 'title': 'Microsoft Word - أمراض القلب-ar-en-T-C.docx', 'total_pages': 8.0}, page_content='and the right ventricle. It allows blood to flow in one direction from the right atrium to the right ventricle. 4. The pulmonary valve: it lies between the right ventricle and the pulmonary artery. It allows blood to flow in one direction from the right ventricle to the pulmonary artery and then towards the lungs.  Symptoms of Heart Valve Disease: • Shortness of breath, particularly when the patient has been very active. • Chest pain after physical exertion. • Dizziness and fainting in advanced', state={'embedded_doc': [-0.025802895329460666, 0.014142095057987877, 0.006447509838172287, -0.009713048078749722, -0.029801251254369235, 0.03694943697229871, -0.00993803605415444, -0.013486416028253572, -0.03147258970195636, 0.0038537208311241974, -0.004339051882208524, 0.01355069870607888, -0.01259289304634303, 0.005573271287080309, -0.007411743486293895, -0.0051972199966748185, 0.031832571952720025, -0.02051889516127167, 0.017883321202917787, -0.02105886481212688, -0.009873753376329134, 0.024298690167838706, -0.009854469411171856, -0.020351760012661355, -0.011577233628490204, 0.025121502483538182, 0.03476384269004455, -0.008183130032262153, 0.008388834042509594, 0.0032735736917209207, -0.005357925759915515, 0.01596771174609123, -0.03422386931389906, -0.023025901901329793, 0.011551520743624595, 0.027358526260813844, -0.01880898692072484, 0.005068655572346775, 0.014540645239066096, -0.010047315582002635, 0.022023098460248487, 0.008163846067104876, -0.019940353854811618, 0.013049296985538226, -0.02949269663598193, 0.0007737975654818644, 0.008581680213340373, -0.008825953085224941, -0.027667080879201146, 0.00885166597009055, 0.01825615943045297, -0.012747170355536682, -0.02267877748998279, -0.0033844604494961974, -0.01711193465694953, -0.01657196500609432, 0.004891879372480395, 0.0028846659588826263, -0.0012486827279857074, -0.028387041655438188, -0.014990621189875533, -0.009398064540654089, -0.026792842793770456, 0.012734313447442592, -0.02833561588570697, 0.0005584520383170708, 0.0008220092828125412, 0.03514953316906097, 0.012515754391746204, 0.01616055698559944, 0.0397007165842414, 0.019438952134270965, -0.012123632199053744, 0.03360676007712445, 0.008363121157643986, -0.04404619692049697, -0.02606002417811675, -0.01614770100882792, -0.032012559352811575, 0.00526150220883884, 0.010053743570388395, -0.04543469456588498, 0.009578055666035921, 0.012618605931208638, 0.022447362457514886, 0.0059300376810059495, 0.0342495812674421, 0.01201435267120555, -0.008472400685492178, -0.016919087554796177, 0.018667565588302706, 0.014013530633659834, -0.008510969547129307, -0.008883806843341916, -0.00666606935952996, 0.007681728777382786, 0.0026532499950921488, 0.03820937112468125, 0.021290281707239928, -0.03005838010302532, 0.008935232613073133, 0.0030453717221233232, -0.03741227076252481, 0.004004784378955612, -0.02967268589871862, -0.012277909508247396, -0.033709611616586886, -0.027924209727857235, 0.016391973880712486, -0.026034312224573714, -0.025828607283003704, 0.019657513052612496, -0.014334942160141226, -0.011995067774725702, 0.035098109261974896, 0.003001981170704948, 0.018204733660721752, 0.0037187281855797522, -0.009565198757941831, 0.00014011521072382035, 0.014103525265028179, -0.00263235810151586, 0.020017493440731015, -0.024195838628376272, -0.006447509838172287, -0.018294729223412666, -0.04306910915824899, -0.010188736914424767, 0.019310388641265493, -0.0046765338453156014, 0.004695818276134165, 0.03437814848573785, -0.001708300777789104, -0.01389782218610331, -0.006566431814260406, -0.029158428201406447, -0.00977732982525246, 0.0017854395488012512, -0.013216430271503396, -0.02081459194024231, -0.016481969443403403, -0.0053064999901842975, -0.004682961833701361, -0.03414672972797966, -0.001504204695960675, 0.019400382341311265, 0.02311589746402071, 0.022588781927291877, 0.012432186817441048, -0.003982285488282883, 0.004136562797476535, -0.025970028615425838, -0.003969429045850079, -0.04137205689447368, -0.023038757878101314, 0.006884628880887633, -0.0028878801859061488, 0.00995732095063429, 0.014412080814738054, -0.003599805976660991, -0.020596032884545923, 0.011422956319296552, 0.03160115319496184, -0.01542774023259088, 0.0007235771017806377, 0.015633443311515748, -0.0052904290878973284, -0.009751616940386851, -0.012502897483652114, -0.011114400769586677, -0.0028541318498970553, 0.014437793699603662, -0.04453474266426611, 0.01088941279418196, 0.026972832056507145, 0.02197167269051727, 0.01933610059480853, -0.002902343625435393, -0.027924209727857235, -0.0005552379277088698, -0.009230931254688919, -0.0030325150468598757, 0.01657196500609432, 0.02802706126731967, -0.020943157295892925, 0.010754420381468158, 0.04080637156478514, -0.024105843065685355, 0.00995732095063429, -0.017253355989371662, 0.0024941512289478923, 0.00884523798170479, -0.017407633298565314, -0.016237696571518835, -0.6306860423149988, -0.011210824320663353, -0.01619912677855914, -0.03291251125443045, 0.018757561150993623, 0.016584820982865837, 0.027847070141937838, -0.010021602697137026, 0.011937214016608725, 0.008170274055490635, -0.022640207697023094, 0.0036158766461173177, 0.006318945413844244, -0.002781814419420192, -0.017780469663455353, -0.02253735615756066, -0.006026460766421339, -0.035535227373367666, 0.003204470255436937, -0.01108225989633531, -0.019246105032117614, 0.019824646338577664, -0.0007553164585885386, 0.007566020795487547, 0.016790524061790706, -0.0018159735413715008, 0.0390836073474668, 0.01148081007741353, -0.01428351639041001, 0.011731510937683856, 0.0009015585494693483, -0.0017324066655582727, 0.004197631015447676, 0.04160347192694158, 0.027564229339738712, 0.03355533617003838, -0.024054417295954138, 0.0060843149901996015, -0.006212879414527644, 0.010960123460393026, 0.0003093583206623357, 0.018847554851039394, 0.027281386674894447, -0.02725567472135141, 0.02663856362193166, -0.012805024113653658, 0.0405492445787742, 0.005001158900328589, -0.004731173609239698, -0.012824309010133508, -0.018166163867762052, -0.013872109301237702, -0.018089026144487798, 0.0315754412414188, -0.008003139838202894, -0.017394777321793793, 0.04242628424264106, -0.04327481223717386, -0.013460703143387964, 0.017870465226146267, 0.0006801865503622625, 0.007373174158995482, 0.007231753292234635, -0.015080615821243877, -0.00046323396789336844, 0.0005078297671340736, 0.007932430103314398, -0.005679336820735623, -0.005888253893853371, -0.0024009421377253824, 0.010471578647946463, 0.03144687774841333, -0.0026805698770541973, -0.014013530633659834, 0.048237401810204035, -0.004657248948835752, 0.031832571952720025, 0.02482580570456754, -0.01856471404884027, 0.011770079799320984, 0.011770079799320984, 0.011982211797954183, -0.014939195420144316, 0.007983855873045615, 0.022434504618098226, 0.012676459689325615, -0.0315754412414188, 0.01707336486398983, 0.00027098986800097775, 0.009044513072243899, 0.006129312771545059, 0.02139313324670236, -0.004091565016131077, -0.029749825484638018, -0.010317301338752811, 0.028644170504094273, -0.0050268717851941975, 0.015106328706109486, -0.008690960672511138, 0.009680907205498355, 0.020943157295892925, 0.0006392066110038685, -0.023025901901329793, -0.0032092912467262566, 0.010484434624717981, 0.021303137684011444, -0.04299196957232959, -0.040163550374467505, 0.026689989391662877, -0.05754547171948978, -0.02516007227649788, -0.036203764242518637, -0.013846396416372092, 0.013640693337447224, -0.008555967328474764, -0.017909035019105967, -0.005891468353707537, -0.006502149602096384, 0.013614980452581615, -0.022473074411057923, 0.028104198990593923, -0.028644170504094273, 0.0075981621344002005, -0.0036158766461173177, -0.000150561084752389, 0.01067728172687133, -0.004531898518700589, -0.03190970781334914, -0.0021132789472530825, -0.0060136043239885344, 0.00997660491579157, -0.0064860791654707, 0.0354066638803622, 0.002444332456313115, 0.00826669760656731, 0.007321748389264265, 0.03247539314303767, 0.027178535135432013, -0.013229287179597485, -0.004480472748969371, 0.0076945852198155905, -0.001942930968603104, -0.004065852131265468, -0.011988639786339942, 0.012875734779864725, 0.005190791542627774, -0.0015347386885309245, -0.02427297821429567, -0.027127109365700796, -0.0016616961157625277, -0.03131831053011757, -0.03995784729554264, -0.013962104863928617, 0.021470270969976616, 0.025635762043495495, -0.010291588453887203, 0.014180664850947575, -0.013293568926100221, -0.015852002367212136, -0.037720825380912114, 0.013782114669869356, -0.002813955525502203, -0.008093135400893809, -0.007630303007651568, -0.026741417024039236, -0.011416527399588221, -0.012451471713920897, -0.033632472030667486, -0.02323160498025466, -0.030649777386256887, 0.027667080879201146, 0.013293568926100221, -0.0051875775484348935, 0.011294390963645939, -0.0016400009564686614, -0.0068589159960220246, 0.011750794902841134, -0.0214188452002454, -0.009899466261194742, 0.004959375578837296, -0.01841043673964662, -0.03247539314303767, 0.010561573279314807, 0.012715029482285313, 0.013280712949328703, 0.014527788330972007, 0.020081775187233752, 0.01294001652636746, 0.0026275368773958975, 0.004204059003833436, 0.02084030575643049, 0.009886610284423223, -0.010548717302543288, -0.010156595109850829, -0.009796614721732308, -0.0004007596565666721, -0.005901110801947461, 0.0042940541008630664, 0.004133348803283655, 0.01865470961153119, 0.0353295242944428, -0.014026386610431353, 0.03972643226307473, -0.028052773220862706, 0.010561573279314807, -0.014592071008797313, -0.0075467363646689834, 0.0019975709653578437, 0.027127109365700796, 0.02012034498019345, -0.0047793853847780355, 0.011300819883354268, 0.009912323169288832, -0.014373511021778355, -0.00017587222034388768, 0.02802706126731967, 0.01690623157802466, -0.006032889220468384, 0.02066031463104866, 0.009250216151168769, -0.0047890278330179606, 0.006839631565203461, 0.014913481603956136, 0.0038215797250421863, -0.02105886481212688, 0.013884966209331792, 0.005361139754108395, 0.014682065640165658, -0.009218074346594829, -0.041783463052323416, -0.010452293751466613, -0.0028396684103678114, 0.015440596209362398, 0.0179733167656087, -0.014862055834224919, 0.025468626894885184, 0.003210898476653339, -0.0021036367318438007, -0.01313929161690657, 0.009275929036034377, -0.0002502990236847257, -0.00488866491262623, -0.008491685581972028, -0.026072880154888272, 0.00333303467976498, 0.006627500032231547, 0.03005838010302532, 0.03085548046518176, 0.004547969420987558, 0.0012760026099477558, 0.017240500012600142, -0.006357514741142657, -0.01463063987043444, -0.006447509838172287, -0.01483634294935931, -0.00808027849279972, 0.0180504563515281, -0.016250552548290356, 0.01841043673964662, 0.008980230394418592, 0.0319611354457255, 0.0037380128492289586, -0.009095938841975116, -0.0007898681767305305, 0.035252384708523404, 0.003445528667467339, 0.002455581901649479, -0.010947267483621508, -0.020171770749924666, -0.012862877871770635, 0.006251448741826057, 0.02990410279383167, 0.007379602147381242, -0.04222058116371619, 0.0236430111381044, 0.01675195426883101, -0.02082744977965897, -0.002002392189477806, -0.0038376503944985135, 0.025250067839188796, -0.0019365027473867019, -0.008890234831727677, -0.004223343900313285, 0.020583176907774406, -0.011011549230124243, -0.015774864643937882, 0.004120492360850851, 0.007443884359545264, -0.00648286517127782, 0.0316525808273382, 0.008543111351703245, -0.009796614721732308, 0.014026386610431353, -0.0027866356435401543, -0.0026243228832030178, -0.011705798052818248, 0.025275781655376976, 0.002408977356038224, 0.037000864604675075, 0.000757325263166749, -0.020544607114814706, -0.005579699275466068, 0.0042490567851788934, -0.015260606015303137, 0.03345248463057594, 0.04021497428155358, 0.013087865847175353, -0.007958142988180006, 0.017317637735874396, -0.005685764809121382, -0.008800240200359332, -0.03890361622208497, 0.010619427968754355, -0.03275823580788194, -0.006344658298709852, 0.001631965621740498, -0.00190114753069649, 0.014154951966081967, 0.0040562101486868295, -0.02992981661001985, -0.01892469443695879, -0.012130060187439503, -0.0069167702198002865, -0.0214574149932051, 0.05661980786432787, 0.002592181777121007, -0.001779011327584849, 0.021277425730468407, -0.026240015303498582, -0.006277161626691665, 0.01255432325338333, 0.0020956012807003157, 0.03358104812358141, 0.04183488695940949, 0.014604926985568832, -0.01619912677855914, 0.009218074346594829, 0.024337259960798406, 0.009655194320632747, 0.022113094022939404, 0.009860897399557615, -0.007353889262515633, 0.00863310598307159, 0.00225148581982105, 0.007296035504398657, -0.003930859718551666, 0.01369211910717844, 0.04080637156478514, -0.007289607050351612, 0.005406137069792567, 0.00846597269710642, -0.0127600263323082, 0.03833793461768672, 0.003048585716316203, -0.01200149576311146, 0.01976036459207493, 0.006010390329795655, 0.028438467425169405, -0.002237022380291806, 0.024542963039723274, -0.0023350526956342783, -0.0069617675354844595, -0.004519042076267785, 0.01936181441099671, 0.03144687774841333, 0.020608888861317443, -0.004583324288431806, -0.0032253619161825833, -0.008793812211973572, -0.004367978761267012, -0.006103599886679451, -0.0014439400929530744, 0.030341222767869585, -0.020557463091586226, 0.026227157464081923, -0.01730478175910288, -0.023218749003483145, -0.041706323466404016, 0.03404387818851723, -0.003358747564630589, -0.006158239650603547, 0.009648765400924415, -0.0008774527199078402, -0.011249394113623051, -0.003757297512878165, -0.021663118072129967, 0.009256644139554527, 0.008761670407399634, 0.014424936791509572, 0.00993803605415444, -0.018886124643999094, -0.014154951966081967, -0.018821842897496357, -0.026767128977582277, -0.015479166002322096, 0.0076945852198155905, -0.008330979353070046, 0.003969429045850079, 0.02458153283268297, 0.008195986940356243, 0.0018513287580617125, 0.0007657622889613617, -0.006225735856960448, 0.005271144657078765, 0.012650746804460006, -0.013203574294731877, -0.021714543841861184, 0.008221699825221852, -0.017381921345022276, -0.0037540835186852853, -0.00824741271008746, -0.0003523470937027706, 0.002666106437524953, 0.022601639766708537, 0.023437308059179533, 0.0022996975953593875, 0.008658818867937198, -0.01333213871905992, 0.01823044561426479, 0.03584378199175497, 0.04602609184911655, 0.005332212875049906, -0.027924209727857235, -0.019374670387768227, -0.010651568842005722, -0.02238307884836701, 0.009687335193884114, -0.013383564488791138, -0.009481632114959246, -0.0006018425897354461, -0.00016924310993851537, 0.01107583190794955, 0.013884966209331792, -0.02181739538132362, 0.01824330345368145, -0.019863216131537364, -0.007366745704948437, 0.004679747839508481, -0.002061853177521865, 0.0255200526646164, 0.0007119259071701633, -0.01294001652636746, 0.020621746700734103, -0.018461862509377838, -0.004641178512210068, 0.0012968943871087234, 0.01559487351855605, -0.017767613686683833, -0.028078487037050886, 0.021341707476971145, 0.02293590633863888, -0.024157268835416572, -0.010786561254719525, 0.02253735615756066, 0.016584820982865837, 0.023758720516983495, 0.0031257243709130285, -0.010561573279314807, -0.04240057228909802, 0.01086369990931635, 0.004364764767074133, -0.007926001183606068, -0.0073346048316970695, 0.005933251675198829, -0.001586164574677463, 0.022473074411057923, 0.024851517658110577, -0.012920732561210183, 0.034275296946275416, -0.02758994129328175, -0.020480325368311972, 0.030469786260875056, -0.01689337560125314, 0.0034680273253094255, 0.000602646088283666, 0.01107583190794955, -0.034995257722512454, 0.006158239650603547, -0.008195986940356243, -0.02689569433323289, -0.022833054799176442, -0.029724111668449838, -0.009353067690631203, 0.009835184514692006, 0.006418582493452513, -0.007463169256025113, 0.015286318900168745, 0.00998946182388566, -0.0025937887742174467, 0.007726726558728244, -0.005422207972079537, -0.01355069870607888, -0.02351444764509893, 0.04481758532911038, 0.013344994695831438, 0.005885039899660492, 0.009237359243074677, 0.016816236015333743, 0.030546925846794453, 0.01708622270340649, -0.006418582493452513, 0.02102029501916718, -0.018346154993143883, -0.04350622726964176, 0.006736780025741027, -0.012027208647977069, 0.004480472748969371, 0.004834025148702133, -0.021264567891051748, -0.004747244045865382, 0.01862899579534301, -0.030341222767869585, -0.001202078065959131, -0.019078971746152446, -0.005483275724389393, -0.02084030575643049, 0.025970028615425838, 0.003159472706922122, 0.023540159598641967, 0.008324551364684287, -0.011287962975260179, -0.022113094022939404, -0.011937214016608725, 0.0014511718127176965, 0.006537504935201917, -0.003689801073690621, 0.0058625410089877626, -0.023823002263486232, -0.04052352889994088, -0.02666427743811984, -0.03959786504477897, -0.015337744669899964, 0.0026098594436737735, -0.020763166170511094, 0.00590753879033322, -0.003445528667467339, -0.007353889262515633, -0.04412333650641637, -0.0030341222767869586, 0.006032889220468384, 0.009243787231460437, 0.015684869081246965, -0.03550951541982463, -0.008787383292265243, 0.014682065640165658, -0.018731847334805443, -0.0008236163381166418, -0.005560414844647504, 0.04301768152587263, -0.0010719065281193268, -0.009436634333613787, -0.015324888693128444, -0.029441270866250712, -0.02255021399697732, 0.004348694330448448, -0.004319766985728675, -0.005994319893169971, -0.011911501131743116, 0.005711478159648276, 0.021560266532667533, 0.03466099115058212, -0.0040337112580141, -0.020377473828849534, 0.028129912806782103, 0.005473633741810754, -0.027178535135432013, 0.006428224941692437, -0.0031626867011150016, -0.012303622393113004, 0.009809471629826398, -0.004011212367341371, 0.008748814430628114, -0.017227642173183483, -0.0484431048891289, 0.009263072127940288, -0.0013499272703517019, 0.004705460724374089, 0.02230594112509275, 0.0037315846280125565, -0.012091491325802376, -0.018179019844533573, 0.0070196217592627215, -0.028721310090013673, -0.009333782794151353, 0.013974960840700136, 0.03419815736035602, -0.02779564437220662, 0.005721120142226916, 0.0023704080287398114, -0.005235789323973231, -0.005396495087213928, 0.006923198208186046, -0.026587137852200442, 0.03144687774841333, 0.003316964010308653, -0.00919236146172922, 0.021547410555896013, -0.0033137500161157735, 0.008440259812240811, -0.023218749003483145, -0.0068074902262908075, -0.037386555083691486, 0.009057369049015418, -0.01448921946933488, 0.025481484734301844, 0.017960460788837184, -0.02323160498025466, -0.004078708573698272, -0.002497365455971415, -0.025700043789998232, 0.012342192186072702, 0.0019477521927230663, 0.013486416028253572, -0.02269163346675431, -0.02271734728294249, -0.0008252233934207423, -0.009468775206865156, 0.012245768634996029, 0.010220877787676136, -0.01482348697258779, -0.0025648618951589586, 0.029209853971137664, -0.021495984786164796, 0.01708622270340649, 0.012457899702306657, 0.023797288447298053, -0.025044364760263928, 0.00371229996436335, -0.0030710846069889317, -0.013023584100672617, 0.003157865476995039, -0.02201024248347697, -0.0031096539342873445, -0.02179168342778058, 0.012792168136882139, 0.023990135549451404, -0.012528610368517722, -0.008710244637668415, 0.021534554579124496, -0.011024406138218333, 0.0011064582462613187, 0.017561910607758965, -0.018898982483415754, 0.014167807942853486, -0.012862877871770635, -0.01689337560125314, 0.015067759844472358, -0.02913271624786341, 0.009282357024420136, 0.008973802406032832, 0.014193520827719094, 0.005582913269658947, -0.0061325267657379385, -0.042580563414479855, -0.033323917412280184, 0.010233734695770226, -0.026792842793770456, -0.012316479301207094, -0.026047168201345235, 0.0022305941590754037, -0.027461377800276278, -0.012888590756636243, -0.0015130434128217368, -0.008292410491432919, 0.011159398550932136, 0.02238307884836701, -0.0005765314541439474, -0.0035194530950406425, -0.024452967477032357, -0.002889487183002589, 0.012194342865264812, -0.011866503350397658, 0.0004885451034848671, -0.008009568757911223, -0.012644318816074246, 0.041937738498871925, 0.03836364657122976, 0.014219233712584703, -0.016880519624481623, 0.018796129081308177, -0.031781144320343666, -0.017497628861256227, 0.008864521946862068, 0.013987817748794226, -0.00272074620144905, 0.01259289304634303, 0.018307585200184186, 0.02987839084028863, -0.006903913777367482, 0.021277425730468407, -0.03147258970195636, -0.021303137684011444, 0.021650262095358447, 0.010445865763080854, -0.020570320931002885, 0.01862899579534301, -0.014386367929872445, -0.007643159450084373, 0.0040979934701781216, -0.0015628621854565142, -0.0071289017527722005, 0.02513436032295484, -0.033889602741968713, 0.017909035019105967, -0.0001606051804030174, 0.0025359347832698276, 0.01355069870607888, -0.003914788816264696, -0.011165826539317894, -0.012644318816074246, -0.0007155418252601351, -0.004461188318150807, -0.008311695387912769, -0.028207050530056357, -0.010214449799290376, -0.008144561170625026, 0.015492021979093615, 0.015157754475840703, -0.0070196217592627215, -0.008915947716593285, -0.012168629980399203, -0.00957162674632759, 0.02050603732185501, 0.02240879266455519, -0.019387526364539748, 0.0214188452002454, 0.006788205795472244, 0.028618458550551236, -0.002743245092121779, 0.004114063906803806, 0.02689569433323289, -0.0177033319401811, 0.000695855354129158, 0.0002758110339132794, -0.03792652845983698, 0.00724460973466744, 0.0003567664812371319, -0.007656015892517177, 0.01559487351855605, 0.0029216282890845995, -0.010927982587141657, -0.040600668485860275, 0.047080319197283935, -0.011403671422816702, 0.018500432302337538, -0.012676459689325615, -0.016854805808293443, -0.046797476532439666, 0.0009377173229154407, -0.020750310193739574, 0.007810293201710829, -0.002010427407790648, -0.012265053531475877, -0.001632769120288718, -0.00310001148604742, -0.026188589533767365, 0.007373174158995482, 0.014039243518525443, -0.0007416564593998536, 0.002743245092121779, 0.17639049821149333, -0.007688157231429831, -0.004843667596942057, 0.01052300441767768, -0.018500432302337538, 0.005611840614378721, -0.0007906716752787504, -0.006910341765753242, 0.0009843219267343564, -0.0013306426067024955, -0.005727548596273961, 4.690595579226481e-05, -0.025340063401879713, 0.0017693689957602459, -0.01161580249012733, -0.027178535135432013, -0.033915314695511754, -0.02105886481212688, 0.007848862529009243, -0.0020136414019835277, -0.023527303621870447, -0.011352245653085485, 0.008671675776031288, -0.02483866168133906, 0.014694922548259748, -0.013974960840700136, 0.003484097994765752, 0.0033008935736829692, 0.0397778561701608, -0.012682887677711375, -0.011667228259858548, 0.0070196217592627215, -0.0022996975953593875, 0.02519864206945758, -0.01033658623523266, -0.024491537269992057, 0.023771576493755015, -0.0021036367318438007, -0.00011932392908904083, 0.007456740801978068, 0.0033780322282797952, 0.02067317247046532, -0.009044513072243899, -0.014180664850947575, 0.011577233628490204, 0.056414101060112715, 0.0012245768402165385, -0.00412370635504373, 0.00918593347334346, 0.004059424142879709, -0.03959786504477897, 0.007238181280620395, 0.020223196519655883, 0.043891921473948464, -0.02987839084028863, 0.0015210787475499004, 0.021740257658049364, 0.025661473997038532, 0.01653339521313462, 0.018513288279109055, -0.014900625627184617, -0.009873753376329134, -0.01595485390667457, 0.030264083181950188, -0.011975782878245852, 0.015093472729337967, -0.013782114669869356, -0.010420152878215246, 0.005470419281956589, -0.010420152878215246, 0.008138133182239268, -0.028207050530056357, -0.017394777321793793, 0.008793812211973572, -0.00778458031684522, -0.012226483738516179, 0.021843109197511798, 0.00809956338927957, -0.02121314212132053, 0.023810146286714712, 0.008363121157643986, -0.002502186680091377, -0.056825510943252736, -0.011422956319296552, -0.0030196586044270715, -0.025288637632148493, 0.011056547011469702, 0.014373511021778355, -0.01874470331157696, -0.0074245999287267, 0.011609374501741572, -0.014797774087722182, -0.023823002263486232, 0.0161348450320564, 0.04656606149997176, 0.008485256662263697, 0.006717495129261178, 0.0090059432792842, 0.005563628838840384, 0.005849684566554958, 0.013229287179597485, 0.031266886623031495, 0.03386389078842568, 0.016983371163944057, 0.011133685666066527, 0.02725567472135141, -0.014694922548259748, 0.02910700243167523, 0.005624697056811526, -0.014964908305009924, 0.009796614721732308, -0.024080131112142317, -0.011872931338783418, -0.011422956319296552, 0.023205893026711624, 0.011133685666066527, 0.0035130248738242404, -0.01222005575013042, -0.008787383292265243, 0.012515754391746204, -0.0018304370973160663, 0.010497291532812071, -0.0032783946830102404, 0.0296212601289874, 0.003082333819494653, -0.017561910607758965, -0.005377210190734079, 0.028232764346244537, -0.0078938603103547, -0.02427297821429567, 0.0047118887127598486, 0.0045736823058531665, -0.026072880154888272, -0.018526144255880575, 0.0032253619161825833, 0.016263408525061872, -0.0040979934701781216, -0.015299175808262835, 0.0010654783069029246, 0.013177861409866268, 2.464571470939187e-05, 0.011590089605261722, 0.018821842897496357, 0.02895272512248158, 0.018834698874267877, -0.030392648537600802, 0.015852002367212136, -0.02404156131918262, -0.019940353854811618, 0.000811965201713828, -0.019631799236424316, 0.008600965109820223, 0.007263894165486003, -0.014296372367181528, 0.00272074620144905, -0.017651906170449882, -0.009468775206865156, -0.01916896730884336, -0.0013282319946425142, 0.0014310836505202701, -0.03167829278088123, 0.004753672499912427, 0.016443399650443703, -0.03481526659713063, 0.01653339521313462, 0.014154951966081967, -0.15828861236494374, 0.01409066928825666, 0.005036514233434122, 0.0035033826584149586, 0.00786814742548909, 0.01862899579534301, 0.02387442803321745, -0.013357851603925528, 0.0036480177521993284, 0.024671528395373888, 0.04270912690748532, 0.009880182296037465, 0.020737454216968057, -0.00181115243366686, -0.0034423144404438165, 0.004004784378955612, -0.0038601490523405995, 0.023385882289448316, 0.02446582531644902, -0.0022563070439410127, 0.04150062038747915, -0.019310388641265493, 0.019863216131537364, -0.03021265741221897, 0.005161864663569285, -0.00903808415253557, -0.013293568926100221, 0.027435663984088098, -0.019040401953192745, 0.002698247543606964, -0.0025359347832698276, 0.002050603732185501, 0.0718932670624348, -0.01598056772286275, -0.013229287179597485, 0.004387263657746862, -0.006042531668708309, -0.03754083425553028, -0.004605823179104534, 0.024890087451070277, 0.01825615943045297, 0.016970513324527394, -0.0017179431096137072, -0.0012840379446759191, 0.005239003318166111, 0.04306910915824899, -0.02802706126731967, -0.016919087554796177, 0.010015174708751268, -0.007977426953337285, 0.01991464190126858, 0.009918751157674592, -0.027204248951620193, 0.013120007651749291, 0.012297194404727246, 0.008112420297373659, -0.015890572160171833, 0.020338904035889838, 0.0019300745261702998, -0.02516007227649788, -0.00394693015517735, -0.01258003613824894, 0.005364353748301275, 0.026792842793770456, 0.019066115769380925, 0.0007014800767973402, 0.0008268304487248428, 0.008877378854956158, -0.03566379086637314, 0.018641851772114526, -0.011236537205528961, -0.03203827503164489, -0.011197968343891834, -0.02554576648080458, 0.024054417295954138, 0.0057146921538411555, -0.005772545911958133, 0.014129238149893787, 0.006717495129261178, -0.002185596610560589, 0.0177033319401811, 0.011005121241738485, -0.022833054799176442, -0.019863216131537364, -0.011140113654452286, 0.014193520827719094, -0.02423440842133597, -0.009070225957109507, 0.004480472748969371, 0.006852488007636265, 0.01596771174609123, -0.0443033276317982, -0.022318797101864272, 0.014219233712584703, -0.006569645808453285, 0.013306425834194311, 0.02388728400998897, -0.022074524229979704, -0.017716187916952616, -0.003075905598278251, 0.034506711978743325, -0.010657996830391482, -0.01892469443695879, 0.014180664850947575, 0.028901299352750362, 0.004744030051672503, 0.025262923815960313, -0.0032253619161825833, 0.036563742767992014, 0.0035387379915204917, -0.0030726916040853714, 0.018474718486149354, 0.026741417024039236, 0.026265727257041623, 0.0077460109895468076, 0.0007826363987582477, 0.002555219446919034, -0.01798617274238022, 0.009083081933881026, -0.039803568123703836, 0.052505742560540206, 0.0010727100266675466, -0.014694922548259748, 0.03975214421661776, 0.006187166529662036, -0.009578055666035921, -0.11179968672560109, -0.01807616830507114, 0.015774864643937882, 0.013743544876909658, -0.006270733638305906, 0.005836828124122154, -0.0019268604155620987, 0.026021454385157055, 0.018294729223412666, 0.017394777321793793, -0.015144898499069184, -0.00863953397145735, 0.00371229996436335, -0.003451956888683741, 0.022061668253208187, -0.02630429705000132, 0.0020313190685362944, -0.02480009188837936, -0.011500094973893378, 0.016006279676405787, -0.006839631565203461, -0.01331928181096583, 0.012284338427955727, -0.020146056933736486, -0.00292002129198816, -0.014759204294762483, -0.009706620090363964, -0.001398138929474718, 0.01650768139694644, -0.016404829857484007, 0.016430543673672186, -0.0007689763995695628, -0.013949247955834528, -0.0038472926099077953, -0.008356692237935654, -0.004621893615730219, 0.008015996746296983, -0.034481000025200284, 0.04654034954642872, -0.012175057968784962, 0.006936054650618851, 0.004342265876401403, 0.02740995203054506, -0.03342676895174262, 0.015003477166647051, -0.02663856362193166, -0.06870486561380906, 0.006768920898992395, -0.021495984786164796, 0.003930859718551666, 0.0034648133311165454, -0.019040401953192745, -0.029775537438181055, -0.004316552991535795, 0.021341707476971145, -0.014617783893662922, 0.006801062237905048, 0.02992981661001985, -0.006942483104665896, -0.0037540835186852853, 0.004255484773564654, -0.0035130248738242404, 0.0017645477716402836, 0.0323468296500322, 0.017549054630987448, -0.010825131047679223, -0.0033233922315250553, -0.012817881021747747, 0.013242143156369004, -0.026407148589463754, -0.011390814514722613, -0.017767613686683833, -0.023000189947786756, 0.020557463091586226, -0.0013378743264671176, 0.01427065948231592, -0.0198503582921207, 0.000695453604855048, 0.0003764529232642787, -0.01973465077588675, -0.003165900928138524, -0.011950069993380243, 0.01614770100882792, -0.01730478175910288, 0.013653550245541313, 0.019927497878040098, 0.007456740801978068, -0.0006516613041625628, 0.006614643589798743, -0.01803759851211144, -0.0049818744695100245, 0.027975635497588452, 0.010066600478482485, -0.04340337573017933, -0.013679263130406922, 0.018873268667227574, 0.004114063906803806, -0.047568864941053064, -0.012361477082552553, 0.01821758963749327, -0.011892216235263266, -0.013730688900138139, -0.03566379086637314, 0.011519378939050657, -0.005570056827226143, 0.028515607011088802, -0.000578540258722158, 0.0016062527368748895, 0.028207050530056357, -0.0023864784653654953, 0.024015849365639583, -0.016263408525061872, -0.013769257761775266, 0.023681580931064098, 0.0003073495160841252, 0.025841465122420366, 0.0025937887742174467, 0.0006653213033512477, 0.029029864708400976, 0.026741417024039236, -0.020750310193739574, 0.0003744441186860682, 0.0004250663898690655, -0.0022418433715811256, -0.017021939094258615, 0.026175731694350706, -0.00318839958598061, -0.030264083181950188, 0.001174758067581761, 0.01482348697258779, -0.02802706126731967, -0.009738760963615332, -0.006929626662233091, -0.032012559352811575, 0.022627351720251574, 0.02946698281979375, 0.0012189521175483564, 0.007707441662248395, -0.030906906234912976, 0.00790671721844879, 0.011905073143357356, 0.018449006532606317, 0.0002567272449011279, -0.027024257826238362, 0.01223291265822451, -0.02892701316893854, 0.033632472030667486, 0.005717906148034036, -0.021714543841861184, 0.01619912677855914, 0.006691782244395569, -0.027127109365700796, 0.004104421458563881, 0.01202078065959131, -0.021328851500199624, -0.029338419326788278, -0.026407148589463754, 0.018898982483415754, 0.015492021979093615, -0.030264083181950188, -0.0004813133546164147, -0.037000864604675075, 0.04787741955944037, -0.00920521836982331, 0.00459618073086461, -0.017317637735874396, 0.006511792050336309, -0.011609374501741572, 0.002902343625435393, -0.0013965319323782782, 0.015337744669899964, -0.016417685834255524, -0.016944801370984357, -0.004480472748969371, -0.010966551448778786, 0.013949247955834528, 0.01733049557529106, 0.0011651157357571579, -0.004004784378955612, 0.011943642004994485, -0.0014993834718407127, -0.014926338512050226, 0.022138807839127583, 0.009513772988210614, -0.021303137684011444, 0.00584004258397632, 0.031781144320343666, -0.005611840614378721, -0.018911838460187274, 0.021097434605086576, -0.007977426953337285, 0.004277983664237382, -0.013614980452581615, 0.032655384268419504, 0.00506544111249261, 0.02161169230239875, 0.007887432321968941, 0.02758994129328175, -0.007533879922236179, -0.027641367063012966, 0.0021132789472530825, 0.013794970646640875, 0.005942894123438754, 0.02553291050403306, -0.00805456560793411, 0.0012494862265339272, -0.025147216299726362, 8.698191926614475e-05, 0.012875734779864725, -0.01838472292345844, -0.031086895497649664, 0.007161042626023568, 0.019991779624542835, 0.003963000591803034, -0.0063960840684410694, 0.004342265876401403, -0.003000373940777865, -0.014772061202856573, -0.023463021875367713, -0.0161734148250161, -0.01918182328561488, -0.001735620776166474, -0.016841949831521923, 0.021830251358095135, -0.01619912677855914, 0.02294876417805554, -0.00318839958598061, 0.007469597710072158, 0.022755917075902188, -0.005560414844647504, 0.016006279676405787, 0.016854805808293443, -0.0014045671506911202, 0.0009272714343349569, -0.020596032884545923, -0.013203574294731877, 0.006219307868574689, -0.01013088222498522, 0.008125276274145178, 0.012882162768250483, -0.02758994129328175, 0.05805972941680195, 0.012451471713920897, -0.010008746720365507, 0.02476152209541966, -0.01715050444990923, 0.02482580570456754, 0.013820683531506483, 0.000895130328252946, -0.008356692237935654, -0.034429572392823925, 0.023244460957026182, -0.0019413239715066642, -0.0028059203071893607, -0.02575146955972945, -0.006460366280605092, 0.01520918024557192, -0.026818554747313494, -0.007983855873045615, 0.01296573034255564, 0.010285160465501443, 0.006968195989531504, -0.019773220568846447, 0.01859042600238331, -0.020956013272664446, -0.020338904035889838, -0.009488060103345006, 0.024748666118648142, -0.02387442803321745, -0.019528947696961882, -0.0037733681823344917, -0.0038215797250421863, 0.022087382069396366, -0.05898539327196386, -0.011403671422816702, 0.00866524778764553, 0.036692309986287766, -0.02418298265160475, -0.026741417024039236, -0.0014592070310305385, 0.03041836049114384, 0.0118215055690522, 0.025070076713806965, -0.006518220038722068, -0.021663118072129967, -0.01370497601527253, -0.008138133182239268, 0.004114063906803806, -0.006572860268307451, -0.020583176907774406]}), _DocumentWithState(metadata={'aapl:keywords': '[]', 'creationdate': \"D:20190823182446Z00'00'\", 'creator': 'Word', 'keywords': '', 'moddate': \"D:20190823182446Z00'00'\", 'page': 5.0, 'page_label': '6', 'producer': 'macOS Version 10.14.6 (Build 18G87) Quartz PDFContext', 'source': '/content/heart_disease.pdf', 'title': 'Microsoft Word - أمراض القلب-ar-en-T-C.docx', 'total_pages': 8.0}, page_content='exertion. • Dizziness and fainting in advanced cases.  This usually accompanies cases of heart valve stenosis, particularly aortic valve stenosis. • Fatigue and lethargy. • Heart palpitations. • Coughing up of blood, particularly in the case of mitral valve disease. •  Swollen feet or ankles.  Medical Intervention: Seek emergency medical care if you have these heart disease symptoms: •  Chest pain.', state={'embedded_doc': [-0.011085203842878196, 0.01389903970611522, 0.0036023639355892405, -0.019435098154598804, -0.030467950488542277, 0.05978419385755487, -0.028609511036910937, -0.026070515007645307, -0.018571315020983584, 0.004511952776877041, -0.0036678021576043314, 0.023282853967552992, -0.0011639791581198944, 0.010568243402358289, -0.006403111921592583, 0.0036579864825097333, 0.050884619877891474, 0.004875133686699814, 0.025363784538188956, -0.02798130596821137, -0.016948451771622592, 0.02342681782315553, 0.004057158589063804, 0.003319344527592792, -0.002008947711512043, -0.0008416967587067257, 0.017210203728360303, -0.022785525808544933, -0.00806851007347105, -0.005316840462940695, 0.018950856941501774, -0.013054888854011848, -0.020678419483441606, -0.022262020032424206, 0.004253472556617087, 0.008232105279262781, -0.003356971359732305, -0.021659990718192, -0.004017895423024086, -0.014906784832687673, 0.0009455796887731029, 0.006818643874688755, -0.005895967156167274, -0.002890725395754928, -0.016516560204814984, 0.025821849996818625, 0.011039396738221638, -0.02350534322391231, -0.007230903159984517, 0.02218349463166742, 0.05017788754578982, -0.0017930022773542326, -0.004597022116250664, 0.013611111994910148, 0.010443910896944948, -0.007996528145669781, 0.0008302450989579177, 0.003994992336357133, -0.0018797077177973977, -0.0248271918161572, -0.016176282847320488, -0.0010118357284923014, -0.004544672004299918, -0.008978099380420176, -0.024447651758284315, 0.005604768174145769, -0.004750801646947799, 0.019932426313606866, -0.004633013080151298, 0.01363728774937751, 0.04606837791345262, 0.01727564218320606, -0.010470086651412311, 0.03531036448215789, 0.009593216571886061, -0.01283239959765253, -0.020272703671101358, -0.03300694651780791, -0.009769899654911474, 0.005748731564086979, 0.00597776475906314, -0.02052136868192804, -0.006897169275445538, 0.013925214529259931, 0.01274732979261758, -0.0015606972294849835, 0.011687234088433054, 0.014173879540086613, -0.011039396738221638, -0.014147703785619251, 0.02296875236452586, 0.008755609192738203, -0.015129275020369646, 0.012557559763681137, 0.006579795004617997, 0.014304755518455468, 0.021817041519705566, 0.010103633539450454, -0.013349360038172437, -0.015836005489825996, -0.012452858608456992, 0.00558186462181749, -0.04941880743004405, 0.008644364564558544, -0.018558228075072555, 0.003245726731552645, -0.012099493373728816, -0.00866399591474774, 0.0023377739913343866, -0.03261431951402399, -0.02460470255979788, 0.031017630156485062, 0.0018584402665386603, -0.009828793705479063, 0.026724895830812237, -0.02549465958523516, 0.042377672902012, 0.016019232045806922, -0.0031639291286567786, -0.015574253533088285, 0.01342788543892922, -0.0022183495562990074, 0.032745196423715504, -0.00011686824539296676, -0.021725429173037755, -0.03502243677095281, -0.029970622329534218, -0.014671208630417326, -0.011261886925903611, -0.012485577835879868, 0.010908520759852783, 0.01680448791602006, -0.0005455896480995933, -0.029682694618329144, -0.014959135410299746, -0.004498865365304685, 0.0012817676085010632, -0.020586807136773796, -0.01862366652991831, -0.015037661742379181, 0.0023050549967421727, 0.02257612349809664, -0.03243109109539776, -0.04125213967430437, -0.009907319106235844, 0.013454061193396582, 0.024683227960554662, 0.0015713309551143523, -0.015613516233466676, -0.030075323484758363, -0.002151275466045038, -0.02319124162088518, -0.011778847366423519, -0.025507748393791493, -0.024931892971381344, 0.0016784856798661525, 0.012308894752854455, -0.00929220191476996, -0.007518830871189591, -0.038372866287544244, -0.006236244979323093, 0.006409655860209424, 0.026829595123391076, -0.0024212074624691314, -0.020900908739800925, 0.0064816377880106925, -0.015548077778620922, -0.025102032581451245, -0.015849092435737025, -0.022157320739845363, -0.008212473929073585, 0.02319124162088518, -0.011680689684154887, 0.007309429026402626, 0.023060364711193673, 0.010862714586518878, -0.008297543734108535, 0.010247596463730338, -0.020547544436395403, -0.012642629568716087, -0.026541669274831307, -0.00774132012754891, 0.03214316338419269, 0.009239851337157887, -0.016961540580178926, 0.01669978676079591, 0.04886912589945596, 0.00706076448123727, -0.007983441199758752, -0.012374333207700209, -0.005146701784193449, 0.006524172690528167, -0.0017831866022596347, 0.005827257430505089, -0.6403504548596367, 0.006560163188767475, -0.014579595352426861, 0.001029831094027287, 0.009756811777677794, 0.01221728147486399, 0.019670674356869155, 0.0029496196791531783, -0.0022461607133439226, 0.01912099468892637, -0.018610577721361977, 0.008140492001272318, -0.002373764955235021, 0.01910790774301534, 0.0069953264920528425, -0.015836005489825996, -0.0037626871720725526, -0.007041133131048075, 0.0025406318975045106, 0.010548612052169094, 0.00797035332252507, 0.017498131439565377, 0.00038424399396698206, -0.0006359759667032326, 0.017655182241078943, 0.004708266744430324, 0.008618189741413833, 0.0031622932604179004, 0.0019745928486809504, 0.02274626310816654, -0.0020171275183677624, 0.029525643816815578, -0.012380876680655723, 0.029028313795162214, 0.046565707935105984, 0.003952457433839658, -0.019304221244907296, 0.028347759080173226, -0.006213341892656141, 0.02845246023539737, -0.010398104723611043, 0.01872836582249715, 0.02740545054580122, -0.03709028225832305, 0.005787994730126697, 0.0003032644125020538, 0.03897489560177645, 0.014815172486019861, -0.024225162501924996, -0.000744766676109243, 0.0050845355314867785, -0.00046747298157186705, -0.0009774807492458773, 0.019134083497482704, 0.019042469288169585, -0.021869393028640292, 0.03606944832319427, -0.03075587819974735, -0.016516560204814984, 0.02621447886324784, 0.016241721302166244, 0.02417281099299027, 0.0011238982907914006, 0.0034584003128173666, 0.008978099380420176, -0.0005243223132561875, -0.021803954573794537, -0.019251871598617878, -0.0023655851483793014, -0.019736112811714907, 0.012596822464059527, 0.023740921288827963, 0.0036579864825097333, 0.01207986202353962, 0.054601498781154154, 0.012865118825075406, 0.018793804277342903, 0.021738516118948784, -0.01735416758396284, 0.011713408911577764, 0.011353500203894074, 0.012328526103043651, -0.026528580466274973, -0.007381410954203894, 0.03546741528367145, 0.00028015660947457795, -0.029237716105610503, 0.007224359687029003, 0.0022641561952942394, -0.0150245738651455, -0.0006069377920638273, 0.024382213303438562, -0.027745727903295717, -0.03410630585369348, -0.015063836565523892, 0.0050321854195360316, -0.004911124650600448, 0.01549572720100885, 0.004551215477255432, 0.0147889967315525, 0.0019353300318872275, 7.51514952736779e-05, -0.017458868739186985, -0.0038150377496846254, -0.005117254758909655, 0.0132053961825699, -0.03821581548603068, -0.01615010709285313, 0.033844552034310464, -0.028818911484713924, -0.012112581250962498, -0.026436968119607163, -0.011170273647913146, -0.02349225627800128, -0.010764557835572898, -0.018335738818713237, 0.01022142164058563, -0.009639022745219968, 0.0026355169119727318, -0.005336472278791218, 0.018702191930675093, -0.016071581692096343, 0.024853367570624563, -0.0049307564664509695, -0.012649173041671602, 0.011019765388032444, -0.017877671497438262, -0.012197650124674796, -0.013755075850512685, -0.02665945737596648, 0.005313568726462938, -0.02231437154135893, 0.036305024525464615, -0.0010764557835572898, 0.0033667870348269026, -0.006265692004606887, 0.027196048235352932, 0.009985844506992627, -0.002735309996818915, 0.0010257413070147588, -0.030022971975823636, -0.002846554624998575, 0.009959669683847918, -0.011811565662523742, 0.0024261153000164305, 0.008794872824439246, -0.001433093104009217, -0.013715813150134292, -0.010627137452925876, -0.0011926082492842486, -0.019317308190818325, -0.03489156358655192, -0.010385016846377361, 0.017288729129117088, 0.0066844956941808165, -0.0012776777050732037, 0.008513488586189688, -0.01548264025509782, -0.02323050432126357, -0.0367238291463612, 0.024500001404573736, 0.0017766427800581257, -0.030467950488542277, -0.01368963739566693, -0.036854702330762094, -0.027562501347314788, -0.002656784363231469, -0.010777644781483927, -0.01575748008906921, -0.021149573750627607, 0.030337075441496074, -0.005375734979169609, 0.01912099468892637, 0.024303687902681777, -0.003402777998727537, 0.0262406527550699, -0.0006384298854768822, -0.00886031034796235, -0.0032948053398562972, 0.010771101308528413, 0.0012302350814237615, -0.05292628774814905, -0.00889957304834074, -0.005794538203082212, 0.02005021441474204, 0.005722556275280943, 0.031174680957998628, 0.0011459836761695773, -0.0010044738557560215, 0.014802084608786181, 0.002882545588899209, 0.0017341079939559823, -0.005372462777030526, -0.006334402195930398, -0.005784722527987614, 0.00806851007347105, -0.011575989460253394, -0.008225561806307267, 0.00552624230772766, 0.011962073922404446, 0.037378206244237516, -0.01867601617620773, 0.025560098040080914, 0.004868590213744299, 0.014946048464388717, -0.03222168878494947, 0.013283921583326683, -0.003939370022267303, 0.022222757332045814, 0.020272703671101358, -0.017406519092897567, 0.028007479860033428, 0.009861512932901939, -0.007950721972335874, 0.0009537594374211564, 0.04509989548725856, 0.042220622100498435, -0.02163381496372464, 0.03502243677095281, 0.01101322191507693, 0.0032080998994131324, 0.0017553754452147197, 0.026057426199088973, 0.027431626300268585, 0.00886031034796235, 0.026122864653934725, 0.011242254644391762, 0.009907319106235844, 0.01659508746821707, -0.01548264025509782, -0.018479702674315774, 0.0036481705745844725, 0.018558228075072555, 0.005529514509866744, -0.006331130459452641, 0.02601816349871058, 0.0005443626887127686, -0.017406519092897567, 0.02443456294972798, 0.011850829294224787, -0.018767630385520845, 0.012544471886447455, 0.005843617044216527, -0.005058360242680741, 0.015325588522261603, 0.023531518978379674, 0.026986647787549948, 0.022720087353699178, 0.004639557018768139, 0.01388595182888154, -0.0033733309734437435, 0.011392762904272467, -0.006098825062337398, -0.007813301589688853, -0.020639156783063214, -0.03070352855345793, 0.014317842464366497, 0.013925214529259931, 0.01544337755471943, 0.0020891094461690306, 0.03824198937785274, -0.007505742993955909, 0.019709937057247544, 0.009187500759545813, 0.018754541576964514, 0.0018911593775462058, 0.00597776475906314, 0.004842414924938263, -0.008696715142170616, 0.0035336542099270556, -0.02507585682698388, 0.01109174731583371, -0.006046474950386651, -0.04512607310437122, 0.02002404052291998, 0.016307159757011996, -0.0027827525040530258, -0.006596154152668109, 0.006079193712148202, 0.014998398110678138, 0.015063836565523892, -0.027196048235352932, -0.01342788543892922, 0.019081731988547977, 0.0061937105424669445, 0.006291867293412924, 0.010973959214698537, 0.008657452441792226, 0.0010748197989030796, 0.03452511047459006, -0.010339209741720803, -0.02913301495038636, -0.0007234993412658372, -0.006200254015422459, 0.0054967952824438665, -0.0113862184999943, 0.018047811107508163, -0.0027565774480776523, 0.028871262993648648, -0.009115518831744546, -0.016634350168595463, -0.015836005489825996, -0.008821047647583957, -0.02439530024934959, 0.010326122795809774, 0.02965651886386178, -0.028373932971995284, 0.009056624781176957, 0.020835472147600478, 0.00024089377812893853, -0.0008367889211594267, -0.02662019467558809, 0.009612847922075257, -0.026829595123391076, 0.022235846140602148, 0.006412927596687181, -0.011687234088433054, 0.0033291602026873897, 0.005676750101947037, -0.02587420150575335, 0.007315972965019467, -0.0200763901692094, 0.012269632052476062, -0.03138408326844692, 0.03811111246816123, 0.00024437018731146933, -0.010280315691153216, -0.00863782109160303, -0.009521234644084792, -0.0090108176765204, 0.014932960587155037, -0.011687234088433054, 0.029447118416058796, 0.0314626086692037, 0.03305929802674264, -0.024984242617670765, -0.00027647570221027087, 0.01284548747488621, 0.0018502605760982727, 0.031279383975868075, 0.021136486804716578, -0.014998398110678138, -0.004649372693862737, 0.016006145099895897, 0.005555689333011453, -0.0013889223332528634, 0.025429221130389406, 0.05166987388545931, 0.008245193156496463, 0.011261886925903611, 0.01959214895611237, 0.015194712543892748, 0.023309029722020355, 0.005411725943070243, -0.018950856941501774, -0.004102965228059035, -0.000608982743777757, 0.03525801669851377, -0.007387954427159409, 0.020756946746843693, -0.021502939916678437, 0.005500067018921624, 0.012570647640914819, 0.011124466543256589, 0.028766561838424503, 0.020207267078900908, -0.0004298461203285214, 0.014108441085240859, 0.006285323820457409, -0.00797035332252507, -0.009743723900444113, 0.024238249447836025, 0.01706623987275777, -0.016987714472000984, 0.02680342123156902, -0.0004723808482229989, 0.012027511445927548, -0.044079061552129775, 0.04865972731429828, -0.010901977286897268, 0.0049307564664509695, -0.01008400218926126, -0.004597022116250664, -0.014854435186398254, 0.011294605222003835, 0.011131010016212103, -0.002905448908396825, 0.009442709243328011, 0.0032293671178412068, -0.012995994803444261, -0.019526710501266618, 0.006818643874688755, -0.01718402983653825, -0.004891493300411252, -0.0055655050081060515, -0.0029038130401579463, -0.021476764162211073, 0.008238648752218296, 0.0020760218017660125, 0.0016719418576646432, -0.006298411232029764, -0.012119124723918013, -0.0015238883314649101, -0.0011337140823013299, -0.0004204394122936432, 0.019500534746799254, -7.361779604014699e-05, -0.01310723943162392, -0.0018486245914440624, -0.019212608898239485, -0.010286860095431383, -8.752337456260447e-05, -0.0011181725191246623, 0.009645567149498133, 0.02134588911516487, -0.004917668589217289, 0.013519498716919683, -0.0038313971305654008, 0.03408013196187142, 0.016267897056633607, 0.0207176840464653, 0.0015713309551143523, -0.03303312040962997, -0.0017782787647123357, 0.002527544253101492, -0.020835472147600478, -4.358275691671666e-05, -0.012655716514627114, -0.0038870194446552304, 0.004714810683047165, -0.00830408720706405, 0.0033078929842593158, 0.012243457229331354, -0.002679687682729085, 0.009082799604321668, -0.014762821908407789, 0.014278579763988107, -0.0026322451754949745, 0.010535524174935413, 0.04420993846182128, 0.007158921232183249, 0.016189371655876823, 0.010587874752547485, -0.008310630680019564, 0.012439771662545963, 0.0016564004109033072, 0.04342468445425345, -0.001285857511928923, -0.018139425316821278, 0.027614852856249514, 0.00946888406647272, -0.02347916746944495, -0.03614797372395105, 0.030337075441496074, 0.0004592932329238136, 0.0264107923651398, -0.0028809097206603305, -0.014841347309164572, -0.07517521710937161, 0.017458868739186985, 0.0019336940472330173, 0.011320780976471198, -0.008199386051839905, -0.012838943070608044, -0.0028449187567596962, 0.00853966434065705, -0.012171475301530085, -0.012603365937015042, 0.04716773724933819, -0.02889743874811601, -0.005401910267975645, -0.024526177159041096, -0.025573184985991943, 0.0014609042610541317, 0.006471822112916094, 0.0026453328198979926, -0.03541506750002734, -0.002404847848757693, -0.012020967972972033, -0.02486645451653559, -0.00024232523559753955, -0.0022641561952942394, -0.00410950870101455, -0.0019287862096857185, -0.0033422478470904082, -0.007198184398222967, 0.03434188205596383, -0.003083767626830454, -0.027483975946558006, 0.014736646153940427, -0.008290999329830368, -0.01744578179327596, -0.022824788508923322, 0.010659856680348754, 0.015665865879756095, 0.004397436412219623, -0.0012997630904513803, 0.0011803386554160014, 0.013846689128503148, 0.024892630271002955, -0.007296341149168945, -0.0033128008218066144, -0.031043805910952425, -0.06653740067438185, 0.015574253533088285, 0.0011860644270827395, -0.0027418539354357556, 0.04455021768196108, -0.036854702330762094, -0.013310097337794044, 0.036645300020313805, -0.017118591381692493, -0.005127070434004253, -0.024643965260176273, -0.012027511445927548, -0.022222757332045814, 0.03339957352159182, 0.00496347522821252, -0.007656250788175287, -0.008474225885811296, -0.009004274203564885, -0.007924546217868512, -0.012884750175264602, -0.003788862460878589, -0.020063303223298374, -0.009115518831744546, -0.007545005694334301, -0.006632145116568743, -0.027850429058519862, -0.011464744832073735, -0.015639691987934037, -0.011131010016212103, -0.002182358592398373, -0.02003712746883101, -0.0026322451754949745, -0.008919204398529937, -0.005434629029737196, -0.047115389465694074, -0.013211939655525414, -0.007145833820610893, -0.01482825943193089, 0.013951390283727294, -0.020652245591619548, 0.0023443176971205642, 0.008794872824439246, -0.015391026977107357, -0.007780582827927302, -0.006936431975823929, 0.04604220402163056, -0.022379809996204685, -0.02724839974428766, -0.019945515122163197, -0.020220354024811937, -0.010568243402358289, 0.011549813705786031, 0.02002404052291998, -0.008788328420161081, -0.01389903970611522, 0.009632479272264453, 0.03319017493643414, 0.03486538596943925, -0.02315197892050679, -0.0019042469055338923, 0.027038997433839366, 0.0022690640328415384, -0.007538462221378786, 0.01704006598093571, -0.015312501576350574, -0.02005021441474204, 0.027745727903295717, 0.0025864385364997426, -0.0010952691996270463, -0.009678286376921011, -0.05402564335874401, -0.0009537594374211564, 0.0029528914156309355, -0.025193644928119055, 0.02991827082059949, -0.016372598211857752, 0.0050158258058245935, -0.01340171061578451, 0.0017455596537047902, 0.009279114037536278, 0.0017030249840179787, -0.0035107508904294394, 0.03360897583204012, -0.021856304220083958, -0.007145833820610893, 0.0009611211937421047, 0.012341613980277331, 0.014043003561717757, 0.020979436003203015, -0.0022510685508912213, 0.0374567316449943, 0.010921608637086464, -0.0031426619102287046, 0.012812768247463333, -0.03277137031553756, 0.0017733708107497052, -0.00039630913340920243, -0.020652245591619548, -0.019147170443393733, -0.002622429500400377, -0.024657052206087302, 0.026083601953556336, 0.01595379359096117, -0.008075053546426564, 0.0129698190489769, -0.01828338730977851, -0.02711752283459615, 0.014736646153940427, -0.02231437154135893, 0.030206198531804566, -0.022144231931289032, -0.0234137308772445, -0.0183619145731806, -0.008578927041035442, 0.008938835748719131, 0.009200588636779495, -0.008794872824439246, -0.0011124466310425925, 0.016909189071244203, 0.006298411232029764, 0.008821047647583957, -0.010849626709285196, 0.012910924998409313, -0.003083767626830454, 0.010784189185762095, 0.0018109977593045495, -0.012524840536258259, -0.007132746409038539, -0.008232105279262781, -0.017655182241078943, -0.031096155557241843, 0.01957906201020134, 0.00978953100510067, -0.0048653180116052155, 0.008696715142170616, 0.03978632722645695, -0.006416199798826265, -0.004348357571085308, -0.00535937536545817, -0.037064104641210384, 0.02391105903625256, -0.024303687902681777, -0.009481971943706402, 0.0010216514035868993, -0.0056571182860965154, -0.013375534861317146, -0.022615386198475033, 0.014514156897581107, 0.014841347309164572, -0.0056669339611911135, -0.039262823312981525, -0.02579567424235126, 0.006903713214062379, -0.034813038185795134, -0.018100160753797584, -0.029028313795162214, -0.014775908854318818, -0.009671741972642844, 0.020128741678144126, 0.004256744293094844, 0.013015626153633457, -0.0029005410708495263, 0.009959669683847918, 0.010653313207393239, 0.0007619441657324551, -0.013257746760181972, 0.006772837235693523, 0.01071875073091634, 0.006462006437821496, 0.006046474950386651, 0.00592214244497331, -0.0040735177371139155, 0.033896903543245184, 0.025193644928119055, 0.013126870781813117, -0.003180288742368217, 0.017576656840322162, -0.036854702330762094, -0.009599760044841575, -0.0015083467682882423, 0.017458868739186985, 0.0124135959080786, 0.011157185770679465, 0.00021410508238907204, 0.01616319590140946, 1.3177074115014623e-05, 0.02031196637147975, -0.03991720413614845, -0.00543790123187628, 0.005457532582065475, 0.012380876680655723, -0.00575527550270382, -0.0012187834216749534, -0.0132053961825699, -0.0030183296376460264, 0.0034191376124389754, 0.0020956531519552082, -0.004197850242527257, 0.0031230303272088457, 0.001394648221334933, -0.02138515181554326, -0.004839143188460506, -0.014409455742356962, -0.0006772836770032196, -0.009573585221696867, -0.015168537720748037, -0.030049147730291, -0.0004838325079718069, -0.013218484059803581, 0.00672048665808145, -0.02016800437852252, 0.0017308361410628935, 0.013388622738550827, 0.012799680370229652, -0.020534457490484374, -0.029761220019085925, -0.03620032150759517, -0.028295407571238503, -0.018571315020983584, 0.005405182004453403, 0.0049307564664509695, -0.028975964148872792, 0.013218484059803581, -0.014134616839708222, 0.025612447686370332, -0.011589076406164424, 0.0065830667410957545, -0.0012580463548840079, -0.005702924925091748, 0.012596822464059527, -0.0064587342356824135, -0.034577458258234176, 0.02052136868192804, 0.01567895468831243, -0.010960871337464855, -0.0017341079939559823, -0.011575989460253394, -0.015888355136115417, -0.02711752283459615, 0.020325055180036085, -0.02779807941223044, -0.0038543004500630165, -0.022654648898853425, 0.004102965228059035, -0.02639770541922877, 0.002885817558207629, -0.017170941027981914, 0.006488181726627532, -0.013355903511127951, -0.015011485987911818, 0.01569204163422346, 0.004318910545801515, -0.019094818934459006, -0.018819980031810266, -0.010810364008906805, -0.0013676549984094576, 0.01524706312150482, 0.18689103494647819, 0.0027287662910327375, -0.021411325707365318, 0.011700321034344083, -0.014461806319969035, 0.00321791557450773, 0.007014957842242038, -0.019932426313606866, -0.0023639490473097596, 0.013807426428124757, 0.01798237265266241, -0.007486111643766714, -0.03096528051019564, 0.006003940047869176, -0.0035598292659024286, -0.0170793286813141, -0.03902724711071118, -0.008598558391224637, 0.01587526819020439, -0.03339957352159182, -0.03881784480026289, -0.009403446542949619, 0.013545674471387046, -0.016464210558525563, 0.02548157263932413, -0.003461672282125787, -0.009108975358789032, -0.009364182911248575, 0.04065011036007217, -0.020547544436395403, -0.0026976831646794023, -0.008781784947205567, -0.007158921232183249, 0.00988768775604665, 0.004947115614501082, -0.01174612813900064, 0.030467950488542277, 0.008768697069971885, 0.009907319106235844, 0.012989450399166094, -0.019251871598617878, -0.0029774308361980935, -0.04439316688044751, -0.011405849850183496, -0.003923010408555865, 0.05559615882446088, 0.0029447118416058796, -0.016542735959282347, -0.0007930272338781245, -0.00597776475906314, -0.056014959720066856, 0.0022101697494432884, -0.006409655860209424, 0.031279383975868075, -0.0058992393583063565, -0.0003468216162534962, 0.010672944557582435, 0.015207800421126428, -0.011451656954840054, -0.0019664130418252314, 0.004390892473602783, 0.002795840148456044, -0.006370393159831032, 0.012531384009213773, -0.027300749390577077, 0.02367548283398221, -0.02125427490585175, -0.011589076406164424, -0.004629741343673541, 0.020652245591619548, 0.0031606573921790218, -0.028295407571238503, -0.014880610009542963, 0.01148437618226293, -0.01734108063805181, -0.021856304220083958, 0.014265492818077078, -0.009115518831744546, -0.018217950717578063, 0.015966882399517504, 0.008251736629451977, -0.023060364711193673, -0.03125320635875541, 0.004623197405056701, -0.0019386018847803164, -0.03114850706617657, 0.008382612607820833, 0.010535524174935413, -0.012053687200394911, 0.015233975244271138, -0.017236379482827666, -0.025808763050907596, 0.004410523823791979, -0.004377804596369102, 0.022733174299610207, 0.025285259137432174, -0.007028045253814393, 0.00820593045611807, 0.008284455856874854, -0.00603993101176981, 0.0012662260453243956, 0.0542350456691923, 0.01034575414599897, 0.010005475857181824, -0.00012709294575495006, 0.007034589192431234, -0.014029915684484076, 0.009148238059167422, 0.0032162797062688514, -0.004266559968189442, -0.013139958659046798, -0.02868803643766772, -0.003461672282125787, -0.029473292307880854, 0.006530716163483681, 0.01574439128051288, 0.016071581692096343, -0.010980502687654051, -0.013310097337794044, -0.023701658588449574, 0.015600428356232994, 0.03031089968702871, 0.023047277765282644, 0.02096634719464668, 0.0013496595164591404, -0.022654648898853425, 0.005879608008117161, 0.028295407571238503, 0.006838275224877951, -0.028321583325705862, 0.018100160753797584, -0.011399306377227981, -0.0010183794342784789, -0.0031279381647561447, 0.004201121979005015, -0.0018175415815060588, 0.002192174267492971, -0.00597776475906314, -0.000806932812400582, 0.027562501347314788, 0.01727564218320606, -0.012204194528952961, 0.02675106972263429, 0.022641561952942396, 0.0033111647207370726, -0.009972757561081598, -5.080394627229764e-07, 0.0018682560580485896, -0.028792737592891866, 0.005055088506202984, -0.008199386051839905, -0.0005864884495475264, 0.006337673932408155, 0.00425020082013933, 0.01544337755471943, -0.026266828509537262, -0.00081838447214939, -0.030415600842252855, -0.010777644781483927, 0.01014943971278436, -0.053973295575099896, 0.005529514509866744, 0.021110311050249218, -0.02319124162088518, 0.009540865994273989, 0.0063965684486370685, -0.16333334021363116, 0.013807426428124757, 0.004266559968189442, -0.005277577762562304, 0.01263608516443792, 0.018872329678099688, 0.03261431951402399, -0.0045872064411560665, -0.002674779845181786, 0.0008637820858772366, 0.04342468445425345, 0.0017553754452147197, 0.014710471330795716, -0.027196048235352932, -0.005568777210245135, 0.015822918543914967, -0.033818378142488406, 0.015626603179377706, 0.02847863412721943, -0.0062558763295122895, 0.026908122386793163, -0.030127673131047784, 0.016254808248077273, -0.029944446575066855, -0.009796074478056185, 0.011589076406164424, -0.0027434898036746342, 0.014448719374058006, -0.008696715142170616, 0.017511218385476406, -0.006812099936071915, -0.024513090213130067, 0.041880346605649245, -0.0046886353942411285, -0.02724839974428766, -0.006157719578566311, 0.011438569077606372, -0.033085471918564695, -0.0014788996265891173, 0.018231037663489092, 0.017511218385476406, 0.016712875569352244, -0.0021905383992540926, -0.008749065719782689, 0.013781250673657394, 0.010430823019711268, -0.0020514826140295176, -0.00196804891006411, -0.002455562325300224, 0.006239517181462177, 0.025442309938945737, -0.012341613980277331, -0.010162527590018042, 0.0023524975039762833, -0.005251402473756267, 0.0005991670686831592, -0.0013676549984094576, 0.0010502804947512536, 0.019264958544528907, -0.030180022777337202, 0.004665732307574175, -0.015377939099873675, 0.007270166326024235, 0.013015626153633457, 0.03290224722522907, -0.007499199055339069, -0.007656250788175287, 0.001137803869313858, -0.024251336393747054, 0.03070352855345793, 0.007675882138364482, -0.013506410839686003, -0.016922276017155232, -0.008729434369593492, 0.02587420150575335, 0.0040048080114517305, -0.004443243051214856, -0.006249332856556775, -0.012034054918883062, -0.011000134037843248, -0.003723424471694161, 0.03332104812083504, -0.017458868739186985, -0.012924012875642992, -0.01173304026176696, 0.03277137031553756, 0.007067308419854111, -0.009985844506992627, -0.004066974264158402, -0.012321982630088137, 0.025429221130389406, -0.04125213967430437, -0.013611111994910148, 0.0025684430545494254, -0.01310723943162392, 0.013454061193396582, 0.013179221359425189, -0.000329848610160144, -0.013571849294531755, -0.008650908968836711, 0.015521902955476213, -0.018427351165381047, -0.02231437154135893, -0.007335604315208663, 0.03743055775317224, -0.00834334990744244, 0.022432159642494103, 0.013133414254768631, 0.024748666415400418, -0.03185523567298761, 0.02270700040778815, 0.02659401892112073, -0.0011279881942192602, 0.02025961672519033, 0.00459047864329515, 0.019160257389304762, -0.007839477344156215, -0.010777644781483927, 0.018885418486656022, -0.012766961142806775, 0.04831944809415848, 0.011962073922404446, -0.028766561838424503, 0.016922276017155232, 0.01249866571311355, 0.00042412029045411735, -0.12040598950632168, -0.03154113406996048, 0.010823451886140485, -0.004178218892338061, 0.004420339498886577, -0.004397436412219623, -0.004714810683047165, -0.00293326006544174, 0.014435631496824324, 0.030782053954214714, -0.0017651911203093176, -0.014684295576328353, 0.0015574253765918947, 0.013846689128503148, 0.020612982891241156, -0.02777190365776308, -0.0035009349825041785, -0.02163381496372464, -0.0318028878893435, 0.044131413061064495, -0.01524706312150482, -0.005545873657916855, -0.000990568277233564, -0.0164380348040582, -0.017864584551527233, 0.0011737948332144921, -0.0050681759177753395, 0.011850829294224787, 0.008866853820917862, -0.014448719374058006, 0.02531143302925423, 0.016058494746185314, -0.00592214244497331, 0.011451656954840054, -0.01063368092588139, -0.0024392029444194486, 0.0001738197897383842, -0.021764691873416148, 0.03939370022267303, -0.0034453126684143485, 0.012034054918883062, 0.009953125279569751, 0.010764557835572898, -0.016712875569352244, 0.0227724369999886, -0.02275935005407757, -0.049549684339735556, 0.028504809881686792, -0.023309029722020355, -0.00887339822519603, -0.007355235665397858, -0.02675106972263429, -0.011811565662523742, 0.0012956731870235206, 0.02642387931105083, -0.014658120753183644, 0.005827257430505089, 0.04195887200640603, -0.009403446542949619, -0.0036481705745844725, 0.010365385496188165, -0.012505209186069064, 0.010273772218197702, 0.019225695844150514, 0.02042975633526023, -0.018833066977721295, -0.0022003540743486903, -0.029106839195918995, 0.013002538276399776, -0.03261431951402399, -0.004894765502550335, -0.014396368796445933, -0.02727457549875502, 0.01087580246375256, -0.024303687902681777, 0.038503743197235756, -0.015548077778620922, -0.01981463821247169, 0.0051696048708604015, -0.0262406527550699, -0.032352565694640976, 0.003167201097965199, 0.021817041519705566, 0.004439970849075772, 0.02029887942556872, 0.03507478827988754, 0.02408119864632246, -0.02298183931043689, -0.018990119641880167, -0.013611111994910148, 0.006098825062337398, 0.025547011094169885, 0.01095432786450934, -0.022405983888026743, -0.009252938283068916, 0.007839477344156215, -0.00762353156075241, -0.019134083497482704, -0.013198852709614385, 0.004992922253496314, -0.014972223287533427, -0.028635684928732995, -0.02531143302925423, 0.019552886255733978, 0.0009472156152196472, 0.010195246817440919, 0.0016457666852739386, 0.00638020883492563, 0.010607506102736681, 0.008958467098908327, 0.01634642245739039, -0.01845352691984841, -0.02868803643766772, 0.018793804277342903, 0.024722490660933055, 0.013820513374035786, -0.004934028202928727, -0.005038728892491546, 0.0186629292302967, 0.029211540351143143, 0.009436164839049844, -0.0017733708107497052, -0.006870993986639502, 0.0032064637983435906, -0.01705315292684674, 0.04850267278749411, 0.01688301331677684, -0.007368323076970214, -0.0023459537981901056, 0.02395032173663095, -0.026554756220742336, -0.00416513101510438, 0.002169270947995355, -0.01828338730977851, 0.029865921174310073, 0.00037320133038172657, -0.00819284257888439, -0.004436699112598015, -0.029237716105610503, 0.022039530776064888, -0.0022559763884385203, 0.010640225330159557, -0.002656784363231469, -0.012452858608456992, 0.01434401821883386, -0.02443456294972798, 0.007250534510173713, 0.0026829596520375055, -0.022458335396961467, 0.019278045490439936, 0.013198852709614385, -0.00456757509096687, -0.004011351950068571, 0.0009586672749684552, -0.028269233679416444, -0.011261886925903611, -0.022994926256347917, 0.006226429304228496, 0.020809296393133114, -0.02389797209034153, -0.0016400407971918687, -0.02302110201081528, 0.02095326024873565, -0.00112635220956505, 0.02456543985941949, -0.008506945113234174, 0.02706517318830673, 0.019094818934459006, -0.016228634356255215, 0.009586673098930546, 0.03188141329010028, -0.012708067092239188, 0.002725494321724317, 0.002427751168255309, -0.012053687200394911, -0.009416533488860648, 0.02218349463166742, 0.010286860095431383, 0.0028236513055009587, 0.01434401821883386, 0.0007329060493007154, 0.0015435197980694373, 0.02042975633526023, 0.021241187959940726, -0.03994337802797051, 0.011530182355596837, 0.02753632745549273, 0.0028580064011627143, -0.03224786640206214, 0.014383280919212251, 0.0035827325854000448, -0.004665732307574175, -0.007806758116733338, 0.012963275576021385, -0.00015040524686420217, 0.005725828477420027, 0.013833601251269466, 0.03057265164376642, -0.018335738818713237, 0.0021725429173037754, 0.02507585682698388, 0.02099252294911404, 0.007093483242998821, 0.012649173041671602, -0.028373932971995284, -0.0017193844813140856, 0.0052939373762737425, 0.013807426428124757, -0.015063836565523892, -0.017563569894411133, -0.01820486190902173, -0.0003457991403965313, 0.012066774146305938, 0.03483921207761719, -0.005329928340174377, 0.016464210558525563, 0.0027156786466297194, -0.004410523823791979, -0.019670674356869155, -0.012721154969472868, -0.013872863951647859, 0.016896102125333174, -0.01549572720100885, 0.004580662502539226, -0.0029807025726758508, 0.0249973314262271, 0.023989584437009343, -0.017485044493654348, 0.017903847251905625, -0.00810777277384944, -0.0022968751898864532, 0.001188518345856389, -0.01181811006680191, 0.023701658588449574, -0.016647437114506492, -0.005542601921439098, 0.008147035474227831, -0.03743055775317224, 0.013990652984105685, 0.0010919972303186259, -0.011451656954840054, 0.052743059329522814, 0.01647729750443659, -0.0018355369470410441, 0.024696316769110997, 0.008827591120539472, 0.008801416297394761, 0.00490130897550585, 0.002224893262085185, -0.01300908174935529, -0.031017630156485062, -0.0076366189723247645, -0.00751228693257275, -0.002069478095979835, -0.04148771587657472, -0.023610044379136455, 0.013611111994910148, -0.005503339221060707, 0.022039530776064888, 0.021463677216300044, 0.0051597891957658034, -0.0038739318002522123, 0.01753739413994377, 0.02134588911516487, -0.003484575601623403, -0.03190758718192234, -0.011078660369922682, 0.04303205372517893, -0.00856583916380176, -0.03088675510943886, 0.0008441506774803752, -0.010018563734415505, 0.023400642068688166, -0.03800641317558239, -0.013087608081434726, 0.03125320635875541, 0.0014862614993253972, -0.015587340478999314, -0.020639156783063214, -0.00706076448123727, 0.013388622738550827, -0.02363622013360382, 0.005414997679548, -0.014095353208007177, -0.0012032419749136174, -0.018505876566137832, -0.033268700337190926, -0.006579795004617997, 0.008951923625952813, -0.024984242617670765]})]\n"
          ]
        }
      ]
    },
    {
      "cell_type": "code",
      "source": [
        "for source in response['source_documents']:\n",
        "  print(source.metadata)"
      ],
      "metadata": {
        "colab": {
          "base_uri": "https://localhost:8080/"
        },
        "id": "ZaUNeq0mETRt",
        "outputId": "2e46323d-3d3b-4d3b-e0d6-2de86d8b390f"
      },
      "execution_count": 60,
      "outputs": [
        {
          "output_type": "stream",
          "name": "stdout",
          "text": [
            "{'aapl:keywords': '[]', 'creationdate': \"D:20190823182446Z00'00'\", 'creator': 'Word', 'keywords': '', 'moddate': \"D:20190823182446Z00'00'\", 'page': 2.0, 'page_label': '3', 'producer': 'macOS Version 10.14.6 (Build 18G87) Quartz PDFContext', 'source': '/content/heart_disease.pdf', 'title': 'Microsoft Word - أمراض القلب-ar-en-T-C.docx', 'total_pages': 8.0}\n",
            "{'aapl:keywords': '[]', 'creationdate': \"D:20190823182446Z00'00'\", 'creator': 'Word', 'keywords': '', 'moddate': \"D:20190823182446Z00'00'\", 'page': 0.0, 'page_label': '1', 'producer': 'macOS Version 10.14.6 (Build 18G87) Quartz PDFContext', 'source': '/content/heart_disease.pdf', 'title': 'Microsoft Word - أمراض القلب-ar-en-T-C.docx', 'total_pages': 8.0}\n",
            "{'aapl:keywords': '[]', 'creationdate': \"D:20190823182446Z00'00'\", 'creator': 'Word', 'keywords': '', 'moddate': \"D:20190823182446Z00'00'\", 'page': 5.0, 'page_label': '6', 'producer': 'macOS Version 10.14.6 (Build 18G87) Quartz PDFContext', 'source': '/content/heart_disease.pdf', 'title': 'Microsoft Word - أمراض القلب-ar-en-T-C.docx', 'total_pages': 8.0}\n",
            "{'aapl:keywords': '[]', 'creationdate': \"D:20190823182446Z00'00'\", 'creator': 'Word', 'keywords': '', 'moddate': \"D:20190823182446Z00'00'\", 'page': 5.0, 'page_label': '6', 'producer': 'macOS Version 10.14.6 (Build 18G87) Quartz PDFContext', 'source': '/content/heart_disease.pdf', 'title': 'Microsoft Word - أمراض القلب-ar-en-T-C.docx', 'total_pages': 8.0}\n"
          ]
        }
      ]
    }
  ]
}