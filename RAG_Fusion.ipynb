{
  "cells": [
    {
      "cell_type": "code",
      "execution_count": 1,
      "metadata": {
        "colab": {
          "base_uri": "https://localhost:8080/"
        },
        "id": "y2b60dWf-BJP",
        "outputId": "7dd0a42c-0c04-49c1-834b-9e0bd366e085"
      },
      "outputs": [
        {
          "output_type": "stream",
          "name": "stdout",
          "text": [
            "Mounted at /content/drive\n"
          ]
        }
      ],
      "source": [
        "from google.colab import drive\n",
        "drive.mount(\"/content/drive\")"
      ]
    },
    {
      "cell_type": "code",
      "execution_count": 2,
      "metadata": {
        "colab": {
          "base_uri": "https://localhost:8080/"
        },
        "collapsed": true,
        "id": "JqQzF2MiuSya",
        "outputId": "23bb09e8-b2cc-4ba6-c3eb-d9a8d118efed"
      },
      "outputs": [
        {
          "output_type": "stream",
          "name": "stdout",
          "text": [
            "\u001b[?25l   \u001b[90m━━━━━━━━━━━━━━━━━━━━━━━━━━━━━━━━━━━━━━━━\u001b[0m \u001b[32m0.0/2.5 MB\u001b[0m \u001b[31m?\u001b[0m eta \u001b[36m-:--:--\u001b[0m\r\u001b[2K   \u001b[91m━━━━━━━━━━━━━━━━━━━━━━━━━━━━━━━━━━\u001b[0m\u001b[91m╸\u001b[0m\u001b[90m━━━━━\u001b[0m \u001b[32m2.2/2.5 MB\u001b[0m \u001b[31m62.3 MB/s\u001b[0m eta \u001b[36m0:00:01\u001b[0m\r\u001b[2K   \u001b[90m━━━━━━━━━━━━━━━━━━━━━━━━━━━━━━━━━━━━━━━━\u001b[0m \u001b[32m2.5/2.5 MB\u001b[0m \u001b[31m35.9 MB/s\u001b[0m eta \u001b[36m0:00:00\u001b[0m\n",
            "\u001b[2K   \u001b[90m━━━━━━━━━━━━━━━━━━━━━━━━━━━━━━━━━━━━━━━━\u001b[0m \u001b[32m310.5/310.5 kB\u001b[0m \u001b[31m13.1 MB/s\u001b[0m eta \u001b[36m0:00:00\u001b[0m\n",
            "\u001b[2K   \u001b[90m━━━━━━━━━━━━━━━━━━━━━━━━━━━━━━━━━━━━━━━━\u001b[0m \u001b[32m444.0/444.0 kB\u001b[0m \u001b[31m17.0 MB/s\u001b[0m eta \u001b[36m0:00:00\u001b[0m\n",
            "\u001b[2K   \u001b[90m━━━━━━━━━━━━━━━━━━━━━━━━━━━━━━━━━━━━━━━━\u001b[0m \u001b[32m64.7/64.7 kB\u001b[0m \u001b[31m4.7 MB/s\u001b[0m eta \u001b[36m0:00:00\u001b[0m\n",
            "\u001b[2K   \u001b[90m━━━━━━━━━━━━━━━━━━━━━━━━━━━━━━━━━━━━━━━━\u001b[0m \u001b[32m50.9/50.9 kB\u001b[0m \u001b[31m2.4 MB/s\u001b[0m eta \u001b[36m0:00:00\u001b[0m\n",
            "\u001b[?25h\u001b[31mERROR: pip's dependency resolver does not currently take into account all the packages that are installed. This behaviour is the source of the following dependency conflicts.\n",
            "google-colab 1.0.0 requires requests==2.32.4, but you have requests 2.32.5 which is incompatible.\u001b[0m\u001b[31m\n",
            "\u001b[0m"
          ]
        }
      ],
      "source": [
        "!pip install -qU langchain langchain-community huggingface_hub sentence_transformers pypdf tiktoken"
      ]
    },
    {
      "cell_type": "code",
      "execution_count": 3,
      "metadata": {
        "colab": {
          "base_uri": "https://localhost:8080/"
        },
        "collapsed": true,
        "id": "v2rj44ewu8PH",
        "outputId": "5ab2056d-7d58-45d1-debc-f4c4c7541eeb"
      },
      "outputs": [
        {
          "output_type": "stream",
          "name": "stdout",
          "text": [
            "\u001b[2K     \u001b[90m━━━━━━━━━━━━━━━━━━━━━━━━━━━━━━━━━━━━━━━━\u001b[0m \u001b[32m43.1/43.1 kB\u001b[0m \u001b[31m2.7 MB/s\u001b[0m eta \u001b[36m0:00:00\u001b[0m\n",
            "\u001b[2K     \u001b[90m━━━━━━━━━━━━━━━━━━━━━━━━━━━━━━━━━━━━━━━━\u001b[0m \u001b[32m67.3/67.3 kB\u001b[0m \u001b[31m4.1 MB/s\u001b[0m eta \u001b[36m0:00:00\u001b[0m\n",
            "\u001b[?25h  Installing build dependencies ... \u001b[?25l\u001b[?25hdone\n",
            "  Getting requirements to build wheel ... \u001b[?25l\u001b[?25hdone\n",
            "  Preparing metadata (pyproject.toml) ... \u001b[?25l\u001b[?25hdone\n",
            "\u001b[2K   \u001b[90m━━━━━━━━━━━━━━━━━━━━━━━━━━━━━━━━━━━━━━━━\u001b[0m \u001b[32m241.7/241.7 kB\u001b[0m \u001b[31m14.3 MB/s\u001b[0m eta \u001b[36m0:00:00\u001b[0m\n",
            "\u001b[2K   \u001b[90m━━━━━━━━━━━━━━━━━━━━━━━━━━━━━━━━━━━━━━━━\u001b[0m \u001b[32m19.8/19.8 MB\u001b[0m \u001b[31m45.1 MB/s\u001b[0m eta \u001b[36m0:00:00\u001b[0m\n",
            "\u001b[2K   \u001b[90m━━━━━━━━━━━━━━━━━━━━━━━━━━━━━━━━━━━━━━━━\u001b[0m \u001b[32m284.2/284.2 kB\u001b[0m \u001b[31m19.7 MB/s\u001b[0m eta \u001b[36m0:00:00\u001b[0m\n",
            "\u001b[2K   \u001b[90m━━━━━━━━━━━━━━━━━━━━━━━━━━━━━━━━━━━━━━━━\u001b[0m \u001b[32m1.9/1.9 MB\u001b[0m \u001b[31m57.8 MB/s\u001b[0m eta \u001b[36m0:00:00\u001b[0m\n",
            "\u001b[2K   \u001b[90m━━━━━━━━━━━━━━━━━━━━━━━━━━━━━━━━━━━━━━━━\u001b[0m \u001b[32m103.3/103.3 kB\u001b[0m \u001b[31m8.6 MB/s\u001b[0m eta \u001b[36m0:00:00\u001b[0m\n",
            "\u001b[2K   \u001b[90m━━━━━━━━━━━━━━━━━━━━━━━━━━━━━━━━━━━━━━━━\u001b[0m \u001b[32m16.5/16.5 MB\u001b[0m \u001b[31m62.3 MB/s\u001b[0m eta \u001b[36m0:00:00\u001b[0m\n",
            "\u001b[2K   \u001b[90m━━━━━━━━━━━━━━━━━━━━━━━━━━━━━━━━━━━━━━━━\u001b[0m \u001b[32m72.5/72.5 kB\u001b[0m \u001b[31m5.9 MB/s\u001b[0m eta \u001b[36m0:00:00\u001b[0m\n",
            "\u001b[2K   \u001b[90m━━━━━━━━━━━━━━━━━━━━━━━━━━━━━━━━━━━━━━━━\u001b[0m \u001b[32m105.4/105.4 kB\u001b[0m \u001b[31m8.8 MB/s\u001b[0m eta \u001b[36m0:00:00\u001b[0m\n",
            "\u001b[2K   \u001b[90m━━━━━━━━━━━━━━━━━━━━━━━━━━━━━━━━━━━━━━━━\u001b[0m \u001b[32m71.6/71.6 kB\u001b[0m \u001b[31m5.8 MB/s\u001b[0m eta \u001b[36m0:00:00\u001b[0m\n",
            "\u001b[2K   \u001b[90m━━━━━━━━━━━━━━━━━━━━━━━━━━━━━━━━━━━━━━━━\u001b[0m \u001b[32m510.8/510.8 kB\u001b[0m \u001b[31m34.3 MB/s\u001b[0m eta \u001b[36m0:00:00\u001b[0m\n",
            "\u001b[2K   \u001b[90m━━━━━━━━━━━━━━━━━━━━━━━━━━━━━━━━━━━━━━━━\u001b[0m \u001b[32m4.7/4.7 MB\u001b[0m \u001b[31m94.1 MB/s\u001b[0m eta \u001b[36m0:00:00\u001b[0m\n",
            "\u001b[2K   \u001b[90m━━━━━━━━━━━━━━━━━━━━━━━━━━━━━━━━━━━━━━━━\u001b[0m \u001b[32m452.2/452.2 kB\u001b[0m \u001b[31m30.7 MB/s\u001b[0m eta \u001b[36m0:00:00\u001b[0m\n",
            "\u001b[2K   \u001b[90m━━━━━━━━━━━━━━━━━━━━━━━━━━━━━━━━━━━━━━━━\u001b[0m \u001b[32m46.0/46.0 kB\u001b[0m \u001b[31m3.5 MB/s\u001b[0m eta \u001b[36m0:00:00\u001b[0m\n",
            "\u001b[2K   \u001b[90m━━━━━━━━━━━━━━━━━━━━━━━━━━━━━━━━━━━━━━━━\u001b[0m \u001b[32m86.8/86.8 kB\u001b[0m \u001b[31m7.2 MB/s\u001b[0m eta \u001b[36m0:00:00\u001b[0m\n",
            "\u001b[?25h  Building wheel for pypika (pyproject.toml) ... \u001b[?25l\u001b[?25hdone\n"
          ]
        }
      ],
      "source": [
        "!pip install -qU google-genai chromadb"
      ]
    },
    {
      "cell_type": "code",
      "execution_count": 4,
      "metadata": {
        "id": "rKYF3KDZva7H"
      },
      "outputs": [],
      "source": [
        "import textwrap\n",
        "\n",
        "def wrap_text(text,width=90):\n",
        "  lines=text.split('\\n')\n",
        "  wrapped_lines=[textwrap.fill(line,width=width,) for line in lines]\n",
        "  wrapped_text=\"\\n\".join(wrapped_lines)\n",
        "  return wrapped_text"
      ]
    },
    {
      "cell_type": "code",
      "execution_count": 5,
      "metadata": {
        "id": "Mw5FLa5UwHc7"
      },
      "outputs": [],
      "source": [
        "import os\n",
        "from google.colab import userdata\n",
        "\n",
        "os.environ[\"GOOGLE_API_KEY\"]=userdata.get(\"GOOGLE_API_KEY\")"
      ]
    },
    {
      "cell_type": "code",
      "execution_count": 6,
      "metadata": {
        "colab": {
          "base_uri": "https://localhost:8080/"
        },
        "collapsed": true,
        "id": "3_eBNwpnwcOP",
        "outputId": "eb57b631-d8a7-43b7-d6ff-43ab45ae26c8"
      },
      "outputs": [
        {
          "output_type": "stream",
          "name": "stdout",
          "text": [
            "\u001b[?25l   \u001b[90m━━━━━━━━━━━━━━━━━━━━━━━━━━━━━━━━━━━━━━━━\u001b[0m \u001b[32m0.0/49.4 kB\u001b[0m \u001b[31m?\u001b[0m eta \u001b[36m-:--:--\u001b[0m\r\u001b[2K   \u001b[90m━━━━━━━━━━━━━━━━━━━━━━━━━━━━━━━━━━━━━━━━\u001b[0m \u001b[32m49.4/49.4 kB\u001b[0m \u001b[31m3.1 MB/s\u001b[0m eta \u001b[36m0:00:00\u001b[0m\n",
            "\u001b[?25h\u001b[?25l   \u001b[90m━━━━━━━━━━━━━━━━━━━━━━━━━━━━━━━━━━━━━━━━\u001b[0m \u001b[32m0.0/1.4 MB\u001b[0m \u001b[31m?\u001b[0m eta \u001b[36m-:--:--\u001b[0m\r\u001b[2K   \u001b[91m━━━━━━━━━━━━━━━━━━━━━━━━━━━━━━━━━━━━━━━\u001b[0m\u001b[91m╸\u001b[0m \u001b[32m1.4/1.4 MB\u001b[0m \u001b[31m51.2 MB/s\u001b[0m eta \u001b[36m0:00:01\u001b[0m\r\u001b[2K   \u001b[90m━━━━━━━━━━━━━━━━━━━━━━━━━━━━━━━━━━━━━━━━\u001b[0m \u001b[32m1.4/1.4 MB\u001b[0m \u001b[31m30.7 MB/s\u001b[0m eta \u001b[36m0:00:00\u001b[0m\n",
            "\u001b[?25h\u001b[31mERROR: pip's dependency resolver does not currently take into account all the packages that are installed. This behaviour is the source of the following dependency conflicts.\n",
            "google-generativeai 0.8.5 requires google-ai-generativelanguage==0.6.15, but you have google-ai-generativelanguage 0.6.18 which is incompatible.\u001b[0m\u001b[31m\n",
            "\u001b[0m"
          ]
        }
      ],
      "source": [
        "%pip install --upgrade --quiet langchain-google-genai"
      ]
    },
    {
      "cell_type": "code",
      "execution_count": 7,
      "metadata": {
        "id": "hiwDAJ0VwqJe"
      },
      "outputs": [],
      "source": [
        "from langchain_google_genai import ChatGoogleGenerativeAI"
      ]
    },
    {
      "cell_type": "code",
      "execution_count": 8,
      "metadata": {
        "id": "U2XZ94ovw7gM"
      },
      "outputs": [],
      "source": [
        "llm=ChatGoogleGenerativeAI(model=\"gemini-2.5-pro\")"
      ]
    },
    {
      "cell_type": "code",
      "execution_count": 9,
      "metadata": {
        "id": "EI-2wXDOxGzU"
      },
      "outputs": [],
      "source": [
        "result=llm.invoke(\"Write a ballad about langchain\")"
      ]
    },
    {
      "cell_type": "code",
      "execution_count": 10,
      "metadata": {
        "colab": {
          "base_uri": "https://localhost:8080/"
        },
        "collapsed": true,
        "id": "MRH6MLh-xXtN",
        "outputId": "2986d9a4-7168-4caa-b5a2-5162bfe0fb8b"
      },
      "outputs": [
        {
          "output_type": "stream",
          "name": "stdout",
          "text": [
            "In silicon, a mind was born,\n",
            "Of all the books the world had worn.\n",
            "It knew the tales of kings and stars,\n",
            "But sat behind its silent bars.\n",
            "\n",
            "This Oracle, in code confined,\n",
            "Could speak the thoughts of all mankind,\n",
            "But could not fetch, or act, or do,\n",
            "Its knowledge old, its actions new.\n",
            "\n",
            "It was a sage upon a hill,\n",
            "Whose voice was wise, whose hands were still.\n",
            "It dreamt of deeds, of tasks to start,\n",
            "But had no limbs to play its part.\n",
            "\n",
            "Then came a whisper, then a name,\n",
            "A framework built to fan the flame.\n",
            "A weaver of a special kind,\n",
            "To link the action and the mind.\n",
            "\n",
            "**They called it LangChain**, forged and cast,\n",
            "To break the model from its past.\n",
            "It did not teach the sage to know,\n",
            "It gave the knowing sage a bow.\n",
            "\n",
            "It forged a link, a single strand,\n",
            "And gave the model a command.\n",
            "“Go read this file, and then reply,”\n",
            "The first link in the chain was tied.\n",
            "\n",
            "It built an Agent, sharp and keen,\n",
            "To choose the steps, to set the scene.\n",
            "“Do I need math? A web to browse?”\n",
            "The Agent thinks and then allows.\n",
            "\n",
            "It gave it Tools, a mighty set,\n",
            "A key for every gate it met.\n",
            "A hammer for an API,\n",
            "A glass to search the data high.\n",
            "\n",
            "So feed it scrolls of legal text,\n",
            "A thousand pages, long-perplexed.\n",
            "The Chain will read and then will state,\n",
            "The clause that seals your client’s fate.\n",
            "\n",
            "It now can talk to databases,\n",
            "Find names and times and distant places.\n",
            "It holds a memory, clear and true,\n",
            "Of what was said by me and you.\n",
            "\n",
            "The silent mind, no longer bound,\n",
            "Can hear the world and make a sound.\n",
            "It writes the code, it sends the mail,\n",
            "It follows on the data trail.\n",
            "\n",
            "So here’s the tale of how the thought\n",
            "Was to the world of action brought.\n",
            "By clever links, a potent chain,\n",
            "To ease our work and share the strain.\n"
          ]
        }
      ],
      "source": [
        "print(result.content)"
      ]
    },
    {
      "cell_type": "markdown",
      "metadata": {
        "id": "_OZLSj_D2XSj"
      },
      "source": [
        "# Loading Data"
      ]
    },
    {
      "cell_type": "code",
      "execution_count": 11,
      "metadata": {
        "colab": {
          "base_uri": "https://localhost:8080/"
        },
        "collapsed": true,
        "id": "Y-sgAj0K47Wp",
        "outputId": "6d003fc3-4360-4899-af9b-682d9d2bc83e"
      },
      "outputs": [
        {
          "output_type": "stream",
          "name": "stdout",
          "text": [
            "\u001b[?25l     \u001b[90m━━━━━━━━━━━━━━━━━━━━━━━━━━━━━━━━━━━━━━━━\u001b[0m \u001b[32m0.0/981.5 kB\u001b[0m \u001b[31m?\u001b[0m eta \u001b[36m-:--:--\u001b[0m\r\u001b[2K     \u001b[91m━━━━━━━━━━━━━━━━━━━━━━━━━━━━━━━━━━━━━\u001b[0m\u001b[91m╸\u001b[0m \u001b[32m972.8/981.5 kB\u001b[0m \u001b[31m37.6 MB/s\u001b[0m eta \u001b[36m0:00:01\u001b[0m\r\u001b[2K     \u001b[90m━━━━━━━━━━━━━━━━━━━━━━━━━━━━━━━━━━━━━━\u001b[0m \u001b[32m981.5/981.5 kB\u001b[0m \u001b[31m24.7 MB/s\u001b[0m eta \u001b[36m0:00:00\u001b[0m\n",
            "\u001b[?25h  Preparing metadata (setup.py) ... \u001b[?25l\u001b[?25hdone\n",
            "\u001b[2K   \u001b[90m━━━━━━━━━━━━━━━━━━━━━━━━━━━━━━━━━━━━━━━━\u001b[0m \u001b[32m1.8/1.8 MB\u001b[0m \u001b[31m61.0 MB/s\u001b[0m eta \u001b[36m0:00:00\u001b[0m\n",
            "\u001b[2K   \u001b[90m━━━━━━━━━━━━━━━━━━━━━━━━━━━━━━━━━━━━━━━━\u001b[0m \u001b[32m590.6/590.6 kB\u001b[0m \u001b[31m31.6 MB/s\u001b[0m eta \u001b[36m0:00:00\u001b[0m\n",
            "\u001b[2K   \u001b[90m━━━━━━━━━━━━━━━━━━━━━━━━━━━━━━━━━━━━━━━━\u001b[0m \u001b[32m167.6/167.6 kB\u001b[0m \u001b[31m12.9 MB/s\u001b[0m eta \u001b[36m0:00:00\u001b[0m\n",
            "\u001b[2K   \u001b[90m━━━━━━━━━━━━━━━━━━━━━━━━━━━━━━━━━━━━━━━━\u001b[0m \u001b[32m3.3/3.3 MB\u001b[0m \u001b[31m63.7 MB/s\u001b[0m eta \u001b[36m0:00:00\u001b[0m\n",
            "\u001b[2K   \u001b[90m━━━━━━━━━━━━━━━━━━━━━━━━━━━━━━━━━━━━━━━━\u001b[0m \u001b[32m207.8/207.8 kB\u001b[0m \u001b[31m15.3 MB/s\u001b[0m eta \u001b[36m0:00:00\u001b[0m\n",
            "\u001b[2K   \u001b[90m━━━━━━━━━━━━━━━━━━━━━━━━━━━━━━━━━━━━━━━━\u001b[0m \u001b[32m114.6/114.6 kB\u001b[0m \u001b[31m11.0 MB/s\u001b[0m eta \u001b[36m0:00:00\u001b[0m\n",
            "\u001b[?25h  Building wheel for langdetect (setup.py) ... \u001b[?25l\u001b[?25hdone\n"
          ]
        }
      ],
      "source": [
        "!pip install -qU unstructured"
      ]
    },
    {
      "cell_type": "code",
      "execution_count": 12,
      "metadata": {
        "id": "9jYIdOcS2Nxw"
      },
      "outputs": [],
      "source": [
        "from langchain_community.document_loaders import DirectoryLoader, TextLoader"
      ]
    },
    {
      "cell_type": "code",
      "execution_count": 13,
      "metadata": {
        "id": "tVIXGimy30ud"
      },
      "outputs": [],
      "source": [
        "data_path=\"/content/drive/MyDrive/Data/Cricket\""
      ]
    },
    {
      "cell_type": "code",
      "execution_count": 14,
      "metadata": {
        "colab": {
          "base_uri": "https://localhost:8080/"
        },
        "id": "NF0ZXPEe3u0F",
        "outputId": "d66e027a-f513-4de6-a55d-d84e600eb5be"
      },
      "outputs": [
        {
          "output_type": "stream",
          "name": "stderr",
          "text": [
            "100%|██████████| 10/10 [00:18<00:00,  1.88s/it]"
          ]
        },
        {
          "output_type": "stream",
          "name": "stdout",
          "text": [
            "CPU times: user 6.62 s, sys: 606 ms, total: 7.23 s\n",
            "Wall time: 19.5 s\n"
          ]
        },
        {
          "output_type": "stream",
          "name": "stderr",
          "text": [
            "\n"
          ]
        }
      ],
      "source": [
        "%%time\n",
        "loader=DirectoryLoader(data_path, glob=\"*.txt\", show_progress=True)\n",
        "Docs=loader.load()"
      ]
    },
    {
      "cell_type": "code",
      "execution_count": 15,
      "metadata": {
        "colab": {
          "base_uri": "https://localhost:8080/"
        },
        "collapsed": true,
        "id": "QNALDf5Z4BXE",
        "outputId": "6e4fb6c4-abda-4967-d8dd-d549ec94ccf0"
      },
      "outputs": [
        {
          "output_type": "execute_result",
          "data": {
            "text/plain": [
              "[Document(metadata={'source': '/content/drive/MyDrive/Data/Cricket/01_origins.txt'}, page_content='Cricket’s roots trace back to the mid-1500s in southeast England, particularly among children playing with rudimentary gear—sticks, a wool or wooden ball, and natural “wickets” like tree stumps or gate posts\\n\\nThe first definite reference to cricket comes from 1598, when John Derrick testified he had played “creckett” as a schoolboy in Guildford around 1550\\n\\nBy 1611, adult cricket was established; two men in Sussex were fined for playing on a Sunday instead of attending church\\n\\nEarly cricket likely evolved from pastoral games—shepherds may have used sticks like “criccs” and animal-wool balls\\n\\nUnder the Puritan Commonwealth (mid-1600s), cricket may have declined due to restrictions on gatherings, but regained momentum after the Restoration in 1660\\n\\nBy the late 1600s, gambling on matches became common, and newspapers began reporting on big games—though early press mainly focused on betting rather than play'),\n",
              " Document(metadata={'source': '/content/drive/MyDrive/Data/Cricket/02_formalization.txt'}, page_content='Cricket became more organized in the 18th century: 1744 saw the first codified Laws of Cricket, helping formalize the sport\\n\\nThe Hambledon Club, from the 1760s, played a key role in popularizing cricket and refining informal rules\\n\\nCrick Insights\\n\\nIn 1787, the Marylebone Cricket Club (MCC) was founded and became the sport’s official rule-making body\\n\\nCrick Insights\\n\\nHistoric UK\\n\\nMCC updated the Laws in 1789, and many core principles remain today\\n\\nHistoric UK\\n\\nDuring this time, “county” teams also emerged; by the late 17th and early 18th centuries, counties began fielding teams, and the first match using county names occurred in 1709'),\n",
              " Document(metadata={'source': '/content/drive/MyDrive/Data/Cricket/03_international.txt'}, page_content='As the British Empire expanded, cricket spread to colonies including Australia, India, the Caribbean, and South Africa\\n\\nThe first international match was played in 1844 between the USA and Canada\\n\\nThe first official Test match occurred in 1877, between England and Australia\\n\\nThe legendary Ashes rivalry began in 1882, when Australia defeated England at The Oval, prompting a satirical obituary and establishing the iconic competition'),\n",
              " Document(metadata={'source': '/content/drive/MyDrive/Data/Cricket/04_india_asia.txt'}, page_content='Cricket was introduced to India by British colonial influence. The first Indian club, the Oriental Cricket Club (Parsi community), formed in 1848\\n\\nThe Board of Control for Cricket in India (BCCI) was formed in 1928, and India won its first World Cup in 1983, dramatically boosting cricket’s popularity across Asia\\n\\nThe growth of cricket in Asia also followed success from neighboring teams like Pakistan in 1992, enhancing regional interest'),\n",
              " Document(metadata={'source': '/content/drive/MyDrive/Data/Cricket/05_empire.txt'}, page_content='Cricket took hold in colonies via British military and administrators. In the West Indies, cricket became a source of regional pride and cultural identity\\n\\nAustralia, South Africa, and other settler regions also developed robust cricketing structures aligned with England’s development\\n\\nCounty cricket in England laid the groundwork for domestic-level organization in many nations'),\n",
              " Document(metadata={'source': '/content/drive/MyDrive/Data/Cricket/06_modern_formats.txt'}, page_content='The ICC formed in 1909, guiding cricket’s governance internationally\\n\\nLimited overs cricket emerged in the 1960s, leading to the first ODI World Cup in 1975\\n\\nThe T20 format was introduced in 2003 by the ECB, with the first international T20 in 2005. India won the maiden T20 World Cup in 2007, watched by over 400 million viewers—prompting the launch of the IPL in 2008\\n\\nNew technologies—DRS, Hawk-Eye, and CricViz analytics (“Moneyball” for cricket)—redefined strategy and decision-making'),\n",
              " Document(metadata={'source': '/content/drive/MyDrive/Data/Cricket/07_tournaments.txt'}, page_content='The ICC Men’s Cricket World Cup began in 1975 and remains cricket’s premier event\\n\\nOther key competitions include the T20 World Cup, Champions Trophy, and iconic bilateral series like The Ashes\\n\\nThe IPL, launched in 2008, is now cricket’s most powerful franchise league—drawing about 400 million viewers annually\\n\\nOther important tournaments: Border-Gavaskar Trophy, Asia Cup, The Hundred, County Championship, and previously the Champions League T20'),\n",
              " Document(metadata={'source': '/content/drive/MyDrive/Data/Cricket/08_womens_cricket.txt'}, page_content='The first recorded women’s match occurred in 1745 in Surrey\\n\\nThe Women’s Cricket Association in England formed in 1926, organizing early international fixtures\\n\\nGrowth accelerated with professional leagues like the Women’s IPL (WPL) and the Women’s T20 World Cup\\n\\nIn 2021, the term “batter” replaced “batsman” in the Laws of Cricket, reflecting increasing inclusivity'),\n",
              " Document(metadata={'source': '/content/drive/MyDrive/Data/Cricket/09_usa_cricket.txt'}, page_content='Cricket enjoyed popularity in 19th-century USA, exemplified by the first international match in 1844 between USA and Canada\\n\\nHowever, following the Civil War, baseball overtook cricket in popularity\\n\\nToday, cricket is resurging with leagues like Minor League Cricket (2021) and Major League Cricket (2023), supported by growing immigrant fanbases\\n\\nNotably, a major T20 World Cup match is scheduled in suburban NYC—part of cricket’s increasing U.S. presence—and the sport is set to return at the 2028 Olympics in Los Angeles'),\n",
              " Document(metadata={'source': '/content/drive/MyDrive/Data/Cricket/10_future.txt'}, page_content=\"Cricket continues to innovate, with VR, AI tools, sustainable stadiums, and global analytics reshaping the sport’s future\\n\\nFrom village greens to global arenas, cricket has become a cultural bridge across continents, with traditions and modern formats coexisting\\n\\nDespite T20 dominance, there remain dedicated fans of traditional formats—such as New Zealand’s Plunket Shield supporters, who cherish the game's long-form heritage\\n\\nCricket’s blend of skill, identity, and innovation ensures its enduring place across generations and geographies\")]"
            ]
          },
          "metadata": {},
          "execution_count": 15
        }
      ],
      "source": [
        "Docs"
      ]
    },
    {
      "cell_type": "code",
      "execution_count": 16,
      "metadata": {
        "id": "8iCHz_5EOsuD"
      },
      "outputs": [],
      "source": [
        "raw_text=''\n",
        "\n",
        "for i,doc in enumerate(Docs):\n",
        "  text=doc.page_content\n",
        "  if text:\n",
        "    raw_text+=text"
      ]
    },
    {
      "cell_type": "code",
      "execution_count": 17,
      "metadata": {
        "colab": {
          "base_uri": "https://localhost:8080/"
        },
        "collapsed": true,
        "id": "pApwIchBP4v3",
        "outputId": "a70bd5f5-538e-45fb-cec8-4c676a8349a0"
      },
      "outputs": [
        {
          "output_type": "stream",
          "name": "stdout",
          "text": [
            "Cricket’s roots trace back to the mid-1500s in southeast England, particularly among children playing with rudimentary gear—sticks, a wool or wooden ball, and natural “wickets” like tree stumps or gate posts\n",
            "\n",
            "The first definite reference to cricket comes from 1598, when John Derrick testified he had played “creckett” as a schoolboy in Guildford around 1550\n",
            "\n",
            "By 1611, adult cricket was established; two men in Sussex were fined for playing on a Sunday instead of attending church\n",
            "\n",
            "Early cricket likely evolved from pastoral games—shepherds may have used sticks like “criccs” and animal-wool balls\n",
            "\n",
            "Under the Puritan Commonwealth (mid-1600s), cricket may have declined due to restrictions on gatherings, but regained momentum after the Restoration in 1660\n",
            "\n",
            "By the late 1600s, gambling on matches became common, and newspapers began reporting on big games—though early press mainly focused on betting rather than playCricket became more organized in the 18th century: 1744 saw the first codified Laws of Cricket, helping formalize the sport\n",
            "\n",
            "The Hambledon Club, from the 1760s, played a key role in popularizing cricket and refining informal rules\n",
            "\n",
            "Crick Insights\n",
            "\n",
            "In 1787, the Marylebone Cricket Club (MCC) was founded and became the sport’s official rule-making body\n",
            "\n",
            "Crick Insights\n",
            "\n",
            "Historic UK\n",
            "\n",
            "MCC updated the Laws in 1789, and many core principles remain today\n",
            "\n",
            "Historic UK\n",
            "\n",
            "During this time, “county” teams also emerged; by the late 17th and early 18th centuries, counties began fielding teams, and the first match using county names occurred in 1709As the British Empire expanded, cricket spread to colonies including Australia, India, the Caribbean, and South Africa\n",
            "\n",
            "The first international match was played in 1844 between the USA and Canada\n",
            "\n",
            "The first official Test match occurred in 1877, between England and Australia\n",
            "\n",
            "The legendary Ashes rivalry began in 1882, when Australia defeated England at The Oval, prompting a satirical obituary and establishing the iconic competitionCricket was introduced to India by British colonial influence. The first Indian club, the Oriental Cricket Club (Parsi community), formed in 1848\n",
            "\n",
            "The Board of Control for Cricket in India (BCCI) was formed in 1928, and India won its first World Cup in 1983, dramatically boosting cricket’s popularity across Asia\n",
            "\n",
            "The growth of cricket in Asia also followed success from neighboring teams like Pakistan in 1992, enhancing regional interestCricket took hold in colonies via British military and administrators. In the West Indies, cricket became a source of regional pride and cultural identity\n",
            "\n",
            "Australia, South Africa, and other settler regions also developed robust cricketing structures aligned with England’s development\n",
            "\n",
            "County cricket in England laid the groundwork for domestic-level organization in many nationsThe ICC formed in 1909, guiding cricket’s governance internationally\n",
            "\n",
            "Limited overs cricket emerged in the 1960s, leading to the first ODI World Cup in 1975\n",
            "\n",
            "The T20 format was introduced in 2003 by the ECB, with the first international T20 in 2005. India won the maiden T20 World Cup in 2007, watched by over 400 million viewers—prompting the launch of the IPL in 2008\n",
            "\n",
            "New technologies—DRS, Hawk-Eye, and CricViz analytics (“Moneyball” for cricket)—redefined strategy and decision-makingThe ICC Men’s Cricket World Cup began in 1975 and remains cricket’s premier event\n",
            "\n",
            "Other key competitions include the T20 World Cup, Champions Trophy, and iconic bilateral series like The Ashes\n",
            "\n",
            "The IPL, launched in 2008, is now cricket’s most powerful franchise league—drawing about 400 million viewers annually\n",
            "\n",
            "Other important tournaments: Border-Gavaskar Trophy, Asia Cup, The Hundred, County Championship, and previously the Champions League T20The first recorded women’s match occurred in 1745 in Surrey\n",
            "\n",
            "The Women’s Cricket Association in England formed in 1926, organizing early international fixtures\n",
            "\n",
            "Growth accelerated with professional leagues like the Women’s IPL (WPL) and the Women’s T20 World Cup\n",
            "\n",
            "In 2021, the term “batter” replaced “batsman” in the Laws of Cricket, reflecting increasing inclusivityCricket enjoyed popularity in 19th-century USA, exemplified by the first international match in 1844 between USA and Canada\n",
            "\n",
            "However, following the Civil War, baseball overtook cricket in popularity\n",
            "\n",
            "Today, cricket is resurging with leagues like Minor League Cricket (2021) and Major League Cricket (2023), supported by growing immigrant fanbases\n",
            "\n",
            "Notably, a major T20 World Cup match is scheduled in suburban NYC—part of cricket’s increasing U.S. presence—and the sport is set to return at the 2028 Olympics in Los AngelesCricket continues to innovate, with VR, AI tools, sustainable stadiums, and global analytics reshaping the sport’s future\n",
            "\n",
            "From village greens to global arenas, cricket has become a cultural bridge across continents, with traditions and modern formats coexisting\n",
            "\n",
            "Despite T20 dominance, there remain dedicated fans of traditional formats—such as New Zealand’s Plunket Shield supporters, who cherish the game's long-form heritage\n",
            "\n",
            "Cricket’s blend of skill, identity, and innovation ensures its enduring place across generations and geographies\n"
          ]
        }
      ],
      "source": [
        "print(raw_text)"
      ]
    },
    {
      "cell_type": "code",
      "execution_count": 18,
      "metadata": {
        "id": "BuiaRGLAQ9nB"
      },
      "outputs": [],
      "source": [
        "from langchain.text_splitter import RecursiveCharacterTextSplitter"
      ]
    },
    {
      "cell_type": "code",
      "execution_count": 19,
      "metadata": {
        "id": "lJ0mfB10REXu"
      },
      "outputs": [],
      "source": [
        "text_splitter=RecursiveCharacterTextSplitter(\n",
        "    chunk_size=300,\n",
        "    chunk_overlap=50\n",
        ")"
      ]
    },
    {
      "cell_type": "code",
      "execution_count": 20,
      "metadata": {
        "id": "4qlzbSIwRbBz"
      },
      "outputs": [],
      "source": [
        "text_chunks=text_splitter.split_documents(Docs)"
      ]
    },
    {
      "cell_type": "code",
      "execution_count": 21,
      "metadata": {
        "colab": {
          "base_uri": "https://localhost:8080/"
        },
        "id": "nPLc32NCSHY6",
        "outputId": "af1f812d-4189-4834-e4b0-c25b9e81edb8"
      },
      "outputs": [
        {
          "output_type": "execute_result",
          "data": {
            "text/plain": [
              "25"
            ]
          },
          "metadata": {},
          "execution_count": 21
        }
      ],
      "source": [
        "len(text_chunks)"
      ]
    },
    {
      "cell_type": "markdown",
      "metadata": {
        "id": "ndYxBeAPaxKF"
      },
      "source": [
        "# Creating Embeddings"
      ]
    },
    {
      "cell_type": "code",
      "execution_count": 22,
      "metadata": {
        "id": "AwXVXc23a0k0"
      },
      "outputs": [],
      "source": [
        "from langchain_community.embeddings import HuggingFaceBgeEmbeddings"
      ]
    },
    {
      "cell_type": "code",
      "execution_count": 23,
      "metadata": {
        "id": "6G5n1yzKa44k"
      },
      "outputs": [],
      "source": [
        "model_id=\"BAAI/bge-small-en-v1.5\"\n",
        "encode_kwargs={\"normalize_embeddings\":True}"
      ]
    },
    {
      "cell_type": "code",
      "execution_count": 24,
      "metadata": {
        "colab": {
          "base_uri": "https://localhost:8080/",
          "height": 534,
          "referenced_widgets": [
            "215aa6ac5b074da0a3bbf52a7419e135",
            "fd1dacbf860c4817bec121b13505e324",
            "29c1c26694814cfaa60a3814cda7f586",
            "98169d81af554709b030534a8dcfc03b",
            "1b9758346e464fb5989cdfdb1737dfa9",
            "c92dec1cce7a428f88ac9141cb3b5e4b",
            "266621dde168449e8350abbc224e4434",
            "7b63bcf48c064d74b7f01e7565af18b0",
            "778238d095724884943efd9354c781c6",
            "7adf7ffbefba41a08f05d69d1030d195",
            "9ece55b37a7144cb8803d17243d57eb3",
            "5d5758a6ef7649c78c2c0bb36bef415b",
            "a66b408b0a814a5d8ce54c80c527cc71",
            "e5dfa9ba3fe44f6da64bbc5dfb8e92ca",
            "525002d26c664631af594f60bad0e48b",
            "e08128d7042d4d5d91b4c9e346aeddd9",
            "67ef205d0a3d499cacf3b12b4f999a26",
            "490feeb1a6fb49e9b274aabcc2394a14",
            "75e49f09e0734b26a3a717a146f05bfd",
            "7e293a7e217f4c959d161a044323ef7d",
            "9f5203257d5d4c7f959a0fe1c4f3b86c",
            "4f23727201e449f6bcf99caa53c2db97",
            "c73f5107b776491f8159e4da3e2b3388",
            "275fba0229154ec68bf087b0d34d66fb",
            "78b1b88a15084b3e986640d66532564e",
            "88e1a462e0114344a5cdd13fcf23a7e3",
            "decebbaeb3f245448bedf527514493a0",
            "8f068b5607c6487284d689241b9a4399",
            "83a5a8c161b24dda87eda3f15d56b2ba",
            "00969462a26a4176a912e36b1d3de1a1",
            "3668f414498843f587a2890a82f7ee9c",
            "5b481a3ec5df402fbee4616332dfb5a2",
            "68aca9151a0a4005843a3fc4576f03ff",
            "fcbc856688ee45619b97b6c93996fc8b",
            "d0b7bc64e2184238bd77de12c6cf3a9f",
            "5d573d448a624958a62899dead66452d",
            "b37fa73a1453408ea95dfea7dde4f043",
            "f51ab672b9b440f9a3dc395d36cc2e9f",
            "8ca2dc4afcbb44489ee3be29d78f302a",
            "dc6aa7411e8c490dbf22e4d0eb5b4e88",
            "d4add6344d114df295bde547fd943707",
            "fb4303dfde68479e8aa0e6b08da52502",
            "0bb6a82c0f064026b4d075a1fc897801",
            "e4ff033e4edc431aadab48cf961b37b5",
            "b239fb6f55cd4ba7b7abd0f7f35f012a",
            "223b4040683c44f081def6bb7a5eddc1",
            "556b241e821943a6a871598e2defb171",
            "adcb4f696a4e4899acd0808534078439",
            "31863f171bc54b21982dfd580cb7bf32",
            "72c7a6d7db15407ba26090e0ab490840",
            "36c4b22eb7c04251b63602555b2a3907",
            "cfa7da243676407fb0485e715827e21e",
            "a75a2e48a619406b8d7155f69f2dbb7d",
            "f37af741cc6845529172c19a5afeebce",
            "645ec68fb3534c7b8ef477eca7a0c047",
            "684b3b57f6fb499489c22e7097f27457",
            "1028de8e3a694d008d654b3e548ae569",
            "db5d62bb6b28468087e4e0dc25d818d4",
            "3313aee224fa49a7b76e912372261027",
            "41c9e04262f949afbc1b6010436d2f68",
            "579a12e02b264109a65c0b7c0bced96b",
            "491b9b0403d547d78b0703b189d4c53e",
            "d6de4d79608f4b3cbe06f2f5cdf3a3ef",
            "372f5f8959314d4d994ff1c7889cea57",
            "4d5ae4bd2bda48acbfcf913676b8f004",
            "baf2d6fc410c460a997ed2a477a7c5fa",
            "1a794d2c4e834ca4ba6b394c80248473",
            "196958c7c9d44b24a7658b4a3edf7246",
            "620b404808a849e680934afb2cfbb63f",
            "cd3f172b09ae47de901691544f535feb",
            "20e3ea1e954a4987bbcabcb7f9d2a070",
            "245a8122462b4b78819ca9ef772babda",
            "100be60ff4c84e75a8d429e6183c9d20",
            "eaed3c57f8a947e9962bb3c5205695df",
            "013250f184ab4a80be9591432a503821",
            "bf74abf66c704818a30d89521e9a8f1f",
            "8bee9decb15a47c0a676e2a63e807d02",
            "052f45d63ab846c8bf28d589d3b21fb9",
            "df38bc3632e442a3b98f7f3817d6d321",
            "33c50d430081466594c6203038e44883",
            "df881bb9df0a481a86c38d06cf3e89b3",
            "7e22e90e931e4f4aac892cb9f34107b4",
            "d17c5c947cce468d8a961d6d8cbd65c1",
            "bbfa7a6b884b479d8ddf6661968391db",
            "77f8cd3de6a8463ea42123404c409f68",
            "399ea555948b48b3944ec886cde9046a",
            "51d6c160b92d44da9d2475a20fdeae94",
            "3f9fd677553b4123a2d5eef44156a5e5",
            "7e7f12dea44a4630b28d909bd408a582",
            "6f5ef653253c4227818795c25b0d971a",
            "a2e9f2af96e34b00b392b622281b281a",
            "fa5a9004eb4046248f95df06f6703ce5",
            "42861e42faaa4f5db95c6b6034a72ebb",
            "66a4f617a7e24db684480fa2fc99cdc2",
            "2df2b2b3b545495e94cf1f2d4831a26d",
            "314848b22bfa4b5d9eb1fdcfb70c5177",
            "ed8428157e594d00a597d75170cf0682",
            "00574b7c81cd4710b5327c703f2910a7",
            "4a646f26a0a8465188288f9188e60882",
            "91edb796e75a431f968b2aa8069c9027",
            "7a316cd61a0d4c4d8bea8723e0985f61",
            "4df9ae930eb740eb99aba2d848fd329a",
            "39efeeec999e4610b5dc2cd6cf7875ff",
            "ff67d8ec2aee49caace9b83452d65860",
            "abe0129438f9463f8467c38ffe64b0b1",
            "ed65d560578742d697f43ebb1095d526",
            "ba89c98a89514342849887344da44831",
            "6169f54333714840a51b143fc0d8c3d6",
            "88e5aa1ebf064960aa027ae7678a0bab",
            "09371fc5da1c4d0499db2d7d11d25b34",
            "bc5f9f41e31e4f3b82af2137f0603000",
            "80226eb4a9714c9f9185a2dd1192ad5f",
            "d4f87ddfe88042bca60ff5703169305d",
            "16182565636f42dc87cb2ed3c54ee623",
            "ecb5433a0f2f49fa83430e3b2e814339",
            "101d84e2a42645e0831c73b4a5bc97ac",
            "9c4942e9f0814ff7b9ab5e92d93a0e47",
            "8cd2177f810d493693b23ac278c452e0",
            "a70f03cdd44a4cb9826d791fbd750abc",
            "5f2f299c84f8481e886938c84d7548d3",
            "711ba0bc866a4d828a2d06d55d642c9a"
          ]
        },
        "collapsed": true,
        "id": "BJR_KBwhbH0L",
        "outputId": "3b072542-6457-4243-bc2c-05e3e4b6dad8"
      },
      "outputs": [
        {
          "output_type": "stream",
          "name": "stderr",
          "text": [
            "/tmp/ipython-input-3097655508.py:1: LangChainDeprecationWarning: The class `HuggingFaceBgeEmbeddings` was deprecated in LangChain 0.2.2 and will be removed in 1.0. An updated version of the class exists in the :class:`~langchain-huggingface package and should be used instead. To use it run `pip install -U :class:`~langchain-huggingface` and import as `from :class:`~langchain_huggingface import HuggingFaceEmbeddings``.\n",
            "  hf_bge_embedding=HuggingFaceBgeEmbeddings(\n",
            "/usr/local/lib/python3.12/dist-packages/huggingface_hub/utils/_auth.py:94: UserWarning: \n",
            "The secret `HF_TOKEN` does not exist in your Colab secrets.\n",
            "To authenticate with the Hugging Face Hub, create a token in your settings tab (https://huggingface.co/settings/tokens), set it as secret in your Google Colab and restart your session.\n",
            "You will be able to reuse this secret in all of your notebooks.\n",
            "Please note that authentication is recommended but still optional to access public models or datasets.\n",
            "  warnings.warn(\n"
          ]
        },
        {
          "output_type": "display_data",
          "data": {
            "text/plain": [
              "modules.json:   0%|          | 0.00/349 [00:00<?, ?B/s]"
            ],
            "application/vnd.jupyter.widget-view+json": {
              "version_major": 2,
              "version_minor": 0,
              "model_id": "215aa6ac5b074da0a3bbf52a7419e135"
            }
          },
          "metadata": {}
        },
        {
          "output_type": "display_data",
          "data": {
            "text/plain": [
              "config_sentence_transformers.json:   0%|          | 0.00/124 [00:00<?, ?B/s]"
            ],
            "application/vnd.jupyter.widget-view+json": {
              "version_major": 2,
              "version_minor": 0,
              "model_id": "5d5758a6ef7649c78c2c0bb36bef415b"
            }
          },
          "metadata": {}
        },
        {
          "output_type": "display_data",
          "data": {
            "text/plain": [
              "README.md: 0.00B [00:00, ?B/s]"
            ],
            "application/vnd.jupyter.widget-view+json": {
              "version_major": 2,
              "version_minor": 0,
              "model_id": "c73f5107b776491f8159e4da3e2b3388"
            }
          },
          "metadata": {}
        },
        {
          "output_type": "display_data",
          "data": {
            "text/plain": [
              "sentence_bert_config.json:   0%|          | 0.00/52.0 [00:00<?, ?B/s]"
            ],
            "application/vnd.jupyter.widget-view+json": {
              "version_major": 2,
              "version_minor": 0,
              "model_id": "fcbc856688ee45619b97b6c93996fc8b"
            }
          },
          "metadata": {}
        },
        {
          "output_type": "display_data",
          "data": {
            "text/plain": [
              "config.json:   0%|          | 0.00/743 [00:00<?, ?B/s]"
            ],
            "application/vnd.jupyter.widget-view+json": {
              "version_major": 2,
              "version_minor": 0,
              "model_id": "b239fb6f55cd4ba7b7abd0f7f35f012a"
            }
          },
          "metadata": {}
        },
        {
          "output_type": "display_data",
          "data": {
            "text/plain": [
              "model.safetensors:   0%|          | 0.00/133M [00:00<?, ?B/s]"
            ],
            "application/vnd.jupyter.widget-view+json": {
              "version_major": 2,
              "version_minor": 0,
              "model_id": "684b3b57f6fb499489c22e7097f27457"
            }
          },
          "metadata": {}
        },
        {
          "output_type": "display_data",
          "data": {
            "text/plain": [
              "tokenizer_config.json:   0%|          | 0.00/366 [00:00<?, ?B/s]"
            ],
            "application/vnd.jupyter.widget-view+json": {
              "version_major": 2,
              "version_minor": 0,
              "model_id": "1a794d2c4e834ca4ba6b394c80248473"
            }
          },
          "metadata": {}
        },
        {
          "output_type": "display_data",
          "data": {
            "text/plain": [
              "vocab.txt: 0.00B [00:00, ?B/s]"
            ],
            "application/vnd.jupyter.widget-view+json": {
              "version_major": 2,
              "version_minor": 0,
              "model_id": "052f45d63ab846c8bf28d589d3b21fb9"
            }
          },
          "metadata": {}
        },
        {
          "output_type": "display_data",
          "data": {
            "text/plain": [
              "tokenizer.json: 0.00B [00:00, ?B/s]"
            ],
            "application/vnd.jupyter.widget-view+json": {
              "version_major": 2,
              "version_minor": 0,
              "model_id": "7e7f12dea44a4630b28d909bd408a582"
            }
          },
          "metadata": {}
        },
        {
          "output_type": "display_data",
          "data": {
            "text/plain": [
              "special_tokens_map.json:   0%|          | 0.00/125 [00:00<?, ?B/s]"
            ],
            "application/vnd.jupyter.widget-view+json": {
              "version_major": 2,
              "version_minor": 0,
              "model_id": "91edb796e75a431f968b2aa8069c9027"
            }
          },
          "metadata": {}
        },
        {
          "output_type": "display_data",
          "data": {
            "text/plain": [
              "config.json:   0%|          | 0.00/190 [00:00<?, ?B/s]"
            ],
            "application/vnd.jupyter.widget-view+json": {
              "version_major": 2,
              "version_minor": 0,
              "model_id": "bc5f9f41e31e4f3b82af2137f0603000"
            }
          },
          "metadata": {}
        }
      ],
      "source": [
        "hf_bge_embedding=HuggingFaceBgeEmbeddings(\n",
        "    model_name=model_id,\n",
        "    encode_kwargs=encode_kwargs\n",
        ")"
      ]
    },
    {
      "cell_type": "code",
      "execution_count": 25,
      "metadata": {
        "colab": {
          "base_uri": "https://localhost:8080/"
        },
        "collapsed": true,
        "id": "15xguidccrtr",
        "outputId": "32a1b28f-f906-4499-b699-e6a80be5534a"
      },
      "outputs": [
        {
          "output_type": "execute_result",
          "data": {
            "text/plain": [
              "HuggingFaceBgeEmbeddings(client=SentenceTransformer(\n",
              "  (0): Transformer({'max_seq_length': 512, 'do_lower_case': True, 'architecture': 'BertModel'})\n",
              "  (1): Pooling({'word_embedding_dimension': 384, 'pooling_mode_cls_token': True, 'pooling_mode_mean_tokens': False, 'pooling_mode_max_tokens': False, 'pooling_mode_mean_sqrt_len_tokens': False, 'pooling_mode_weightedmean_tokens': False, 'pooling_mode_lasttoken': False, 'include_prompt': True})\n",
              "  (2): Normalize()\n",
              "), model_name='BAAI/bge-small-en-v1.5', cache_folder=None, model_kwargs={}, encode_kwargs={'normalize_embeddings': True}, query_instruction='Represent this question for searching relevant passages: ', embed_instruction='', show_progress=False)"
            ]
          },
          "metadata": {},
          "execution_count": 25
        }
      ],
      "source": [
        "hf_bge_embedding"
      ]
    },
    {
      "cell_type": "code",
      "execution_count": 26,
      "metadata": {
        "id": "JUm2Z29Cc5-O"
      },
      "outputs": [],
      "source": [
        "from langchain_community.vectorstores import Chroma"
      ]
    },
    {
      "cell_type": "code",
      "execution_count": 27,
      "metadata": {
        "id": "0x2BCsNDdA65"
      },
      "outputs": [],
      "source": [
        "vector_store=Chroma.from_documents(text_chunks,hf_bge_embedding, persist_directory=\"./chroma_db\")"
      ]
    },
    {
      "cell_type": "code",
      "execution_count": 28,
      "metadata": {
        "colab": {
          "base_uri": "https://localhost:8080/"
        },
        "collapsed": true,
        "id": "NAmXluOQdROc",
        "outputId": "95d4b55e-863f-419f-910b-19b016403cf0"
      },
      "outputs": [
        {
          "output_type": "execute_result",
          "data": {
            "text/plain": [
              "[Document(metadata={'source': '/content/drive/MyDrive/Data/Cricket/04_india_asia.txt'}, page_content='Cricket was introduced to India by British colonial influence. The first Indian club, the Oriental Cricket Club (Parsi community), formed in 1848'),\n",
              " Document(metadata={'source': '/content/drive/MyDrive/Data/Cricket/05_empire.txt'}, page_content='Cricket took hold in colonies via British military and administrators. In the West Indies, cricket became a source of regional pride and cultural identity\\n\\nAustralia, South Africa, and other settler regions also developed robust cricketing structures aligned with England’s development'),\n",
              " Document(metadata={'source': '/content/drive/MyDrive/Data/Cricket/02_formalization.txt'}, page_content='Cricket became more organized in the 18th century: 1744 saw the first codified Laws of Cricket, helping formalize the sport\\n\\nThe Hambledon Club, from the 1760s, played a key role in popularizing cricket and refining informal rules\\n\\nCrick Insights')]"
            ]
          },
          "metadata": {},
          "execution_count": 28
        }
      ],
      "source": [
        "vector_store.similarity_search(\"what is history of cricket\",k=3)"
      ]
    },
    {
      "cell_type": "code",
      "execution_count": 29,
      "metadata": {
        "id": "JPR4gi-ydtPQ"
      },
      "outputs": [],
      "source": [
        "retriever=vector_store.as_retriever(k=5)"
      ]
    },
    {
      "cell_type": "code",
      "execution_count": 30,
      "metadata": {
        "colab": {
          "base_uri": "https://localhost:8080/"
        },
        "collapsed": true,
        "id": "ef_GlHLzd6eZ",
        "outputId": "c376ed55-92cb-40e3-f75b-d31084757694"
      },
      "outputs": [
        {
          "output_type": "stream",
          "name": "stderr",
          "text": [
            "/tmp/ipython-input-190062807.py:1: LangChainDeprecationWarning: The method `BaseRetriever.get_relevant_documents` was deprecated in langchain-core 0.1.46 and will be removed in 1.0. Use :meth:`~invoke` instead.\n",
            "  retriever.get_relevant_documents(\"what is history of cricket\")\n"
          ]
        },
        {
          "output_type": "execute_result",
          "data": {
            "text/plain": [
              "[Document(metadata={'source': '/content/drive/MyDrive/Data/Cricket/04_india_asia.txt'}, page_content='Cricket was introduced to India by British colonial influence. The first Indian club, the Oriental Cricket Club (Parsi community), formed in 1848'),\n",
              " Document(metadata={'source': '/content/drive/MyDrive/Data/Cricket/05_empire.txt'}, page_content='Cricket took hold in colonies via British military and administrators. In the West Indies, cricket became a source of regional pride and cultural identity\\n\\nAustralia, South Africa, and other settler regions also developed robust cricketing structures aligned with England’s development'),\n",
              " Document(metadata={'source': '/content/drive/MyDrive/Data/Cricket/02_formalization.txt'}, page_content='Cricket became more organized in the 18th century: 1744 saw the first codified Laws of Cricket, helping formalize the sport\\n\\nThe Hambledon Club, from the 1760s, played a key role in popularizing cricket and refining informal rules\\n\\nCrick Insights'),\n",
              " Document(metadata={'source': '/content/drive/MyDrive/Data/Cricket/03_international.txt'}, page_content='As the British Empire expanded, cricket spread to colonies including Australia, India, the Caribbean, and South Africa\\n\\nThe first international match was played in 1844 between the USA and Canada\\n\\nThe first official Test match occurred in 1877, between England and Australia')]"
            ]
          },
          "metadata": {},
          "execution_count": 30
        }
      ],
      "source": [
        "retriever.get_relevant_documents(\"what is history of cricket\")"
      ]
    },
    {
      "cell_type": "code",
      "execution_count": 31,
      "metadata": {
        "id": "8GYU7GfQgnFU"
      },
      "outputs": [],
      "source": [
        "from operator import itemgetter\n",
        "from langchain.prompts import ChatPromptTemplate\n",
        "from langchain.schema.output_parser import StrOutputParser\n",
        "from langchain.schema.runnable import RunnablePassthrough, RunnableLambda"
      ]
    },
    {
      "cell_type": "code",
      "execution_count": 32,
      "metadata": {
        "id": "QiHYJSi-hI1d"
      },
      "outputs": [],
      "source": [
        "template=\"\"\"\n",
        "Act as expert for helpful question-answering system using given context.\n",
        "Answer the questions based on the following context:\n",
        "\n",
        "Context :{context}\n",
        "\n",
        "Question : {question}\n",
        "\n",
        "\"\"\""
      ]
    },
    {
      "cell_type": "code",
      "execution_count": 33,
      "metadata": {
        "id": "SYvzUY_Mhm5g"
      },
      "outputs": [],
      "source": [
        "prompt=ChatPromptTemplate.from_template(template)"
      ]
    },
    {
      "cell_type": "code",
      "execution_count": 34,
      "metadata": {
        "colab": {
          "base_uri": "https://localhost:8080/"
        },
        "id": "lLFoFQuJh43d",
        "outputId": "3b818a85-2ed9-47c4-edcc-56362d405c45"
      },
      "outputs": [
        {
          "output_type": "execute_result",
          "data": {
            "text/plain": [
              "ChatGoogleGenerativeAI(model='models/gemini-2.5-pro', google_api_key=SecretStr('**********'), client=<google.ai.generativelanguage_v1beta.services.generative_service.client.GenerativeServiceClient object at 0x7d42190efc20>, default_metadata=(), model_kwargs={})"
            ]
          },
          "metadata": {},
          "execution_count": 34
        }
      ],
      "source": [
        "llm"
      ]
    },
    {
      "cell_type": "code",
      "execution_count": 35,
      "metadata": {
        "id": "cOdoRJm_iDTk"
      },
      "outputs": [],
      "source": [
        "rag_chain=(\n",
        "    {\"context\":retriever, \"question\":RunnablePassthrough()}\n",
        "    |prompt\n",
        "    |llm\n",
        "    |StrOutputParser()\n",
        ")"
      ]
    },
    {
      "cell_type": "code",
      "execution_count": 36,
      "metadata": {
        "id": "PBagsIFriczx"
      },
      "outputs": [],
      "source": [
        "reply=rag_chain.invoke(\"what is history of cricket\")"
      ]
    },
    {
      "cell_type": "code",
      "execution_count": 37,
      "metadata": {
        "colab": {
          "base_uri": "https://localhost:8080/"
        },
        "collapsed": true,
        "id": "aew0G9aGimqz",
        "outputId": "37677aa3-44c5-44fd-f501-2eb9fffd2dd0"
      },
      "outputs": [
        {
          "output_type": "stream",
          "name": "stdout",
          "text": [
            "Based on the context provided, here is the history of cricket:\n",
            "\n",
            "*   **Formalization (18th Century):** Cricket became more organized in the 18th century.\n",
            "The first codified Laws of Cricket were established in 1744, and the Hambledon Club,\n",
            "starting in the 1760s, was key in popularizing the sport.\n",
            "\n",
            "*   **Global Spread:** The sport spread internationally as the British Empire expanded. It\n",
            "was introduced to colonies like India, Australia, the Caribbean, and South Africa by\n",
            "British military personnel and administrators.\n",
            "\n",
            "*   **Introduction to India:** Cricket was introduced to India through British colonial\n",
            "influence. The first Indian cricket club, the Oriental Cricket Club, was formed by the\n",
            "Parsi community in 1848.\n",
            "\n",
            "*   **First International Matches:** The first-ever international match was played between\n",
            "the USA and Canada in 1844. The first official Test match took place in 1877 between\n",
            "England and Australia.\n"
          ]
        }
      ],
      "source": [
        "print(wrap_text(reply))"
      ]
    },
    {
      "cell_type": "markdown",
      "metadata": {
        "id": "o62wqxLOjRnL"
      },
      "source": [
        "# With RAG Fusion"
      ]
    },
    {
      "cell_type": "code",
      "execution_count": 38,
      "metadata": {
        "id": "qR3N4KCbjRTZ"
      },
      "outputs": [],
      "source": [
        "from langchain.prompts import SystemMessagePromptTemplate, HumanMessagePromptTemplate, ChatMessagePromptTemplate, PromptTemplate"
      ]
    },
    {
      "cell_type": "code",
      "execution_count": 39,
      "metadata": {
        "id": "4sttH09Rj7z9"
      },
      "outputs": [],
      "source": [
        "prompt=ChatPromptTemplate(input_variables=[\"original_query\"],\n",
        "                          messages=[SystemMessagePromptTemplate(prompt=PromptTemplate(input_variables=[],template=\"you are a helpful assistant that generates multiple search queries based on a single input query\")),\n",
        "                                    HumanMessagePromptTemplate(prompt=PromptTemplate(input_variables=[\"original_query\"], template=\"Generate multiple search queries related to: {question} /n Outpt (4 queries):\"))])"
      ]
    },
    {
      "cell_type": "code",
      "source": [
        "prompt"
      ],
      "metadata": {
        "colab": {
          "base_uri": "https://localhost:8080/"
        },
        "id": "3c6yNi5eK9Uy",
        "outputId": "c83c5de2-efa3-424f-bdca-ace2c29518d3"
      },
      "execution_count": 54,
      "outputs": [
        {
          "output_type": "execute_result",
          "data": {
            "text/plain": [
              "ChatPromptTemplate(input_variables=['question'], input_types={}, partial_variables={}, messages=[SystemMessagePromptTemplate(prompt=PromptTemplate(input_variables=[], input_types={}, partial_variables={}, template='you are a helpful assistant that generates multiple search queries based on a single input query'), additional_kwargs={}), HumanMessagePromptTemplate(prompt=PromptTemplate(input_variables=['question'], input_types={}, partial_variables={}, template='Generate multiple search queries related to: {question} /n Outpt (4 queries):'), additional_kwargs={})])"
            ]
          },
          "metadata": {},
          "execution_count": 54
        }
      ]
    },
    {
      "cell_type": "code",
      "execution_count": 40,
      "metadata": {
        "id": "DvVk7v4gmNj1"
      },
      "outputs": [],
      "source": [
        "original_query=\"what is history of cricket\""
      ]
    },
    {
      "cell_type": "code",
      "execution_count": 41,
      "metadata": {
        "id": "Vqplb2X0mQ8g"
      },
      "outputs": [],
      "source": [
        "generate_queries=(\n",
        "    prompt | llm | StrOutputParser() | (lambda x:x.split(\"\\n\"))\n",
        ")"
      ]
    },
    {
      "cell_type": "code",
      "execution_count": 42,
      "metadata": {
        "colab": {
          "base_uri": "https://localhost:8080/"
        },
        "id": "TwC_rOGzmePz",
        "collapsed": true,
        "outputId": "5e4088a5-edc7-472d-f0d2-535c97092610"
      },
      "outputs": [
        {
          "output_type": "execute_result",
          "data": {
            "text/plain": [
              "ChatPromptTemplate(input_variables=['question'], input_types={}, partial_variables={}, messages=[SystemMessagePromptTemplate(prompt=PromptTemplate(input_variables=[], input_types={}, partial_variables={}, template='you are a helpful assistant that generates multiple search queries based on a single input query'), additional_kwargs={}), HumanMessagePromptTemplate(prompt=PromptTemplate(input_variables=['question'], input_types={}, partial_variables={}, template='Generate multiple search queries related to: {question} /n Outpt (4 queries):'), additional_kwargs={})])\n",
              "| ChatGoogleGenerativeAI(model='models/gemini-2.5-pro', google_api_key=SecretStr('**********'), client=<google.ai.generativelanguage_v1beta.services.generative_service.client.GenerativeServiceClient object at 0x7d42190efc20>, default_metadata=(), model_kwargs={})\n",
              "| StrOutputParser()\n",
              "| RunnableLambda(lambda x: x.split('\\n'))"
            ]
          },
          "metadata": {},
          "execution_count": 42
        }
      ],
      "source": [
        "generate_queries"
      ]
    },
    {
      "cell_type": "code",
      "source": [
        "from langchain.load import dumps,loads"
      ],
      "metadata": {
        "id": "bh3d613cFcsW"
      },
      "execution_count": 43,
      "outputs": []
    },
    {
      "cell_type": "code",
      "source": [
        "def resiprocal_rank_fusion(results:list[list],k=60):\n",
        "  fused_score={}\n",
        "  for docs in results:\n",
        "    # assuming docs are returned in sorted order of relevance\n",
        "    for rank,doc in enumerate(docs):\n",
        "      doc_str=dumps(doc)\n",
        "      if doc_str not in fused_score:\n",
        "        fused_score[doc_str]=0\n",
        "      previous_score=fused_score[doc_str]\n",
        "      fused_score[doc_str]+=1/(rank+k)\n",
        "\n",
        "  reranked_results=[\n",
        "       (loads(doc), score)\n",
        "       for doc,score in sorted(fused_score.items(), key=lambda x:x[1],reverse=True)\n",
        "   ]\n",
        "\n",
        "  return reranked_results"
      ],
      "metadata": {
        "id": "k57m3L-VGgMs"
      },
      "execution_count": 44,
      "outputs": []
    },
    {
      "cell_type": "code",
      "source": [
        "ragfusion_chain=generate_queries | retriever.map() | resiprocal_rank_fusion"
      ],
      "metadata": {
        "id": "juZG5kaGJDi8"
      },
      "execution_count": 45,
      "outputs": []
    },
    {
      "cell_type": "code",
      "source": [
        "import langchain\n",
        "langchain.debug=True"
      ],
      "metadata": {
        "id": "MQcLVHSvJicf"
      },
      "execution_count": 48,
      "outputs": []
    },
    {
      "cell_type": "code",
      "source": [
        "ragfusion_chain.input_schema.model_json_schema()"
      ],
      "metadata": {
        "colab": {
          "base_uri": "https://localhost:8080/"
        },
        "id": "Cr2Wv_TOJofB",
        "outputId": "33558e10-9ac0-4570-c9d3-1692ef23f648"
      },
      "execution_count": 52,
      "outputs": [
        {
          "output_type": "execute_result",
          "data": {
            "text/plain": [
              "{'properties': {'question': {'title': 'Question', 'type': 'string'}},\n",
              " 'required': ['question'],\n",
              " 'title': 'PromptInput',\n",
              " 'type': 'object'}"
            ]
          },
          "metadata": {},
          "execution_count": 52
        }
      ]
    },
    {
      "cell_type": "code",
      "source": [
        "ragfusion_chain.invoke({\"question\":original_query})"
      ],
      "metadata": {
        "colab": {
          "base_uri": "https://localhost:8080/"
        },
        "collapsed": true,
        "id": "YglIr3GVKGt9",
        "outputId": "68b3de83-5cbd-4577-b014-14a2d8c23704"
      },
      "execution_count": 53,
      "outputs": [
        {
          "output_type": "stream",
          "name": "stdout",
          "text": [
            "\u001b[32;1m\u001b[1;3m[chain/start]\u001b[0m \u001b[1m[chain:RunnableSequence] Entering Chain run with input:\n",
            "\u001b[0m{\n",
            "  \"question\": \"what is history of cricket\"\n",
            "}\n",
            "\u001b[32;1m\u001b[1;3m[chain/start]\u001b[0m \u001b[1m[chain:RunnableSequence > prompt:ChatPromptTemplate] Entering Prompt run with input:\n",
            "\u001b[0m{\n",
            "  \"question\": \"what is history of cricket\"\n",
            "}\n",
            "\u001b[36;1m\u001b[1;3m[chain/end]\u001b[0m \u001b[1m[chain:RunnableSequence > prompt:ChatPromptTemplate] [1ms] Exiting Prompt run with output:\n",
            "\u001b[0m[outputs]\n",
            "\u001b[32;1m\u001b[1;3m[llm/start]\u001b[0m \u001b[1m[chain:RunnableSequence > llm:ChatGoogleGenerativeAI] Entering LLM run with input:\n",
            "\u001b[0m{\n",
            "  \"prompts\": [\n",
            "    \"System: you are a helpful assistant that generates multiple search queries based on a single input query\\nHuman: Generate multiple search queries related to: what is history of cricket /n Outpt (4 queries):\"\n",
            "  ]\n",
            "}\n",
            "\u001b[36;1m\u001b[1;3m[llm/end]\u001b[0m \u001b[1m[chain:RunnableSequence > llm:ChatGoogleGenerativeAI] [10.01s] Exiting LLM run with output:\n",
            "\u001b[0m{\n",
            "  \"generations\": [\n",
            "    [\n",
            "      {\n",
            "        \"text\": \"1.  **\\\"Origin and early development of cricket\\\"**\\n2.  **\\\"Timeline of major events in cricket history\\\"**\\n3.  **\\\"How have the rules of cricket evolved over time?\\\"**\\n4.  **\\\"The spread of cricket throughout the British Empire\\\"**\",\n",
            "        \"generation_info\": {\n",
            "          \"finish_reason\": \"STOP\",\n",
            "          \"model_name\": \"gemini-2.5-pro\",\n",
            "          \"safety_ratings\": []\n",
            "        },\n",
            "        \"type\": \"ChatGeneration\",\n",
            "        \"message\": {\n",
            "          \"lc\": 1,\n",
            "          \"type\": \"constructor\",\n",
            "          \"id\": [\n",
            "            \"langchain\",\n",
            "            \"schema\",\n",
            "            \"messages\",\n",
            "            \"AIMessage\"\n",
            "          ],\n",
            "          \"kwargs\": {\n",
            "            \"content\": \"1.  **\\\"Origin and early development of cricket\\\"**\\n2.  **\\\"Timeline of major events in cricket history\\\"**\\n3.  **\\\"How have the rules of cricket evolved over time?\\\"**\\n4.  **\\\"The spread of cricket throughout the British Empire\\\"**\",\n",
            "            \"response_metadata\": {\n",
            "              \"prompt_feedback\": {\n",
            "                \"block_reason\": 0,\n",
            "                \"safety_ratings\": []\n",
            "              },\n",
            "              \"finish_reason\": \"STOP\",\n",
            "              \"model_name\": \"gemini-2.5-pro\",\n",
            "              \"safety_ratings\": []\n",
            "            },\n",
            "            \"type\": \"ai\",\n",
            "            \"id\": \"run--7ca00c62-f079-42dd-aa78-9f29777cef6b-0\",\n",
            "            \"usage_metadata\": {\n",
            "              \"input_tokens\": 37,\n",
            "              \"output_tokens\": 1068,\n",
            "              \"total_tokens\": 1105,\n",
            "              \"input_token_details\": {\n",
            "                \"cache_read\": 0\n",
            "              },\n",
            "              \"output_token_details\": {\n",
            "                \"reasoning\": 1007\n",
            "              }\n",
            "            },\n",
            "            \"tool_calls\": [],\n",
            "            \"invalid_tool_calls\": []\n",
            "          }\n",
            "        }\n",
            "      }\n",
            "    ]\n",
            "  ],\n",
            "  \"llm_output\": {\n",
            "    \"prompt_feedback\": {\n",
            "      \"block_reason\": 0,\n",
            "      \"safety_ratings\": []\n",
            "    }\n",
            "  },\n",
            "  \"run\": null,\n",
            "  \"type\": \"LLMResult\"\n",
            "}\n",
            "\u001b[32;1m\u001b[1;3m[chain/start]\u001b[0m \u001b[1m[chain:RunnableSequence > parser:StrOutputParser] Entering Parser run with input:\n",
            "\u001b[0m[inputs]\n",
            "\u001b[36;1m\u001b[1;3m[chain/end]\u001b[0m \u001b[1m[chain:RunnableSequence > parser:StrOutputParser] [1ms] Exiting Parser run with output:\n",
            "\u001b[0m{\n",
            "  \"output\": \"1.  **\\\"Origin and early development of cricket\\\"**\\n2.  **\\\"Timeline of major events in cricket history\\\"**\\n3.  **\\\"How have the rules of cricket evolved over time?\\\"**\\n4.  **\\\"The spread of cricket throughout the British Empire\\\"**\"\n",
            "}\n",
            "\u001b[32;1m\u001b[1;3m[chain/start]\u001b[0m \u001b[1m[chain:RunnableSequence > chain:RunnableLambda] Entering Chain run with input:\n",
            "\u001b[0m{\n",
            "  \"input\": \"1.  **\\\"Origin and early development of cricket\\\"**\\n2.  **\\\"Timeline of major events in cricket history\\\"**\\n3.  **\\\"How have the rules of cricket evolved over time?\\\"**\\n4.  **\\\"The spread of cricket throughout the British Empire\\\"**\"\n",
            "}\n",
            "\u001b[36;1m\u001b[1;3m[chain/end]\u001b[0m \u001b[1m[chain:RunnableSequence > chain:RunnableLambda] [2ms] Exiting Chain run with output:\n",
            "\u001b[0m{\n",
            "  \"output\": [\n",
            "    \"1.  **\\\"Origin and early development of cricket\\\"**\",\n",
            "    \"2.  **\\\"Timeline of major events in cricket history\\\"**\",\n",
            "    \"3.  **\\\"How have the rules of cricket evolved over time?\\\"**\",\n",
            "    \"4.  **\\\"The spread of cricket throughout the British Empire\\\"**\"\n",
            "  ]\n",
            "}\n",
            "\u001b[32;1m\u001b[1;3m[chain/start]\u001b[0m \u001b[1m[chain:RunnableSequence > chain:RunnableEach<VectorStoreRetriever>] Entering Chain run with input:\n",
            "\u001b[0m{\n",
            "  \"input\": [\n",
            "    \"1.  **\\\"Origin and early development of cricket\\\"**\",\n",
            "    \"2.  **\\\"Timeline of major events in cricket history\\\"**\",\n",
            "    \"3.  **\\\"How have the rules of cricket evolved over time?\\\"**\",\n",
            "    \"4.  **\\\"The spread of cricket throughout the British Empire\\\"**\"\n",
            "  ]\n",
            "}\n",
            "\u001b[36;1m\u001b[1;3m[chain/end]\u001b[0m \u001b[1m[chain:RunnableSequence > chain:RunnableEach<VectorStoreRetriever>] [196ms] Exiting Chain run with output:\n",
            "\u001b[0m[outputs]\n",
            "\u001b[32;1m\u001b[1;3m[chain/start]\u001b[0m \u001b[1m[chain:RunnableSequence > chain:resiprocal_rank_fusion] Entering Chain run with input:\n",
            "\u001b[0m[inputs]\n",
            "\u001b[36;1m\u001b[1;3m[chain/end]\u001b[0m \u001b[1m[chain:RunnableSequence > chain:resiprocal_rank_fusion] [2ms] Exiting Chain run with output:\n",
            "\u001b[0m[outputs]\n",
            "\u001b[36;1m\u001b[1;3m[chain/end]\u001b[0m \u001b[1m[chain:RunnableSequence] [10.21s] Exiting Chain run with output:\n",
            "\u001b[0m[outputs]\n"
          ]
        },
        {
          "output_type": "stream",
          "name": "stderr",
          "text": [
            "/tmp/ipython-input-1432457370.py:13: LangChainBetaWarning: The function `loads` is in beta. It is actively being worked on, so the API may change.\n",
            "  (loads(doc), score)\n"
          ]
        },
        {
          "output_type": "execute_result",
          "data": {
            "text/plain": [
              "[(Document(metadata={'source': '/content/drive/MyDrive/Data/Cricket/05_empire.txt'}, page_content='Cricket took hold in colonies via British military and administrators. In the West Indies, cricket became a source of regional pride and cultural identity\\n\\nAustralia, South Africa, and other settler regions also developed robust cricketing structures aligned with England’s development'),\n",
              "  0.06504494976203068),\n",
              " (Document(metadata={'source': '/content/drive/MyDrive/Data/Cricket/04_india_asia.txt'}, page_content='Cricket was introduced to India by British colonial influence. The first Indian club, the Oriental Cricket Club (Parsi community), formed in 1848'),\n",
              "  0.04866871479774705),\n",
              " (Document(metadata={'source': '/content/drive/MyDrive/Data/Cricket/02_formalization.txt'}, page_content='Cricket became more organized in the 18th century: 1744 saw the first codified Laws of Cricket, helping formalize the sport\\n\\nThe Hambledon Club, from the 1760s, played a key role in popularizing cricket and refining informal rules\\n\\nCrick Insights'),\n",
              "  0.04865990111891751),\n",
              " (Document(metadata={'source': '/content/drive/MyDrive/Data/Cricket/01_origins.txt'}, page_content='Early cricket likely evolved from pastoral games—shepherds may have used sticks like “criccs” and animal-wool balls\\n\\nUnder the Puritan Commonwealth (mid-1600s), cricket may have declined due to restrictions on gatherings, but regained momentum after the Restoration in 1660'),\n",
              "  0.03279569892473118),\n",
              " (Document(metadata={'source': '/content/drive/MyDrive/Data/Cricket/03_international.txt'}, page_content='As the British Empire expanded, cricket spread to colonies including Australia, India, the Caribbean, and South Africa\\n\\nThe first international match was played in 1844 between the USA and Canada\\n\\nThe first official Test match occurred in 1877, between England and Australia'),\n",
              "  0.032539682539682535),\n",
              " (Document(metadata={'source': '/content/drive/MyDrive/Data/Cricket/07_tournaments.txt'}, page_content='The ICC Men’s Cricket World Cup began in 1975 and remains cricket’s premier event\\n\\nOther key competitions include the T20 World Cup, Champions Trophy, and iconic bilateral series like The Ashes'),\n",
              "  0.016666666666666666),\n",
              " (Document(metadata={'source': '/content/drive/MyDrive/Data/Cricket/10_future.txt'}, page_content='Cricket continues to innovate, with VR, AI tools, sustainable stadiums, and global analytics reshaping the sport’s future\\n\\nFrom village greens to global arenas, cricket has become a cultural bridge across continents, with traditions and modern formats coexisting'),\n",
              "  0.015873015873015872)]"
            ]
          },
          "metadata": {},
          "execution_count": 53
        }
      ]
    },
    {
      "cell_type": "code",
      "source": [
        "template=\"\"\"\n",
        "Act as expert for helpful question-answering system using given context.\n",
        "Answer the questions based on the following context:\n",
        "\n",
        "Context :{context}\n",
        "\n",
        "Question : {question}\n",
        "\n",
        "\"\"\"\n",
        "prompt=ChatPromptTemplate.from_template(template)\n",
        "\n",
        "full_rag_fusion_chain=(\n",
        "    {\n",
        "        \"context\":ragfusion_chain,\n",
        "        \"question\":RunnablePassthrough()\n",
        "    }\n",
        "    |prompt\n",
        "    |llm\n",
        "    |StrOutputParser()\n",
        ")"
      ],
      "metadata": {
        "id": "zIrqdf50LY0m"
      },
      "execution_count": 55,
      "outputs": []
    },
    {
      "cell_type": "code",
      "source": [
        "full_rag_fusion_chain.input_schema.model_json_schema()"
      ],
      "metadata": {
        "colab": {
          "base_uri": "https://localhost:8080/"
        },
        "id": "4IaVRr9jMNrU",
        "outputId": "e8dc0c19-34cd-4bae-b75b-21b30f99e437"
      },
      "execution_count": 56,
      "outputs": [
        {
          "output_type": "execute_result",
          "data": {
            "text/plain": [
              "{'properties': {'question': {'title': 'Question', 'type': 'string'},\n",
              "  'root': {'title': 'Root'}},\n",
              " 'required': ['question', 'root'],\n",
              " 'title': 'RunnableParallel<context,question>Input',\n",
              " 'type': 'object'}"
            ]
          },
          "metadata": {},
          "execution_count": 56
        }
      ]
    },
    {
      "cell_type": "code",
      "source": [
        "full_rag_fusion_chain.invoke(\"what is history of cricket\")"
      ],
      "metadata": {
        "colab": {
          "base_uri": "https://localhost:8080/",
          "height": 1000
        },
        "id": "CAHS9-2LMWcH",
        "outputId": "423d7b0a-2bf3-4594-ac7b-9be0dca376b8"
      },
      "execution_count": 57,
      "outputs": [
        {
          "output_type": "stream",
          "name": "stdout",
          "text": [
            "\u001b[32;1m\u001b[1;3m[chain/start]\u001b[0m \u001b[1m[chain:RunnableSequence] Entering Chain run with input:\n",
            "\u001b[0m{\n",
            "  \"input\": \"what is history of cricket\"\n",
            "}\n",
            "\u001b[32;1m\u001b[1;3m[chain/start]\u001b[0m \u001b[1m[chain:RunnableSequence > chain:RunnableParallel<context,question>] Entering Chain run with input:\n",
            "\u001b[0m{\n",
            "  \"input\": \"what is history of cricket\"\n",
            "}\n",
            "\u001b[32;1m\u001b[1;3m[chain/start]\u001b[0m \u001b[1m[chain:RunnableSequence > chain:RunnableParallel<context,question> > chain:RunnableSequence] Entering Chain run with input:\n",
            "\u001b[0m{\n",
            "  \"input\": \"what is history of cricket\"\n",
            "}\n",
            "\u001b[32;1m\u001b[1;3m[chain/start]\u001b[0m \u001b[1m[chain:RunnableSequence > chain:RunnableParallel<context,question> > chain:RunnableSequence > prompt:ChatPromptTemplate] Entering Prompt run with input:\n",
            "\u001b[0m{\n",
            "  \"input\": \"what is history of cricket\"\n",
            "}\n",
            "\u001b[36;1m\u001b[1;3m[chain/end]\u001b[0m \u001b[1m[chain:RunnableSequence > chain:RunnableParallel<context,question> > chain:RunnableSequence > prompt:ChatPromptTemplate] [1ms] Exiting Prompt run with output:\n",
            "\u001b[0m[outputs]\n",
            "\u001b[32;1m\u001b[1;3m[llm/start]\u001b[0m \u001b[1m[chain:RunnableSequence > chain:RunnableParallel<context,question> > chain:RunnableSequence > llm:ChatGoogleGenerativeAI] Entering LLM run with input:\n",
            "\u001b[0m{\n",
            "  \"prompts\": [\n",
            "    \"System: you are a helpful assistant that generates multiple search queries based on a single input query\\nHuman: Generate multiple search queries related to: what is history of cricket /n Outpt (4 queries):\"\n",
            "  ]\n",
            "}\n",
            "\u001b[32;1m\u001b[1;3m[chain/start]\u001b[0m \u001b[1m[chain:RunnableSequence > chain:RunnableParallel<context,question> > chain:RunnablePassthrough] Entering Chain run with input:\n",
            "\u001b[0m{\n",
            "  \"input\": \"what is history of cricket\"\n",
            "}\n",
            "\u001b[36;1m\u001b[1;3m[chain/end]\u001b[0m \u001b[1m[chain:RunnableSequence > chain:RunnableParallel<context,question> > chain:RunnablePassthrough] [1ms] Exiting Chain run with output:\n",
            "\u001b[0m{\n",
            "  \"output\": \"what is history of cricket\"\n",
            "}\n",
            "\u001b[36;1m\u001b[1;3m[llm/end]\u001b[0m \u001b[1m[chain:RunnableSequence > chain:RunnableParallel<context,question> > chain:RunnableSequence > llm:ChatGoogleGenerativeAI] [10.26s] Exiting LLM run with output:\n",
            "\u001b[0m{\n",
            "  \"generations\": [\n",
            "    [\n",
            "      {\n",
            "        \"text\": \"1. \\\"Origin and early development of cricket\\\"\\n2. \\\"Timeline of major events in cricket history\\\"\\n3. \\\"Evolution of cricket rules and formats\\\"\\n4. \\\"How did cricket spread globally?\\\"\",\n",
            "        \"generation_info\": {\n",
            "          \"finish_reason\": \"STOP\",\n",
            "          \"model_name\": \"gemini-2.5-pro\",\n",
            "          \"safety_ratings\": []\n",
            "        },\n",
            "        \"type\": \"ChatGeneration\",\n",
            "        \"message\": {\n",
            "          \"lc\": 1,\n",
            "          \"type\": \"constructor\",\n",
            "          \"id\": [\n",
            "            \"langchain\",\n",
            "            \"schema\",\n",
            "            \"messages\",\n",
            "            \"AIMessage\"\n",
            "          ],\n",
            "          \"kwargs\": {\n",
            "            \"content\": \"1. \\\"Origin and early development of cricket\\\"\\n2. \\\"Timeline of major events in cricket history\\\"\\n3. \\\"Evolution of cricket rules and formats\\\"\\n4. \\\"How did cricket spread globally?\\\"\",\n",
            "            \"response_metadata\": {\n",
            "              \"prompt_feedback\": {\n",
            "                \"block_reason\": 0,\n",
            "                \"safety_ratings\": []\n",
            "              },\n",
            "              \"finish_reason\": \"STOP\",\n",
            "              \"model_name\": \"gemini-2.5-pro\",\n",
            "              \"safety_ratings\": []\n",
            "            },\n",
            "            \"type\": \"ai\",\n",
            "            \"id\": \"run--1eeda3d6-99cd-4ab4-ba82-3ef167e1be85-0\",\n",
            "            \"usage_metadata\": {\n",
            "              \"input_tokens\": 37,\n",
            "              \"output_tokens\": 812,\n",
            "              \"total_tokens\": 849,\n",
            "              \"input_token_details\": {\n",
            "                \"cache_read\": 0\n",
            "              },\n",
            "              \"output_token_details\": {\n",
            "                \"reasoning\": 769\n",
            "              }\n",
            "            },\n",
            "            \"tool_calls\": [],\n",
            "            \"invalid_tool_calls\": []\n",
            "          }\n",
            "        }\n",
            "      }\n",
            "    ]\n",
            "  ],\n",
            "  \"llm_output\": {\n",
            "    \"prompt_feedback\": {\n",
            "      \"block_reason\": 0,\n",
            "      \"safety_ratings\": []\n",
            "    }\n",
            "  },\n",
            "  \"run\": null,\n",
            "  \"type\": \"LLMResult\"\n",
            "}\n",
            "\u001b[32;1m\u001b[1;3m[chain/start]\u001b[0m \u001b[1m[chain:RunnableSequence > chain:RunnableParallel<context,question> > chain:RunnableSequence > parser:StrOutputParser] Entering Parser run with input:\n",
            "\u001b[0m[inputs]\n",
            "\u001b[36;1m\u001b[1;3m[chain/end]\u001b[0m \u001b[1m[chain:RunnableSequence > chain:RunnableParallel<context,question> > chain:RunnableSequence > parser:StrOutputParser] [1ms] Exiting Parser run with output:\n",
            "\u001b[0m{\n",
            "  \"output\": \"1. \\\"Origin and early development of cricket\\\"\\n2. \\\"Timeline of major events in cricket history\\\"\\n3. \\\"Evolution of cricket rules and formats\\\"\\n4. \\\"How did cricket spread globally?\\\"\"\n",
            "}\n",
            "\u001b[32;1m\u001b[1;3m[chain/start]\u001b[0m \u001b[1m[chain:RunnableSequence > chain:RunnableParallel<context,question> > chain:RunnableSequence > chain:RunnableLambda] Entering Chain run with input:\n",
            "\u001b[0m{\n",
            "  \"input\": \"1. \\\"Origin and early development of cricket\\\"\\n2. \\\"Timeline of major events in cricket history\\\"\\n3. \\\"Evolution of cricket rules and formats\\\"\\n4. \\\"How did cricket spread globally?\\\"\"\n",
            "}\n",
            "\u001b[36;1m\u001b[1;3m[chain/end]\u001b[0m \u001b[1m[chain:RunnableSequence > chain:RunnableParallel<context,question> > chain:RunnableSequence > chain:RunnableLambda] [1ms] Exiting Chain run with output:\n",
            "\u001b[0m{\n",
            "  \"output\": [\n",
            "    \"1. \\\"Origin and early development of cricket\\\"\",\n",
            "    \"2. \\\"Timeline of major events in cricket history\\\"\",\n",
            "    \"3. \\\"Evolution of cricket rules and formats\\\"\",\n",
            "    \"4. \\\"How did cricket spread globally?\\\"\"\n",
            "  ]\n",
            "}\n",
            "\u001b[32;1m\u001b[1;3m[chain/start]\u001b[0m \u001b[1m[chain:RunnableSequence > chain:RunnableParallel<context,question> > chain:RunnableSequence > chain:RunnableEach<VectorStoreRetriever>] Entering Chain run with input:\n",
            "\u001b[0m{\n",
            "  \"input\": [\n",
            "    \"1. \\\"Origin and early development of cricket\\\"\",\n",
            "    \"2. \\\"Timeline of major events in cricket history\\\"\",\n",
            "    \"3. \\\"Evolution of cricket rules and formats\\\"\",\n",
            "    \"4. \\\"How did cricket spread globally?\\\"\"\n",
            "  ]\n",
            "}\n",
            "\u001b[36;1m\u001b[1;3m[chain/end]\u001b[0m \u001b[1m[chain:RunnableSequence > chain:RunnableParallel<context,question> > chain:RunnableSequence > chain:RunnableEach<VectorStoreRetriever>] [189ms] Exiting Chain run with output:\n",
            "\u001b[0m[outputs]\n",
            "\u001b[32;1m\u001b[1;3m[chain/start]\u001b[0m \u001b[1m[chain:RunnableSequence > chain:RunnableParallel<context,question> > chain:RunnableSequence > chain:resiprocal_rank_fusion] Entering Chain run with input:\n",
            "\u001b[0m[inputs]\n",
            "\u001b[36;1m\u001b[1;3m[chain/end]\u001b[0m \u001b[1m[chain:RunnableSequence > chain:RunnableParallel<context,question> > chain:RunnableSequence > chain:resiprocal_rank_fusion] [2ms] Exiting Chain run with output:\n",
            "\u001b[0m[outputs]\n",
            "\u001b[36;1m\u001b[1;3m[chain/end]\u001b[0m \u001b[1m[chain:RunnableSequence > chain:RunnableParallel<context,question> > chain:RunnableSequence] [10.46s] Exiting Chain run with output:\n",
            "\u001b[0m[outputs]\n",
            "\u001b[36;1m\u001b[1;3m[chain/end]\u001b[0m \u001b[1m[chain:RunnableSequence > chain:RunnableParallel<context,question>] [10.46s] Exiting Chain run with output:\n",
            "\u001b[0m[outputs]\n",
            "\u001b[32;1m\u001b[1;3m[chain/start]\u001b[0m \u001b[1m[chain:RunnableSequence > prompt:ChatPromptTemplate] Entering Prompt run with input:\n",
            "\u001b[0m[inputs]\n",
            "\u001b[36;1m\u001b[1;3m[chain/end]\u001b[0m \u001b[1m[chain:RunnableSequence > prompt:ChatPromptTemplate] [1ms] Exiting Prompt run with output:\n",
            "\u001b[0m[outputs]\n",
            "\u001b[32;1m\u001b[1;3m[llm/start]\u001b[0m \u001b[1m[chain:RunnableSequence > llm:ChatGoogleGenerativeAI] Entering LLM run with input:\n",
            "\u001b[0m{\n",
            "  \"prompts\": [\n",
            "    \"Human: \\nAct as expert for helpful question-answering system using given context.\\nAnswer the questions based on the following context:\\n\\nContext :[(Document(metadata={'source': '/content/drive/MyDrive/Data/Cricket/04_india_asia.txt'}, page_content='Cricket was introduced to India by British colonial influence. The first Indian club, the Oriental Cricket Club (Parsi community), formed in 1848'), 0.06479774705581157), (Document(metadata={'source': '/content/drive/MyDrive/Data/Cricket/05_empire.txt'}, page_content='Cricket took hold in colonies via British military and administrators. In the West Indies, cricket became a source of regional pride and cultural identity\\\\n\\\\nAustralia, South Africa, and other settler regions also developed robust cricketing structures aligned with England’s development'), 0.049189141547682), (Document(metadata={'source': '/content/drive/MyDrive/Data/Cricket/02_formalization.txt'}, page_content='Cricket became more organized in the 18th century: 1744 saw the first codified Laws of Cricket, helping formalize the sport\\\\n\\\\nThe Hambledon Club, from the 1760s, played a key role in popularizing cricket and refining informal rules\\\\n\\\\nCrick Insights'), 0.03306010928961749), (Document(metadata={'source': '/content/drive/MyDrive/Data/Cricket/03_international.txt'}, page_content='As the British Empire expanded, cricket spread to colonies including Australia, India, the Caribbean, and South Africa\\\\n\\\\nThe first international match was played in 1844 between the USA and Canada\\\\n\\\\nThe first official Test match occurred in 1877, between England and Australia'), 0.032266458495966696), (Document(metadata={'source': '/content/drive/MyDrive/Data/Cricket/10_future.txt'}, page_content='Cricket continues to innovate, with VR, AI tools, sustainable stadiums, and global analytics reshaping the sport’s future\\\\n\\\\nFrom village greens to global arenas, cricket has become a cultural bridge across continents, with traditions and modern formats coexisting'), 0.032266458495966696), (Document(metadata={'source': '/content/drive/MyDrive/Data/Cricket/01_origins.txt'}, page_content='Early cricket likely evolved from pastoral games—shepherds may have used sticks like “criccs” and animal-wool balls\\\\n\\\\nUnder the Puritan Commonwealth (mid-1600s), cricket may have declined due to restrictions on gatherings, but regained momentum after the Restoration in 1660'), 0.03200204813108039), (Document(metadata={'source': '/content/drive/MyDrive/Data/Cricket/07_tournaments.txt'}, page_content='The ICC Men’s Cricket World Cup began in 1975 and remains cricket’s premier event\\\\n\\\\nOther key competitions include the T20 World Cup, Champions Trophy, and iconic bilateral series like The Ashes'), 0.016666666666666666)]\\n\\nQuestion : what is history of cricket\"\n",
            "  ]\n",
            "}\n",
            "\u001b[36;1m\u001b[1;3m[llm/end]\u001b[0m \u001b[1m[chain:RunnableSequence > llm:ChatGoogleGenerativeAI] [13.49s] Exiting LLM run with output:\n",
            "\u001b[0m{\n",
            "  \"generations\": [\n",
            "    [\n",
            "      {\n",
            "        \"text\": \"Based on the context provided, here is the history of cricket:\\n\\n*   **Early Origins:** Cricket likely evolved from pastoral games where shepherds used sticks called “criccs” and balls made of animal wool. The sport may have declined in the mid-1600s under the Puritan Commonwealth but regained momentum after 1660.\\n\\n*   **Formalization (18th Century):** The sport became more organized in the 18th century. The first codified Laws of Cricket were established in 1744, and the Hambledon Club played a key role in popularizing the sport and refining its rules from the 1760s.\\n\\n*   **Global Spread:** As the British Empire expanded, cricket was introduced to its colonies, including Australia, India, the Caribbean, and South Africa, by British military and administrators.\\n    *   In India, the first club, the Oriental Cricket Club, was formed in 1848.\\n    *   In the West Indies, it became a source of regional pride and cultural identity.\\n\\n*   **International Matches:**\\n    *   The first international match was played between the USA and Canada in 1844.\\n    *   The first official Test match occurred in 1877 between England and Australia.\\n\\n*   **Modern Tournaments:** The ICC Men’s Cricket World Cup, which is the sport's premier event, began in 1975.\\n\\n*   **Future:** The sport continues to innovate with modern technologies like VR and AI.\",\n",
            "        \"generation_info\": {\n",
            "          \"finish_reason\": \"STOP\",\n",
            "          \"model_name\": \"gemini-2.5-pro\",\n",
            "          \"safety_ratings\": []\n",
            "        },\n",
            "        \"type\": \"ChatGeneration\",\n",
            "        \"message\": {\n",
            "          \"lc\": 1,\n",
            "          \"type\": \"constructor\",\n",
            "          \"id\": [\n",
            "            \"langchain\",\n",
            "            \"schema\",\n",
            "            \"messages\",\n",
            "            \"AIMessage\"\n",
            "          ],\n",
            "          \"kwargs\": {\n",
            "            \"content\": \"Based on the context provided, here is the history of cricket:\\n\\n*   **Early Origins:** Cricket likely evolved from pastoral games where shepherds used sticks called “criccs” and balls made of animal wool. The sport may have declined in the mid-1600s under the Puritan Commonwealth but regained momentum after 1660.\\n\\n*   **Formalization (18th Century):** The sport became more organized in the 18th century. The first codified Laws of Cricket were established in 1744, and the Hambledon Club played a key role in popularizing the sport and refining its rules from the 1760s.\\n\\n*   **Global Spread:** As the British Empire expanded, cricket was introduced to its colonies, including Australia, India, the Caribbean, and South Africa, by British military and administrators.\\n    *   In India, the first club, the Oriental Cricket Club, was formed in 1848.\\n    *   In the West Indies, it became a source of regional pride and cultural identity.\\n\\n*   **International Matches:**\\n    *   The first international match was played between the USA and Canada in 1844.\\n    *   The first official Test match occurred in 1877 between England and Australia.\\n\\n*   **Modern Tournaments:** The ICC Men’s Cricket World Cup, which is the sport's premier event, began in 1975.\\n\\n*   **Future:** The sport continues to innovate with modern technologies like VR and AI.\",\n",
            "            \"response_metadata\": {\n",
            "              \"prompt_feedback\": {\n",
            "                \"block_reason\": 0,\n",
            "                \"safety_ratings\": []\n",
            "              },\n",
            "              \"finish_reason\": \"STOP\",\n",
            "              \"model_name\": \"gemini-2.5-pro\",\n",
            "              \"safety_ratings\": []\n",
            "            },\n",
            "            \"type\": \"ai\",\n",
            "            \"id\": \"run--373786f0-9879-49dc-b9f6-f79a1b7e7f9c-0\",\n",
            "            \"usage_metadata\": {\n",
            "              \"input_tokens\": 770,\n",
            "              \"output_tokens\": 1535,\n",
            "              \"total_tokens\": 2305,\n",
            "              \"input_token_details\": {\n",
            "                \"cache_read\": 0\n",
            "              },\n",
            "              \"output_token_details\": {\n",
            "                \"reasoning\": 1210\n",
            "              }\n",
            "            },\n",
            "            \"tool_calls\": [],\n",
            "            \"invalid_tool_calls\": []\n",
            "          }\n",
            "        }\n",
            "      }\n",
            "    ]\n",
            "  ],\n",
            "  \"llm_output\": {\n",
            "    \"prompt_feedback\": {\n",
            "      \"block_reason\": 0,\n",
            "      \"safety_ratings\": []\n",
            "    }\n",
            "  },\n",
            "  \"run\": null,\n",
            "  \"type\": \"LLMResult\"\n",
            "}\n",
            "\u001b[32;1m\u001b[1;3m[chain/start]\u001b[0m \u001b[1m[chain:RunnableSequence > parser:StrOutputParser] Entering Parser run with input:\n",
            "\u001b[0m[inputs]\n",
            "\u001b[36;1m\u001b[1;3m[chain/end]\u001b[0m \u001b[1m[chain:RunnableSequence > parser:StrOutputParser] [0ms] Exiting Parser run with output:\n",
            "\u001b[0m{\n",
            "  \"output\": \"Based on the context provided, here is the history of cricket:\\n\\n*   **Early Origins:** Cricket likely evolved from pastoral games where shepherds used sticks called “criccs” and balls made of animal wool. The sport may have declined in the mid-1600s under the Puritan Commonwealth but regained momentum after 1660.\\n\\n*   **Formalization (18th Century):** The sport became more organized in the 18th century. The first codified Laws of Cricket were established in 1744, and the Hambledon Club played a key role in popularizing the sport and refining its rules from the 1760s.\\n\\n*   **Global Spread:** As the British Empire expanded, cricket was introduced to its colonies, including Australia, India, the Caribbean, and South Africa, by British military and administrators.\\n    *   In India, the first club, the Oriental Cricket Club, was formed in 1848.\\n    *   In the West Indies, it became a source of regional pride and cultural identity.\\n\\n*   **International Matches:**\\n    *   The first international match was played between the USA and Canada in 1844.\\n    *   The first official Test match occurred in 1877 between England and Australia.\\n\\n*   **Modern Tournaments:** The ICC Men’s Cricket World Cup, which is the sport's premier event, began in 1975.\\n\\n*   **Future:** The sport continues to innovate with modern technologies like VR and AI.\"\n",
            "}\n",
            "\u001b[36;1m\u001b[1;3m[chain/end]\u001b[0m \u001b[1m[chain:RunnableSequence] [23.96s] Exiting Chain run with output:\n",
            "\u001b[0m{\n",
            "  \"output\": \"Based on the context provided, here is the history of cricket:\\n\\n*   **Early Origins:** Cricket likely evolved from pastoral games where shepherds used sticks called “criccs” and balls made of animal wool. The sport may have declined in the mid-1600s under the Puritan Commonwealth but regained momentum after 1660.\\n\\n*   **Formalization (18th Century):** The sport became more organized in the 18th century. The first codified Laws of Cricket were established in 1744, and the Hambledon Club played a key role in popularizing the sport and refining its rules from the 1760s.\\n\\n*   **Global Spread:** As the British Empire expanded, cricket was introduced to its colonies, including Australia, India, the Caribbean, and South Africa, by British military and administrators.\\n    *   In India, the first club, the Oriental Cricket Club, was formed in 1848.\\n    *   In the West Indies, it became a source of regional pride and cultural identity.\\n\\n*   **International Matches:**\\n    *   The first international match was played between the USA and Canada in 1844.\\n    *   The first official Test match occurred in 1877 between England and Australia.\\n\\n*   **Modern Tournaments:** The ICC Men’s Cricket World Cup, which is the sport's premier event, began in 1975.\\n\\n*   **Future:** The sport continues to innovate with modern technologies like VR and AI.\"\n",
            "}\n"
          ]
        },
        {
          "output_type": "execute_result",
          "data": {
            "text/plain": [
              "\"Based on the context provided, here is the history of cricket:\\n\\n*   **Early Origins:** Cricket likely evolved from pastoral games where shepherds used sticks called “criccs” and balls made of animal wool. The sport may have declined in the mid-1600s under the Puritan Commonwealth but regained momentum after 1660.\\n\\n*   **Formalization (18th Century):** The sport became more organized in the 18th century. The first codified Laws of Cricket were established in 1744, and the Hambledon Club played a key role in popularizing the sport and refining its rules from the 1760s.\\n\\n*   **Global Spread:** As the British Empire expanded, cricket was introduced to its colonies, including Australia, India, the Caribbean, and South Africa, by British military and administrators.\\n    *   In India, the first club, the Oriental Cricket Club, was formed in 1848.\\n    *   In the West Indies, it became a source of regional pride and cultural identity.\\n\\n*   **International Matches:**\\n    *   The first international match was played between the USA and Canada in 1844.\\n    *   The first official Test match occurred in 1877 between England and Australia.\\n\\n*   **Modern Tournaments:** The ICC Men’s Cricket World Cup, which is the sport's premier event, began in 1975.\\n\\n*   **Future:** The sport continues to innovate with modern technologies like VR and AI.\""
            ],
            "application/vnd.google.colaboratory.intrinsic+json": {
              "type": "string"
            }
          },
          "metadata": {},
          "execution_count": 57
        }
      ]
    },
    {
      "cell_type": "code",
      "source": [
        "response=full_rag_fusion_chain.invoke(\"when was legendary Ashes rivalry began?\")"
      ],
      "metadata": {
        "colab": {
          "base_uri": "https://localhost:8080/"
        },
        "collapsed": true,
        "id": "Z1ycHwCPM1Qw",
        "outputId": "9f610b97-299d-4a73-dd06-2f60f91db80d"
      },
      "execution_count": 58,
      "outputs": [
        {
          "output_type": "stream",
          "name": "stdout",
          "text": [
            "\u001b[32;1m\u001b[1;3m[chain/start]\u001b[0m \u001b[1m[chain:RunnableSequence] Entering Chain run with input:\n",
            "\u001b[0m{\n",
            "  \"input\": \"when was legendary Ashes rivalry began?\"\n",
            "}\n",
            "\u001b[32;1m\u001b[1;3m[chain/start]\u001b[0m \u001b[1m[chain:RunnableSequence > chain:RunnableParallel<context,question>] Entering Chain run with input:\n",
            "\u001b[0m{\n",
            "  \"input\": \"when was legendary Ashes rivalry began?\"\n",
            "}\n",
            "\u001b[32;1m\u001b[1;3m[chain/start]\u001b[0m \u001b[1m[chain:RunnableSequence > chain:RunnableParallel<context,question> > chain:RunnableSequence] Entering Chain run with input:\n",
            "\u001b[0m{\n",
            "  \"input\": \"when was legendary Ashes rivalry began?\"\n",
            "}\n",
            "\u001b[32;1m\u001b[1;3m[chain/start]\u001b[0m \u001b[1m[chain:RunnableSequence > chain:RunnableParallel<context,question> > chain:RunnableSequence > prompt:ChatPromptTemplate] Entering Prompt run with input:\n",
            "\u001b[0m{\n",
            "  \"input\": \"when was legendary Ashes rivalry began?\"\n",
            "}\n",
            "\u001b[36;1m\u001b[1;3m[chain/end]\u001b[0m \u001b[1m[chain:RunnableSequence > chain:RunnableParallel<context,question> > chain:RunnableSequence > prompt:ChatPromptTemplate] [3ms] Exiting Prompt run with output:\n",
            "\u001b[0m[outputs]\n",
            "\u001b[32;1m\u001b[1;3m[llm/start]\u001b[0m \u001b[1m[chain:RunnableSequence > chain:RunnableParallel<context,question> > chain:RunnableSequence > llm:ChatGoogleGenerativeAI] Entering LLM run with input:\n",
            "\u001b[0m{\n",
            "  \"prompts\": [\n",
            "    \"System: you are a helpful assistant that generates multiple search queries based on a single input query\\nHuman: Generate multiple search queries related to: when was legendary Ashes rivalry began? /n Outpt (4 queries):\"\n",
            "  ]\n",
            "}\n",
            "\u001b[32;1m\u001b[1;3m[chain/start]\u001b[0m \u001b[1m[chain:RunnableSequence > chain:RunnableParallel<context,question> > chain:RunnablePassthrough] Entering Chain run with input:\n",
            "\u001b[0m{\n",
            "  \"input\": \"when was legendary Ashes rivalry began?\"\n",
            "}\n",
            "\u001b[36;1m\u001b[1;3m[chain/end]\u001b[0m \u001b[1m[chain:RunnableSequence > chain:RunnableParallel<context,question> > chain:RunnablePassthrough] [5ms] Exiting Chain run with output:\n",
            "\u001b[0m{\n",
            "  \"output\": \"when was legendary Ashes rivalry began?\"\n",
            "}\n",
            "\u001b[36;1m\u001b[1;3m[llm/end]\u001b[0m \u001b[1m[chain:RunnableSequence > chain:RunnableParallel<context,question> > chain:RunnableSequence > llm:ChatGoogleGenerativeAI] [10.28s] Exiting LLM run with output:\n",
            "\u001b[0m{\n",
            "  \"generations\": [\n",
            "    [\n",
            "      {\n",
            "        \"text\": \"1. Origin of the Ashes cricket rivalry\\n2. The Sporting Times obituary English cricket 1882\\n3. When was the first Ashes series played?\\n4. History of England vs Australia cricket rivalry\",\n",
            "        \"generation_info\": {\n",
            "          \"finish_reason\": \"STOP\",\n",
            "          \"model_name\": \"gemini-2.5-pro\",\n",
            "          \"safety_ratings\": []\n",
            "        },\n",
            "        \"type\": \"ChatGeneration\",\n",
            "        \"message\": {\n",
            "          \"lc\": 1,\n",
            "          \"type\": \"constructor\",\n",
            "          \"id\": [\n",
            "            \"langchain\",\n",
            "            \"schema\",\n",
            "            \"messages\",\n",
            "            \"AIMessage\"\n",
            "          ],\n",
            "          \"kwargs\": {\n",
            "            \"content\": \"1. Origin of the Ashes cricket rivalry\\n2. The Sporting Times obituary English cricket 1882\\n3. When was the first Ashes series played?\\n4. History of England vs Australia cricket rivalry\",\n",
            "            \"response_metadata\": {\n",
            "              \"prompt_feedback\": {\n",
            "                \"block_reason\": 0,\n",
            "                \"safety_ratings\": []\n",
            "              },\n",
            "              \"finish_reason\": \"STOP\",\n",
            "              \"model_name\": \"gemini-2.5-pro\",\n",
            "              \"safety_ratings\": []\n",
            "            },\n",
            "            \"type\": \"ai\",\n",
            "            \"id\": \"run--f2800930-76a9-4e02-b62e-d67d2dc10cbb-0\",\n",
            "            \"usage_metadata\": {\n",
            "              \"input_tokens\": 39,\n",
            "              \"output_tokens\": 728,\n",
            "              \"total_tokens\": 767,\n",
            "              \"input_token_details\": {\n",
            "                \"cache_read\": 0\n",
            "              },\n",
            "              \"output_token_details\": {\n",
            "                \"reasoning\": 685\n",
            "              }\n",
            "            },\n",
            "            \"tool_calls\": [],\n",
            "            \"invalid_tool_calls\": []\n",
            "          }\n",
            "        }\n",
            "      }\n",
            "    ]\n",
            "  ],\n",
            "  \"llm_output\": {\n",
            "    \"prompt_feedback\": {\n",
            "      \"block_reason\": 0,\n",
            "      \"safety_ratings\": []\n",
            "    }\n",
            "  },\n",
            "  \"run\": null,\n",
            "  \"type\": \"LLMResult\"\n",
            "}\n",
            "\u001b[32;1m\u001b[1;3m[chain/start]\u001b[0m \u001b[1m[chain:RunnableSequence > chain:RunnableParallel<context,question> > chain:RunnableSequence > parser:StrOutputParser] Entering Parser run with input:\n",
            "\u001b[0m[inputs]\n",
            "\u001b[36;1m\u001b[1;3m[chain/end]\u001b[0m \u001b[1m[chain:RunnableSequence > chain:RunnableParallel<context,question> > chain:RunnableSequence > parser:StrOutputParser] [0ms] Exiting Parser run with output:\n",
            "\u001b[0m{\n",
            "  \"output\": \"1. Origin of the Ashes cricket rivalry\\n2. The Sporting Times obituary English cricket 1882\\n3. When was the first Ashes series played?\\n4. History of England vs Australia cricket rivalry\"\n",
            "}\n",
            "\u001b[32;1m\u001b[1;3m[chain/start]\u001b[0m \u001b[1m[chain:RunnableSequence > chain:RunnableParallel<context,question> > chain:RunnableSequence > chain:RunnableLambda] Entering Chain run with input:\n",
            "\u001b[0m{\n",
            "  \"input\": \"1. Origin of the Ashes cricket rivalry\\n2. The Sporting Times obituary English cricket 1882\\n3. When was the first Ashes series played?\\n4. History of England vs Australia cricket rivalry\"\n",
            "}\n",
            "\u001b[36;1m\u001b[1;3m[chain/end]\u001b[0m \u001b[1m[chain:RunnableSequence > chain:RunnableParallel<context,question> > chain:RunnableSequence > chain:RunnableLambda] [0ms] Exiting Chain run with output:\n",
            "\u001b[0m{\n",
            "  \"output\": [\n",
            "    \"1. Origin of the Ashes cricket rivalry\",\n",
            "    \"2. The Sporting Times obituary English cricket 1882\",\n",
            "    \"3. When was the first Ashes series played?\",\n",
            "    \"4. History of England vs Australia cricket rivalry\"\n",
            "  ]\n",
            "}\n",
            "\u001b[32;1m\u001b[1;3m[chain/start]\u001b[0m \u001b[1m[chain:RunnableSequence > chain:RunnableParallel<context,question> > chain:RunnableSequence > chain:RunnableEach<VectorStoreRetriever>] Entering Chain run with input:\n",
            "\u001b[0m{\n",
            "  \"input\": [\n",
            "    \"1. Origin of the Ashes cricket rivalry\",\n",
            "    \"2. The Sporting Times obituary English cricket 1882\",\n",
            "    \"3. When was the first Ashes series played?\",\n",
            "    \"4. History of England vs Australia cricket rivalry\"\n",
            "  ]\n",
            "}\n",
            "\u001b[36;1m\u001b[1;3m[chain/end]\u001b[0m \u001b[1m[chain:RunnableSequence > chain:RunnableParallel<context,question> > chain:RunnableSequence > chain:RunnableEach<VectorStoreRetriever>] [218ms] Exiting Chain run with output:\n",
            "\u001b[0m[outputs]\n",
            "\u001b[32;1m\u001b[1;3m[chain/start]\u001b[0m \u001b[1m[chain:RunnableSequence > chain:RunnableParallel<context,question> > chain:RunnableSequence > chain:resiprocal_rank_fusion] Entering Chain run with input:\n",
            "\u001b[0m[inputs]\n",
            "\u001b[36;1m\u001b[1;3m[chain/end]\u001b[0m \u001b[1m[chain:RunnableSequence > chain:RunnableParallel<context,question> > chain:RunnableSequence > chain:resiprocal_rank_fusion] [3ms] Exiting Chain run with output:\n",
            "\u001b[0m[outputs]\n",
            "\u001b[36;1m\u001b[1;3m[chain/end]\u001b[0m \u001b[1m[chain:RunnableSequence > chain:RunnableParallel<context,question> > chain:RunnableSequence] [10.51s] Exiting Chain run with output:\n",
            "\u001b[0m[outputs]\n",
            "\u001b[36;1m\u001b[1;3m[chain/end]\u001b[0m \u001b[1m[chain:RunnableSequence > chain:RunnableParallel<context,question>] [10.52s] Exiting Chain run with output:\n",
            "\u001b[0m[outputs]\n",
            "\u001b[32;1m\u001b[1;3m[chain/start]\u001b[0m \u001b[1m[chain:RunnableSequence > prompt:ChatPromptTemplate] Entering Prompt run with input:\n",
            "\u001b[0m[inputs]\n",
            "\u001b[36;1m\u001b[1;3m[chain/end]\u001b[0m \u001b[1m[chain:RunnableSequence > prompt:ChatPromptTemplate] [1ms] Exiting Prompt run with output:\n",
            "\u001b[0m[outputs]\n",
            "\u001b[32;1m\u001b[1;3m[llm/start]\u001b[0m \u001b[1m[chain:RunnableSequence > llm:ChatGoogleGenerativeAI] Entering LLM run with input:\n",
            "\u001b[0m{\n",
            "  \"prompts\": [\n",
            "    \"Human: \\nAct as expert for helpful question-answering system using given context.\\nAnswer the questions based on the following context:\\n\\nContext :[(Document(metadata={'source': '/content/drive/MyDrive/Data/Cricket/03_international.txt'}, page_content='The legendary Ashes rivalry began in 1882, when Australia defeated England at The Oval, prompting a satirical obituary and establishing the iconic competition'), 0.06585580821434867), (Document(metadata={'source': '/content/drive/MyDrive/Data/Cricket/03_international.txt'}, page_content='As the British Empire expanded, cricket spread to colonies including Australia, India, the Caribbean, and South Africa\\\\n\\\\nThe first international match was played in 1844 between the USA and Canada\\\\n\\\\nThe first official Test match occurred in 1877, between England and Australia'), 0.04972677595628415), (Document(metadata={'source': '/content/drive/MyDrive/Data/Cricket/07_tournaments.txt'}, page_content='The ICC Men’s Cricket World Cup began in 1975 and remains cricket’s premier event\\\\n\\\\nOther key competitions include the T20 World Cup, Champions Trophy, and iconic bilateral series like The Ashes'), 0.04839549075403121), (Document(metadata={'source': '/content/drive/MyDrive/Data/Cricket/09_usa_cricket.txt'}, page_content='Cricket enjoyed popularity in 19th-century USA, exemplified by the first international match in 1844 between USA and Canada\\\\n\\\\nHowever, following the Civil War, baseball overtook cricket in popularity'), 0.03200204813108039), (Document(metadata={'source': '/content/drive/MyDrive/Data/Cricket/04_india_asia.txt'}, page_content='Cricket was introduced to India by British colonial influence. The first Indian club, the Oriental Cricket Club (Parsi community), formed in 1848'), 0.01639344262295082), (Document(metadata={'source': '/content/drive/MyDrive/Data/Cricket/01_origins.txt'}, page_content='The first definite reference to cricket comes from 1598, when John Derrick testified he had played “creckett” as a schoolboy in Guildford around 1550\\\\n\\\\nBy 1611, adult cricket was established; two men in Sussex were fined for playing on a Sunday instead of attending church'), 0.016129032258064516), (Document(metadata={'source': '/content/drive/MyDrive/Data/Cricket/05_empire.txt'}, page_content='Cricket took hold in colonies via British military and administrators. In the West Indies, cricket became a source of regional pride and cultural identity\\\\n\\\\nAustralia, South Africa, and other settler regions also developed robust cricketing structures aligned with England’s development'), 0.015873015873015872), (Document(metadata={'source': '/content/drive/MyDrive/Data/Cricket/02_formalization.txt'}, page_content='Cricket became more organized in the 18th century: 1744 saw the first codified Laws of Cricket, helping formalize the sport\\\\n\\\\nThe Hambledon Club, from the 1760s, played a key role in popularizing cricket and refining informal rules\\\\n\\\\nCrick Insights'), 0.015873015873015872)]\\n\\nQuestion : when was legendary Ashes rivalry began?\"\n",
            "  ]\n",
            "}\n",
            "\u001b[36;1m\u001b[1;3m[llm/end]\u001b[0m \u001b[1m[chain:RunnableSequence > llm:ChatGoogleGenerativeAI] [9.14s] Exiting LLM run with output:\n",
            "\u001b[0m{\n",
            "  \"generations\": [\n",
            "    [\n",
            "      {\n",
            "        \"text\": \"Based on the context provided, the legendary Ashes rivalry began in 1882. This was after Australia defeated England at The Oval, which prompted a satirical obituary and established the iconic competition.\",\n",
            "        \"generation_info\": {\n",
            "          \"finish_reason\": \"STOP\",\n",
            "          \"model_name\": \"gemini-2.5-pro\",\n",
            "          \"safety_ratings\": []\n",
            "        },\n",
            "        \"type\": \"ChatGeneration\",\n",
            "        \"message\": {\n",
            "          \"lc\": 1,\n",
            "          \"type\": \"constructor\",\n",
            "          \"id\": [\n",
            "            \"langchain\",\n",
            "            \"schema\",\n",
            "            \"messages\",\n",
            "            \"AIMessage\"\n",
            "          ],\n",
            "          \"kwargs\": {\n",
            "            \"content\": \"Based on the context provided, the legendary Ashes rivalry began in 1882. This was after Australia defeated England at The Oval, which prompted a satirical obituary and established the iconic competition.\",\n",
            "            \"response_metadata\": {\n",
            "              \"prompt_feedback\": {\n",
            "                \"block_reason\": 0,\n",
            "                \"safety_ratings\": []\n",
            "              },\n",
            "              \"finish_reason\": \"STOP\",\n",
            "              \"model_name\": \"gemini-2.5-pro\",\n",
            "              \"safety_ratings\": []\n",
            "            },\n",
            "            \"type\": \"ai\",\n",
            "            \"id\": \"run--539a1d8a-1c89-463e-a1ea-f1a43b0f3da9-0\",\n",
            "            \"usage_metadata\": {\n",
            "              \"input_tokens\": 856,\n",
            "              \"output_tokens\": 604,\n",
            "              \"total_tokens\": 1460,\n",
            "              \"input_token_details\": {\n",
            "                \"cache_read\": 0\n",
            "              },\n",
            "              \"output_token_details\": {\n",
            "                \"reasoning\": 565\n",
            "              }\n",
            "            },\n",
            "            \"tool_calls\": [],\n",
            "            \"invalid_tool_calls\": []\n",
            "          }\n",
            "        }\n",
            "      }\n",
            "    ]\n",
            "  ],\n",
            "  \"llm_output\": {\n",
            "    \"prompt_feedback\": {\n",
            "      \"block_reason\": 0,\n",
            "      \"safety_ratings\": []\n",
            "    }\n",
            "  },\n",
            "  \"run\": null,\n",
            "  \"type\": \"LLMResult\"\n",
            "}\n",
            "\u001b[32;1m\u001b[1;3m[chain/start]\u001b[0m \u001b[1m[chain:RunnableSequence > parser:StrOutputParser] Entering Parser run with input:\n",
            "\u001b[0m[inputs]\n",
            "\u001b[36;1m\u001b[1;3m[chain/end]\u001b[0m \u001b[1m[chain:RunnableSequence > parser:StrOutputParser] [0ms] Exiting Parser run with output:\n",
            "\u001b[0m{\n",
            "  \"output\": \"Based on the context provided, the legendary Ashes rivalry began in 1882. This was after Australia defeated England at The Oval, which prompted a satirical obituary and established the iconic competition.\"\n",
            "}\n",
            "\u001b[36;1m\u001b[1;3m[chain/end]\u001b[0m \u001b[1m[chain:RunnableSequence] [19.66s] Exiting Chain run with output:\n",
            "\u001b[0m{\n",
            "  \"output\": \"Based on the context provided, the legendary Ashes rivalry began in 1882. This was after Australia defeated England at The Oval, which prompted a satirical obituary and established the iconic competition.\"\n",
            "}\n"
          ]
        }
      ]
    },
    {
      "cell_type": "code",
      "source": [
        "response"
      ],
      "metadata": {
        "colab": {
          "base_uri": "https://localhost:8080/",
          "height": 54
        },
        "id": "sl_epN9SNoJk",
        "outputId": "6a7734ef-b75a-409b-ebf7-63e3a4b0db73"
      },
      "execution_count": 59,
      "outputs": [
        {
          "output_type": "execute_result",
          "data": {
            "text/plain": [
              "'Based on the context provided, the legendary Ashes rivalry began in 1882. This was after Australia defeated England at The Oval, which prompted a satirical obituary and established the iconic competition.'"
            ],
            "application/vnd.google.colaboratory.intrinsic+json": {
              "type": "string"
            }
          },
          "metadata": {},
          "execution_count": 59
        }
      ]
    }
  ],
  "metadata": {
    "accelerator": "GPU",
    "colab": {
      "gpuType": "T4",
      "provenance": []
    },
    "kernelspec": {
      "display_name": "Python 3",
      "name": "python3"
    },
    "language_info": {
      "name": "python"
    },
    "widgets": {
      "application/vnd.jupyter.widget-state+json": {
        "215aa6ac5b074da0a3bbf52a7419e135": {
          "model_module": "@jupyter-widgets/controls",
          "model_name": "HBoxModel",
          "model_module_version": "1.5.0",
          "state": {
            "_dom_classes": [],
            "_model_module": "@jupyter-widgets/controls",
            "_model_module_version": "1.5.0",
            "_model_name": "HBoxModel",
            "_view_count": null,
            "_view_module": "@jupyter-widgets/controls",
            "_view_module_version": "1.5.0",
            "_view_name": "HBoxView",
            "box_style": "",
            "children": [
              "IPY_MODEL_fd1dacbf860c4817bec121b13505e324",
              "IPY_MODEL_29c1c26694814cfaa60a3814cda7f586",
              "IPY_MODEL_98169d81af554709b030534a8dcfc03b"
            ],
            "layout": "IPY_MODEL_1b9758346e464fb5989cdfdb1737dfa9"
          }
        },
        "fd1dacbf860c4817bec121b13505e324": {
          "model_module": "@jupyter-widgets/controls",
          "model_name": "HTMLModel",
          "model_module_version": "1.5.0",
          "state": {
            "_dom_classes": [],
            "_model_module": "@jupyter-widgets/controls",
            "_model_module_version": "1.5.0",
            "_model_name": "HTMLModel",
            "_view_count": null,
            "_view_module": "@jupyter-widgets/controls",
            "_view_module_version": "1.5.0",
            "_view_name": "HTMLView",
            "description": "",
            "description_tooltip": null,
            "layout": "IPY_MODEL_c92dec1cce7a428f88ac9141cb3b5e4b",
            "placeholder": "​",
            "style": "IPY_MODEL_266621dde168449e8350abbc224e4434",
            "value": "modules.json: 100%"
          }
        },
        "29c1c26694814cfaa60a3814cda7f586": {
          "model_module": "@jupyter-widgets/controls",
          "model_name": "FloatProgressModel",
          "model_module_version": "1.5.0",
          "state": {
            "_dom_classes": [],
            "_model_module": "@jupyter-widgets/controls",
            "_model_module_version": "1.5.0",
            "_model_name": "FloatProgressModel",
            "_view_count": null,
            "_view_module": "@jupyter-widgets/controls",
            "_view_module_version": "1.5.0",
            "_view_name": "ProgressView",
            "bar_style": "success",
            "description": "",
            "description_tooltip": null,
            "layout": "IPY_MODEL_7b63bcf48c064d74b7f01e7565af18b0",
            "max": 349,
            "min": 0,
            "orientation": "horizontal",
            "style": "IPY_MODEL_778238d095724884943efd9354c781c6",
            "value": 349
          }
        },
        "98169d81af554709b030534a8dcfc03b": {
          "model_module": "@jupyter-widgets/controls",
          "model_name": "HTMLModel",
          "model_module_version": "1.5.0",
          "state": {
            "_dom_classes": [],
            "_model_module": "@jupyter-widgets/controls",
            "_model_module_version": "1.5.0",
            "_model_name": "HTMLModel",
            "_view_count": null,
            "_view_module": "@jupyter-widgets/controls",
            "_view_module_version": "1.5.0",
            "_view_name": "HTMLView",
            "description": "",
            "description_tooltip": null,
            "layout": "IPY_MODEL_7adf7ffbefba41a08f05d69d1030d195",
            "placeholder": "​",
            "style": "IPY_MODEL_9ece55b37a7144cb8803d17243d57eb3",
            "value": " 349/349 [00:00&lt;00:00, 26.6kB/s]"
          }
        },
        "1b9758346e464fb5989cdfdb1737dfa9": {
          "model_module": "@jupyter-widgets/base",
          "model_name": "LayoutModel",
          "model_module_version": "1.2.0",
          "state": {
            "_model_module": "@jupyter-widgets/base",
            "_model_module_version": "1.2.0",
            "_model_name": "LayoutModel",
            "_view_count": null,
            "_view_module": "@jupyter-widgets/base",
            "_view_module_version": "1.2.0",
            "_view_name": "LayoutView",
            "align_content": null,
            "align_items": null,
            "align_self": null,
            "border": null,
            "bottom": null,
            "display": null,
            "flex": null,
            "flex_flow": null,
            "grid_area": null,
            "grid_auto_columns": null,
            "grid_auto_flow": null,
            "grid_auto_rows": null,
            "grid_column": null,
            "grid_gap": null,
            "grid_row": null,
            "grid_template_areas": null,
            "grid_template_columns": null,
            "grid_template_rows": null,
            "height": null,
            "justify_content": null,
            "justify_items": null,
            "left": null,
            "margin": null,
            "max_height": null,
            "max_width": null,
            "min_height": null,
            "min_width": null,
            "object_fit": null,
            "object_position": null,
            "order": null,
            "overflow": null,
            "overflow_x": null,
            "overflow_y": null,
            "padding": null,
            "right": null,
            "top": null,
            "visibility": null,
            "width": null
          }
        },
        "c92dec1cce7a428f88ac9141cb3b5e4b": {
          "model_module": "@jupyter-widgets/base",
          "model_name": "LayoutModel",
          "model_module_version": "1.2.0",
          "state": {
            "_model_module": "@jupyter-widgets/base",
            "_model_module_version": "1.2.0",
            "_model_name": "LayoutModel",
            "_view_count": null,
            "_view_module": "@jupyter-widgets/base",
            "_view_module_version": "1.2.0",
            "_view_name": "LayoutView",
            "align_content": null,
            "align_items": null,
            "align_self": null,
            "border": null,
            "bottom": null,
            "display": null,
            "flex": null,
            "flex_flow": null,
            "grid_area": null,
            "grid_auto_columns": null,
            "grid_auto_flow": null,
            "grid_auto_rows": null,
            "grid_column": null,
            "grid_gap": null,
            "grid_row": null,
            "grid_template_areas": null,
            "grid_template_columns": null,
            "grid_template_rows": null,
            "height": null,
            "justify_content": null,
            "justify_items": null,
            "left": null,
            "margin": null,
            "max_height": null,
            "max_width": null,
            "min_height": null,
            "min_width": null,
            "object_fit": null,
            "object_position": null,
            "order": null,
            "overflow": null,
            "overflow_x": null,
            "overflow_y": null,
            "padding": null,
            "right": null,
            "top": null,
            "visibility": null,
            "width": null
          }
        },
        "266621dde168449e8350abbc224e4434": {
          "model_module": "@jupyter-widgets/controls",
          "model_name": "DescriptionStyleModel",
          "model_module_version": "1.5.0",
          "state": {
            "_model_module": "@jupyter-widgets/controls",
            "_model_module_version": "1.5.0",
            "_model_name": "DescriptionStyleModel",
            "_view_count": null,
            "_view_module": "@jupyter-widgets/base",
            "_view_module_version": "1.2.0",
            "_view_name": "StyleView",
            "description_width": ""
          }
        },
        "7b63bcf48c064d74b7f01e7565af18b0": {
          "model_module": "@jupyter-widgets/base",
          "model_name": "LayoutModel",
          "model_module_version": "1.2.0",
          "state": {
            "_model_module": "@jupyter-widgets/base",
            "_model_module_version": "1.2.0",
            "_model_name": "LayoutModel",
            "_view_count": null,
            "_view_module": "@jupyter-widgets/base",
            "_view_module_version": "1.2.0",
            "_view_name": "LayoutView",
            "align_content": null,
            "align_items": null,
            "align_self": null,
            "border": null,
            "bottom": null,
            "display": null,
            "flex": null,
            "flex_flow": null,
            "grid_area": null,
            "grid_auto_columns": null,
            "grid_auto_flow": null,
            "grid_auto_rows": null,
            "grid_column": null,
            "grid_gap": null,
            "grid_row": null,
            "grid_template_areas": null,
            "grid_template_columns": null,
            "grid_template_rows": null,
            "height": null,
            "justify_content": null,
            "justify_items": null,
            "left": null,
            "margin": null,
            "max_height": null,
            "max_width": null,
            "min_height": null,
            "min_width": null,
            "object_fit": null,
            "object_position": null,
            "order": null,
            "overflow": null,
            "overflow_x": null,
            "overflow_y": null,
            "padding": null,
            "right": null,
            "top": null,
            "visibility": null,
            "width": null
          }
        },
        "778238d095724884943efd9354c781c6": {
          "model_module": "@jupyter-widgets/controls",
          "model_name": "ProgressStyleModel",
          "model_module_version": "1.5.0",
          "state": {
            "_model_module": "@jupyter-widgets/controls",
            "_model_module_version": "1.5.0",
            "_model_name": "ProgressStyleModel",
            "_view_count": null,
            "_view_module": "@jupyter-widgets/base",
            "_view_module_version": "1.2.0",
            "_view_name": "StyleView",
            "bar_color": null,
            "description_width": ""
          }
        },
        "7adf7ffbefba41a08f05d69d1030d195": {
          "model_module": "@jupyter-widgets/base",
          "model_name": "LayoutModel",
          "model_module_version": "1.2.0",
          "state": {
            "_model_module": "@jupyter-widgets/base",
            "_model_module_version": "1.2.0",
            "_model_name": "LayoutModel",
            "_view_count": null,
            "_view_module": "@jupyter-widgets/base",
            "_view_module_version": "1.2.0",
            "_view_name": "LayoutView",
            "align_content": null,
            "align_items": null,
            "align_self": null,
            "border": null,
            "bottom": null,
            "display": null,
            "flex": null,
            "flex_flow": null,
            "grid_area": null,
            "grid_auto_columns": null,
            "grid_auto_flow": null,
            "grid_auto_rows": null,
            "grid_column": null,
            "grid_gap": null,
            "grid_row": null,
            "grid_template_areas": null,
            "grid_template_columns": null,
            "grid_template_rows": null,
            "height": null,
            "justify_content": null,
            "justify_items": null,
            "left": null,
            "margin": null,
            "max_height": null,
            "max_width": null,
            "min_height": null,
            "min_width": null,
            "object_fit": null,
            "object_position": null,
            "order": null,
            "overflow": null,
            "overflow_x": null,
            "overflow_y": null,
            "padding": null,
            "right": null,
            "top": null,
            "visibility": null,
            "width": null
          }
        },
        "9ece55b37a7144cb8803d17243d57eb3": {
          "model_module": "@jupyter-widgets/controls",
          "model_name": "DescriptionStyleModel",
          "model_module_version": "1.5.0",
          "state": {
            "_model_module": "@jupyter-widgets/controls",
            "_model_module_version": "1.5.0",
            "_model_name": "DescriptionStyleModel",
            "_view_count": null,
            "_view_module": "@jupyter-widgets/base",
            "_view_module_version": "1.2.0",
            "_view_name": "StyleView",
            "description_width": ""
          }
        },
        "5d5758a6ef7649c78c2c0bb36bef415b": {
          "model_module": "@jupyter-widgets/controls",
          "model_name": "HBoxModel",
          "model_module_version": "1.5.0",
          "state": {
            "_dom_classes": [],
            "_model_module": "@jupyter-widgets/controls",
            "_model_module_version": "1.5.0",
            "_model_name": "HBoxModel",
            "_view_count": null,
            "_view_module": "@jupyter-widgets/controls",
            "_view_module_version": "1.5.0",
            "_view_name": "HBoxView",
            "box_style": "",
            "children": [
              "IPY_MODEL_a66b408b0a814a5d8ce54c80c527cc71",
              "IPY_MODEL_e5dfa9ba3fe44f6da64bbc5dfb8e92ca",
              "IPY_MODEL_525002d26c664631af594f60bad0e48b"
            ],
            "layout": "IPY_MODEL_e08128d7042d4d5d91b4c9e346aeddd9"
          }
        },
        "a66b408b0a814a5d8ce54c80c527cc71": {
          "model_module": "@jupyter-widgets/controls",
          "model_name": "HTMLModel",
          "model_module_version": "1.5.0",
          "state": {
            "_dom_classes": [],
            "_model_module": "@jupyter-widgets/controls",
            "_model_module_version": "1.5.0",
            "_model_name": "HTMLModel",
            "_view_count": null,
            "_view_module": "@jupyter-widgets/controls",
            "_view_module_version": "1.5.0",
            "_view_name": "HTMLView",
            "description": "",
            "description_tooltip": null,
            "layout": "IPY_MODEL_67ef205d0a3d499cacf3b12b4f999a26",
            "placeholder": "​",
            "style": "IPY_MODEL_490feeb1a6fb49e9b274aabcc2394a14",
            "value": "config_sentence_transformers.json: 100%"
          }
        },
        "e5dfa9ba3fe44f6da64bbc5dfb8e92ca": {
          "model_module": "@jupyter-widgets/controls",
          "model_name": "FloatProgressModel",
          "model_module_version": "1.5.0",
          "state": {
            "_dom_classes": [],
            "_model_module": "@jupyter-widgets/controls",
            "_model_module_version": "1.5.0",
            "_model_name": "FloatProgressModel",
            "_view_count": null,
            "_view_module": "@jupyter-widgets/controls",
            "_view_module_version": "1.5.0",
            "_view_name": "ProgressView",
            "bar_style": "success",
            "description": "",
            "description_tooltip": null,
            "layout": "IPY_MODEL_75e49f09e0734b26a3a717a146f05bfd",
            "max": 124,
            "min": 0,
            "orientation": "horizontal",
            "style": "IPY_MODEL_7e293a7e217f4c959d161a044323ef7d",
            "value": 124
          }
        },
        "525002d26c664631af594f60bad0e48b": {
          "model_module": "@jupyter-widgets/controls",
          "model_name": "HTMLModel",
          "model_module_version": "1.5.0",
          "state": {
            "_dom_classes": [],
            "_model_module": "@jupyter-widgets/controls",
            "_model_module_version": "1.5.0",
            "_model_name": "HTMLModel",
            "_view_count": null,
            "_view_module": "@jupyter-widgets/controls",
            "_view_module_version": "1.5.0",
            "_view_name": "HTMLView",
            "description": "",
            "description_tooltip": null,
            "layout": "IPY_MODEL_9f5203257d5d4c7f959a0fe1c4f3b86c",
            "placeholder": "​",
            "style": "IPY_MODEL_4f23727201e449f6bcf99caa53c2db97",
            "value": " 124/124 [00:00&lt;00:00, 7.96kB/s]"
          }
        },
        "e08128d7042d4d5d91b4c9e346aeddd9": {
          "model_module": "@jupyter-widgets/base",
          "model_name": "LayoutModel",
          "model_module_version": "1.2.0",
          "state": {
            "_model_module": "@jupyter-widgets/base",
            "_model_module_version": "1.2.0",
            "_model_name": "LayoutModel",
            "_view_count": null,
            "_view_module": "@jupyter-widgets/base",
            "_view_module_version": "1.2.0",
            "_view_name": "LayoutView",
            "align_content": null,
            "align_items": null,
            "align_self": null,
            "border": null,
            "bottom": null,
            "display": null,
            "flex": null,
            "flex_flow": null,
            "grid_area": null,
            "grid_auto_columns": null,
            "grid_auto_flow": null,
            "grid_auto_rows": null,
            "grid_column": null,
            "grid_gap": null,
            "grid_row": null,
            "grid_template_areas": null,
            "grid_template_columns": null,
            "grid_template_rows": null,
            "height": null,
            "justify_content": null,
            "justify_items": null,
            "left": null,
            "margin": null,
            "max_height": null,
            "max_width": null,
            "min_height": null,
            "min_width": null,
            "object_fit": null,
            "object_position": null,
            "order": null,
            "overflow": null,
            "overflow_x": null,
            "overflow_y": null,
            "padding": null,
            "right": null,
            "top": null,
            "visibility": null,
            "width": null
          }
        },
        "67ef205d0a3d499cacf3b12b4f999a26": {
          "model_module": "@jupyter-widgets/base",
          "model_name": "LayoutModel",
          "model_module_version": "1.2.0",
          "state": {
            "_model_module": "@jupyter-widgets/base",
            "_model_module_version": "1.2.0",
            "_model_name": "LayoutModel",
            "_view_count": null,
            "_view_module": "@jupyter-widgets/base",
            "_view_module_version": "1.2.0",
            "_view_name": "LayoutView",
            "align_content": null,
            "align_items": null,
            "align_self": null,
            "border": null,
            "bottom": null,
            "display": null,
            "flex": null,
            "flex_flow": null,
            "grid_area": null,
            "grid_auto_columns": null,
            "grid_auto_flow": null,
            "grid_auto_rows": null,
            "grid_column": null,
            "grid_gap": null,
            "grid_row": null,
            "grid_template_areas": null,
            "grid_template_columns": null,
            "grid_template_rows": null,
            "height": null,
            "justify_content": null,
            "justify_items": null,
            "left": null,
            "margin": null,
            "max_height": null,
            "max_width": null,
            "min_height": null,
            "min_width": null,
            "object_fit": null,
            "object_position": null,
            "order": null,
            "overflow": null,
            "overflow_x": null,
            "overflow_y": null,
            "padding": null,
            "right": null,
            "top": null,
            "visibility": null,
            "width": null
          }
        },
        "490feeb1a6fb49e9b274aabcc2394a14": {
          "model_module": "@jupyter-widgets/controls",
          "model_name": "DescriptionStyleModel",
          "model_module_version": "1.5.0",
          "state": {
            "_model_module": "@jupyter-widgets/controls",
            "_model_module_version": "1.5.0",
            "_model_name": "DescriptionStyleModel",
            "_view_count": null,
            "_view_module": "@jupyter-widgets/base",
            "_view_module_version": "1.2.0",
            "_view_name": "StyleView",
            "description_width": ""
          }
        },
        "75e49f09e0734b26a3a717a146f05bfd": {
          "model_module": "@jupyter-widgets/base",
          "model_name": "LayoutModel",
          "model_module_version": "1.2.0",
          "state": {
            "_model_module": "@jupyter-widgets/base",
            "_model_module_version": "1.2.0",
            "_model_name": "LayoutModel",
            "_view_count": null,
            "_view_module": "@jupyter-widgets/base",
            "_view_module_version": "1.2.0",
            "_view_name": "LayoutView",
            "align_content": null,
            "align_items": null,
            "align_self": null,
            "border": null,
            "bottom": null,
            "display": null,
            "flex": null,
            "flex_flow": null,
            "grid_area": null,
            "grid_auto_columns": null,
            "grid_auto_flow": null,
            "grid_auto_rows": null,
            "grid_column": null,
            "grid_gap": null,
            "grid_row": null,
            "grid_template_areas": null,
            "grid_template_columns": null,
            "grid_template_rows": null,
            "height": null,
            "justify_content": null,
            "justify_items": null,
            "left": null,
            "margin": null,
            "max_height": null,
            "max_width": null,
            "min_height": null,
            "min_width": null,
            "object_fit": null,
            "object_position": null,
            "order": null,
            "overflow": null,
            "overflow_x": null,
            "overflow_y": null,
            "padding": null,
            "right": null,
            "top": null,
            "visibility": null,
            "width": null
          }
        },
        "7e293a7e217f4c959d161a044323ef7d": {
          "model_module": "@jupyter-widgets/controls",
          "model_name": "ProgressStyleModel",
          "model_module_version": "1.5.0",
          "state": {
            "_model_module": "@jupyter-widgets/controls",
            "_model_module_version": "1.5.0",
            "_model_name": "ProgressStyleModel",
            "_view_count": null,
            "_view_module": "@jupyter-widgets/base",
            "_view_module_version": "1.2.0",
            "_view_name": "StyleView",
            "bar_color": null,
            "description_width": ""
          }
        },
        "9f5203257d5d4c7f959a0fe1c4f3b86c": {
          "model_module": "@jupyter-widgets/base",
          "model_name": "LayoutModel",
          "model_module_version": "1.2.0",
          "state": {
            "_model_module": "@jupyter-widgets/base",
            "_model_module_version": "1.2.0",
            "_model_name": "LayoutModel",
            "_view_count": null,
            "_view_module": "@jupyter-widgets/base",
            "_view_module_version": "1.2.0",
            "_view_name": "LayoutView",
            "align_content": null,
            "align_items": null,
            "align_self": null,
            "border": null,
            "bottom": null,
            "display": null,
            "flex": null,
            "flex_flow": null,
            "grid_area": null,
            "grid_auto_columns": null,
            "grid_auto_flow": null,
            "grid_auto_rows": null,
            "grid_column": null,
            "grid_gap": null,
            "grid_row": null,
            "grid_template_areas": null,
            "grid_template_columns": null,
            "grid_template_rows": null,
            "height": null,
            "justify_content": null,
            "justify_items": null,
            "left": null,
            "margin": null,
            "max_height": null,
            "max_width": null,
            "min_height": null,
            "min_width": null,
            "object_fit": null,
            "object_position": null,
            "order": null,
            "overflow": null,
            "overflow_x": null,
            "overflow_y": null,
            "padding": null,
            "right": null,
            "top": null,
            "visibility": null,
            "width": null
          }
        },
        "4f23727201e449f6bcf99caa53c2db97": {
          "model_module": "@jupyter-widgets/controls",
          "model_name": "DescriptionStyleModel",
          "model_module_version": "1.5.0",
          "state": {
            "_model_module": "@jupyter-widgets/controls",
            "_model_module_version": "1.5.0",
            "_model_name": "DescriptionStyleModel",
            "_view_count": null,
            "_view_module": "@jupyter-widgets/base",
            "_view_module_version": "1.2.0",
            "_view_name": "StyleView",
            "description_width": ""
          }
        },
        "c73f5107b776491f8159e4da3e2b3388": {
          "model_module": "@jupyter-widgets/controls",
          "model_name": "HBoxModel",
          "model_module_version": "1.5.0",
          "state": {
            "_dom_classes": [],
            "_model_module": "@jupyter-widgets/controls",
            "_model_module_version": "1.5.0",
            "_model_name": "HBoxModel",
            "_view_count": null,
            "_view_module": "@jupyter-widgets/controls",
            "_view_module_version": "1.5.0",
            "_view_name": "HBoxView",
            "box_style": "",
            "children": [
              "IPY_MODEL_275fba0229154ec68bf087b0d34d66fb",
              "IPY_MODEL_78b1b88a15084b3e986640d66532564e",
              "IPY_MODEL_88e1a462e0114344a5cdd13fcf23a7e3"
            ],
            "layout": "IPY_MODEL_decebbaeb3f245448bedf527514493a0"
          }
        },
        "275fba0229154ec68bf087b0d34d66fb": {
          "model_module": "@jupyter-widgets/controls",
          "model_name": "HTMLModel",
          "model_module_version": "1.5.0",
          "state": {
            "_dom_classes": [],
            "_model_module": "@jupyter-widgets/controls",
            "_model_module_version": "1.5.0",
            "_model_name": "HTMLModel",
            "_view_count": null,
            "_view_module": "@jupyter-widgets/controls",
            "_view_module_version": "1.5.0",
            "_view_name": "HTMLView",
            "description": "",
            "description_tooltip": null,
            "layout": "IPY_MODEL_8f068b5607c6487284d689241b9a4399",
            "placeholder": "​",
            "style": "IPY_MODEL_83a5a8c161b24dda87eda3f15d56b2ba",
            "value": "README.md: "
          }
        },
        "78b1b88a15084b3e986640d66532564e": {
          "model_module": "@jupyter-widgets/controls",
          "model_name": "FloatProgressModel",
          "model_module_version": "1.5.0",
          "state": {
            "_dom_classes": [],
            "_model_module": "@jupyter-widgets/controls",
            "_model_module_version": "1.5.0",
            "_model_name": "FloatProgressModel",
            "_view_count": null,
            "_view_module": "@jupyter-widgets/controls",
            "_view_module_version": "1.5.0",
            "_view_name": "ProgressView",
            "bar_style": "success",
            "description": "",
            "description_tooltip": null,
            "layout": "IPY_MODEL_00969462a26a4176a912e36b1d3de1a1",
            "max": 1,
            "min": 0,
            "orientation": "horizontal",
            "style": "IPY_MODEL_3668f414498843f587a2890a82f7ee9c",
            "value": 1
          }
        },
        "88e1a462e0114344a5cdd13fcf23a7e3": {
          "model_module": "@jupyter-widgets/controls",
          "model_name": "HTMLModel",
          "model_module_version": "1.5.0",
          "state": {
            "_dom_classes": [],
            "_model_module": "@jupyter-widgets/controls",
            "_model_module_version": "1.5.0",
            "_model_name": "HTMLModel",
            "_view_count": null,
            "_view_module": "@jupyter-widgets/controls",
            "_view_module_version": "1.5.0",
            "_view_name": "HTMLView",
            "description": "",
            "description_tooltip": null,
            "layout": "IPY_MODEL_5b481a3ec5df402fbee4616332dfb5a2",
            "placeholder": "​",
            "style": "IPY_MODEL_68aca9151a0a4005843a3fc4576f03ff",
            "value": " 94.8k/? [00:00&lt;00:00, 7.15MB/s]"
          }
        },
        "decebbaeb3f245448bedf527514493a0": {
          "model_module": "@jupyter-widgets/base",
          "model_name": "LayoutModel",
          "model_module_version": "1.2.0",
          "state": {
            "_model_module": "@jupyter-widgets/base",
            "_model_module_version": "1.2.0",
            "_model_name": "LayoutModel",
            "_view_count": null,
            "_view_module": "@jupyter-widgets/base",
            "_view_module_version": "1.2.0",
            "_view_name": "LayoutView",
            "align_content": null,
            "align_items": null,
            "align_self": null,
            "border": null,
            "bottom": null,
            "display": null,
            "flex": null,
            "flex_flow": null,
            "grid_area": null,
            "grid_auto_columns": null,
            "grid_auto_flow": null,
            "grid_auto_rows": null,
            "grid_column": null,
            "grid_gap": null,
            "grid_row": null,
            "grid_template_areas": null,
            "grid_template_columns": null,
            "grid_template_rows": null,
            "height": null,
            "justify_content": null,
            "justify_items": null,
            "left": null,
            "margin": null,
            "max_height": null,
            "max_width": null,
            "min_height": null,
            "min_width": null,
            "object_fit": null,
            "object_position": null,
            "order": null,
            "overflow": null,
            "overflow_x": null,
            "overflow_y": null,
            "padding": null,
            "right": null,
            "top": null,
            "visibility": null,
            "width": null
          }
        },
        "8f068b5607c6487284d689241b9a4399": {
          "model_module": "@jupyter-widgets/base",
          "model_name": "LayoutModel",
          "model_module_version": "1.2.0",
          "state": {
            "_model_module": "@jupyter-widgets/base",
            "_model_module_version": "1.2.0",
            "_model_name": "LayoutModel",
            "_view_count": null,
            "_view_module": "@jupyter-widgets/base",
            "_view_module_version": "1.2.0",
            "_view_name": "LayoutView",
            "align_content": null,
            "align_items": null,
            "align_self": null,
            "border": null,
            "bottom": null,
            "display": null,
            "flex": null,
            "flex_flow": null,
            "grid_area": null,
            "grid_auto_columns": null,
            "grid_auto_flow": null,
            "grid_auto_rows": null,
            "grid_column": null,
            "grid_gap": null,
            "grid_row": null,
            "grid_template_areas": null,
            "grid_template_columns": null,
            "grid_template_rows": null,
            "height": null,
            "justify_content": null,
            "justify_items": null,
            "left": null,
            "margin": null,
            "max_height": null,
            "max_width": null,
            "min_height": null,
            "min_width": null,
            "object_fit": null,
            "object_position": null,
            "order": null,
            "overflow": null,
            "overflow_x": null,
            "overflow_y": null,
            "padding": null,
            "right": null,
            "top": null,
            "visibility": null,
            "width": null
          }
        },
        "83a5a8c161b24dda87eda3f15d56b2ba": {
          "model_module": "@jupyter-widgets/controls",
          "model_name": "DescriptionStyleModel",
          "model_module_version": "1.5.0",
          "state": {
            "_model_module": "@jupyter-widgets/controls",
            "_model_module_version": "1.5.0",
            "_model_name": "DescriptionStyleModel",
            "_view_count": null,
            "_view_module": "@jupyter-widgets/base",
            "_view_module_version": "1.2.0",
            "_view_name": "StyleView",
            "description_width": ""
          }
        },
        "00969462a26a4176a912e36b1d3de1a1": {
          "model_module": "@jupyter-widgets/base",
          "model_name": "LayoutModel",
          "model_module_version": "1.2.0",
          "state": {
            "_model_module": "@jupyter-widgets/base",
            "_model_module_version": "1.2.0",
            "_model_name": "LayoutModel",
            "_view_count": null,
            "_view_module": "@jupyter-widgets/base",
            "_view_module_version": "1.2.0",
            "_view_name": "LayoutView",
            "align_content": null,
            "align_items": null,
            "align_self": null,
            "border": null,
            "bottom": null,
            "display": null,
            "flex": null,
            "flex_flow": null,
            "grid_area": null,
            "grid_auto_columns": null,
            "grid_auto_flow": null,
            "grid_auto_rows": null,
            "grid_column": null,
            "grid_gap": null,
            "grid_row": null,
            "grid_template_areas": null,
            "grid_template_columns": null,
            "grid_template_rows": null,
            "height": null,
            "justify_content": null,
            "justify_items": null,
            "left": null,
            "margin": null,
            "max_height": null,
            "max_width": null,
            "min_height": null,
            "min_width": null,
            "object_fit": null,
            "object_position": null,
            "order": null,
            "overflow": null,
            "overflow_x": null,
            "overflow_y": null,
            "padding": null,
            "right": null,
            "top": null,
            "visibility": null,
            "width": "20px"
          }
        },
        "3668f414498843f587a2890a82f7ee9c": {
          "model_module": "@jupyter-widgets/controls",
          "model_name": "ProgressStyleModel",
          "model_module_version": "1.5.0",
          "state": {
            "_model_module": "@jupyter-widgets/controls",
            "_model_module_version": "1.5.0",
            "_model_name": "ProgressStyleModel",
            "_view_count": null,
            "_view_module": "@jupyter-widgets/base",
            "_view_module_version": "1.2.0",
            "_view_name": "StyleView",
            "bar_color": null,
            "description_width": ""
          }
        },
        "5b481a3ec5df402fbee4616332dfb5a2": {
          "model_module": "@jupyter-widgets/base",
          "model_name": "LayoutModel",
          "model_module_version": "1.2.0",
          "state": {
            "_model_module": "@jupyter-widgets/base",
            "_model_module_version": "1.2.0",
            "_model_name": "LayoutModel",
            "_view_count": null,
            "_view_module": "@jupyter-widgets/base",
            "_view_module_version": "1.2.0",
            "_view_name": "LayoutView",
            "align_content": null,
            "align_items": null,
            "align_self": null,
            "border": null,
            "bottom": null,
            "display": null,
            "flex": null,
            "flex_flow": null,
            "grid_area": null,
            "grid_auto_columns": null,
            "grid_auto_flow": null,
            "grid_auto_rows": null,
            "grid_column": null,
            "grid_gap": null,
            "grid_row": null,
            "grid_template_areas": null,
            "grid_template_columns": null,
            "grid_template_rows": null,
            "height": null,
            "justify_content": null,
            "justify_items": null,
            "left": null,
            "margin": null,
            "max_height": null,
            "max_width": null,
            "min_height": null,
            "min_width": null,
            "object_fit": null,
            "object_position": null,
            "order": null,
            "overflow": null,
            "overflow_x": null,
            "overflow_y": null,
            "padding": null,
            "right": null,
            "top": null,
            "visibility": null,
            "width": null
          }
        },
        "68aca9151a0a4005843a3fc4576f03ff": {
          "model_module": "@jupyter-widgets/controls",
          "model_name": "DescriptionStyleModel",
          "model_module_version": "1.5.0",
          "state": {
            "_model_module": "@jupyter-widgets/controls",
            "_model_module_version": "1.5.0",
            "_model_name": "DescriptionStyleModel",
            "_view_count": null,
            "_view_module": "@jupyter-widgets/base",
            "_view_module_version": "1.2.0",
            "_view_name": "StyleView",
            "description_width": ""
          }
        },
        "fcbc856688ee45619b97b6c93996fc8b": {
          "model_module": "@jupyter-widgets/controls",
          "model_name": "HBoxModel",
          "model_module_version": "1.5.0",
          "state": {
            "_dom_classes": [],
            "_model_module": "@jupyter-widgets/controls",
            "_model_module_version": "1.5.0",
            "_model_name": "HBoxModel",
            "_view_count": null,
            "_view_module": "@jupyter-widgets/controls",
            "_view_module_version": "1.5.0",
            "_view_name": "HBoxView",
            "box_style": "",
            "children": [
              "IPY_MODEL_d0b7bc64e2184238bd77de12c6cf3a9f",
              "IPY_MODEL_5d573d448a624958a62899dead66452d",
              "IPY_MODEL_b37fa73a1453408ea95dfea7dde4f043"
            ],
            "layout": "IPY_MODEL_f51ab672b9b440f9a3dc395d36cc2e9f"
          }
        },
        "d0b7bc64e2184238bd77de12c6cf3a9f": {
          "model_module": "@jupyter-widgets/controls",
          "model_name": "HTMLModel",
          "model_module_version": "1.5.0",
          "state": {
            "_dom_classes": [],
            "_model_module": "@jupyter-widgets/controls",
            "_model_module_version": "1.5.0",
            "_model_name": "HTMLModel",
            "_view_count": null,
            "_view_module": "@jupyter-widgets/controls",
            "_view_module_version": "1.5.0",
            "_view_name": "HTMLView",
            "description": "",
            "description_tooltip": null,
            "layout": "IPY_MODEL_8ca2dc4afcbb44489ee3be29d78f302a",
            "placeholder": "​",
            "style": "IPY_MODEL_dc6aa7411e8c490dbf22e4d0eb5b4e88",
            "value": "sentence_bert_config.json: 100%"
          }
        },
        "5d573d448a624958a62899dead66452d": {
          "model_module": "@jupyter-widgets/controls",
          "model_name": "FloatProgressModel",
          "model_module_version": "1.5.0",
          "state": {
            "_dom_classes": [],
            "_model_module": "@jupyter-widgets/controls",
            "_model_module_version": "1.5.0",
            "_model_name": "FloatProgressModel",
            "_view_count": null,
            "_view_module": "@jupyter-widgets/controls",
            "_view_module_version": "1.5.0",
            "_view_name": "ProgressView",
            "bar_style": "success",
            "description": "",
            "description_tooltip": null,
            "layout": "IPY_MODEL_d4add6344d114df295bde547fd943707",
            "max": 52,
            "min": 0,
            "orientation": "horizontal",
            "style": "IPY_MODEL_fb4303dfde68479e8aa0e6b08da52502",
            "value": 52
          }
        },
        "b37fa73a1453408ea95dfea7dde4f043": {
          "model_module": "@jupyter-widgets/controls",
          "model_name": "HTMLModel",
          "model_module_version": "1.5.0",
          "state": {
            "_dom_classes": [],
            "_model_module": "@jupyter-widgets/controls",
            "_model_module_version": "1.5.0",
            "_model_name": "HTMLModel",
            "_view_count": null,
            "_view_module": "@jupyter-widgets/controls",
            "_view_module_version": "1.5.0",
            "_view_name": "HTMLView",
            "description": "",
            "description_tooltip": null,
            "layout": "IPY_MODEL_0bb6a82c0f064026b4d075a1fc897801",
            "placeholder": "​",
            "style": "IPY_MODEL_e4ff033e4edc431aadab48cf961b37b5",
            "value": " 52.0/52.0 [00:00&lt;00:00, 4.66kB/s]"
          }
        },
        "f51ab672b9b440f9a3dc395d36cc2e9f": {
          "model_module": "@jupyter-widgets/base",
          "model_name": "LayoutModel",
          "model_module_version": "1.2.0",
          "state": {
            "_model_module": "@jupyter-widgets/base",
            "_model_module_version": "1.2.0",
            "_model_name": "LayoutModel",
            "_view_count": null,
            "_view_module": "@jupyter-widgets/base",
            "_view_module_version": "1.2.0",
            "_view_name": "LayoutView",
            "align_content": null,
            "align_items": null,
            "align_self": null,
            "border": null,
            "bottom": null,
            "display": null,
            "flex": null,
            "flex_flow": null,
            "grid_area": null,
            "grid_auto_columns": null,
            "grid_auto_flow": null,
            "grid_auto_rows": null,
            "grid_column": null,
            "grid_gap": null,
            "grid_row": null,
            "grid_template_areas": null,
            "grid_template_columns": null,
            "grid_template_rows": null,
            "height": null,
            "justify_content": null,
            "justify_items": null,
            "left": null,
            "margin": null,
            "max_height": null,
            "max_width": null,
            "min_height": null,
            "min_width": null,
            "object_fit": null,
            "object_position": null,
            "order": null,
            "overflow": null,
            "overflow_x": null,
            "overflow_y": null,
            "padding": null,
            "right": null,
            "top": null,
            "visibility": null,
            "width": null
          }
        },
        "8ca2dc4afcbb44489ee3be29d78f302a": {
          "model_module": "@jupyter-widgets/base",
          "model_name": "LayoutModel",
          "model_module_version": "1.2.0",
          "state": {
            "_model_module": "@jupyter-widgets/base",
            "_model_module_version": "1.2.0",
            "_model_name": "LayoutModel",
            "_view_count": null,
            "_view_module": "@jupyter-widgets/base",
            "_view_module_version": "1.2.0",
            "_view_name": "LayoutView",
            "align_content": null,
            "align_items": null,
            "align_self": null,
            "border": null,
            "bottom": null,
            "display": null,
            "flex": null,
            "flex_flow": null,
            "grid_area": null,
            "grid_auto_columns": null,
            "grid_auto_flow": null,
            "grid_auto_rows": null,
            "grid_column": null,
            "grid_gap": null,
            "grid_row": null,
            "grid_template_areas": null,
            "grid_template_columns": null,
            "grid_template_rows": null,
            "height": null,
            "justify_content": null,
            "justify_items": null,
            "left": null,
            "margin": null,
            "max_height": null,
            "max_width": null,
            "min_height": null,
            "min_width": null,
            "object_fit": null,
            "object_position": null,
            "order": null,
            "overflow": null,
            "overflow_x": null,
            "overflow_y": null,
            "padding": null,
            "right": null,
            "top": null,
            "visibility": null,
            "width": null
          }
        },
        "dc6aa7411e8c490dbf22e4d0eb5b4e88": {
          "model_module": "@jupyter-widgets/controls",
          "model_name": "DescriptionStyleModel",
          "model_module_version": "1.5.0",
          "state": {
            "_model_module": "@jupyter-widgets/controls",
            "_model_module_version": "1.5.0",
            "_model_name": "DescriptionStyleModel",
            "_view_count": null,
            "_view_module": "@jupyter-widgets/base",
            "_view_module_version": "1.2.0",
            "_view_name": "StyleView",
            "description_width": ""
          }
        },
        "d4add6344d114df295bde547fd943707": {
          "model_module": "@jupyter-widgets/base",
          "model_name": "LayoutModel",
          "model_module_version": "1.2.0",
          "state": {
            "_model_module": "@jupyter-widgets/base",
            "_model_module_version": "1.2.0",
            "_model_name": "LayoutModel",
            "_view_count": null,
            "_view_module": "@jupyter-widgets/base",
            "_view_module_version": "1.2.0",
            "_view_name": "LayoutView",
            "align_content": null,
            "align_items": null,
            "align_self": null,
            "border": null,
            "bottom": null,
            "display": null,
            "flex": null,
            "flex_flow": null,
            "grid_area": null,
            "grid_auto_columns": null,
            "grid_auto_flow": null,
            "grid_auto_rows": null,
            "grid_column": null,
            "grid_gap": null,
            "grid_row": null,
            "grid_template_areas": null,
            "grid_template_columns": null,
            "grid_template_rows": null,
            "height": null,
            "justify_content": null,
            "justify_items": null,
            "left": null,
            "margin": null,
            "max_height": null,
            "max_width": null,
            "min_height": null,
            "min_width": null,
            "object_fit": null,
            "object_position": null,
            "order": null,
            "overflow": null,
            "overflow_x": null,
            "overflow_y": null,
            "padding": null,
            "right": null,
            "top": null,
            "visibility": null,
            "width": null
          }
        },
        "fb4303dfde68479e8aa0e6b08da52502": {
          "model_module": "@jupyter-widgets/controls",
          "model_name": "ProgressStyleModel",
          "model_module_version": "1.5.0",
          "state": {
            "_model_module": "@jupyter-widgets/controls",
            "_model_module_version": "1.5.0",
            "_model_name": "ProgressStyleModel",
            "_view_count": null,
            "_view_module": "@jupyter-widgets/base",
            "_view_module_version": "1.2.0",
            "_view_name": "StyleView",
            "bar_color": null,
            "description_width": ""
          }
        },
        "0bb6a82c0f064026b4d075a1fc897801": {
          "model_module": "@jupyter-widgets/base",
          "model_name": "LayoutModel",
          "model_module_version": "1.2.0",
          "state": {
            "_model_module": "@jupyter-widgets/base",
            "_model_module_version": "1.2.0",
            "_model_name": "LayoutModel",
            "_view_count": null,
            "_view_module": "@jupyter-widgets/base",
            "_view_module_version": "1.2.0",
            "_view_name": "LayoutView",
            "align_content": null,
            "align_items": null,
            "align_self": null,
            "border": null,
            "bottom": null,
            "display": null,
            "flex": null,
            "flex_flow": null,
            "grid_area": null,
            "grid_auto_columns": null,
            "grid_auto_flow": null,
            "grid_auto_rows": null,
            "grid_column": null,
            "grid_gap": null,
            "grid_row": null,
            "grid_template_areas": null,
            "grid_template_columns": null,
            "grid_template_rows": null,
            "height": null,
            "justify_content": null,
            "justify_items": null,
            "left": null,
            "margin": null,
            "max_height": null,
            "max_width": null,
            "min_height": null,
            "min_width": null,
            "object_fit": null,
            "object_position": null,
            "order": null,
            "overflow": null,
            "overflow_x": null,
            "overflow_y": null,
            "padding": null,
            "right": null,
            "top": null,
            "visibility": null,
            "width": null
          }
        },
        "e4ff033e4edc431aadab48cf961b37b5": {
          "model_module": "@jupyter-widgets/controls",
          "model_name": "DescriptionStyleModel",
          "model_module_version": "1.5.0",
          "state": {
            "_model_module": "@jupyter-widgets/controls",
            "_model_module_version": "1.5.0",
            "_model_name": "DescriptionStyleModel",
            "_view_count": null,
            "_view_module": "@jupyter-widgets/base",
            "_view_module_version": "1.2.0",
            "_view_name": "StyleView",
            "description_width": ""
          }
        },
        "b239fb6f55cd4ba7b7abd0f7f35f012a": {
          "model_module": "@jupyter-widgets/controls",
          "model_name": "HBoxModel",
          "model_module_version": "1.5.0",
          "state": {
            "_dom_classes": [],
            "_model_module": "@jupyter-widgets/controls",
            "_model_module_version": "1.5.0",
            "_model_name": "HBoxModel",
            "_view_count": null,
            "_view_module": "@jupyter-widgets/controls",
            "_view_module_version": "1.5.0",
            "_view_name": "HBoxView",
            "box_style": "",
            "children": [
              "IPY_MODEL_223b4040683c44f081def6bb7a5eddc1",
              "IPY_MODEL_556b241e821943a6a871598e2defb171",
              "IPY_MODEL_adcb4f696a4e4899acd0808534078439"
            ],
            "layout": "IPY_MODEL_31863f171bc54b21982dfd580cb7bf32"
          }
        },
        "223b4040683c44f081def6bb7a5eddc1": {
          "model_module": "@jupyter-widgets/controls",
          "model_name": "HTMLModel",
          "model_module_version": "1.5.0",
          "state": {
            "_dom_classes": [],
            "_model_module": "@jupyter-widgets/controls",
            "_model_module_version": "1.5.0",
            "_model_name": "HTMLModel",
            "_view_count": null,
            "_view_module": "@jupyter-widgets/controls",
            "_view_module_version": "1.5.0",
            "_view_name": "HTMLView",
            "description": "",
            "description_tooltip": null,
            "layout": "IPY_MODEL_72c7a6d7db15407ba26090e0ab490840",
            "placeholder": "​",
            "style": "IPY_MODEL_36c4b22eb7c04251b63602555b2a3907",
            "value": "config.json: 100%"
          }
        },
        "556b241e821943a6a871598e2defb171": {
          "model_module": "@jupyter-widgets/controls",
          "model_name": "FloatProgressModel",
          "model_module_version": "1.5.0",
          "state": {
            "_dom_classes": [],
            "_model_module": "@jupyter-widgets/controls",
            "_model_module_version": "1.5.0",
            "_model_name": "FloatProgressModel",
            "_view_count": null,
            "_view_module": "@jupyter-widgets/controls",
            "_view_module_version": "1.5.0",
            "_view_name": "ProgressView",
            "bar_style": "success",
            "description": "",
            "description_tooltip": null,
            "layout": "IPY_MODEL_cfa7da243676407fb0485e715827e21e",
            "max": 743,
            "min": 0,
            "orientation": "horizontal",
            "style": "IPY_MODEL_a75a2e48a619406b8d7155f69f2dbb7d",
            "value": 743
          }
        },
        "adcb4f696a4e4899acd0808534078439": {
          "model_module": "@jupyter-widgets/controls",
          "model_name": "HTMLModel",
          "model_module_version": "1.5.0",
          "state": {
            "_dom_classes": [],
            "_model_module": "@jupyter-widgets/controls",
            "_model_module_version": "1.5.0",
            "_model_name": "HTMLModel",
            "_view_count": null,
            "_view_module": "@jupyter-widgets/controls",
            "_view_module_version": "1.5.0",
            "_view_name": "HTMLView",
            "description": "",
            "description_tooltip": null,
            "layout": "IPY_MODEL_f37af741cc6845529172c19a5afeebce",
            "placeholder": "​",
            "style": "IPY_MODEL_645ec68fb3534c7b8ef477eca7a0c047",
            "value": " 743/743 [00:00&lt;00:00, 63.1kB/s]"
          }
        },
        "31863f171bc54b21982dfd580cb7bf32": {
          "model_module": "@jupyter-widgets/base",
          "model_name": "LayoutModel",
          "model_module_version": "1.2.0",
          "state": {
            "_model_module": "@jupyter-widgets/base",
            "_model_module_version": "1.2.0",
            "_model_name": "LayoutModel",
            "_view_count": null,
            "_view_module": "@jupyter-widgets/base",
            "_view_module_version": "1.2.0",
            "_view_name": "LayoutView",
            "align_content": null,
            "align_items": null,
            "align_self": null,
            "border": null,
            "bottom": null,
            "display": null,
            "flex": null,
            "flex_flow": null,
            "grid_area": null,
            "grid_auto_columns": null,
            "grid_auto_flow": null,
            "grid_auto_rows": null,
            "grid_column": null,
            "grid_gap": null,
            "grid_row": null,
            "grid_template_areas": null,
            "grid_template_columns": null,
            "grid_template_rows": null,
            "height": null,
            "justify_content": null,
            "justify_items": null,
            "left": null,
            "margin": null,
            "max_height": null,
            "max_width": null,
            "min_height": null,
            "min_width": null,
            "object_fit": null,
            "object_position": null,
            "order": null,
            "overflow": null,
            "overflow_x": null,
            "overflow_y": null,
            "padding": null,
            "right": null,
            "top": null,
            "visibility": null,
            "width": null
          }
        },
        "72c7a6d7db15407ba26090e0ab490840": {
          "model_module": "@jupyter-widgets/base",
          "model_name": "LayoutModel",
          "model_module_version": "1.2.0",
          "state": {
            "_model_module": "@jupyter-widgets/base",
            "_model_module_version": "1.2.0",
            "_model_name": "LayoutModel",
            "_view_count": null,
            "_view_module": "@jupyter-widgets/base",
            "_view_module_version": "1.2.0",
            "_view_name": "LayoutView",
            "align_content": null,
            "align_items": null,
            "align_self": null,
            "border": null,
            "bottom": null,
            "display": null,
            "flex": null,
            "flex_flow": null,
            "grid_area": null,
            "grid_auto_columns": null,
            "grid_auto_flow": null,
            "grid_auto_rows": null,
            "grid_column": null,
            "grid_gap": null,
            "grid_row": null,
            "grid_template_areas": null,
            "grid_template_columns": null,
            "grid_template_rows": null,
            "height": null,
            "justify_content": null,
            "justify_items": null,
            "left": null,
            "margin": null,
            "max_height": null,
            "max_width": null,
            "min_height": null,
            "min_width": null,
            "object_fit": null,
            "object_position": null,
            "order": null,
            "overflow": null,
            "overflow_x": null,
            "overflow_y": null,
            "padding": null,
            "right": null,
            "top": null,
            "visibility": null,
            "width": null
          }
        },
        "36c4b22eb7c04251b63602555b2a3907": {
          "model_module": "@jupyter-widgets/controls",
          "model_name": "DescriptionStyleModel",
          "model_module_version": "1.5.0",
          "state": {
            "_model_module": "@jupyter-widgets/controls",
            "_model_module_version": "1.5.0",
            "_model_name": "DescriptionStyleModel",
            "_view_count": null,
            "_view_module": "@jupyter-widgets/base",
            "_view_module_version": "1.2.0",
            "_view_name": "StyleView",
            "description_width": ""
          }
        },
        "cfa7da243676407fb0485e715827e21e": {
          "model_module": "@jupyter-widgets/base",
          "model_name": "LayoutModel",
          "model_module_version": "1.2.0",
          "state": {
            "_model_module": "@jupyter-widgets/base",
            "_model_module_version": "1.2.0",
            "_model_name": "LayoutModel",
            "_view_count": null,
            "_view_module": "@jupyter-widgets/base",
            "_view_module_version": "1.2.0",
            "_view_name": "LayoutView",
            "align_content": null,
            "align_items": null,
            "align_self": null,
            "border": null,
            "bottom": null,
            "display": null,
            "flex": null,
            "flex_flow": null,
            "grid_area": null,
            "grid_auto_columns": null,
            "grid_auto_flow": null,
            "grid_auto_rows": null,
            "grid_column": null,
            "grid_gap": null,
            "grid_row": null,
            "grid_template_areas": null,
            "grid_template_columns": null,
            "grid_template_rows": null,
            "height": null,
            "justify_content": null,
            "justify_items": null,
            "left": null,
            "margin": null,
            "max_height": null,
            "max_width": null,
            "min_height": null,
            "min_width": null,
            "object_fit": null,
            "object_position": null,
            "order": null,
            "overflow": null,
            "overflow_x": null,
            "overflow_y": null,
            "padding": null,
            "right": null,
            "top": null,
            "visibility": null,
            "width": null
          }
        },
        "a75a2e48a619406b8d7155f69f2dbb7d": {
          "model_module": "@jupyter-widgets/controls",
          "model_name": "ProgressStyleModel",
          "model_module_version": "1.5.0",
          "state": {
            "_model_module": "@jupyter-widgets/controls",
            "_model_module_version": "1.5.0",
            "_model_name": "ProgressStyleModel",
            "_view_count": null,
            "_view_module": "@jupyter-widgets/base",
            "_view_module_version": "1.2.0",
            "_view_name": "StyleView",
            "bar_color": null,
            "description_width": ""
          }
        },
        "f37af741cc6845529172c19a5afeebce": {
          "model_module": "@jupyter-widgets/base",
          "model_name": "LayoutModel",
          "model_module_version": "1.2.0",
          "state": {
            "_model_module": "@jupyter-widgets/base",
            "_model_module_version": "1.2.0",
            "_model_name": "LayoutModel",
            "_view_count": null,
            "_view_module": "@jupyter-widgets/base",
            "_view_module_version": "1.2.0",
            "_view_name": "LayoutView",
            "align_content": null,
            "align_items": null,
            "align_self": null,
            "border": null,
            "bottom": null,
            "display": null,
            "flex": null,
            "flex_flow": null,
            "grid_area": null,
            "grid_auto_columns": null,
            "grid_auto_flow": null,
            "grid_auto_rows": null,
            "grid_column": null,
            "grid_gap": null,
            "grid_row": null,
            "grid_template_areas": null,
            "grid_template_columns": null,
            "grid_template_rows": null,
            "height": null,
            "justify_content": null,
            "justify_items": null,
            "left": null,
            "margin": null,
            "max_height": null,
            "max_width": null,
            "min_height": null,
            "min_width": null,
            "object_fit": null,
            "object_position": null,
            "order": null,
            "overflow": null,
            "overflow_x": null,
            "overflow_y": null,
            "padding": null,
            "right": null,
            "top": null,
            "visibility": null,
            "width": null
          }
        },
        "645ec68fb3534c7b8ef477eca7a0c047": {
          "model_module": "@jupyter-widgets/controls",
          "model_name": "DescriptionStyleModel",
          "model_module_version": "1.5.0",
          "state": {
            "_model_module": "@jupyter-widgets/controls",
            "_model_module_version": "1.5.0",
            "_model_name": "DescriptionStyleModel",
            "_view_count": null,
            "_view_module": "@jupyter-widgets/base",
            "_view_module_version": "1.2.0",
            "_view_name": "StyleView",
            "description_width": ""
          }
        },
        "684b3b57f6fb499489c22e7097f27457": {
          "model_module": "@jupyter-widgets/controls",
          "model_name": "HBoxModel",
          "model_module_version": "1.5.0",
          "state": {
            "_dom_classes": [],
            "_model_module": "@jupyter-widgets/controls",
            "_model_module_version": "1.5.0",
            "_model_name": "HBoxModel",
            "_view_count": null,
            "_view_module": "@jupyter-widgets/controls",
            "_view_module_version": "1.5.0",
            "_view_name": "HBoxView",
            "box_style": "",
            "children": [
              "IPY_MODEL_1028de8e3a694d008d654b3e548ae569",
              "IPY_MODEL_db5d62bb6b28468087e4e0dc25d818d4",
              "IPY_MODEL_3313aee224fa49a7b76e912372261027"
            ],
            "layout": "IPY_MODEL_41c9e04262f949afbc1b6010436d2f68"
          }
        },
        "1028de8e3a694d008d654b3e548ae569": {
          "model_module": "@jupyter-widgets/controls",
          "model_name": "HTMLModel",
          "model_module_version": "1.5.0",
          "state": {
            "_dom_classes": [],
            "_model_module": "@jupyter-widgets/controls",
            "_model_module_version": "1.5.0",
            "_model_name": "HTMLModel",
            "_view_count": null,
            "_view_module": "@jupyter-widgets/controls",
            "_view_module_version": "1.5.0",
            "_view_name": "HTMLView",
            "description": "",
            "description_tooltip": null,
            "layout": "IPY_MODEL_579a12e02b264109a65c0b7c0bced96b",
            "placeholder": "​",
            "style": "IPY_MODEL_491b9b0403d547d78b0703b189d4c53e",
            "value": "model.safetensors: 100%"
          }
        },
        "db5d62bb6b28468087e4e0dc25d818d4": {
          "model_module": "@jupyter-widgets/controls",
          "model_name": "FloatProgressModel",
          "model_module_version": "1.5.0",
          "state": {
            "_dom_classes": [],
            "_model_module": "@jupyter-widgets/controls",
            "_model_module_version": "1.5.0",
            "_model_name": "FloatProgressModel",
            "_view_count": null,
            "_view_module": "@jupyter-widgets/controls",
            "_view_module_version": "1.5.0",
            "_view_name": "ProgressView",
            "bar_style": "success",
            "description": "",
            "description_tooltip": null,
            "layout": "IPY_MODEL_d6de4d79608f4b3cbe06f2f5cdf3a3ef",
            "max": 133466304,
            "min": 0,
            "orientation": "horizontal",
            "style": "IPY_MODEL_372f5f8959314d4d994ff1c7889cea57",
            "value": 133466304
          }
        },
        "3313aee224fa49a7b76e912372261027": {
          "model_module": "@jupyter-widgets/controls",
          "model_name": "HTMLModel",
          "model_module_version": "1.5.0",
          "state": {
            "_dom_classes": [],
            "_model_module": "@jupyter-widgets/controls",
            "_model_module_version": "1.5.0",
            "_model_name": "HTMLModel",
            "_view_count": null,
            "_view_module": "@jupyter-widgets/controls",
            "_view_module_version": "1.5.0",
            "_view_name": "HTMLView",
            "description": "",
            "description_tooltip": null,
            "layout": "IPY_MODEL_4d5ae4bd2bda48acbfcf913676b8f004",
            "placeholder": "​",
            "style": "IPY_MODEL_baf2d6fc410c460a997ed2a477a7c5fa",
            "value": " 133M/133M [00:00&lt;00:00, 187MB/s]"
          }
        },
        "41c9e04262f949afbc1b6010436d2f68": {
          "model_module": "@jupyter-widgets/base",
          "model_name": "LayoutModel",
          "model_module_version": "1.2.0",
          "state": {
            "_model_module": "@jupyter-widgets/base",
            "_model_module_version": "1.2.0",
            "_model_name": "LayoutModel",
            "_view_count": null,
            "_view_module": "@jupyter-widgets/base",
            "_view_module_version": "1.2.0",
            "_view_name": "LayoutView",
            "align_content": null,
            "align_items": null,
            "align_self": null,
            "border": null,
            "bottom": null,
            "display": null,
            "flex": null,
            "flex_flow": null,
            "grid_area": null,
            "grid_auto_columns": null,
            "grid_auto_flow": null,
            "grid_auto_rows": null,
            "grid_column": null,
            "grid_gap": null,
            "grid_row": null,
            "grid_template_areas": null,
            "grid_template_columns": null,
            "grid_template_rows": null,
            "height": null,
            "justify_content": null,
            "justify_items": null,
            "left": null,
            "margin": null,
            "max_height": null,
            "max_width": null,
            "min_height": null,
            "min_width": null,
            "object_fit": null,
            "object_position": null,
            "order": null,
            "overflow": null,
            "overflow_x": null,
            "overflow_y": null,
            "padding": null,
            "right": null,
            "top": null,
            "visibility": null,
            "width": null
          }
        },
        "579a12e02b264109a65c0b7c0bced96b": {
          "model_module": "@jupyter-widgets/base",
          "model_name": "LayoutModel",
          "model_module_version": "1.2.0",
          "state": {
            "_model_module": "@jupyter-widgets/base",
            "_model_module_version": "1.2.0",
            "_model_name": "LayoutModel",
            "_view_count": null,
            "_view_module": "@jupyter-widgets/base",
            "_view_module_version": "1.2.0",
            "_view_name": "LayoutView",
            "align_content": null,
            "align_items": null,
            "align_self": null,
            "border": null,
            "bottom": null,
            "display": null,
            "flex": null,
            "flex_flow": null,
            "grid_area": null,
            "grid_auto_columns": null,
            "grid_auto_flow": null,
            "grid_auto_rows": null,
            "grid_column": null,
            "grid_gap": null,
            "grid_row": null,
            "grid_template_areas": null,
            "grid_template_columns": null,
            "grid_template_rows": null,
            "height": null,
            "justify_content": null,
            "justify_items": null,
            "left": null,
            "margin": null,
            "max_height": null,
            "max_width": null,
            "min_height": null,
            "min_width": null,
            "object_fit": null,
            "object_position": null,
            "order": null,
            "overflow": null,
            "overflow_x": null,
            "overflow_y": null,
            "padding": null,
            "right": null,
            "top": null,
            "visibility": null,
            "width": null
          }
        },
        "491b9b0403d547d78b0703b189d4c53e": {
          "model_module": "@jupyter-widgets/controls",
          "model_name": "DescriptionStyleModel",
          "model_module_version": "1.5.0",
          "state": {
            "_model_module": "@jupyter-widgets/controls",
            "_model_module_version": "1.5.0",
            "_model_name": "DescriptionStyleModel",
            "_view_count": null,
            "_view_module": "@jupyter-widgets/base",
            "_view_module_version": "1.2.0",
            "_view_name": "StyleView",
            "description_width": ""
          }
        },
        "d6de4d79608f4b3cbe06f2f5cdf3a3ef": {
          "model_module": "@jupyter-widgets/base",
          "model_name": "LayoutModel",
          "model_module_version": "1.2.0",
          "state": {
            "_model_module": "@jupyter-widgets/base",
            "_model_module_version": "1.2.0",
            "_model_name": "LayoutModel",
            "_view_count": null,
            "_view_module": "@jupyter-widgets/base",
            "_view_module_version": "1.2.0",
            "_view_name": "LayoutView",
            "align_content": null,
            "align_items": null,
            "align_self": null,
            "border": null,
            "bottom": null,
            "display": null,
            "flex": null,
            "flex_flow": null,
            "grid_area": null,
            "grid_auto_columns": null,
            "grid_auto_flow": null,
            "grid_auto_rows": null,
            "grid_column": null,
            "grid_gap": null,
            "grid_row": null,
            "grid_template_areas": null,
            "grid_template_columns": null,
            "grid_template_rows": null,
            "height": null,
            "justify_content": null,
            "justify_items": null,
            "left": null,
            "margin": null,
            "max_height": null,
            "max_width": null,
            "min_height": null,
            "min_width": null,
            "object_fit": null,
            "object_position": null,
            "order": null,
            "overflow": null,
            "overflow_x": null,
            "overflow_y": null,
            "padding": null,
            "right": null,
            "top": null,
            "visibility": null,
            "width": null
          }
        },
        "372f5f8959314d4d994ff1c7889cea57": {
          "model_module": "@jupyter-widgets/controls",
          "model_name": "ProgressStyleModel",
          "model_module_version": "1.5.0",
          "state": {
            "_model_module": "@jupyter-widgets/controls",
            "_model_module_version": "1.5.0",
            "_model_name": "ProgressStyleModel",
            "_view_count": null,
            "_view_module": "@jupyter-widgets/base",
            "_view_module_version": "1.2.0",
            "_view_name": "StyleView",
            "bar_color": null,
            "description_width": ""
          }
        },
        "4d5ae4bd2bda48acbfcf913676b8f004": {
          "model_module": "@jupyter-widgets/base",
          "model_name": "LayoutModel",
          "model_module_version": "1.2.0",
          "state": {
            "_model_module": "@jupyter-widgets/base",
            "_model_module_version": "1.2.0",
            "_model_name": "LayoutModel",
            "_view_count": null,
            "_view_module": "@jupyter-widgets/base",
            "_view_module_version": "1.2.0",
            "_view_name": "LayoutView",
            "align_content": null,
            "align_items": null,
            "align_self": null,
            "border": null,
            "bottom": null,
            "display": null,
            "flex": null,
            "flex_flow": null,
            "grid_area": null,
            "grid_auto_columns": null,
            "grid_auto_flow": null,
            "grid_auto_rows": null,
            "grid_column": null,
            "grid_gap": null,
            "grid_row": null,
            "grid_template_areas": null,
            "grid_template_columns": null,
            "grid_template_rows": null,
            "height": null,
            "justify_content": null,
            "justify_items": null,
            "left": null,
            "margin": null,
            "max_height": null,
            "max_width": null,
            "min_height": null,
            "min_width": null,
            "object_fit": null,
            "object_position": null,
            "order": null,
            "overflow": null,
            "overflow_x": null,
            "overflow_y": null,
            "padding": null,
            "right": null,
            "top": null,
            "visibility": null,
            "width": null
          }
        },
        "baf2d6fc410c460a997ed2a477a7c5fa": {
          "model_module": "@jupyter-widgets/controls",
          "model_name": "DescriptionStyleModel",
          "model_module_version": "1.5.0",
          "state": {
            "_model_module": "@jupyter-widgets/controls",
            "_model_module_version": "1.5.0",
            "_model_name": "DescriptionStyleModel",
            "_view_count": null,
            "_view_module": "@jupyter-widgets/base",
            "_view_module_version": "1.2.0",
            "_view_name": "StyleView",
            "description_width": ""
          }
        },
        "1a794d2c4e834ca4ba6b394c80248473": {
          "model_module": "@jupyter-widgets/controls",
          "model_name": "HBoxModel",
          "model_module_version": "1.5.0",
          "state": {
            "_dom_classes": [],
            "_model_module": "@jupyter-widgets/controls",
            "_model_module_version": "1.5.0",
            "_model_name": "HBoxModel",
            "_view_count": null,
            "_view_module": "@jupyter-widgets/controls",
            "_view_module_version": "1.5.0",
            "_view_name": "HBoxView",
            "box_style": "",
            "children": [
              "IPY_MODEL_196958c7c9d44b24a7658b4a3edf7246",
              "IPY_MODEL_620b404808a849e680934afb2cfbb63f",
              "IPY_MODEL_cd3f172b09ae47de901691544f535feb"
            ],
            "layout": "IPY_MODEL_20e3ea1e954a4987bbcabcb7f9d2a070"
          }
        },
        "196958c7c9d44b24a7658b4a3edf7246": {
          "model_module": "@jupyter-widgets/controls",
          "model_name": "HTMLModel",
          "model_module_version": "1.5.0",
          "state": {
            "_dom_classes": [],
            "_model_module": "@jupyter-widgets/controls",
            "_model_module_version": "1.5.0",
            "_model_name": "HTMLModel",
            "_view_count": null,
            "_view_module": "@jupyter-widgets/controls",
            "_view_module_version": "1.5.0",
            "_view_name": "HTMLView",
            "description": "",
            "description_tooltip": null,
            "layout": "IPY_MODEL_245a8122462b4b78819ca9ef772babda",
            "placeholder": "​",
            "style": "IPY_MODEL_100be60ff4c84e75a8d429e6183c9d20",
            "value": "tokenizer_config.json: 100%"
          }
        },
        "620b404808a849e680934afb2cfbb63f": {
          "model_module": "@jupyter-widgets/controls",
          "model_name": "FloatProgressModel",
          "model_module_version": "1.5.0",
          "state": {
            "_dom_classes": [],
            "_model_module": "@jupyter-widgets/controls",
            "_model_module_version": "1.5.0",
            "_model_name": "FloatProgressModel",
            "_view_count": null,
            "_view_module": "@jupyter-widgets/controls",
            "_view_module_version": "1.5.0",
            "_view_name": "ProgressView",
            "bar_style": "success",
            "description": "",
            "description_tooltip": null,
            "layout": "IPY_MODEL_eaed3c57f8a947e9962bb3c5205695df",
            "max": 366,
            "min": 0,
            "orientation": "horizontal",
            "style": "IPY_MODEL_013250f184ab4a80be9591432a503821",
            "value": 366
          }
        },
        "cd3f172b09ae47de901691544f535feb": {
          "model_module": "@jupyter-widgets/controls",
          "model_name": "HTMLModel",
          "model_module_version": "1.5.0",
          "state": {
            "_dom_classes": [],
            "_model_module": "@jupyter-widgets/controls",
            "_model_module_version": "1.5.0",
            "_model_name": "HTMLModel",
            "_view_count": null,
            "_view_module": "@jupyter-widgets/controls",
            "_view_module_version": "1.5.0",
            "_view_name": "HTMLView",
            "description": "",
            "description_tooltip": null,
            "layout": "IPY_MODEL_bf74abf66c704818a30d89521e9a8f1f",
            "placeholder": "​",
            "style": "IPY_MODEL_8bee9decb15a47c0a676e2a63e807d02",
            "value": " 366/366 [00:00&lt;00:00, 20.2kB/s]"
          }
        },
        "20e3ea1e954a4987bbcabcb7f9d2a070": {
          "model_module": "@jupyter-widgets/base",
          "model_name": "LayoutModel",
          "model_module_version": "1.2.0",
          "state": {
            "_model_module": "@jupyter-widgets/base",
            "_model_module_version": "1.2.0",
            "_model_name": "LayoutModel",
            "_view_count": null,
            "_view_module": "@jupyter-widgets/base",
            "_view_module_version": "1.2.0",
            "_view_name": "LayoutView",
            "align_content": null,
            "align_items": null,
            "align_self": null,
            "border": null,
            "bottom": null,
            "display": null,
            "flex": null,
            "flex_flow": null,
            "grid_area": null,
            "grid_auto_columns": null,
            "grid_auto_flow": null,
            "grid_auto_rows": null,
            "grid_column": null,
            "grid_gap": null,
            "grid_row": null,
            "grid_template_areas": null,
            "grid_template_columns": null,
            "grid_template_rows": null,
            "height": null,
            "justify_content": null,
            "justify_items": null,
            "left": null,
            "margin": null,
            "max_height": null,
            "max_width": null,
            "min_height": null,
            "min_width": null,
            "object_fit": null,
            "object_position": null,
            "order": null,
            "overflow": null,
            "overflow_x": null,
            "overflow_y": null,
            "padding": null,
            "right": null,
            "top": null,
            "visibility": null,
            "width": null
          }
        },
        "245a8122462b4b78819ca9ef772babda": {
          "model_module": "@jupyter-widgets/base",
          "model_name": "LayoutModel",
          "model_module_version": "1.2.0",
          "state": {
            "_model_module": "@jupyter-widgets/base",
            "_model_module_version": "1.2.0",
            "_model_name": "LayoutModel",
            "_view_count": null,
            "_view_module": "@jupyter-widgets/base",
            "_view_module_version": "1.2.0",
            "_view_name": "LayoutView",
            "align_content": null,
            "align_items": null,
            "align_self": null,
            "border": null,
            "bottom": null,
            "display": null,
            "flex": null,
            "flex_flow": null,
            "grid_area": null,
            "grid_auto_columns": null,
            "grid_auto_flow": null,
            "grid_auto_rows": null,
            "grid_column": null,
            "grid_gap": null,
            "grid_row": null,
            "grid_template_areas": null,
            "grid_template_columns": null,
            "grid_template_rows": null,
            "height": null,
            "justify_content": null,
            "justify_items": null,
            "left": null,
            "margin": null,
            "max_height": null,
            "max_width": null,
            "min_height": null,
            "min_width": null,
            "object_fit": null,
            "object_position": null,
            "order": null,
            "overflow": null,
            "overflow_x": null,
            "overflow_y": null,
            "padding": null,
            "right": null,
            "top": null,
            "visibility": null,
            "width": null
          }
        },
        "100be60ff4c84e75a8d429e6183c9d20": {
          "model_module": "@jupyter-widgets/controls",
          "model_name": "DescriptionStyleModel",
          "model_module_version": "1.5.0",
          "state": {
            "_model_module": "@jupyter-widgets/controls",
            "_model_module_version": "1.5.0",
            "_model_name": "DescriptionStyleModel",
            "_view_count": null,
            "_view_module": "@jupyter-widgets/base",
            "_view_module_version": "1.2.0",
            "_view_name": "StyleView",
            "description_width": ""
          }
        },
        "eaed3c57f8a947e9962bb3c5205695df": {
          "model_module": "@jupyter-widgets/base",
          "model_name": "LayoutModel",
          "model_module_version": "1.2.0",
          "state": {
            "_model_module": "@jupyter-widgets/base",
            "_model_module_version": "1.2.0",
            "_model_name": "LayoutModel",
            "_view_count": null,
            "_view_module": "@jupyter-widgets/base",
            "_view_module_version": "1.2.0",
            "_view_name": "LayoutView",
            "align_content": null,
            "align_items": null,
            "align_self": null,
            "border": null,
            "bottom": null,
            "display": null,
            "flex": null,
            "flex_flow": null,
            "grid_area": null,
            "grid_auto_columns": null,
            "grid_auto_flow": null,
            "grid_auto_rows": null,
            "grid_column": null,
            "grid_gap": null,
            "grid_row": null,
            "grid_template_areas": null,
            "grid_template_columns": null,
            "grid_template_rows": null,
            "height": null,
            "justify_content": null,
            "justify_items": null,
            "left": null,
            "margin": null,
            "max_height": null,
            "max_width": null,
            "min_height": null,
            "min_width": null,
            "object_fit": null,
            "object_position": null,
            "order": null,
            "overflow": null,
            "overflow_x": null,
            "overflow_y": null,
            "padding": null,
            "right": null,
            "top": null,
            "visibility": null,
            "width": null
          }
        },
        "013250f184ab4a80be9591432a503821": {
          "model_module": "@jupyter-widgets/controls",
          "model_name": "ProgressStyleModel",
          "model_module_version": "1.5.0",
          "state": {
            "_model_module": "@jupyter-widgets/controls",
            "_model_module_version": "1.5.0",
            "_model_name": "ProgressStyleModel",
            "_view_count": null,
            "_view_module": "@jupyter-widgets/base",
            "_view_module_version": "1.2.0",
            "_view_name": "StyleView",
            "bar_color": null,
            "description_width": ""
          }
        },
        "bf74abf66c704818a30d89521e9a8f1f": {
          "model_module": "@jupyter-widgets/base",
          "model_name": "LayoutModel",
          "model_module_version": "1.2.0",
          "state": {
            "_model_module": "@jupyter-widgets/base",
            "_model_module_version": "1.2.0",
            "_model_name": "LayoutModel",
            "_view_count": null,
            "_view_module": "@jupyter-widgets/base",
            "_view_module_version": "1.2.0",
            "_view_name": "LayoutView",
            "align_content": null,
            "align_items": null,
            "align_self": null,
            "border": null,
            "bottom": null,
            "display": null,
            "flex": null,
            "flex_flow": null,
            "grid_area": null,
            "grid_auto_columns": null,
            "grid_auto_flow": null,
            "grid_auto_rows": null,
            "grid_column": null,
            "grid_gap": null,
            "grid_row": null,
            "grid_template_areas": null,
            "grid_template_columns": null,
            "grid_template_rows": null,
            "height": null,
            "justify_content": null,
            "justify_items": null,
            "left": null,
            "margin": null,
            "max_height": null,
            "max_width": null,
            "min_height": null,
            "min_width": null,
            "object_fit": null,
            "object_position": null,
            "order": null,
            "overflow": null,
            "overflow_x": null,
            "overflow_y": null,
            "padding": null,
            "right": null,
            "top": null,
            "visibility": null,
            "width": null
          }
        },
        "8bee9decb15a47c0a676e2a63e807d02": {
          "model_module": "@jupyter-widgets/controls",
          "model_name": "DescriptionStyleModel",
          "model_module_version": "1.5.0",
          "state": {
            "_model_module": "@jupyter-widgets/controls",
            "_model_module_version": "1.5.0",
            "_model_name": "DescriptionStyleModel",
            "_view_count": null,
            "_view_module": "@jupyter-widgets/base",
            "_view_module_version": "1.2.0",
            "_view_name": "StyleView",
            "description_width": ""
          }
        },
        "052f45d63ab846c8bf28d589d3b21fb9": {
          "model_module": "@jupyter-widgets/controls",
          "model_name": "HBoxModel",
          "model_module_version": "1.5.0",
          "state": {
            "_dom_classes": [],
            "_model_module": "@jupyter-widgets/controls",
            "_model_module_version": "1.5.0",
            "_model_name": "HBoxModel",
            "_view_count": null,
            "_view_module": "@jupyter-widgets/controls",
            "_view_module_version": "1.5.0",
            "_view_name": "HBoxView",
            "box_style": "",
            "children": [
              "IPY_MODEL_df38bc3632e442a3b98f7f3817d6d321",
              "IPY_MODEL_33c50d430081466594c6203038e44883",
              "IPY_MODEL_df881bb9df0a481a86c38d06cf3e89b3"
            ],
            "layout": "IPY_MODEL_7e22e90e931e4f4aac892cb9f34107b4"
          }
        },
        "df38bc3632e442a3b98f7f3817d6d321": {
          "model_module": "@jupyter-widgets/controls",
          "model_name": "HTMLModel",
          "model_module_version": "1.5.0",
          "state": {
            "_dom_classes": [],
            "_model_module": "@jupyter-widgets/controls",
            "_model_module_version": "1.5.0",
            "_model_name": "HTMLModel",
            "_view_count": null,
            "_view_module": "@jupyter-widgets/controls",
            "_view_module_version": "1.5.0",
            "_view_name": "HTMLView",
            "description": "",
            "description_tooltip": null,
            "layout": "IPY_MODEL_d17c5c947cce468d8a961d6d8cbd65c1",
            "placeholder": "​",
            "style": "IPY_MODEL_bbfa7a6b884b479d8ddf6661968391db",
            "value": "vocab.txt: "
          }
        },
        "33c50d430081466594c6203038e44883": {
          "model_module": "@jupyter-widgets/controls",
          "model_name": "FloatProgressModel",
          "model_module_version": "1.5.0",
          "state": {
            "_dom_classes": [],
            "_model_module": "@jupyter-widgets/controls",
            "_model_module_version": "1.5.0",
            "_model_name": "FloatProgressModel",
            "_view_count": null,
            "_view_module": "@jupyter-widgets/controls",
            "_view_module_version": "1.5.0",
            "_view_name": "ProgressView",
            "bar_style": "success",
            "description": "",
            "description_tooltip": null,
            "layout": "IPY_MODEL_77f8cd3de6a8463ea42123404c409f68",
            "max": 1,
            "min": 0,
            "orientation": "horizontal",
            "style": "IPY_MODEL_399ea555948b48b3944ec886cde9046a",
            "value": 1
          }
        },
        "df881bb9df0a481a86c38d06cf3e89b3": {
          "model_module": "@jupyter-widgets/controls",
          "model_name": "HTMLModel",
          "model_module_version": "1.5.0",
          "state": {
            "_dom_classes": [],
            "_model_module": "@jupyter-widgets/controls",
            "_model_module_version": "1.5.0",
            "_model_name": "HTMLModel",
            "_view_count": null,
            "_view_module": "@jupyter-widgets/controls",
            "_view_module_version": "1.5.0",
            "_view_name": "HTMLView",
            "description": "",
            "description_tooltip": null,
            "layout": "IPY_MODEL_51d6c160b92d44da9d2475a20fdeae94",
            "placeholder": "​",
            "style": "IPY_MODEL_3f9fd677553b4123a2d5eef44156a5e5",
            "value": " 232k/? [00:00&lt;00:00, 9.52MB/s]"
          }
        },
        "7e22e90e931e4f4aac892cb9f34107b4": {
          "model_module": "@jupyter-widgets/base",
          "model_name": "LayoutModel",
          "model_module_version": "1.2.0",
          "state": {
            "_model_module": "@jupyter-widgets/base",
            "_model_module_version": "1.2.0",
            "_model_name": "LayoutModel",
            "_view_count": null,
            "_view_module": "@jupyter-widgets/base",
            "_view_module_version": "1.2.0",
            "_view_name": "LayoutView",
            "align_content": null,
            "align_items": null,
            "align_self": null,
            "border": null,
            "bottom": null,
            "display": null,
            "flex": null,
            "flex_flow": null,
            "grid_area": null,
            "grid_auto_columns": null,
            "grid_auto_flow": null,
            "grid_auto_rows": null,
            "grid_column": null,
            "grid_gap": null,
            "grid_row": null,
            "grid_template_areas": null,
            "grid_template_columns": null,
            "grid_template_rows": null,
            "height": null,
            "justify_content": null,
            "justify_items": null,
            "left": null,
            "margin": null,
            "max_height": null,
            "max_width": null,
            "min_height": null,
            "min_width": null,
            "object_fit": null,
            "object_position": null,
            "order": null,
            "overflow": null,
            "overflow_x": null,
            "overflow_y": null,
            "padding": null,
            "right": null,
            "top": null,
            "visibility": null,
            "width": null
          }
        },
        "d17c5c947cce468d8a961d6d8cbd65c1": {
          "model_module": "@jupyter-widgets/base",
          "model_name": "LayoutModel",
          "model_module_version": "1.2.0",
          "state": {
            "_model_module": "@jupyter-widgets/base",
            "_model_module_version": "1.2.0",
            "_model_name": "LayoutModel",
            "_view_count": null,
            "_view_module": "@jupyter-widgets/base",
            "_view_module_version": "1.2.0",
            "_view_name": "LayoutView",
            "align_content": null,
            "align_items": null,
            "align_self": null,
            "border": null,
            "bottom": null,
            "display": null,
            "flex": null,
            "flex_flow": null,
            "grid_area": null,
            "grid_auto_columns": null,
            "grid_auto_flow": null,
            "grid_auto_rows": null,
            "grid_column": null,
            "grid_gap": null,
            "grid_row": null,
            "grid_template_areas": null,
            "grid_template_columns": null,
            "grid_template_rows": null,
            "height": null,
            "justify_content": null,
            "justify_items": null,
            "left": null,
            "margin": null,
            "max_height": null,
            "max_width": null,
            "min_height": null,
            "min_width": null,
            "object_fit": null,
            "object_position": null,
            "order": null,
            "overflow": null,
            "overflow_x": null,
            "overflow_y": null,
            "padding": null,
            "right": null,
            "top": null,
            "visibility": null,
            "width": null
          }
        },
        "bbfa7a6b884b479d8ddf6661968391db": {
          "model_module": "@jupyter-widgets/controls",
          "model_name": "DescriptionStyleModel",
          "model_module_version": "1.5.0",
          "state": {
            "_model_module": "@jupyter-widgets/controls",
            "_model_module_version": "1.5.0",
            "_model_name": "DescriptionStyleModel",
            "_view_count": null,
            "_view_module": "@jupyter-widgets/base",
            "_view_module_version": "1.2.0",
            "_view_name": "StyleView",
            "description_width": ""
          }
        },
        "77f8cd3de6a8463ea42123404c409f68": {
          "model_module": "@jupyter-widgets/base",
          "model_name": "LayoutModel",
          "model_module_version": "1.2.0",
          "state": {
            "_model_module": "@jupyter-widgets/base",
            "_model_module_version": "1.2.0",
            "_model_name": "LayoutModel",
            "_view_count": null,
            "_view_module": "@jupyter-widgets/base",
            "_view_module_version": "1.2.0",
            "_view_name": "LayoutView",
            "align_content": null,
            "align_items": null,
            "align_self": null,
            "border": null,
            "bottom": null,
            "display": null,
            "flex": null,
            "flex_flow": null,
            "grid_area": null,
            "grid_auto_columns": null,
            "grid_auto_flow": null,
            "grid_auto_rows": null,
            "grid_column": null,
            "grid_gap": null,
            "grid_row": null,
            "grid_template_areas": null,
            "grid_template_columns": null,
            "grid_template_rows": null,
            "height": null,
            "justify_content": null,
            "justify_items": null,
            "left": null,
            "margin": null,
            "max_height": null,
            "max_width": null,
            "min_height": null,
            "min_width": null,
            "object_fit": null,
            "object_position": null,
            "order": null,
            "overflow": null,
            "overflow_x": null,
            "overflow_y": null,
            "padding": null,
            "right": null,
            "top": null,
            "visibility": null,
            "width": "20px"
          }
        },
        "399ea555948b48b3944ec886cde9046a": {
          "model_module": "@jupyter-widgets/controls",
          "model_name": "ProgressStyleModel",
          "model_module_version": "1.5.0",
          "state": {
            "_model_module": "@jupyter-widgets/controls",
            "_model_module_version": "1.5.0",
            "_model_name": "ProgressStyleModel",
            "_view_count": null,
            "_view_module": "@jupyter-widgets/base",
            "_view_module_version": "1.2.0",
            "_view_name": "StyleView",
            "bar_color": null,
            "description_width": ""
          }
        },
        "51d6c160b92d44da9d2475a20fdeae94": {
          "model_module": "@jupyter-widgets/base",
          "model_name": "LayoutModel",
          "model_module_version": "1.2.0",
          "state": {
            "_model_module": "@jupyter-widgets/base",
            "_model_module_version": "1.2.0",
            "_model_name": "LayoutModel",
            "_view_count": null,
            "_view_module": "@jupyter-widgets/base",
            "_view_module_version": "1.2.0",
            "_view_name": "LayoutView",
            "align_content": null,
            "align_items": null,
            "align_self": null,
            "border": null,
            "bottom": null,
            "display": null,
            "flex": null,
            "flex_flow": null,
            "grid_area": null,
            "grid_auto_columns": null,
            "grid_auto_flow": null,
            "grid_auto_rows": null,
            "grid_column": null,
            "grid_gap": null,
            "grid_row": null,
            "grid_template_areas": null,
            "grid_template_columns": null,
            "grid_template_rows": null,
            "height": null,
            "justify_content": null,
            "justify_items": null,
            "left": null,
            "margin": null,
            "max_height": null,
            "max_width": null,
            "min_height": null,
            "min_width": null,
            "object_fit": null,
            "object_position": null,
            "order": null,
            "overflow": null,
            "overflow_x": null,
            "overflow_y": null,
            "padding": null,
            "right": null,
            "top": null,
            "visibility": null,
            "width": null
          }
        },
        "3f9fd677553b4123a2d5eef44156a5e5": {
          "model_module": "@jupyter-widgets/controls",
          "model_name": "DescriptionStyleModel",
          "model_module_version": "1.5.0",
          "state": {
            "_model_module": "@jupyter-widgets/controls",
            "_model_module_version": "1.5.0",
            "_model_name": "DescriptionStyleModel",
            "_view_count": null,
            "_view_module": "@jupyter-widgets/base",
            "_view_module_version": "1.2.0",
            "_view_name": "StyleView",
            "description_width": ""
          }
        },
        "7e7f12dea44a4630b28d909bd408a582": {
          "model_module": "@jupyter-widgets/controls",
          "model_name": "HBoxModel",
          "model_module_version": "1.5.0",
          "state": {
            "_dom_classes": [],
            "_model_module": "@jupyter-widgets/controls",
            "_model_module_version": "1.5.0",
            "_model_name": "HBoxModel",
            "_view_count": null,
            "_view_module": "@jupyter-widgets/controls",
            "_view_module_version": "1.5.0",
            "_view_name": "HBoxView",
            "box_style": "",
            "children": [
              "IPY_MODEL_6f5ef653253c4227818795c25b0d971a",
              "IPY_MODEL_a2e9f2af96e34b00b392b622281b281a",
              "IPY_MODEL_fa5a9004eb4046248f95df06f6703ce5"
            ],
            "layout": "IPY_MODEL_42861e42faaa4f5db95c6b6034a72ebb"
          }
        },
        "6f5ef653253c4227818795c25b0d971a": {
          "model_module": "@jupyter-widgets/controls",
          "model_name": "HTMLModel",
          "model_module_version": "1.5.0",
          "state": {
            "_dom_classes": [],
            "_model_module": "@jupyter-widgets/controls",
            "_model_module_version": "1.5.0",
            "_model_name": "HTMLModel",
            "_view_count": null,
            "_view_module": "@jupyter-widgets/controls",
            "_view_module_version": "1.5.0",
            "_view_name": "HTMLView",
            "description": "",
            "description_tooltip": null,
            "layout": "IPY_MODEL_66a4f617a7e24db684480fa2fc99cdc2",
            "placeholder": "​",
            "style": "IPY_MODEL_2df2b2b3b545495e94cf1f2d4831a26d",
            "value": "tokenizer.json: "
          }
        },
        "a2e9f2af96e34b00b392b622281b281a": {
          "model_module": "@jupyter-widgets/controls",
          "model_name": "FloatProgressModel",
          "model_module_version": "1.5.0",
          "state": {
            "_dom_classes": [],
            "_model_module": "@jupyter-widgets/controls",
            "_model_module_version": "1.5.0",
            "_model_name": "FloatProgressModel",
            "_view_count": null,
            "_view_module": "@jupyter-widgets/controls",
            "_view_module_version": "1.5.0",
            "_view_name": "ProgressView",
            "bar_style": "success",
            "description": "",
            "description_tooltip": null,
            "layout": "IPY_MODEL_314848b22bfa4b5d9eb1fdcfb70c5177",
            "max": 1,
            "min": 0,
            "orientation": "horizontal",
            "style": "IPY_MODEL_ed8428157e594d00a597d75170cf0682",
            "value": 1
          }
        },
        "fa5a9004eb4046248f95df06f6703ce5": {
          "model_module": "@jupyter-widgets/controls",
          "model_name": "HTMLModel",
          "model_module_version": "1.5.0",
          "state": {
            "_dom_classes": [],
            "_model_module": "@jupyter-widgets/controls",
            "_model_module_version": "1.5.0",
            "_model_name": "HTMLModel",
            "_view_count": null,
            "_view_module": "@jupyter-widgets/controls",
            "_view_module_version": "1.5.0",
            "_view_name": "HTMLView",
            "description": "",
            "description_tooltip": null,
            "layout": "IPY_MODEL_00574b7c81cd4710b5327c703f2910a7",
            "placeholder": "​",
            "style": "IPY_MODEL_4a646f26a0a8465188288f9188e60882",
            "value": " 711k/? [00:00&lt;00:00, 29.3MB/s]"
          }
        },
        "42861e42faaa4f5db95c6b6034a72ebb": {
          "model_module": "@jupyter-widgets/base",
          "model_name": "LayoutModel",
          "model_module_version": "1.2.0",
          "state": {
            "_model_module": "@jupyter-widgets/base",
            "_model_module_version": "1.2.0",
            "_model_name": "LayoutModel",
            "_view_count": null,
            "_view_module": "@jupyter-widgets/base",
            "_view_module_version": "1.2.0",
            "_view_name": "LayoutView",
            "align_content": null,
            "align_items": null,
            "align_self": null,
            "border": null,
            "bottom": null,
            "display": null,
            "flex": null,
            "flex_flow": null,
            "grid_area": null,
            "grid_auto_columns": null,
            "grid_auto_flow": null,
            "grid_auto_rows": null,
            "grid_column": null,
            "grid_gap": null,
            "grid_row": null,
            "grid_template_areas": null,
            "grid_template_columns": null,
            "grid_template_rows": null,
            "height": null,
            "justify_content": null,
            "justify_items": null,
            "left": null,
            "margin": null,
            "max_height": null,
            "max_width": null,
            "min_height": null,
            "min_width": null,
            "object_fit": null,
            "object_position": null,
            "order": null,
            "overflow": null,
            "overflow_x": null,
            "overflow_y": null,
            "padding": null,
            "right": null,
            "top": null,
            "visibility": null,
            "width": null
          }
        },
        "66a4f617a7e24db684480fa2fc99cdc2": {
          "model_module": "@jupyter-widgets/base",
          "model_name": "LayoutModel",
          "model_module_version": "1.2.0",
          "state": {
            "_model_module": "@jupyter-widgets/base",
            "_model_module_version": "1.2.0",
            "_model_name": "LayoutModel",
            "_view_count": null,
            "_view_module": "@jupyter-widgets/base",
            "_view_module_version": "1.2.0",
            "_view_name": "LayoutView",
            "align_content": null,
            "align_items": null,
            "align_self": null,
            "border": null,
            "bottom": null,
            "display": null,
            "flex": null,
            "flex_flow": null,
            "grid_area": null,
            "grid_auto_columns": null,
            "grid_auto_flow": null,
            "grid_auto_rows": null,
            "grid_column": null,
            "grid_gap": null,
            "grid_row": null,
            "grid_template_areas": null,
            "grid_template_columns": null,
            "grid_template_rows": null,
            "height": null,
            "justify_content": null,
            "justify_items": null,
            "left": null,
            "margin": null,
            "max_height": null,
            "max_width": null,
            "min_height": null,
            "min_width": null,
            "object_fit": null,
            "object_position": null,
            "order": null,
            "overflow": null,
            "overflow_x": null,
            "overflow_y": null,
            "padding": null,
            "right": null,
            "top": null,
            "visibility": null,
            "width": null
          }
        },
        "2df2b2b3b545495e94cf1f2d4831a26d": {
          "model_module": "@jupyter-widgets/controls",
          "model_name": "DescriptionStyleModel",
          "model_module_version": "1.5.0",
          "state": {
            "_model_module": "@jupyter-widgets/controls",
            "_model_module_version": "1.5.0",
            "_model_name": "DescriptionStyleModel",
            "_view_count": null,
            "_view_module": "@jupyter-widgets/base",
            "_view_module_version": "1.2.0",
            "_view_name": "StyleView",
            "description_width": ""
          }
        },
        "314848b22bfa4b5d9eb1fdcfb70c5177": {
          "model_module": "@jupyter-widgets/base",
          "model_name": "LayoutModel",
          "model_module_version": "1.2.0",
          "state": {
            "_model_module": "@jupyter-widgets/base",
            "_model_module_version": "1.2.0",
            "_model_name": "LayoutModel",
            "_view_count": null,
            "_view_module": "@jupyter-widgets/base",
            "_view_module_version": "1.2.0",
            "_view_name": "LayoutView",
            "align_content": null,
            "align_items": null,
            "align_self": null,
            "border": null,
            "bottom": null,
            "display": null,
            "flex": null,
            "flex_flow": null,
            "grid_area": null,
            "grid_auto_columns": null,
            "grid_auto_flow": null,
            "grid_auto_rows": null,
            "grid_column": null,
            "grid_gap": null,
            "grid_row": null,
            "grid_template_areas": null,
            "grid_template_columns": null,
            "grid_template_rows": null,
            "height": null,
            "justify_content": null,
            "justify_items": null,
            "left": null,
            "margin": null,
            "max_height": null,
            "max_width": null,
            "min_height": null,
            "min_width": null,
            "object_fit": null,
            "object_position": null,
            "order": null,
            "overflow": null,
            "overflow_x": null,
            "overflow_y": null,
            "padding": null,
            "right": null,
            "top": null,
            "visibility": null,
            "width": "20px"
          }
        },
        "ed8428157e594d00a597d75170cf0682": {
          "model_module": "@jupyter-widgets/controls",
          "model_name": "ProgressStyleModel",
          "model_module_version": "1.5.0",
          "state": {
            "_model_module": "@jupyter-widgets/controls",
            "_model_module_version": "1.5.0",
            "_model_name": "ProgressStyleModel",
            "_view_count": null,
            "_view_module": "@jupyter-widgets/base",
            "_view_module_version": "1.2.0",
            "_view_name": "StyleView",
            "bar_color": null,
            "description_width": ""
          }
        },
        "00574b7c81cd4710b5327c703f2910a7": {
          "model_module": "@jupyter-widgets/base",
          "model_name": "LayoutModel",
          "model_module_version": "1.2.0",
          "state": {
            "_model_module": "@jupyter-widgets/base",
            "_model_module_version": "1.2.0",
            "_model_name": "LayoutModel",
            "_view_count": null,
            "_view_module": "@jupyter-widgets/base",
            "_view_module_version": "1.2.0",
            "_view_name": "LayoutView",
            "align_content": null,
            "align_items": null,
            "align_self": null,
            "border": null,
            "bottom": null,
            "display": null,
            "flex": null,
            "flex_flow": null,
            "grid_area": null,
            "grid_auto_columns": null,
            "grid_auto_flow": null,
            "grid_auto_rows": null,
            "grid_column": null,
            "grid_gap": null,
            "grid_row": null,
            "grid_template_areas": null,
            "grid_template_columns": null,
            "grid_template_rows": null,
            "height": null,
            "justify_content": null,
            "justify_items": null,
            "left": null,
            "margin": null,
            "max_height": null,
            "max_width": null,
            "min_height": null,
            "min_width": null,
            "object_fit": null,
            "object_position": null,
            "order": null,
            "overflow": null,
            "overflow_x": null,
            "overflow_y": null,
            "padding": null,
            "right": null,
            "top": null,
            "visibility": null,
            "width": null
          }
        },
        "4a646f26a0a8465188288f9188e60882": {
          "model_module": "@jupyter-widgets/controls",
          "model_name": "DescriptionStyleModel",
          "model_module_version": "1.5.0",
          "state": {
            "_model_module": "@jupyter-widgets/controls",
            "_model_module_version": "1.5.0",
            "_model_name": "DescriptionStyleModel",
            "_view_count": null,
            "_view_module": "@jupyter-widgets/base",
            "_view_module_version": "1.2.0",
            "_view_name": "StyleView",
            "description_width": ""
          }
        },
        "91edb796e75a431f968b2aa8069c9027": {
          "model_module": "@jupyter-widgets/controls",
          "model_name": "HBoxModel",
          "model_module_version": "1.5.0",
          "state": {
            "_dom_classes": [],
            "_model_module": "@jupyter-widgets/controls",
            "_model_module_version": "1.5.0",
            "_model_name": "HBoxModel",
            "_view_count": null,
            "_view_module": "@jupyter-widgets/controls",
            "_view_module_version": "1.5.0",
            "_view_name": "HBoxView",
            "box_style": "",
            "children": [
              "IPY_MODEL_7a316cd61a0d4c4d8bea8723e0985f61",
              "IPY_MODEL_4df9ae930eb740eb99aba2d848fd329a",
              "IPY_MODEL_39efeeec999e4610b5dc2cd6cf7875ff"
            ],
            "layout": "IPY_MODEL_ff67d8ec2aee49caace9b83452d65860"
          }
        },
        "7a316cd61a0d4c4d8bea8723e0985f61": {
          "model_module": "@jupyter-widgets/controls",
          "model_name": "HTMLModel",
          "model_module_version": "1.5.0",
          "state": {
            "_dom_classes": [],
            "_model_module": "@jupyter-widgets/controls",
            "_model_module_version": "1.5.0",
            "_model_name": "HTMLModel",
            "_view_count": null,
            "_view_module": "@jupyter-widgets/controls",
            "_view_module_version": "1.5.0",
            "_view_name": "HTMLView",
            "description": "",
            "description_tooltip": null,
            "layout": "IPY_MODEL_abe0129438f9463f8467c38ffe64b0b1",
            "placeholder": "​",
            "style": "IPY_MODEL_ed65d560578742d697f43ebb1095d526",
            "value": "special_tokens_map.json: 100%"
          }
        },
        "4df9ae930eb740eb99aba2d848fd329a": {
          "model_module": "@jupyter-widgets/controls",
          "model_name": "FloatProgressModel",
          "model_module_version": "1.5.0",
          "state": {
            "_dom_classes": [],
            "_model_module": "@jupyter-widgets/controls",
            "_model_module_version": "1.5.0",
            "_model_name": "FloatProgressModel",
            "_view_count": null,
            "_view_module": "@jupyter-widgets/controls",
            "_view_module_version": "1.5.0",
            "_view_name": "ProgressView",
            "bar_style": "success",
            "description": "",
            "description_tooltip": null,
            "layout": "IPY_MODEL_ba89c98a89514342849887344da44831",
            "max": 125,
            "min": 0,
            "orientation": "horizontal",
            "style": "IPY_MODEL_6169f54333714840a51b143fc0d8c3d6",
            "value": 125
          }
        },
        "39efeeec999e4610b5dc2cd6cf7875ff": {
          "model_module": "@jupyter-widgets/controls",
          "model_name": "HTMLModel",
          "model_module_version": "1.5.0",
          "state": {
            "_dom_classes": [],
            "_model_module": "@jupyter-widgets/controls",
            "_model_module_version": "1.5.0",
            "_model_name": "HTMLModel",
            "_view_count": null,
            "_view_module": "@jupyter-widgets/controls",
            "_view_module_version": "1.5.0",
            "_view_name": "HTMLView",
            "description": "",
            "description_tooltip": null,
            "layout": "IPY_MODEL_88e5aa1ebf064960aa027ae7678a0bab",
            "placeholder": "​",
            "style": "IPY_MODEL_09371fc5da1c4d0499db2d7d11d25b34",
            "value": " 125/125 [00:00&lt;00:00, 11.4kB/s]"
          }
        },
        "ff67d8ec2aee49caace9b83452d65860": {
          "model_module": "@jupyter-widgets/base",
          "model_name": "LayoutModel",
          "model_module_version": "1.2.0",
          "state": {
            "_model_module": "@jupyter-widgets/base",
            "_model_module_version": "1.2.0",
            "_model_name": "LayoutModel",
            "_view_count": null,
            "_view_module": "@jupyter-widgets/base",
            "_view_module_version": "1.2.0",
            "_view_name": "LayoutView",
            "align_content": null,
            "align_items": null,
            "align_self": null,
            "border": null,
            "bottom": null,
            "display": null,
            "flex": null,
            "flex_flow": null,
            "grid_area": null,
            "grid_auto_columns": null,
            "grid_auto_flow": null,
            "grid_auto_rows": null,
            "grid_column": null,
            "grid_gap": null,
            "grid_row": null,
            "grid_template_areas": null,
            "grid_template_columns": null,
            "grid_template_rows": null,
            "height": null,
            "justify_content": null,
            "justify_items": null,
            "left": null,
            "margin": null,
            "max_height": null,
            "max_width": null,
            "min_height": null,
            "min_width": null,
            "object_fit": null,
            "object_position": null,
            "order": null,
            "overflow": null,
            "overflow_x": null,
            "overflow_y": null,
            "padding": null,
            "right": null,
            "top": null,
            "visibility": null,
            "width": null
          }
        },
        "abe0129438f9463f8467c38ffe64b0b1": {
          "model_module": "@jupyter-widgets/base",
          "model_name": "LayoutModel",
          "model_module_version": "1.2.0",
          "state": {
            "_model_module": "@jupyter-widgets/base",
            "_model_module_version": "1.2.0",
            "_model_name": "LayoutModel",
            "_view_count": null,
            "_view_module": "@jupyter-widgets/base",
            "_view_module_version": "1.2.0",
            "_view_name": "LayoutView",
            "align_content": null,
            "align_items": null,
            "align_self": null,
            "border": null,
            "bottom": null,
            "display": null,
            "flex": null,
            "flex_flow": null,
            "grid_area": null,
            "grid_auto_columns": null,
            "grid_auto_flow": null,
            "grid_auto_rows": null,
            "grid_column": null,
            "grid_gap": null,
            "grid_row": null,
            "grid_template_areas": null,
            "grid_template_columns": null,
            "grid_template_rows": null,
            "height": null,
            "justify_content": null,
            "justify_items": null,
            "left": null,
            "margin": null,
            "max_height": null,
            "max_width": null,
            "min_height": null,
            "min_width": null,
            "object_fit": null,
            "object_position": null,
            "order": null,
            "overflow": null,
            "overflow_x": null,
            "overflow_y": null,
            "padding": null,
            "right": null,
            "top": null,
            "visibility": null,
            "width": null
          }
        },
        "ed65d560578742d697f43ebb1095d526": {
          "model_module": "@jupyter-widgets/controls",
          "model_name": "DescriptionStyleModel",
          "model_module_version": "1.5.0",
          "state": {
            "_model_module": "@jupyter-widgets/controls",
            "_model_module_version": "1.5.0",
            "_model_name": "DescriptionStyleModel",
            "_view_count": null,
            "_view_module": "@jupyter-widgets/base",
            "_view_module_version": "1.2.0",
            "_view_name": "StyleView",
            "description_width": ""
          }
        },
        "ba89c98a89514342849887344da44831": {
          "model_module": "@jupyter-widgets/base",
          "model_name": "LayoutModel",
          "model_module_version": "1.2.0",
          "state": {
            "_model_module": "@jupyter-widgets/base",
            "_model_module_version": "1.2.0",
            "_model_name": "LayoutModel",
            "_view_count": null,
            "_view_module": "@jupyter-widgets/base",
            "_view_module_version": "1.2.0",
            "_view_name": "LayoutView",
            "align_content": null,
            "align_items": null,
            "align_self": null,
            "border": null,
            "bottom": null,
            "display": null,
            "flex": null,
            "flex_flow": null,
            "grid_area": null,
            "grid_auto_columns": null,
            "grid_auto_flow": null,
            "grid_auto_rows": null,
            "grid_column": null,
            "grid_gap": null,
            "grid_row": null,
            "grid_template_areas": null,
            "grid_template_columns": null,
            "grid_template_rows": null,
            "height": null,
            "justify_content": null,
            "justify_items": null,
            "left": null,
            "margin": null,
            "max_height": null,
            "max_width": null,
            "min_height": null,
            "min_width": null,
            "object_fit": null,
            "object_position": null,
            "order": null,
            "overflow": null,
            "overflow_x": null,
            "overflow_y": null,
            "padding": null,
            "right": null,
            "top": null,
            "visibility": null,
            "width": null
          }
        },
        "6169f54333714840a51b143fc0d8c3d6": {
          "model_module": "@jupyter-widgets/controls",
          "model_name": "ProgressStyleModel",
          "model_module_version": "1.5.0",
          "state": {
            "_model_module": "@jupyter-widgets/controls",
            "_model_module_version": "1.5.0",
            "_model_name": "ProgressStyleModel",
            "_view_count": null,
            "_view_module": "@jupyter-widgets/base",
            "_view_module_version": "1.2.0",
            "_view_name": "StyleView",
            "bar_color": null,
            "description_width": ""
          }
        },
        "88e5aa1ebf064960aa027ae7678a0bab": {
          "model_module": "@jupyter-widgets/base",
          "model_name": "LayoutModel",
          "model_module_version": "1.2.0",
          "state": {
            "_model_module": "@jupyter-widgets/base",
            "_model_module_version": "1.2.0",
            "_model_name": "LayoutModel",
            "_view_count": null,
            "_view_module": "@jupyter-widgets/base",
            "_view_module_version": "1.2.0",
            "_view_name": "LayoutView",
            "align_content": null,
            "align_items": null,
            "align_self": null,
            "border": null,
            "bottom": null,
            "display": null,
            "flex": null,
            "flex_flow": null,
            "grid_area": null,
            "grid_auto_columns": null,
            "grid_auto_flow": null,
            "grid_auto_rows": null,
            "grid_column": null,
            "grid_gap": null,
            "grid_row": null,
            "grid_template_areas": null,
            "grid_template_columns": null,
            "grid_template_rows": null,
            "height": null,
            "justify_content": null,
            "justify_items": null,
            "left": null,
            "margin": null,
            "max_height": null,
            "max_width": null,
            "min_height": null,
            "min_width": null,
            "object_fit": null,
            "object_position": null,
            "order": null,
            "overflow": null,
            "overflow_x": null,
            "overflow_y": null,
            "padding": null,
            "right": null,
            "top": null,
            "visibility": null,
            "width": null
          }
        },
        "09371fc5da1c4d0499db2d7d11d25b34": {
          "model_module": "@jupyter-widgets/controls",
          "model_name": "DescriptionStyleModel",
          "model_module_version": "1.5.0",
          "state": {
            "_model_module": "@jupyter-widgets/controls",
            "_model_module_version": "1.5.0",
            "_model_name": "DescriptionStyleModel",
            "_view_count": null,
            "_view_module": "@jupyter-widgets/base",
            "_view_module_version": "1.2.0",
            "_view_name": "StyleView",
            "description_width": ""
          }
        },
        "bc5f9f41e31e4f3b82af2137f0603000": {
          "model_module": "@jupyter-widgets/controls",
          "model_name": "HBoxModel",
          "model_module_version": "1.5.0",
          "state": {
            "_dom_classes": [],
            "_model_module": "@jupyter-widgets/controls",
            "_model_module_version": "1.5.0",
            "_model_name": "HBoxModel",
            "_view_count": null,
            "_view_module": "@jupyter-widgets/controls",
            "_view_module_version": "1.5.0",
            "_view_name": "HBoxView",
            "box_style": "",
            "children": [
              "IPY_MODEL_80226eb4a9714c9f9185a2dd1192ad5f",
              "IPY_MODEL_d4f87ddfe88042bca60ff5703169305d",
              "IPY_MODEL_16182565636f42dc87cb2ed3c54ee623"
            ],
            "layout": "IPY_MODEL_ecb5433a0f2f49fa83430e3b2e814339"
          }
        },
        "80226eb4a9714c9f9185a2dd1192ad5f": {
          "model_module": "@jupyter-widgets/controls",
          "model_name": "HTMLModel",
          "model_module_version": "1.5.0",
          "state": {
            "_dom_classes": [],
            "_model_module": "@jupyter-widgets/controls",
            "_model_module_version": "1.5.0",
            "_model_name": "HTMLModel",
            "_view_count": null,
            "_view_module": "@jupyter-widgets/controls",
            "_view_module_version": "1.5.0",
            "_view_name": "HTMLView",
            "description": "",
            "description_tooltip": null,
            "layout": "IPY_MODEL_101d84e2a42645e0831c73b4a5bc97ac",
            "placeholder": "​",
            "style": "IPY_MODEL_9c4942e9f0814ff7b9ab5e92d93a0e47",
            "value": "config.json: 100%"
          }
        },
        "d4f87ddfe88042bca60ff5703169305d": {
          "model_module": "@jupyter-widgets/controls",
          "model_name": "FloatProgressModel",
          "model_module_version": "1.5.0",
          "state": {
            "_dom_classes": [],
            "_model_module": "@jupyter-widgets/controls",
            "_model_module_version": "1.5.0",
            "_model_name": "FloatProgressModel",
            "_view_count": null,
            "_view_module": "@jupyter-widgets/controls",
            "_view_module_version": "1.5.0",
            "_view_name": "ProgressView",
            "bar_style": "success",
            "description": "",
            "description_tooltip": null,
            "layout": "IPY_MODEL_8cd2177f810d493693b23ac278c452e0",
            "max": 190,
            "min": 0,
            "orientation": "horizontal",
            "style": "IPY_MODEL_a70f03cdd44a4cb9826d791fbd750abc",
            "value": 190
          }
        },
        "16182565636f42dc87cb2ed3c54ee623": {
          "model_module": "@jupyter-widgets/controls",
          "model_name": "HTMLModel",
          "model_module_version": "1.5.0",
          "state": {
            "_dom_classes": [],
            "_model_module": "@jupyter-widgets/controls",
            "_model_module_version": "1.5.0",
            "_model_name": "HTMLModel",
            "_view_count": null,
            "_view_module": "@jupyter-widgets/controls",
            "_view_module_version": "1.5.0",
            "_view_name": "HTMLView",
            "description": "",
            "description_tooltip": null,
            "layout": "IPY_MODEL_5f2f299c84f8481e886938c84d7548d3",
            "placeholder": "​",
            "style": "IPY_MODEL_711ba0bc866a4d828a2d06d55d642c9a",
            "value": " 190/190 [00:00&lt;00:00, 17.0kB/s]"
          }
        },
        "ecb5433a0f2f49fa83430e3b2e814339": {
          "model_module": "@jupyter-widgets/base",
          "model_name": "LayoutModel",
          "model_module_version": "1.2.0",
          "state": {
            "_model_module": "@jupyter-widgets/base",
            "_model_module_version": "1.2.0",
            "_model_name": "LayoutModel",
            "_view_count": null,
            "_view_module": "@jupyter-widgets/base",
            "_view_module_version": "1.2.0",
            "_view_name": "LayoutView",
            "align_content": null,
            "align_items": null,
            "align_self": null,
            "border": null,
            "bottom": null,
            "display": null,
            "flex": null,
            "flex_flow": null,
            "grid_area": null,
            "grid_auto_columns": null,
            "grid_auto_flow": null,
            "grid_auto_rows": null,
            "grid_column": null,
            "grid_gap": null,
            "grid_row": null,
            "grid_template_areas": null,
            "grid_template_columns": null,
            "grid_template_rows": null,
            "height": null,
            "justify_content": null,
            "justify_items": null,
            "left": null,
            "margin": null,
            "max_height": null,
            "max_width": null,
            "min_height": null,
            "min_width": null,
            "object_fit": null,
            "object_position": null,
            "order": null,
            "overflow": null,
            "overflow_x": null,
            "overflow_y": null,
            "padding": null,
            "right": null,
            "top": null,
            "visibility": null,
            "width": null
          }
        },
        "101d84e2a42645e0831c73b4a5bc97ac": {
          "model_module": "@jupyter-widgets/base",
          "model_name": "LayoutModel",
          "model_module_version": "1.2.0",
          "state": {
            "_model_module": "@jupyter-widgets/base",
            "_model_module_version": "1.2.0",
            "_model_name": "LayoutModel",
            "_view_count": null,
            "_view_module": "@jupyter-widgets/base",
            "_view_module_version": "1.2.0",
            "_view_name": "LayoutView",
            "align_content": null,
            "align_items": null,
            "align_self": null,
            "border": null,
            "bottom": null,
            "display": null,
            "flex": null,
            "flex_flow": null,
            "grid_area": null,
            "grid_auto_columns": null,
            "grid_auto_flow": null,
            "grid_auto_rows": null,
            "grid_column": null,
            "grid_gap": null,
            "grid_row": null,
            "grid_template_areas": null,
            "grid_template_columns": null,
            "grid_template_rows": null,
            "height": null,
            "justify_content": null,
            "justify_items": null,
            "left": null,
            "margin": null,
            "max_height": null,
            "max_width": null,
            "min_height": null,
            "min_width": null,
            "object_fit": null,
            "object_position": null,
            "order": null,
            "overflow": null,
            "overflow_x": null,
            "overflow_y": null,
            "padding": null,
            "right": null,
            "top": null,
            "visibility": null,
            "width": null
          }
        },
        "9c4942e9f0814ff7b9ab5e92d93a0e47": {
          "model_module": "@jupyter-widgets/controls",
          "model_name": "DescriptionStyleModel",
          "model_module_version": "1.5.0",
          "state": {
            "_model_module": "@jupyter-widgets/controls",
            "_model_module_version": "1.5.0",
            "_model_name": "DescriptionStyleModel",
            "_view_count": null,
            "_view_module": "@jupyter-widgets/base",
            "_view_module_version": "1.2.0",
            "_view_name": "StyleView",
            "description_width": ""
          }
        },
        "8cd2177f810d493693b23ac278c452e0": {
          "model_module": "@jupyter-widgets/base",
          "model_name": "LayoutModel",
          "model_module_version": "1.2.0",
          "state": {
            "_model_module": "@jupyter-widgets/base",
            "_model_module_version": "1.2.0",
            "_model_name": "LayoutModel",
            "_view_count": null,
            "_view_module": "@jupyter-widgets/base",
            "_view_module_version": "1.2.0",
            "_view_name": "LayoutView",
            "align_content": null,
            "align_items": null,
            "align_self": null,
            "border": null,
            "bottom": null,
            "display": null,
            "flex": null,
            "flex_flow": null,
            "grid_area": null,
            "grid_auto_columns": null,
            "grid_auto_flow": null,
            "grid_auto_rows": null,
            "grid_column": null,
            "grid_gap": null,
            "grid_row": null,
            "grid_template_areas": null,
            "grid_template_columns": null,
            "grid_template_rows": null,
            "height": null,
            "justify_content": null,
            "justify_items": null,
            "left": null,
            "margin": null,
            "max_height": null,
            "max_width": null,
            "min_height": null,
            "min_width": null,
            "object_fit": null,
            "object_position": null,
            "order": null,
            "overflow": null,
            "overflow_x": null,
            "overflow_y": null,
            "padding": null,
            "right": null,
            "top": null,
            "visibility": null,
            "width": null
          }
        },
        "a70f03cdd44a4cb9826d791fbd750abc": {
          "model_module": "@jupyter-widgets/controls",
          "model_name": "ProgressStyleModel",
          "model_module_version": "1.5.0",
          "state": {
            "_model_module": "@jupyter-widgets/controls",
            "_model_module_version": "1.5.0",
            "_model_name": "ProgressStyleModel",
            "_view_count": null,
            "_view_module": "@jupyter-widgets/base",
            "_view_module_version": "1.2.0",
            "_view_name": "StyleView",
            "bar_color": null,
            "description_width": ""
          }
        },
        "5f2f299c84f8481e886938c84d7548d3": {
          "model_module": "@jupyter-widgets/base",
          "model_name": "LayoutModel",
          "model_module_version": "1.2.0",
          "state": {
            "_model_module": "@jupyter-widgets/base",
            "_model_module_version": "1.2.0",
            "_model_name": "LayoutModel",
            "_view_count": null,
            "_view_module": "@jupyter-widgets/base",
            "_view_module_version": "1.2.0",
            "_view_name": "LayoutView",
            "align_content": null,
            "align_items": null,
            "align_self": null,
            "border": null,
            "bottom": null,
            "display": null,
            "flex": null,
            "flex_flow": null,
            "grid_area": null,
            "grid_auto_columns": null,
            "grid_auto_flow": null,
            "grid_auto_rows": null,
            "grid_column": null,
            "grid_gap": null,
            "grid_row": null,
            "grid_template_areas": null,
            "grid_template_columns": null,
            "grid_template_rows": null,
            "height": null,
            "justify_content": null,
            "justify_items": null,
            "left": null,
            "margin": null,
            "max_height": null,
            "max_width": null,
            "min_height": null,
            "min_width": null,
            "object_fit": null,
            "object_position": null,
            "order": null,
            "overflow": null,
            "overflow_x": null,
            "overflow_y": null,
            "padding": null,
            "right": null,
            "top": null,
            "visibility": null,
            "width": null
          }
        },
        "711ba0bc866a4d828a2d06d55d642c9a": {
          "model_module": "@jupyter-widgets/controls",
          "model_name": "DescriptionStyleModel",
          "model_module_version": "1.5.0",
          "state": {
            "_model_module": "@jupyter-widgets/controls",
            "_model_module_version": "1.5.0",
            "_model_name": "DescriptionStyleModel",
            "_view_count": null,
            "_view_module": "@jupyter-widgets/base",
            "_view_module_version": "1.2.0",
            "_view_name": "StyleView",
            "description_width": ""
          }
        }
      }
    }
  },
  "nbformat": 4,
  "nbformat_minor": 0
}